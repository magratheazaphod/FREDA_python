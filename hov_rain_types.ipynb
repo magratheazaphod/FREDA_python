{
 "cells": [
  {
   "cell_type": "markdown",
   "metadata": {},
   "source": [
    "Alright, I lied. One more exploratory plot - Hovmoller plot of different rainfall types, and then a summary plot showing the area average - essentially, showing seasonality."
   ]
  },
  {
   "cell_type": "code",
   "execution_count": 1,
   "metadata": {
    "collapsed": false
   },
   "outputs": [],
   "source": [
    "import itertools\n",
    "import matplotlib.pyplot as plt\n",
    "import netCDF4 as nc\n",
    "import numpy as np\n",
    "import time\n",
    "import os\n",
    "from shutil import copy\n",
    "\n",
    "%matplotlib inline\n",
    "%load_ext autotime\n",
    "\n",
    "\n",
    "from jd_matplotlib_tools import add_double_calendar_axis, mark_time_periods"
   ]
  },
  {
   "cell_type": "code",
   "execution_count": 2,
   "metadata": {
    "collapsed": false
   },
   "outputs": [
    {
     "name": "stdout",
     "output_type": "stream",
     "text": [
      "time: 763 µs\n"
     ]
    }
   ],
   "source": [
    "ferretpath = \"/Users/Siwen/Desktop/ferret/bin\"\n",
    "rdapath = \"APHRO_ZH_front_025deg_V1101.\""
   ]
  },
  {
   "cell_type": "code",
   "execution_count": 3,
   "metadata": {
    "collapsed": false
   },
   "outputs": [
    {
     "name": "stdout",
     "output_type": "stream",
     "text": [
      "/Users/Siwen/Desktop/ferret/bin/APHRO_ZH_front_025deg_V1101.1951.nc\n",
      "/Users/Siwen/Desktop/ferret/bin/APHRO_ZH_front_025deg_V1101.1952.nc\n",
      "/Users/Siwen/Desktop/ferret/bin/APHRO_ZH_front_025deg_V1101.1953.nc\n",
      "/Users/Siwen/Desktop/ferret/bin/APHRO_ZH_front_025deg_V1101.1954.nc\n",
      "/Users/Siwen/Desktop/ferret/bin/APHRO_ZH_front_025deg_V1101.1955.nc\n",
      "/Users/Siwen/Desktop/ferret/bin/APHRO_ZH_front_025deg_V1101.1956.nc\n",
      "/Users/Siwen/Desktop/ferret/bin/APHRO_ZH_front_025deg_V1101.1957.nc\n",
      "/Users/Siwen/Desktop/ferret/bin/APHRO_ZH_front_025deg_V1101.1958.nc\n",
      "/Users/Siwen/Desktop/ferret/bin/APHRO_ZH_front_025deg_V1101.1959.nc\n",
      "/Users/Siwen/Desktop/ferret/bin/APHRO_ZH_front_025deg_V1101.1960.nc\n",
      "/Users/Siwen/Desktop/ferret/bin/APHRO_ZH_front_025deg_V1101.1961.nc\n",
      "/Users/Siwen/Desktop/ferret/bin/APHRO_ZH_front_025deg_V1101.1962.nc\n",
      "/Users/Siwen/Desktop/ferret/bin/APHRO_ZH_front_025deg_V1101.1963.nc\n",
      "/Users/Siwen/Desktop/ferret/bin/APHRO_ZH_front_025deg_V1101.1964.nc\n",
      "/Users/Siwen/Desktop/ferret/bin/APHRO_ZH_front_025deg_V1101.1965.nc\n",
      "/Users/Siwen/Desktop/ferret/bin/APHRO_ZH_front_025deg_V1101.1966.nc\n",
      "/Users/Siwen/Desktop/ferret/bin/APHRO_ZH_front_025deg_V1101.1967.nc\n",
      "/Users/Siwen/Desktop/ferret/bin/APHRO_ZH_front_025deg_V1101.1968.nc\n",
      "/Users/Siwen/Desktop/ferret/bin/APHRO_ZH_front_025deg_V1101.1969.nc\n",
      "/Users/Siwen/Desktop/ferret/bin/APHRO_ZH_front_025deg_V1101.1970.nc\n",
      "/Users/Siwen/Desktop/ferret/bin/APHRO_ZH_front_025deg_V1101.1971.nc\n",
      "/Users/Siwen/Desktop/ferret/bin/APHRO_ZH_front_025deg_V1101.1972.nc\n",
      "/Users/Siwen/Desktop/ferret/bin/APHRO_ZH_front_025deg_V1101.1973.nc\n",
      "/Users/Siwen/Desktop/ferret/bin/APHRO_ZH_front_025deg_V1101.1974.nc\n",
      "/Users/Siwen/Desktop/ferret/bin/APHRO_ZH_front_025deg_V1101.1975.nc\n",
      "/Users/Siwen/Desktop/ferret/bin/APHRO_ZH_front_025deg_V1101.1976.nc\n",
      "/Users/Siwen/Desktop/ferret/bin/APHRO_ZH_front_025deg_V1101.1977.nc\n",
      "/Users/Siwen/Desktop/ferret/bin/APHRO_ZH_front_025deg_V1101.1978.nc\n",
      "/Users/Siwen/Desktop/ferret/bin/APHRO_ZH_front_025deg_V1101.1979.nc\n",
      "/Users/Siwen/Desktop/ferret/bin/APHRO_ZH_front_025deg_V1101.1980.nc\n",
      "/Users/Siwen/Desktop/ferret/bin/APHRO_ZH_front_025deg_V1101.1981.nc\n",
      "/Users/Siwen/Desktop/ferret/bin/APHRO_ZH_front_025deg_V1101.1982.nc\n",
      "/Users/Siwen/Desktop/ferret/bin/APHRO_ZH_front_025deg_V1101.1983.nc\n",
      "/Users/Siwen/Desktop/ferret/bin/APHRO_ZH_front_025deg_V1101.1984.nc\n",
      "/Users/Siwen/Desktop/ferret/bin/APHRO_ZH_front_025deg_V1101.1985.nc\n",
      "/Users/Siwen/Desktop/ferret/bin/APHRO_ZH_front_025deg_V1101.1986.nc\n",
      "/Users/Siwen/Desktop/ferret/bin/APHRO_ZH_front_025deg_V1101.1987.nc\n",
      "/Users/Siwen/Desktop/ferret/bin/APHRO_ZH_front_025deg_V1101.1988.nc\n",
      "/Users/Siwen/Desktop/ferret/bin/APHRO_ZH_front_025deg_V1101.1989.nc\n",
      "/Users/Siwen/Desktop/ferret/bin/APHRO_ZH_front_025deg_V1101.1990.nc\n",
      "/Users/Siwen/Desktop/ferret/bin/APHRO_ZH_front_025deg_V1101.1991.nc\n",
      "/Users/Siwen/Desktop/ferret/bin/APHRO_ZH_front_025deg_V1101.1992.nc\n",
      "/Users/Siwen/Desktop/ferret/bin/APHRO_ZH_front_025deg_V1101.1993.nc\n",
      "/Users/Siwen/Desktop/ferret/bin/APHRO_ZH_front_025deg_V1101.1994.nc\n",
      "/Users/Siwen/Desktop/ferret/bin/APHRO_ZH_front_025deg_V1101.1995.nc\n",
      "/Users/Siwen/Desktop/ferret/bin/APHRO_ZH_front_025deg_V1101.1996.nc\n",
      "/Users/Siwen/Desktop/ferret/bin/APHRO_ZH_front_025deg_V1101.1997.nc\n",
      "/Users/Siwen/Desktop/ferret/bin/APHRO_ZH_front_025deg_V1101.1998.nc\n",
      "/Users/Siwen/Desktop/ferret/bin/APHRO_ZH_front_025deg_V1101.1999.nc\n",
      "/Users/Siwen/Desktop/ferret/bin/APHRO_ZH_front_025deg_V1101.2000.nc\n",
      "/Users/Siwen/Desktop/ferret/bin/APHRO_ZH_front_025deg_V1101.2001.nc\n",
      "/Users/Siwen/Desktop/ferret/bin/APHRO_ZH_front_025deg_V1101.2002.nc\n",
      "/Users/Siwen/Desktop/ferret/bin/APHRO_ZH_front_025deg_V1101.2003.nc\n",
      "/Users/Siwen/Desktop/ferret/bin/APHRO_ZH_front_025deg_V1101.2004.nc\n",
      "/Users/Siwen/Desktop/ferret/bin/APHRO_ZH_front_025deg_V1101.2005.nc\n",
      "/Users/Siwen/Desktop/ferret/bin/APHRO_ZH_front_025deg_V1101.2006.nc\n",
      "/Users/Siwen/Desktop/ferret/bin/APHRO_ZH_front_025deg_V1101.2007.nc\n",
      "time: 12.3 s\n"
     ]
    }
   ],
   "source": [
    "## start by loading all precipitation data for each year.\n",
    "P = np.zeros((365,80,72,57))\n",
    "P_band = np.zeros((365,80,72,57))\n",
    "P_local = np.zeros((365,80,72,57))\n",
    "\n",
    "for yr in range(1951,2008):\n",
    "    \n",
    "    #Build filename\n",
    "    filename = ferretpath + '/' + rdapath + str(yr) + '.nc'\n",
    "    print(filename),\n",
    "    myf = nc.Dataset(filename, 'r')\n",
    "    \n",
    "    #Obtain fraction of different types of rainfall\n",
    "    P[:,:,:,yr-1951] = myf['P'][:365,:,:]\n",
    "    P_band[:,:,:,yr-1951] = myf['P_band1'][:365,:,:] + myf['P_band2'][:365,:,:]\n",
    "    P_local[:,:,:,yr-1951] = myf['P_leftover'][:365,:,:]\n",
    "    \n",
    "    myf.close()\n",
    "    \n",
    "P_tuple = (P,P_band,P_local)\n",
    "P_mean = [ np.nanmean(P_type, axis=(2,3)) for P_type in P_tuple ]"
   ]
  },
  {
   "cell_type": "code",
   "execution_count": 4,
   "metadata": {
    "collapsed": false
   },
   "outputs": [
    {
     "name": "stdout",
     "output_type": "stream",
     "text": [
      "time: 6.58 ms\n"
     ]
    }
   ],
   "source": [
    "def smooth(P,dayrange,latrange):\n",
    "    Psmooth=np.zeros(P.shape)\n",
    "    \n",
    "    ll=int((dayrange-1)/2)\n",
    "    yy=int((latrange-1)/2)\n",
    "    \n",
    "    days = P.shape[0]\n",
    "    lats = P.shape[1]\n",
    "    \n",
    "    for d in range(days):\n",
    "        for j in range(lats):\n",
    "            \n",
    "            Psample = P.take(range(d-ll,d+ll+1), mode='wrap', axis=0)\n",
    "            Ps = Psample[:,max(0,j-yy):min(days,j+yy+1)]\n",
    "            Psmooth[d,j] = np.mean(np.mean(Ps))\n",
    "    \n",
    "    return Psmooth"
   ]
  },
  {
   "cell_type": "code",
   "execution_count": 5,
   "metadata": {
    "collapsed": false
   },
   "outputs": [
    {
     "name": "stdout",
     "output_type": "stream",
     "text": [
      "time: 2.12 s\n"
     ]
    }
   ],
   "source": [
    "## SMOOTHING ##\n",
    "#smooth out the decadal precipitation means\n",
    "#but, no latitudinal smoothing since rainfall already effectively smoothed in latitude\n",
    "daysmth = 15\n",
    "latsmth = 0\n",
    "\n",
    "P_smth = [ smooth(x,daysmth,latsmth) for x in P_mean ]"
   ]
  },
  {
   "cell_type": "code",
   "execution_count": 6,
   "metadata": {
    "collapsed": false
   },
   "outputs": [
    {
     "name": "stdout",
     "output_type": "stream",
     "text": [
      "time: 835 µs\n"
     ]
    }
   ],
   "source": [
    "## DEFINE TIME PERIODS OF INTEREST\n",
    "time_periods = [[80.5,120.5],[120.5,160.5],[160.5,200.5],[200.5,273.5],[273.5,320.5]]"
   ]
  },
  {
   "cell_type": "code",
   "execution_count": 7,
   "metadata": {
    "collapsed": false
   },
   "outputs": [
    {
     "name": "stdout",
     "output_type": "stream",
     "text": [
      "time: 1.38 ms\n"
     ]
    }
   ],
   "source": [
    "## OBTAIN AREA AVERAGE\n",
    "P_area = [np.mean(P, axis=1) for P in P_smth]"
   ]
  },
  {
   "cell_type": "code",
   "execution_count": null,
   "metadata": {
    "collapsed": false
   },
   "outputs": [
    {
     "name": "stderr",
     "output_type": "stream",
     "text": [
      "//anaconda/lib/python3.5/site-packages/matplotlib/text.py:2130: UserWarning: You have used the `textcoords` kwarg, but not the `xytext` kwarg.  This can lead to surprising results.\n",
      "  warnings.warn(\"You have used the `textcoords` kwarg, but not \"\n"
     ]
    },
    {
     "name": "stdout",
     "output_type": "stream",
     "text": [
      "Overwriting existing version of file in RDA manuscript directory...\n",
      "Overwriting existing version of file in RDA Python directory...\n"
     ]
    }
   ],
   "source": [
    "# CREATE CLIMATOLOGY FIGURE\n",
    "mypalette = 'RdYlBu_r'\n",
    "\n",
    "## Set up axis and title for the entire figure\n",
    "fig, ax = plt.subplots(figsize=(11,8))\n",
    "ax.set_title(\"Climatology by Rainfall Type\", fontsize=18, y = 1.07, x=.5)\n",
    "ax.set_axis_off()\n",
    "\n",
    "## Subplot a) - Total rainfall\n",
    "ax1 = fig.add_subplot(4,1,1)\n",
    "plot1 = ax1.pcolormesh(P_smth[0].T, cmap = mypalette, vmin = 0, vmax = 10); \n",
    "ax1.set_title(\"a) Mean Total Rainfall (mm day$^{-1}$)\", fontsize=14, y=1.12, loc = 'left')\n",
    "plt.ylabel('Latitude ($^\\circ$N)', fontsize=12, labelpad=0)\n",
    "plt.yticks(np.linspace(0,80,6),np.linspace(20,40,6).astype(int))\n",
    "\n",
    "add_double_calendar_axis()\n",
    "mark_time_periods(time_periods, numbers = 'yes')\n",
    "\n",
    "\n",
    "## Subplot b) - Banded rainfall\n",
    "ax2 = fig.add_subplot(4,1,2)\n",
    "plot2 = ax2.pcolormesh(P_smth[1].T, cmap = mypalette, vmin = 0, vmax = 10); \n",
    "ax2.set_title(\"b) Mean Banded Rainfall (mm day$^{-1}$)\", fontsize=14, y=1.12, loc = 'left')\n",
    "plt.ylabel('Latitude ($^\\circ$N)', fontsize=12, labelpad=0)\n",
    "plt.yticks(np.linspace(0,80,6),np.linspace(20,40,6).astype(int))\n",
    "\n",
    "add_double_calendar_axis()\n",
    "mark_time_periods(time_periods, numbers = 'yes')\n",
    "\n",
    "\n",
    "## Subplot c) Local rainfall\n",
    "ax3 = fig.add_subplot(4,1,3)\n",
    "plot3 = ax3.pcolormesh(P_smth[2].T, cmap = mypalette, vmin = 0, vmax = 10); \n",
    "plt.ylabel('Latitude ($\\!^\\circ\\!$N)', fontsize=12, labelpad=0)\n",
    "plt.yticks(np.linspace(0,80,6),np.linspace(20,40,6).astype(int))\n",
    "ax3.set_title(\"c) Mean Local Rainfall (mm day$^{-1}$)\", fontsize=14, y=1.12, loc = 'left')\n",
    "\n",
    "add_double_calendar_axis()\n",
    "mark_time_periods(time_periods, numbers = 'yes')\n",
    "\n",
    "## Subplot d) Mean China Rainfall by Type\n",
    "ax4 = fig.add_subplot(4,1,4)\n",
    "labels = ['Total','Banded','Local']\n",
    "for P, lab in zip(P_area, labels):\n",
    "    plt.plot(P, label=lab)\n",
    "    \n",
    "#plt.ylabel('Latitude ($\\!^\\circ\\!$N)', fontsize=12, labelpad=0)\n",
    "#plt.yticks(np.linspace(0,80,6),np.linspace(20,40,6).astype(int))\n",
    "ax4.set_title(\"d) Mean China rainfall by type (mm day$^{-1}$)\", fontsize=14, y=1.12, loc = 'left')\n",
    "handles, labels = ax4.get_legend_handles_labels()\n",
    "plt.legend(loc=\"upper left\", bbox_to_anchor=[0, 1], ncol=1, fontsize = 10)\n",
    "\n",
    "add_double_calendar_axis()\n",
    "mark_time_periods(time_periods, numbers = 'yes', box = 'no')\n",
    "\n",
    "#tighten up plot layout\n",
    "plt.tight_layout(pad=0, w_pad=0, h_pad=0)\n",
    "\n",
    "fig.subplots_adjust(right=0.9)\n",
    "cbar_ax = fig.add_axes([.915, 0.37, 0.02, 0.4])\n",
    "cbar = fig.colorbar(plot2, cax = cbar_ax, ticks=np.linspace(0,10,11))\n",
    "#cbar.ax.set_yticklabels()  # horizontal colorbar\n",
    "\n",
    "\n",
    "## SAVE COPIES OF FIGURE TO MANUSCRIPT AND ANALYSIS DIRECTORIES\n",
    "figure_name = \"hov_types_climo.pdf\"\n",
    "\n",
    "savepath = \"/Users/Siwen/Desktop/RDA/Figures/\" + figure_name\n",
    "\n",
    "if os.path.exists(savepath):\n",
    "    print(\"Overwriting existing version of file in RDA manuscript directory...\")\n",
    "    os.remove(savepath)\n",
    "    \n",
    "plt.savefig(savepath)\n",
    "    \n",
    "copypath = \"/Users/Siwen/RDA/Figures/\" + figure_name\n",
    "    \n",
    "if os.path.exists(copypath):\n",
    "    print(\"Overwriting existing version of file in RDA Python directory...\")\n",
    "    os.remove(copypath)\n",
    "    \n",
    "copy(savepath,copypath)\n",
    "\n",
    "plt.savefig(savepath, bbox_inches='tight')"
   ]
  },
  {
   "cell_type": "code",
   "execution_count": null,
   "metadata": {
    "collapsed": false
   },
   "outputs": [],
   "source": []
  },
  {
   "cell_type": "code",
   "execution_count": null,
   "metadata": {
    "collapsed": true
   },
   "outputs": [],
   "source": []
  }
 ],
 "metadata": {
  "kernelspec": {
   "display_name": "Python 3",
   "language": "python",
   "name": "python3"
  },
  "language_info": {
   "codemirror_mode": {
    "name": "ipython",
    "version": 3
   },
   "file_extension": ".py",
   "mimetype": "text/x-python",
   "name": "python",
   "nbconvert_exporter": "python",
   "pygments_lexer": "ipython3",
   "version": "3.5.2"
  }
 },
 "nbformat": 4,
 "nbformat_minor": 0
}
