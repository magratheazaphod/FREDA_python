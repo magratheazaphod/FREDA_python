{
 "cells": [
  {
   "cell_type": "markdown",
   "metadata": {},
   "source": [
    "Alright, I lied. One more exploratory plot - Hovmoller plot of different rainfall types, and then a summary plot showing the area average - essentially, showing seasonality."
   ]
  },
  {
   "cell_type": "code",
   "execution_count": 1,
   "metadata": {
    "collapsed": true
   },
   "outputs": [],
   "source": [
    "import itertools\n",
    "import matplotlib.pyplot as plt\n",
    "import netCDF4 as nc\n",
    "import numpy as np\n",
    "import time\n",
    "import os\n",
    "import seaborn as sn\n",
    "from shutil import copy\n",
    "\n",
    "%matplotlib inline\n",
    "\n",
    "from jd_matplotlib_tools import add_double_calendar_axis, mark_time_periods"
   ]
  },
  {
   "cell_type": "code",
   "execution_count": 2,
   "metadata": {
    "collapsed": true
   },
   "outputs": [],
   "source": [
    "ferretpath = \"/Users/Siwen/Desktop/ferret/bin\"\n",
    "rdapath = \"APHRO_ZH_front_025deg_V1101.\""
   ]
  },
  {
   "cell_type": "code",
   "execution_count": 3,
   "metadata": {
    "collapsed": false
   },
   "outputs": [
    {
     "name": "stdout",
     "output_type": "stream",
     "text": [
      "/Users/Siwen/Desktop/ferret/bin/APHRO_ZH_front_025deg_V1101.1951.nc\n",
      "/Users/Siwen/Desktop/ferret/bin/APHRO_ZH_front_025deg_V1101.1952.nc\n",
      "/Users/Siwen/Desktop/ferret/bin/APHRO_ZH_front_025deg_V1101.1953.nc\n",
      "/Users/Siwen/Desktop/ferret/bin/APHRO_ZH_front_025deg_V1101.1954.nc\n",
      "/Users/Siwen/Desktop/ferret/bin/APHRO_ZH_front_025deg_V1101.1955.nc\n",
      "/Users/Siwen/Desktop/ferret/bin/APHRO_ZH_front_025deg_V1101.1956.nc\n",
      "/Users/Siwen/Desktop/ferret/bin/APHRO_ZH_front_025deg_V1101.1957.nc\n",
      "/Users/Siwen/Desktop/ferret/bin/APHRO_ZH_front_025deg_V1101.1958.nc\n",
      "/Users/Siwen/Desktop/ferret/bin/APHRO_ZH_front_025deg_V1101.1959.nc\n",
      "/Users/Siwen/Desktop/ferret/bin/APHRO_ZH_front_025deg_V1101.1960.nc\n",
      "/Users/Siwen/Desktop/ferret/bin/APHRO_ZH_front_025deg_V1101.1961.nc\n",
      "/Users/Siwen/Desktop/ferret/bin/APHRO_ZH_front_025deg_V1101.1962.nc\n",
      "/Users/Siwen/Desktop/ferret/bin/APHRO_ZH_front_025deg_V1101.1963.nc\n",
      "/Users/Siwen/Desktop/ferret/bin/APHRO_ZH_front_025deg_V1101.1964.nc\n",
      "/Users/Siwen/Desktop/ferret/bin/APHRO_ZH_front_025deg_V1101.1965.nc\n",
      "/Users/Siwen/Desktop/ferret/bin/APHRO_ZH_front_025deg_V1101.1966.nc\n",
      "/Users/Siwen/Desktop/ferret/bin/APHRO_ZH_front_025deg_V1101.1967.nc\n",
      "/Users/Siwen/Desktop/ferret/bin/APHRO_ZH_front_025deg_V1101.1968.nc\n",
      "/Users/Siwen/Desktop/ferret/bin/APHRO_ZH_front_025deg_V1101.1969.nc\n",
      "/Users/Siwen/Desktop/ferret/bin/APHRO_ZH_front_025deg_V1101.1970.nc\n",
      "/Users/Siwen/Desktop/ferret/bin/APHRO_ZH_front_025deg_V1101.1971.nc\n",
      "/Users/Siwen/Desktop/ferret/bin/APHRO_ZH_front_025deg_V1101.1972.nc\n",
      "/Users/Siwen/Desktop/ferret/bin/APHRO_ZH_front_025deg_V1101.1973.nc\n",
      "/Users/Siwen/Desktop/ferret/bin/APHRO_ZH_front_025deg_V1101.1974.nc\n",
      "/Users/Siwen/Desktop/ferret/bin/APHRO_ZH_front_025deg_V1101.1975.nc\n",
      "/Users/Siwen/Desktop/ferret/bin/APHRO_ZH_front_025deg_V1101.1976.nc\n",
      "/Users/Siwen/Desktop/ferret/bin/APHRO_ZH_front_025deg_V1101.1977.nc\n",
      "/Users/Siwen/Desktop/ferret/bin/APHRO_ZH_front_025deg_V1101.1978.nc\n",
      "/Users/Siwen/Desktop/ferret/bin/APHRO_ZH_front_025deg_V1101.1979.nc\n",
      "/Users/Siwen/Desktop/ferret/bin/APHRO_ZH_front_025deg_V1101.1980.nc\n",
      "/Users/Siwen/Desktop/ferret/bin/APHRO_ZH_front_025deg_V1101.1981.nc\n",
      "/Users/Siwen/Desktop/ferret/bin/APHRO_ZH_front_025deg_V1101.1982.nc\n",
      "/Users/Siwen/Desktop/ferret/bin/APHRO_ZH_front_025deg_V1101.1983.nc\n",
      "/Users/Siwen/Desktop/ferret/bin/APHRO_ZH_front_025deg_V1101.1984.nc\n",
      "/Users/Siwen/Desktop/ferret/bin/APHRO_ZH_front_025deg_V1101.1985.nc\n",
      "/Users/Siwen/Desktop/ferret/bin/APHRO_ZH_front_025deg_V1101.1986.nc\n",
      "/Users/Siwen/Desktop/ferret/bin/APHRO_ZH_front_025deg_V1101.1987.nc\n",
      "/Users/Siwen/Desktop/ferret/bin/APHRO_ZH_front_025deg_V1101.1988.nc\n",
      "/Users/Siwen/Desktop/ferret/bin/APHRO_ZH_front_025deg_V1101.1989.nc\n",
      "/Users/Siwen/Desktop/ferret/bin/APHRO_ZH_front_025deg_V1101.1990.nc\n",
      "/Users/Siwen/Desktop/ferret/bin/APHRO_ZH_front_025deg_V1101.1991.nc\n",
      "/Users/Siwen/Desktop/ferret/bin/APHRO_ZH_front_025deg_V1101.1992.nc\n",
      "/Users/Siwen/Desktop/ferret/bin/APHRO_ZH_front_025deg_V1101.1993.nc\n",
      "/Users/Siwen/Desktop/ferret/bin/APHRO_ZH_front_025deg_V1101.1994.nc\n",
      "/Users/Siwen/Desktop/ferret/bin/APHRO_ZH_front_025deg_V1101.1995.nc\n",
      "/Users/Siwen/Desktop/ferret/bin/APHRO_ZH_front_025deg_V1101.1996.nc\n",
      "/Users/Siwen/Desktop/ferret/bin/APHRO_ZH_front_025deg_V1101.1997.nc\n",
      "/Users/Siwen/Desktop/ferret/bin/APHRO_ZH_front_025deg_V1101.1998.nc\n",
      "/Users/Siwen/Desktop/ferret/bin/APHRO_ZH_front_025deg_V1101.1999.nc\n",
      "/Users/Siwen/Desktop/ferret/bin/APHRO_ZH_front_025deg_V1101.2000.nc\n",
      "/Users/Siwen/Desktop/ferret/bin/APHRO_ZH_front_025deg_V1101.2001.nc\n",
      "/Users/Siwen/Desktop/ferret/bin/APHRO_ZH_front_025deg_V1101.2002.nc\n",
      "/Users/Siwen/Desktop/ferret/bin/APHRO_ZH_front_025deg_V1101.2003.nc\n",
      "/Users/Siwen/Desktop/ferret/bin/APHRO_ZH_front_025deg_V1101.2004.nc\n",
      "/Users/Siwen/Desktop/ferret/bin/APHRO_ZH_front_025deg_V1101.2005.nc\n",
      "/Users/Siwen/Desktop/ferret/bin/APHRO_ZH_front_025deg_V1101.2006.nc\n",
      "/Users/Siwen/Desktop/ferret/bin/APHRO_ZH_front_025deg_V1101.2007.nc\n"
     ]
    }
   ],
   "source": [
    "## start by loading all precipitation data for each year.\n",
    "P = np.zeros((365,80,72,57))\n",
    "P_band = np.zeros((365,80,72,57))\n",
    "P_local = np.zeros((365,80,72,57))\n",
    "\n",
    "for yr in range(1951,2008):\n",
    "    \n",
    "    #Build filename\n",
    "    filename = ferretpath + '/' + rdapath + str(yr) + '.nc'\n",
    "    print(filename),\n",
    "    myf = nc.Dataset(filename, 'r')\n",
    "    \n",
    "    #Obtain fraction of different types of rainfall\n",
    "    P[:,:,:,yr-1951] = myf['P'][:365,:,:]\n",
    "    P_band[:,:,:,yr-1951] = myf['P_band1'][:365,:,:] + myf['P_band2'][:365,:,:]\n",
    "    P_local[:,:,:,yr-1951] = myf['P_leftover'][:365,:,:]\n",
    "    \n",
    "    myf.close()\n",
    "    \n",
    "P_tuple = (P,P_band,P_local)\n",
    "P_mean = [ np.mean(P_type, axis=3) for P_type in P_tuple ]"
   ]
  },
  {
   "cell_type": "code",
   "execution_count": 9,
   "metadata": {
    "collapsed": true
   },
   "outputs": [],
   "source": [
    "def smooth(P,dayrange,latrange):\n",
    "    Psmooth=np.zeros(P.shape)\n",
    "    \n",
    "    ll=int((dayrange-1)/2)\n",
    "    yy=int((latrange-1)/2)\n",
    "    \n",
    "    days = P.shape[0]\n",
    "    lats = P.shape[1]\n",
    "    \n",
    "    for d in range(days):\n",
    "        for j in range(lats):\n",
    "            \n",
    "            Psample = P.take(range(d-ll,d+ll+1), mode='wrap', axis=0)\n",
    "            Ps = Psample[:,max(0,j-yy):min(days,j+yy+1)]\n",
    "            Psmooth[d,j] = np.mean(np.mean(Ps))\n",
    "    \n",
    "    return Psmooth"
   ]
  },
  {
   "cell_type": "code",
   "execution_count": 12,
   "metadata": {
    "collapsed": false
   },
   "outputs": [
    {
     "ename": "KeyboardInterrupt",
     "evalue": "",
     "output_type": "error",
     "traceback": [
      "\u001b[0;31m---------------------------------------------------------------------------\u001b[0m",
      "\u001b[0;31mKeyboardInterrupt\u001b[0m                         Traceback (most recent call last)",
      "\u001b[0;32m<ipython-input-12-f7350d3c37fa>\u001b[0m in \u001b[0;36m<module>\u001b[0;34m()\u001b[0m\n\u001b[1;32m      9\u001b[0m \u001b[0mP_smth\u001b[0m\u001b[0;34m.\u001b[0m\u001b[0mappend\u001b[0m\u001b[0;34m(\u001b[0m\u001b[0;34m[\u001b[0m \u001b[0msmooth\u001b[0m\u001b[0;34m(\u001b[0m\u001b[0mx\u001b[0m\u001b[0;34m,\u001b[0m\u001b[0mdaysmth\u001b[0m\u001b[0;34m,\u001b[0m\u001b[0mlatsmth\u001b[0m\u001b[0;34m)\u001b[0m \u001b[0;32mfor\u001b[0m \u001b[0mx\u001b[0m \u001b[0;32min\u001b[0m \u001b[0mP_mean\u001b[0m\u001b[0;34m[\u001b[0m\u001b[0;36m0\u001b[0m\u001b[0;34m]\u001b[0m \u001b[0;34m]\u001b[0m\u001b[0;34m)\u001b[0m\u001b[0;34m\u001b[0m\u001b[0m\n\u001b[1;32m     10\u001b[0m \u001b[0mP_smth\u001b[0m\u001b[0;34m.\u001b[0m\u001b[0mappend\u001b[0m\u001b[0;34m(\u001b[0m\u001b[0;34m[\u001b[0m \u001b[0msmooth\u001b[0m\u001b[0;34m(\u001b[0m\u001b[0mx\u001b[0m\u001b[0;34m,\u001b[0m\u001b[0mdaysmth\u001b[0m\u001b[0;34m,\u001b[0m\u001b[0mlatsmth\u001b[0m\u001b[0;34m)\u001b[0m \u001b[0;32mfor\u001b[0m \u001b[0mx\u001b[0m \u001b[0;32min\u001b[0m \u001b[0mP_mean\u001b[0m\u001b[0;34m[\u001b[0m\u001b[0;36m1\u001b[0m\u001b[0;34m]\u001b[0m \u001b[0;34m]\u001b[0m\u001b[0;34m)\u001b[0m\u001b[0;34m\u001b[0m\u001b[0m\n\u001b[0;32m---> 11\u001b[0;31m \u001b[0mP_smth\u001b[0m\u001b[0;34m.\u001b[0m\u001b[0mappend\u001b[0m\u001b[0;34m(\u001b[0m\u001b[0;34m[\u001b[0m \u001b[0msmooth\u001b[0m\u001b[0;34m(\u001b[0m\u001b[0mx\u001b[0m\u001b[0;34m,\u001b[0m\u001b[0mdaysmth\u001b[0m\u001b[0;34m,\u001b[0m\u001b[0mlatsmth\u001b[0m\u001b[0;34m)\u001b[0m \u001b[0;32mfor\u001b[0m \u001b[0mx\u001b[0m \u001b[0;32min\u001b[0m \u001b[0mP_mean\u001b[0m\u001b[0;34m[\u001b[0m\u001b[0;36m2\u001b[0m\u001b[0;34m]\u001b[0m \u001b[0;34m]\u001b[0m\u001b[0;34m)\u001b[0m\u001b[0;34m\u001b[0m\u001b[0m\n\u001b[0m",
      "\u001b[0;32m<ipython-input-12-f7350d3c37fa>\u001b[0m in \u001b[0;36m<listcomp>\u001b[0;34m(.0)\u001b[0m\n\u001b[1;32m      9\u001b[0m \u001b[0mP_smth\u001b[0m\u001b[0;34m.\u001b[0m\u001b[0mappend\u001b[0m\u001b[0;34m(\u001b[0m\u001b[0;34m[\u001b[0m \u001b[0msmooth\u001b[0m\u001b[0;34m(\u001b[0m\u001b[0mx\u001b[0m\u001b[0;34m,\u001b[0m\u001b[0mdaysmth\u001b[0m\u001b[0;34m,\u001b[0m\u001b[0mlatsmth\u001b[0m\u001b[0;34m)\u001b[0m \u001b[0;32mfor\u001b[0m \u001b[0mx\u001b[0m \u001b[0;32min\u001b[0m \u001b[0mP_mean\u001b[0m\u001b[0;34m[\u001b[0m\u001b[0;36m0\u001b[0m\u001b[0;34m]\u001b[0m \u001b[0;34m]\u001b[0m\u001b[0;34m)\u001b[0m\u001b[0;34m\u001b[0m\u001b[0m\n\u001b[1;32m     10\u001b[0m \u001b[0mP_smth\u001b[0m\u001b[0;34m.\u001b[0m\u001b[0mappend\u001b[0m\u001b[0;34m(\u001b[0m\u001b[0;34m[\u001b[0m \u001b[0msmooth\u001b[0m\u001b[0;34m(\u001b[0m\u001b[0mx\u001b[0m\u001b[0;34m,\u001b[0m\u001b[0mdaysmth\u001b[0m\u001b[0;34m,\u001b[0m\u001b[0mlatsmth\u001b[0m\u001b[0;34m)\u001b[0m \u001b[0;32mfor\u001b[0m \u001b[0mx\u001b[0m \u001b[0;32min\u001b[0m \u001b[0mP_mean\u001b[0m\u001b[0;34m[\u001b[0m\u001b[0;36m1\u001b[0m\u001b[0;34m]\u001b[0m \u001b[0;34m]\u001b[0m\u001b[0;34m)\u001b[0m\u001b[0;34m\u001b[0m\u001b[0m\n\u001b[0;32m---> 11\u001b[0;31m \u001b[0mP_smth\u001b[0m\u001b[0;34m.\u001b[0m\u001b[0mappend\u001b[0m\u001b[0;34m(\u001b[0m\u001b[0;34m[\u001b[0m \u001b[0msmooth\u001b[0m\u001b[0;34m(\u001b[0m\u001b[0mx\u001b[0m\u001b[0;34m,\u001b[0m\u001b[0mdaysmth\u001b[0m\u001b[0;34m,\u001b[0m\u001b[0mlatsmth\u001b[0m\u001b[0;34m)\u001b[0m \u001b[0;32mfor\u001b[0m \u001b[0mx\u001b[0m \u001b[0;32min\u001b[0m \u001b[0mP_mean\u001b[0m\u001b[0;34m[\u001b[0m\u001b[0;36m2\u001b[0m\u001b[0;34m]\u001b[0m \u001b[0;34m]\u001b[0m\u001b[0;34m)\u001b[0m\u001b[0;34m\u001b[0m\u001b[0m\n\u001b[0m",
      "\u001b[0;32m<ipython-input-9-2669a6c35b37>\u001b[0m in \u001b[0;36msmooth\u001b[0;34m(P, dayrange, latrange)\u001b[0m\n\u001b[1;32m     11\u001b[0m         \u001b[0;32mfor\u001b[0m \u001b[0mj\u001b[0m \u001b[0;32min\u001b[0m \u001b[0mrange\u001b[0m\u001b[0;34m(\u001b[0m\u001b[0mlats\u001b[0m\u001b[0;34m)\u001b[0m\u001b[0;34m:\u001b[0m\u001b[0;34m\u001b[0m\u001b[0m\n\u001b[1;32m     12\u001b[0m \u001b[0;34m\u001b[0m\u001b[0m\n\u001b[0;32m---> 13\u001b[0;31m             \u001b[0mPsample\u001b[0m \u001b[0;34m=\u001b[0m \u001b[0mP\u001b[0m\u001b[0;34m.\u001b[0m\u001b[0mtake\u001b[0m\u001b[0;34m(\u001b[0m\u001b[0mrange\u001b[0m\u001b[0;34m(\u001b[0m\u001b[0md\u001b[0m\u001b[0;34m-\u001b[0m\u001b[0mll\u001b[0m\u001b[0;34m,\u001b[0m\u001b[0md\u001b[0m\u001b[0;34m+\u001b[0m\u001b[0mll\u001b[0m\u001b[0;34m+\u001b[0m\u001b[0;36m1\u001b[0m\u001b[0;34m)\u001b[0m\u001b[0;34m,\u001b[0m \u001b[0mmode\u001b[0m\u001b[0;34m=\u001b[0m\u001b[0;34m'wrap'\u001b[0m\u001b[0;34m,\u001b[0m \u001b[0maxis\u001b[0m\u001b[0;34m=\u001b[0m\u001b[0;36m0\u001b[0m\u001b[0;34m)\u001b[0m\u001b[0;34m\u001b[0m\u001b[0m\n\u001b[0m\u001b[1;32m     14\u001b[0m             \u001b[0mPs\u001b[0m \u001b[0;34m=\u001b[0m \u001b[0mPsample\u001b[0m\u001b[0;34m[\u001b[0m\u001b[0;34m:\u001b[0m\u001b[0;34m,\u001b[0m\u001b[0mmax\u001b[0m\u001b[0;34m(\u001b[0m\u001b[0;36m0\u001b[0m\u001b[0;34m,\u001b[0m\u001b[0mj\u001b[0m\u001b[0;34m-\u001b[0m\u001b[0myy\u001b[0m\u001b[0;34m)\u001b[0m\u001b[0;34m:\u001b[0m\u001b[0mmin\u001b[0m\u001b[0;34m(\u001b[0m\u001b[0mdays\u001b[0m\u001b[0;34m,\u001b[0m\u001b[0mj\u001b[0m\u001b[0;34m+\u001b[0m\u001b[0myy\u001b[0m\u001b[0;34m+\u001b[0m\u001b[0;36m1\u001b[0m\u001b[0;34m)\u001b[0m\u001b[0;34m]\u001b[0m\u001b[0;34m\u001b[0m\u001b[0m\n\u001b[1;32m     15\u001b[0m             \u001b[0mPsmooth\u001b[0m\u001b[0;34m[\u001b[0m\u001b[0md\u001b[0m\u001b[0;34m,\u001b[0m\u001b[0mj\u001b[0m\u001b[0;34m]\u001b[0m \u001b[0;34m=\u001b[0m \u001b[0mnp\u001b[0m\u001b[0;34m.\u001b[0m\u001b[0mmean\u001b[0m\u001b[0;34m(\u001b[0m\u001b[0mnp\u001b[0m\u001b[0;34m.\u001b[0m\u001b[0mmean\u001b[0m\u001b[0;34m(\u001b[0m\u001b[0mPs\u001b[0m\u001b[0;34m)\u001b[0m\u001b[0;34m)\u001b[0m\u001b[0;34m\u001b[0m\u001b[0m\n",
      "\u001b[0;31mKeyboardInterrupt\u001b[0m: "
     ]
    }
   ],
   "source": [
    "## SMOOTHING ##\n",
    "#smooth out the decadal precipitation means\n",
    "#but, no latitudinal smoothing since rainfall already effectively smoothed in latitude\n",
    "daysmth = 15\n",
    "latsmth = 0\n",
    "\n",
    "## for apparent memory reasons, have to actually write out each line.\n",
    "P_smth = []\n",
    "P_smth.append([ smooth(x,daysmth,latsmth) for x in P_mean[0] ])\n",
    "P_smth.append([ smooth(x,daysmth,latsmth) for x in P_mean[1] ])\n",
    "P_smth.append([ smooth(x,daysmth,latsmth) for x in P_mean[2] ])"
   ]
  },
  {
   "cell_type": "code",
   "execution_count": null,
   "metadata": {
    "collapsed": true
   },
   "outputs": [],
   "source": [
    "# CREATE CLIMATOLOGY FIGURE\n",
    "\n",
    "axlim = 2 #sets the maximum and minimum for colorbar.\n",
    "mypalette = 'RdYlBu_r'\n",
    "\n",
    "## Set up axis and title for the entire figure\n",
    "fig, ax = plt.subplots(figsize=(11,8))\n",
    "ax.set_title(\"Climatology by Rainfall Type\", fontsize=18, y = 1.07, x=.43)\n",
    "ax.set_axis_off()\n",
    "\n",
    "## Subplot a) - Total rainfall\n",
    "ax1 = fig.add_subplot(3,1,1)\n",
    "plot1 = ax1.pcolormesh(P_smth[0].T, cmap = mypalette); \n",
    "#plt.contour(P_smth[0],1,colors = 'gray')\n",
    "ax1.set_title(\"a) Mean Total Rainfall (mm day$^{-1}$)\", fontsize=14, y=1.12, loc = 'left')\n",
    "plt.ylabel('Latitude ($^\\circ$)', fontsize=12, labelpad=0)\n",
    "plt.yticks(np.linspace(0,80,6),np.linspace(20,40,6).astype(int))\n",
    "\n",
    "#cbar1 = plt.colorbar(plot1, pad = 0.02)\n",
    "#cbar1.set_ticks(np.linspace(-axlim,axlim,9))\n",
    "#cbar1.set_ticklabels(['<-2',-1.5,-1,-.5,0,.5,1,1.5,'>2'])\n",
    "\n",
    "add_double_calendar_axis()\n",
    "mark_time_periods(time_periods, numbers = 'yes', box = 'no')\n",
    "\n",
    "\n",
    "## Subplot b) - Banded rainfall\n",
    "ax2 = fig.add_subplot(3,1,2)\n",
    "plot2 = ax2.pcolormesh(P_smth[1].T, cmap = mypalette); \n",
    "#plt.contour(mk_band[0][1].T,1,colors = 'gray')\n",
    "ax2.set_title(\"b) Mean Banded Rainfall (mm day$^{-1}$)\", fontsize=14, y=1.12, loc = 'left')\n",
    "plt.ylabel('Latitude ($^\\circ$)', fontsize=12, labelpad=0)\n",
    "plt.yticks(np.linspace(0,80,6),np.linspace(20,40,6).astype(int))\n",
    "\n",
    "add_double_calendar_axis()\n",
    "mark_time_periods(time_periods, numbers = 'yes', box = 'no')\n",
    "\n",
    "\n",
    "## Subplot c) Local rainfall\n",
    "ax3 = fig.add_subplot(3,1,3)\n",
    "plot3 = ax3.pcolormesh(P_smth[2], cmap = mypalette); \n",
    "#plt.contour(freq_diff_mask_99[0][:,1:21].mask.T,1,colors = 'gray')\n",
    "plt.ylabel('Latitude ($\\!^\\circ\\!$)', fontsize=12, labelpad=0)\n",
    "plt.yticks(np.linspace(0,20,6),np.linspace(20,40,6).astype(int))\n",
    "\n",
    "\n",
    "ax3.set_title(\"c) Mean Local Rainfall (mm day$^{-1}$)\", fontsize=14, y=1.12, loc = 'left')\n",
    "add_double_calendar_axis()\n",
    "mark_time_periods(time_periods, numbers = 'yes', box = 'no')"
   ]
  },
  {
   "cell_type": "code",
   "execution_count": null,
   "metadata": {
    "collapsed": true
   },
   "outputs": [],
   "source": []
  }
 ],
 "metadata": {
  "kernelspec": {
   "display_name": "Python 3",
   "language": "python",
   "name": "python3"
  },
  "language_info": {
   "codemirror_mode": {
    "name": "ipython",
    "version": 3
   },
   "file_extension": ".py",
   "mimetype": "text/x-python",
   "name": "python",
   "nbconvert_exporter": "python",
   "pygments_lexer": "ipython3",
   "version": "3.5.2"
  }
 },
 "nbformat": 4,
 "nbformat_minor": 0
}
