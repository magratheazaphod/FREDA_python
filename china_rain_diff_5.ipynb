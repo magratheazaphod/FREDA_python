{
 "cells": [
  {
   "cell_type": "code",
   "execution_count": 1,
   "metadata": {
    "collapsed": true
   },
   "outputs": [],
   "source": [
    "#MAIN LOOP - where we run the simulations to figure out statistical significance of changes"
   ]
  },
  {
   "cell_type": "code",
   "execution_count": 1,
   "metadata": {
    "collapsed": false
   },
   "outputs": [],
   "source": [
    "import matplotlib.pyplot as plt\n",
    "import numpy as np\n",
    "import time\n",
    "import os\n",
    "import netCDF4 as nc\n",
    "import matplotlib.pyplot as plt\n",
    "%matplotlib notebook\n",
    "%load_ext autotime\n",
    "from bootstrap import *\n",
    "from shutil import copyfile\n",
    "import numpy.ma as ma"
   ]
  },
  {
   "cell_type": "code",
   "execution_count": 2,
   "metadata": {
    "collapsed": false
   },
   "outputs": [
    {
     "name": "stdout",
     "output_type": "stream",
     "text": [
      "time: 7.15 ms\n"
     ]
    }
   ],
   "source": [
    "ferretpath = \"/Users/Siwen/Desktop/ferret/bin/\"\n",
    "ff = \"Pchina_type.nc\"\n",
    "filename = ferretpath + ff\n",
    "myf = nc.Dataset(filename, 'r')"
   ]
  },
  {
   "cell_type": "code",
   "execution_count": 3,
   "metadata": {
    "collapsed": false
   },
   "outputs": [
    {
     "name": "stdout",
     "output_type": "stream",
     "text": [
      "time: 88.2 ms\n"
     ]
    }
   ],
   "source": [
    "P_total =  myf.variables['Pchina_total'][:]\n",
    "P_band = myf.variables['Pchina_band'][:]\n",
    "P_local = myf.variables['Pchina_local'][:]"
   ]
  },
  {
   "cell_type": "code",
   "execution_count": 4,
   "metadata": {
    "collapsed": false
   },
   "outputs": [
    {
     "name": "stdout",
     "output_type": "stream",
     "text": [
      "time: 7.25 ms\n"
     ]
    }
   ],
   "source": [
    "def smooth(P,dayrange,latrange):\n",
    "    Psmooth=np.zeros(P.shape)\n",
    "    \n",
    "    ll=int((dayrange-1)/2)\n",
    "    yy=int((latrange-1)/2)\n",
    "    \n",
    "    days = P.shape[0]\n",
    "    lats = P.shape[1]\n",
    "    \n",
    "    for d in range(days):\n",
    "        for j in range(lats):\n",
    "            \n",
    "            Psample = P.take(range(d-ll,d+ll+1), mode='wrap', axis=0)\n",
    "            Ps = Psample[:,max(0,j-yy):min(days,j+yy+1)]\n",
    "            Psmooth[d,j] = np.mean(np.mean(Ps))\n",
    "    \n",
    "    return Psmooth"
   ]
  },
  {
   "cell_type": "code",
   "execution_count": 5,
   "metadata": {
    "collapsed": false
   },
   "outputs": [
    {
     "name": "stdout",
     "output_type": "stream",
     "text": [
      "time: 19.4 ms\n"
     ]
    }
   ],
   "source": [
    "#years of interest - start and end date, with index starting at 1 out of habit.\n",
    "p1_yr_b = [1,30]\n",
    "p1_yr_e = [29,43]\n",
    "p2_yr_b = [30,44]\n",
    "p2_yr_e = [57,57]\n",
    "\n",
    "P_total_diff = []\n",
    "P_band_diff = []\n",
    "P_local_diff = []\n",
    "\n",
    "#cycle through all time periods of interest and find changes in each type of rainfall b/w periods\n",
    "for p1_b, p1_e, p2_b, p2_e, i in zip(p1_yr_b, p1_yr_e, p2_yr_b, p2_yr_e, np.arange(len(p1_yr_b))): \n",
    "    \n",
    "    P_total_diff.append(np.mean(P_total[:,:,p2_b-1:p2_e], axis=2) - \\\n",
    "                         np.mean(P_total[:,:,p1_b-1:p1_e], axis=2))\n",
    "    P_band_diff.append(np.mean(P_band[:,:,p2_b-1:p2_e], axis=2) \\\n",
    "                       - np.mean(P_band[:,:,p1_b-1:p1_e], axis=2))\n",
    "    P_local_diff.append(np.mean(P_local[:,:,p2_b-1:p2_e], axis=2) \\\n",
    "                        - np.mean(P_local[:,:,p1_b-1:p1_e], axis=2))"
   ]
  },
  {
   "cell_type": "code",
   "execution_count": 6,
   "metadata": {
    "collapsed": false
   },
   "outputs": [
    {
     "name": "stdout",
     "output_type": "stream",
     "text": [
      "time: 4.4 s\n"
     ]
    }
   ],
   "source": [
    "## SMOOTHING ##\n",
    "#smooth out the decadal precipitation means\n",
    "#but, no latitudinal smoothing since rainfall already effectively smoothed in latitude\n",
    "daysmth = 15\n",
    "latsmth = 0\n",
    "\n",
    "#one line! thank you python!\n",
    "P_total_diff_smth = [ smooth(x,daysmth,latsmth) for x in P_total_diff ]\n",
    "P_band_diff_smth = [ smooth(x,daysmth,latsmth) for x in P_band_diff ]\n",
    "P_local_diff_smth = [ smooth(x,daysmth,latsmth) for x in P_local_diff ]"
   ]
  },
  {
   "cell_type": "code",
   "execution_count": null,
   "metadata": {
    "collapsed": false
   },
   "outputs": [
    {
     "name": "stdout",
     "output_type": "stream",
     "text": [
      "Building new file.\n",
      "0\n",
      "1\n",
      "2\n",
      "3\n",
      "4\n",
      "5\n",
      "6\n",
      "7\n",
      "8\n",
      "9\n",
      "10\n",
      "11\n",
      "12\n",
      "13\n",
      "14\n",
      "15\n",
      "16\n",
      "17\n",
      "18\n",
      "19\n",
      "20\n",
      "21\n",
      "22\n",
      "23\n",
      "24\n",
      "25\n",
      "26\n",
      "27\n",
      "28\n",
      "29\n",
      "30\n",
      "31\n",
      "32\n",
      "33\n",
      "34\n",
      "35\n",
      "36\n",
      "37\n",
      "38\n",
      "39\n",
      "40\n",
      "41\n",
      "42\n",
      "43\n",
      "44\n",
      "45\n",
      "46\n",
      "47\n",
      "48\n",
      "49\n",
      "50\n",
      "51\n",
      "52\n",
      "53\n",
      "54\n",
      "55\n",
      "56\n",
      "57\n",
      "58\n",
      "59\n",
      "60\n",
      "61\n",
      "62\n",
      "63\n",
      "64\n",
      "65\n",
      "66\n",
      "67\n",
      "68\n",
      "69\n",
      "70\n",
      "71\n"
     ]
    }
   ],
   "source": [
    "## BOOTSTRAPPING ##\n",
    "#from previous testing, determined that the autocorrelation time scale of rainfall is between\n",
    "#2 and 3 days. Will test both and see effect on p-values.\n",
    "\n",
    "#General expectation would be that longer block lengths will lead to fewer significant p-values\n",
    "#(smaller effective sample size\n",
    "\n",
    "##REWRITTEN SEPTEMBER 26, 2016\n",
    "#previous version had to run for potentially days at a time, whereas now it saves each new row as it completes it.\n",
    "\n",
    "#daysmth is defined above\n",
    "niter = 2000 #how many iterations each time?\n",
    "blklen = 3\n",
    "row_increment = 80 #how many rows to run at a time?\n",
    "\n",
    "p1_b = 1\n",
    "p1_e = 29\n",
    "p2_b = 30\n",
    "p2_e = 57\n",
    "\n",
    "filepath = \"chinarain_diff_pval_\"\n",
    "backuppath = \"/Users/Siwen/Desktop/Ferret/bin/\"\n",
    "\n",
    "#netCDF output file formatting formatting\n",
    "yearsout = str(p1_b+50) + str(p1_e+50) + \"_\" + str(p2_b+50) + str(p2_e+50) + \"_\"\n",
    "fullname = filepath + yearsout + \"local\" + \"_\" + str(blklen) +\"day_\" + str(niter) + \"iter.nc\"\n",
    "backupname = backuppath + fullname\n",
    "\n",
    "##the following is only to make sure that we don't exceed the bounds of the number of rows of actual data.\n",
    "if os.path.isfile(fullname):\n",
    "    \n",
    "    fileout = nc.Dataset(fullname, \"r\")\n",
    "    start_row = fileout.lastrow + 1\n",
    "    fileout.close()\n",
    "\n",
    "else:\n",
    "    \n",
    "    start_row = 0\n",
    "    \n",
    "rows = min(row_increment,P_local.shape[1]-start_row) #don't want to keep running the loop past the final row\n",
    "\n",
    "#P-VALUES OF TOTAL RAINFALL\n",
    "for i in range(rows):\n",
    "    \n",
    "    pval = bs_diff_rain_save(P_local,[p1_b,p1_e],[p2_b,p2_e],daysmth,niter,blklen,fullname,1,'a')\n",
    "    \n",
    "    #backup to external directory\n",
    "    if os.path.exists(backupname):\n",
    "        os.remove(backupname)\n",
    "    copyfile(fullname, backupname) #backs file up in case of corruption"
   ]
  },
  {
   "cell_type": "code",
   "execution_count": null,
   "metadata": {
    "collapsed": true
   },
   "outputs": [],
   "source": []
  }
 ],
 "metadata": {
  "kernelspec": {
   "display_name": "Python 3",
   "language": "python",
   "name": "python3"
  },
  "language_info": {
   "codemirror_mode": {
    "name": "ipython",
    "version": 3
   },
   "file_extension": ".py",
   "mimetype": "text/x-python",
   "name": "python",
   "nbconvert_exporter": "python",
   "pygments_lexer": "ipython3",
   "version": "3.5.2"
  }
 },
 "nbformat": 4,
 "nbformat_minor": 0
}
