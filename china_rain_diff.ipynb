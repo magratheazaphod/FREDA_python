{
 "cells": [
  {
   "cell_type": "code",
   "execution_count": 1,
   "metadata": {
    "collapsed": true
   },
   "outputs": [],
   "source": [
    "#MAIN LOOP - where we run the simulations to figure out statistical significance of changes"
   ]
  },
  {
   "cell_type": "code",
   "execution_count": 14,
   "metadata": {
    "collapsed": false
   },
   "outputs": [
    {
     "name": "stdout",
     "output_type": "stream",
     "text": [
      "The autotime extension is already loaded. To reload it, use:\n",
      "  %reload_ext autotime\n",
      "time: 4.35 ms\n"
     ]
    }
   ],
   "source": [
    "import matplotlib.pyplot as plt\n",
    "import numpy as np\n",
    "import time\n",
    "import os\n",
    "import netCDF4 as nc\n",
    "import matplotlib.pyplot as plt\n",
    "%matplotlib notebook\n",
    "%load_ext autotime\n",
    "from bootstrap import *"
   ]
  },
  {
   "cell_type": "code",
   "execution_count": 2,
   "metadata": {
    "collapsed": false
   },
   "outputs": [
    {
     "name": "stdout",
     "output_type": "stream",
     "text": [
      "time: 6.57 ms\n"
     ]
    }
   ],
   "source": [
    "ferretpath = \"/Users/Siwen/Desktop/ferret/bin/\"\n",
    "ff = \"Pchina_type.nc\"\n",
    "filename = ferretpath + ff\n",
    "myf = nc.Dataset(filename, 'r')"
   ]
  },
  {
   "cell_type": "code",
   "execution_count": 3,
   "metadata": {
    "collapsed": false
   },
   "outputs": [
    {
     "name": "stdout",
     "output_type": "stream",
     "text": [
      "time: 47.7 ms\n"
     ]
    }
   ],
   "source": [
    "P_total =  myf.variables['Pchina_total'][:]\n",
    "P_band = myf.variables['Pchina_band'][:]\n",
    "P_local = myf.variables['Pchina_local'][:]"
   ]
  },
  {
   "cell_type": "code",
   "execution_count": 4,
   "metadata": {
    "collapsed": false
   },
   "outputs": [
    {
     "name": "stdout",
     "output_type": "stream",
     "text": [
      "time: 7.25 ms\n"
     ]
    }
   ],
   "source": [
    "def smooth(P,dayrange,latrange):\n",
    "    Psmooth=np.zeros(P.shape)\n",
    "    \n",
    "    ll=int((dayrange-1)/2)\n",
    "    yy=int((latrange-1)/2)\n",
    "    \n",
    "    days = P.shape[0]\n",
    "    lats = P.shape[1]\n",
    "    \n",
    "    for d in range(days):\n",
    "        for j in range(lats):\n",
    "            \n",
    "            Psample = P.take(range(d-ll,d+ll+1), mode='wrap', axis=0)\n",
    "            Ps = Psample[:,max(0,j-yy):min(days,j+yy+1)]\n",
    "            Psmooth[d,j] = np.mean(np.mean(Ps))\n",
    "    \n",
    "    return Psmooth"
   ]
  },
  {
   "cell_type": "code",
   "execution_count": 5,
   "metadata": {
    "collapsed": false
   },
   "outputs": [
    {
     "name": "stdout",
     "output_type": "stream",
     "text": [
      "time: 21.1 ms\n"
     ]
    }
   ],
   "source": [
    "#years of interest - start and end date, with index starting at 1 out of habit.\n",
    "p1_yr_b = [1,30]\n",
    "p1_yr_e = [29,43]\n",
    "p2_yr_b = [30,44]\n",
    "p2_yr_e = [57,57]\n",
    "\n",
    "P_total_diff = []\n",
    "P_band_diff = []\n",
    "P_local_diff = []\n",
    "\n",
    "#cycle through all time periods of interest and find changes in each type of rainfall b/w periods\n",
    "for p1_b, p1_e, p2_b, p2_e, i in zip(p1_yr_b, p1_yr_e, p2_yr_b, p2_yr_e, np.arange(len(p1_yr_b))): \n",
    "    \n",
    "    P_total_diff.append(np.mean(P_total[:,:,p2_b-1:p2_e], axis=2) - \\\n",
    "                         np.mean(P_total[:,:,p1_b-1:p1_e], axis=2))\n",
    "    P_band_diff.append(np.mean(P_band[:,:,p2_b-1:p2_e], axis=2) \\\n",
    "                       - np.mean(P_band[:,:,p1_b-1:p1_e], axis=2))\n",
    "    P_local_diff.append(np.mean(P_local[:,:,p2_b-1:p2_e], axis=2) \\\n",
    "                        - np.mean(P_local[:,:,p1_b-1:p1_e], axis=2))"
   ]
  },
  {
   "cell_type": "code",
   "execution_count": 6,
   "metadata": {
    "collapsed": false
   },
   "outputs": [
    {
     "name": "stdout",
     "output_type": "stream",
     "text": [
      "time: 3.77 s\n"
     ]
    }
   ],
   "source": [
    "## SMOOTHING ##\n",
    "#smooth out the decadal precipitation means\n",
    "#but, no latitudinal smoothing since rainfall already effectively smoothed in latitude\n",
    "daysmth = 15\n",
    "latsmth = 0\n",
    "\n",
    "#one line! thank you python!\n",
    "P_total_diff_smth = [ smooth(x,daysmth,latsmth) for x in P_total_diff ]\n",
    "P_band_diff_smth = [ smooth(x,daysmth,latsmth) for x in P_band_diff ]\n",
    "P_local_diff_smth = [ smooth(x,daysmth,latsmth) for x in P_local_diff ]"
   ]
  },
  {
   "cell_type": "code",
   "execution_count": null,
   "metadata": {
    "collapsed": false
   },
   "outputs": [],
   "source": [
    "plt.pcolor(P_local_diff_smth[1].T)"
   ]
  },
  {
   "cell_type": "code",
   "execution_count": 18,
   "metadata": {
    "collapsed": false
   },
   "outputs": [
    {
     "name": "stdout",
     "output_type": "stream",
     "text": [
      "<class 'netCDF4._netCDF4.Dataset'>\n",
      "root group (NETCDF4 data model, file format HDF5):\n",
      "    dimensions(sizes): \n",
      "    variables(dimensions): \n",
      "    groups: \n",
      "\n",
      "<class 'netCDF4._netCDF4.Dataset'>\n",
      "root group (NETCDF4 data model, file format HDF5):\n",
      "    dimensions(sizes): \n",
      "    variables(dimensions): \n",
      "    groups: \n",
      "\n",
      "time: 53.2 s\n"
     ]
    }
   ],
   "source": [
    "## BOOTSTRAPPING ##\n",
    "#from previous testing, determined that the autocorrelation time scale of rainfall is between\n",
    "#2 and 3 days. Will test both and see effect on p-values.\n",
    "\n",
    "#General expectation would be that longer block lengths will lead to fewer significant p-values\n",
    "#(smaller effective sample size\n",
    "\n",
    "#daysmth is defined above\n",
    "niter = 500 #how many iterations each time?\n",
    "blklen = 2\n",
    "\n",
    "filepath = \"/Users/Siwen/Desktop/ferret/bin/chinarain_diff_pval_\"\n",
    "\n",
    "#define netCDF dimensions\n",
    "dim_tuple = (\"days\",\"lat\")\n",
    "\n",
    "#each of these loops is very time-consuming, hence why we split them up\n",
    "#TOTAL RAINFALL\n",
    "for p1_b, p1_e, p2_b, p2_e, i in zip(p1_yr_b, p1_yr_e, p2_yr_b, p2_yr_e, np.arange(len(p1_yr_b))): \n",
    "\n",
    "    pval = bs_diff_rain(P_total,[p1_b,p1_e],[p2_b,p2_e],daysmth,niter,blklen)\n",
    "    \n",
    "    #netCDF formatting\n",
    "    yearsout = str(p1_b+50) + str(p1_e+50) + \"_\" + str(p2_b+50) + str(p2_e+50) + \"_\"\n",
    "    fullname = filepath + yearsout + \"total\" + \"_\" + str(blklen) +\"day_\" + str(niter) + \"iter.nc\"\n",
    "    fileout = nc.Dataset(fullname, \"w\")\n",
    "    days_dim = fileout.createDimension('days', None)\n",
    "    lat_dim = fileout.createDimension('lat', 80)\n",
    "    \n",
    "    pval_total = fileout.createVariable(\"pval\", 'f8', dim_tuple)\n",
    "    pval_total[:] = pval\n",
    "    fileout.close()\n",
    "\n",
    "\n",
    "\n",
    "\n",
    "\n"
   ]
  },
  {
   "cell_type": "code",
   "execution_count": null,
   "metadata": {
    "collapsed": true
   },
   "outputs": [],
   "source": [
    "#BANDED RAINFALL\n",
    "for p1_b, p1_e, p2_b, p2_e, i in zip(p1_yr_b, p1_yr_e, p2_yr_b, p2_yr_e, np.arange(len(p1_yr_b))): \n",
    "\n",
    "    pval = bs_diff_rain(P_band,[p1_b,p1_e],[p2_b,p2_e],daysmth,niter,blklen)\n",
    "    \n",
    "    #netCDF formatting\n",
    "    yearsout = str(p1_b+50) + str(p1_e+50) + \"_\" + str(p2_b+50) + str(p2_e+50) + \"_\"\n",
    "    fullname = filepath + yearsout + \"band\" + \"_\" + str(blklen) +\"day_\" + str(niter) + \"iter.nc\"\n",
    "    fileout = nc.Dataset(fullname, \"w\")\n",
    "    days_dim = fileout.createDimension('days', None)\n",
    "    lat_dim = fileout.createDimension('lat', 80)\n",
    "    \n",
    "    pval_total = fileout.createVariable(\"pval\", 'f8', dim_tuple)\n",
    "    pval_total[:] = pval\n",
    "    fileout.close()"
   ]
  },
  {
   "cell_type": "code",
   "execution_count": null,
   "metadata": {
    "collapsed": true
   },
   "outputs": [],
   "source": [
    "#LOCAL RAINFALL\n",
    "for p1_b, p1_e, p2_b, p2_e, i in zip(p1_yr_b, p1_yr_e, p2_yr_b, p2_yr_e, np.arange(len(p1_yr_b))): \n",
    "\n",
    "    pval = bs_diff_rain(P_local,[p1_b,p1_e],[p2_b,p2_e],daysmth,niter,blklen)\n",
    "    \n",
    "    #netCDF formatting\n",
    "    yearsout = str(p1_b+50) + str(p1_e+50) + \"_\" + str(p2_b+50) + str(p2_e+50) + \"_\"\n",
    "    fullname = filepath + yearsout + \"local\" + \"_\" + str(blklen) +\"day_\" + str(niter) + \"iter.nc\"\n",
    "    fileout = nc.Dataset(fullname, \"w\")\n",
    "    days_dim = fileout.createDimension('days', None)\n",
    "    lat_dim = fileout.createDimension('lat', 80)\n",
    "    \n",
    "    pval_total = fileout.createVariable(\"pval\", 'f8', dim_tuple)\n",
    "    pval_total[:] = pval\n",
    "    fileout.close()"
   ]
  }
 ],
 "metadata": {
  "kernelspec": {
   "display_name": "Python 3",
   "language": "python",
   "name": "python3"
  },
  "language_info": {
   "codemirror_mode": {
    "name": "ipython",
    "version": 3
   },
   "file_extension": ".py",
   "mimetype": "text/x-python",
   "name": "python",
   "nbconvert_exporter": "python",
   "pygments_lexer": "ipython3",
   "version": "3.5.2"
  }
 },
 "nbformat": 4,
 "nbformat_minor": 0
}
