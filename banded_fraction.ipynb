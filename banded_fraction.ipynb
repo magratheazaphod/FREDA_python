{
 "cells": [
  {
   "cell_type": "markdown",
   "metadata": {},
   "source": [
    "Last exploratory plot for the China rainfall paper. Creates a seasonal six-panel plot of banded rainfall fraction, as a potential alternative way of showing information in the paper, and also for my own purpose. May also try to do a Hovmoller plot of banded fraction just to see what it ends up looking like.\n"
   ]
  },
  {
   "cell_type": "code",
   "execution_count": 1,
   "metadata": {
    "collapsed": true
   },
   "outputs": [],
   "source": [
    "import itertools\n",
    "import matplotlib.pyplot as plt\n",
    "import netCDF4 as nc\n",
    "import numpy as np\n",
    "import time\n",
    "import os\n",
    "from shutil import copy\n",
    "\n",
    "%matplotlib inline"
   ]
  },
  {
   "cell_type": "code",
   "execution_count": 2,
   "metadata": {
    "collapsed": true
   },
   "outputs": [],
   "source": [
    "ferretpath = \"/Users/Siwen/Desktop/ferret/bin\"\n",
    "rdapath = \"APHRO_ZH_front_025deg_V1101.\""
   ]
  },
  {
   "cell_type": "code",
   "execution_count": null,
   "metadata": {
    "collapsed": false
   },
   "outputs": [
    {
     "name": "stdout",
     "output_type": "stream",
     "text": [
      "/Users/Siwen/Desktop/ferret/bin/APHRO_ZH_front_025deg_V1101.1951.nc\n",
      "/Users/Siwen/Desktop/ferret/bin/APHRO_ZH_front_025deg_V1101.1952.nc\n",
      "/Users/Siwen/Desktop/ferret/bin/APHRO_ZH_front_025deg_V1101.1953.nc\n",
      "/Users/Siwen/Desktop/ferret/bin/APHRO_ZH_front_025deg_V1101.1954.nc\n",
      "/Users/Siwen/Desktop/ferret/bin/APHRO_ZH_front_025deg_V1101.1955.nc\n",
      "/Users/Siwen/Desktop/ferret/bin/APHRO_ZH_front_025deg_V1101.1956.nc\n",
      "/Users/Siwen/Desktop/ferret/bin/APHRO_ZH_front_025deg_V1101.1957.nc\n",
      "/Users/Siwen/Desktop/ferret/bin/APHRO_ZH_front_025deg_V1101.1958.nc\n",
      "/Users/Siwen/Desktop/ferret/bin/APHRO_ZH_front_025deg_V1101.1959.nc\n",
      "/Users/Siwen/Desktop/ferret/bin/APHRO_ZH_front_025deg_V1101.1960.nc\n",
      "/Users/Siwen/Desktop/ferret/bin/APHRO_ZH_front_025deg_V1101.1961.nc\n",
      "/Users/Siwen/Desktop/ferret/bin/APHRO_ZH_front_025deg_V1101.1962.nc\n",
      "/Users/Siwen/Desktop/ferret/bin/APHRO_ZH_front_025deg_V1101.1963.nc\n",
      "/Users/Siwen/Desktop/ferret/bin/APHRO_ZH_front_025deg_V1101.1964.nc\n",
      "/Users/Siwen/Desktop/ferret/bin/APHRO_ZH_front_025deg_V1101.1965.nc\n",
      "/Users/Siwen/Desktop/ferret/bin/APHRO_ZH_front_025deg_V1101.1966.nc\n",
      "/Users/Siwen/Desktop/ferret/bin/APHRO_ZH_front_025deg_V1101.1967.nc\n",
      "/Users/Siwen/Desktop/ferret/bin/APHRO_ZH_front_025deg_V1101.1968.nc\n",
      "/Users/Siwen/Desktop/ferret/bin/APHRO_ZH_front_025deg_V1101.1969.nc\n",
      "/Users/Siwen/Desktop/ferret/bin/APHRO_ZH_front_025deg_V1101.1970.nc\n",
      "/Users/Siwen/Desktop/ferret/bin/APHRO_ZH_front_025deg_V1101.1971.nc\n",
      "/Users/Siwen/Desktop/ferret/bin/APHRO_ZH_front_025deg_V1101.1972.nc\n",
      "/Users/Siwen/Desktop/ferret/bin/APHRO_ZH_front_025deg_V1101.1973.nc\n",
      "/Users/Siwen/Desktop/ferret/bin/APHRO_ZH_front_025deg_V1101.1974.nc\n",
      "/Users/Siwen/Desktop/ferret/bin/APHRO_ZH_front_025deg_V1101.1975.nc\n",
      "/Users/Siwen/Desktop/ferret/bin/APHRO_ZH_front_025deg_V1101.1976.nc\n",
      "/Users/Siwen/Desktop/ferret/bin/APHRO_ZH_front_025deg_V1101.1977.nc\n",
      "/Users/Siwen/Desktop/ferret/bin/APHRO_ZH_front_025deg_V1101.1978.nc\n",
      "/Users/Siwen/Desktop/ferret/bin/APHRO_ZH_front_025deg_V1101.1979.nc\n",
      "/Users/Siwen/Desktop/ferret/bin/APHRO_ZH_front_025deg_V1101.1980.nc\n",
      "/Users/Siwen/Desktop/ferret/bin/APHRO_ZH_front_025deg_V1101.1981.nc\n",
      "/Users/Siwen/Desktop/ferret/bin/APHRO_ZH_front_025deg_V1101.1982.nc\n",
      "/Users/Siwen/Desktop/ferret/bin/APHRO_ZH_front_025deg_V1101.1983.nc\n",
      "/Users/Siwen/Desktop/ferret/bin/APHRO_ZH_front_025deg_V1101.1984.nc\n",
      "/Users/Siwen/Desktop/ferret/bin/APHRO_ZH_front_025deg_V1101.1985.nc\n",
      "/Users/Siwen/Desktop/ferret/bin/APHRO_ZH_front_025deg_V1101.1986.nc\n",
      "/Users/Siwen/Desktop/ferret/bin/APHRO_ZH_front_025deg_V1101.1987.nc\n",
      "/Users/Siwen/Desktop/ferret/bin/APHRO_ZH_front_025deg_V1101.1988.nc\n",
      "/Users/Siwen/Desktop/ferret/bin/APHRO_ZH_front_025deg_V1101.1989.nc\n",
      "/Users/Siwen/Desktop/ferret/bin/APHRO_ZH_front_025deg_V1101.1990.nc\n",
      "/Users/Siwen/Desktop/ferret/bin/APHRO_ZH_front_025deg_V1101.1991.nc\n",
      "/Users/Siwen/Desktop/ferret/bin/APHRO_ZH_front_025deg_V1101.1992.nc\n",
      "/Users/Siwen/Desktop/ferret/bin/APHRO_ZH_front_025deg_V1101.1993.nc\n",
      "/Users/Siwen/Desktop/ferret/bin/APHRO_ZH_front_025deg_V1101.1994.nc\n",
      "/Users/Siwen/Desktop/ferret/bin/APHRO_ZH_front_025deg_V1101.1995.nc\n",
      "/Users/Siwen/Desktop/ferret/bin/APHRO_ZH_front_025deg_V1101.1996.nc\n",
      "/Users/Siwen/Desktop/ferret/bin/APHRO_ZH_front_025deg_V1101.1997.nc\n",
      "/Users/Siwen/Desktop/ferret/bin/APHRO_ZH_front_025deg_V1101.1998.nc\n",
      "/Users/Siwen/Desktop/ferret/bin/APHRO_ZH_front_025deg_V1101.1999.nc\n",
      "/Users/Siwen/Desktop/ferret/bin/APHRO_ZH_front_025deg_V1101.2000.nc\n",
      "/Users/Siwen/Desktop/ferret/bin/APHRO_ZH_front_025deg_V1101.2001.nc\n",
      "/Users/Siwen/Desktop/ferret/bin/APHRO_ZH_front_025deg_V1101.2002.nc\n",
      "/Users/Siwen/Desktop/ferret/bin/APHRO_ZH_front_025deg_V1101.2003.nc\n",
      "/Users/Siwen/Desktop/ferret/bin/APHRO_ZH_front_025deg_V1101.2004.nc\n",
      "/Users/Siwen/Desktop/ferret/bin/APHRO_ZH_front_025deg_V1101.2005.nc\n",
      "/Users/Siwen/Desktop/ferret/bin/APHRO_ZH_front_025deg_V1101.2006.nc\n",
      "/Users/Siwen/Desktop/ferret/bin/APHRO_ZH_front_025deg_V1101.2007.nc\n"
     ]
    }
   ],
   "source": [
    "## start by loading all precipitation data for each year.\n",
    "P = np.zeros((365,80,72,57))\n",
    "P_band = np.zeros((365,80,72,57))\n",
    "P_local = np.zeros((365,80,72,57))\n",
    "\n",
    "for yr in range(1951,2008):\n",
    "    \n",
    "    #Build filename\n",
    "    filename = ferretpath + '/' + rdapath + str(yr) + '.nc'\n",
    "    print(filename),\n",
    "    myf = nc.Dataset(filename, 'r')\n",
    "    \n",
    "    #Obtain fraction of different types of rainfall\n",
    "    P[:,:,:,yr-1951] = myf['P'][:365,:,:]\n",
    "    P_band[:,:,:,yr-1951] = myf['P_band1'][:365,:,:] + myf['P_band2'][:365,:,:]\n",
    "    P_local[:,:,:,yr-1951] = myf['P_leftover'][:365,:,:]\n",
    "    \n",
    "    myf.close()\n",
    "    \n",
    "P_tuple = (P,P_band,P_local)\n",
    "P_mean = [ np.mean(P_type, axis=3) for P_type in P_tuple ]"
   ]
  },
  {
   "cell_type": "code",
   "execution_count": null,
   "metadata": {
    "collapsed": false
   },
   "outputs": [
    {
     "name": "stdout",
     "output_type": "stream",
     "text": [
      "(80, 72)\n",
      "(80, 72)\n",
      "(80, 72)\n",
      "(80, 72)\n",
      "(80, 72)\n",
      "(80, 72)\n"
     ]
    }
   ],
   "source": [
    "## PLOTTING - 6-panel climatological figure of banded rainfall fraction for whole\n",
    "## year, and also for different seasons.\n",
    "\n",
    "## arrange for plotting below\n",
    "seasons = [[1,365],[81,120],[121,160],[161,200],[201,273],[274,320]]\n",
    "my_palette = ''\n",
    "\n",
    "\n",
    "## create one big figure behind subpanels\n",
    "fig, axes = plt.subplots(2,3,figsize=(9,7.3), facecolor='w')\n",
    "\n",
    "## lists of the characteristics for each subplot - what column is being plotted, title and labels.\n",
    "#mets = ['M_1','M_2','M_3','M_4','M_5','M_6','M_7','M_8']\n",
    "titles = [\"Full Year\",\"Spring Rains\",\"Pre-Meiyu\",\"Meiyu\",\"Post-Meiyu\",\"Fall Rains\"]\n",
    "#xlabels = ['','','','','','','Day of Year','Day of Year']\n",
    "ylabels = [\"Full year\",\"\",\"\",\"Pre-Meiyu\",\"\",\"\",\"Meiyu\",\"\",\"\",\"Post-Meiyu\",\"\",\"\"]\n",
    "\n",
    "## change x-axis and y-axis tick marks to be correct\n",
    "xtickpos = np.linspace(0,72,10)\n",
    "ytickpos = np.linspace(0,80,11)\n",
    "xticklabels = [\"\",\"107$\\!^\\circ$\",\"\",\"111$\\!^\\circ$\",\"\",\"115$\\!^\\circ$\",\"\",\"119$\\!^\\circ$\",\"\",\"123$\\!^\\circ\\!$E\"]\n",
    "yticklabels = [\"20$\\!^\\circ\\!$N\",\"\",\"24$\\!^\\circ$\",\"\",\"28$\\!^\\circ$\",\"\",\"32$\\!^\\circ$\",\"\",\"36$\\!^\\circ$\",\"\",\"40$\\!^\\circ\\!$N\"]\n",
    "\n",
    "\n",
    "for ax, season, title, ylabel in zip(axes.reshape(-1), seasons, titles, ylabels):\n",
    "    plt.sca(ax)\n",
    "    total_mean = np.mean(P_mean[0][season[0]-1:season[1],:,:], axis=0)\n",
    "    banded_mean = np.mean(P_mean[1][season[0]-1:season[1],:,:], axis=0)\n",
    "    banded_frac = 100*banded_mean/total_mean\n",
    "    print(banded_frac.shape)\n",
    "\n",
    "    im = plt.imshow(banded_frac, origin = 'lower', vmax=100, vmin=0, cmap = 'RdYlBu_r')\n",
    "    ax.set_title(title, fontsize=18)\n",
    "    ax.set_xticks(xtickpos)\n",
    "    ax.set_xticklabels(xticklabels)\n",
    "    ax.set_yticks(ytickpos)\n",
    "    ax.set_yticklabels(yticklabels)\n",
    "\n",
    "fig.subplots_adjust(right=0.94)\n",
    "cbar_ax = fig.add_axes([0.97, 0.2, 0.03, 0.6])\n",
    "cb = fig.colorbar(im, cax=cbar_ax, orientation='vertical')\n",
    "\n",
    "st = plt.suptitle(\"Climatological Banded Rainfall Fraction (%)\", size = 18, y=.97, x=.55)"
   ]
  },
  {
   "cell_type": "code",
   "execution_count": null,
   "metadata": {
    "collapsed": true
   },
   "outputs": [],
   "source": [
    "## SAVE COPIES OF FIGURE TO MANUSCRIPT AND ANALYSIS DIRECTORIES\n",
    "figure_name = \"banded_frac_climo.pdf\"\n",
    "\n",
    "savepath = \"/Users/Siwen/Desktop/RDA/Figures/\" + figure_name\n",
    "\n",
    "if os.path.exists(savepath):\n",
    "    print(\"Overwriting existing version of file in RDA manuscript directory...\")\n",
    "    os.remove(savepath)\n",
    "    \n",
    "plt.savefig(savepath)\n",
    "    \n",
    "copypath = \"/Users/Siwen/RDA/Figures/\" + figure_name\n",
    "    \n",
    "if os.path.exists(copypath):\n",
    "    print(\"Overwriting existing version of file in RDA Python directory...\")\n",
    "    os.remove(copypath)\n",
    "    \n",
    "copy(savepath,copypath)\n",
    "\n",
    "plt.savefig(savepath, bbox_inches='tight')"
   ]
  }
 ],
 "metadata": {
  "kernelspec": {
   "display_name": "Python 3",
   "language": "python",
   "name": "python3"
  },
  "language_info": {
   "codemirror_mode": {
    "name": "ipython",
    "version": 3
   },
   "file_extension": ".py",
   "mimetype": "text/x-python",
   "name": "python",
   "nbconvert_exporter": "python",
   "pygments_lexer": "ipython3",
   "version": "3.5.2"
  }
 },
 "nbformat": 4,
 "nbformat_minor": 0
}
