{
 "cells": [
  {
   "cell_type": "markdown",
   "metadata": {},
   "source": [
    "Combines two previously created figures for the purposes of PNAS submission.\n",
    "\n",
    "a) Total rainfall\n",
    "b) Rainband frequency\n",
    "c) Mean rainband intensity\n",
    "d) Freq and Intensity curves"
   ]
  },
  {
   "cell_type": "code",
   "execution_count": 2,
   "metadata": {
    "collapsed": false
   },
   "outputs": [],
   "source": [
    "import brewer2mpl\n",
    "import itertools\n",
    "import matplotlib.pyplot as plt\n",
    "import numpy as np\n",
    "import time\n",
    "import os\n",
    "import netCDF4 as nc\n",
    "import matplotlib.pyplot as plt\n",
    "%matplotlib inline\n",
    "%load_ext autotime\n",
    "from bootstrap import *\n",
    "import numpy.ma as ma\n",
    "from chr_matplotlib import remappedColorMap\n",
    "from shutil import copy\n",
    "\n",
    "from jd_matplotlib_tools import add_double_calendar_axis, mark_time_periods"
   ]
  },
  {
   "cell_type": "code",
   "execution_count": 3,
   "metadata": {
    "collapsed": false
   },
   "outputs": [
    {
     "name": "stdout",
     "output_type": "stream",
     "text": [
      "time: 774 µs\n"
     ]
    }
   ],
   "source": [
    "ferretpath = \"/Users/Siwen/Desktop/ferret/bin\"\n",
    "rdapath = \"APHRO_ZH_front_025deg_V1101.\""
   ]
  },
  {
   "cell_type": "code",
   "execution_count": 4,
   "metadata": {
    "collapsed": false
   },
   "outputs": [
    {
     "name": "stdout",
     "output_type": "stream",
     "text": [
      "/Users/Siwen/Desktop/ferret/bin/APHRO_ZH_front_025deg_V1101.1951.nc\n",
      "/Users/Siwen/Desktop/ferret/bin/APHRO_ZH_front_025deg_V1101.1952.nc\n",
      "/Users/Siwen/Desktop/ferret/bin/APHRO_ZH_front_025deg_V1101.1953.nc\n",
      "/Users/Siwen/Desktop/ferret/bin/APHRO_ZH_front_025deg_V1101.1954.nc\n",
      "/Users/Siwen/Desktop/ferret/bin/APHRO_ZH_front_025deg_V1101.1955.nc\n",
      "/Users/Siwen/Desktop/ferret/bin/APHRO_ZH_front_025deg_V1101.1956.nc\n",
      "/Users/Siwen/Desktop/ferret/bin/APHRO_ZH_front_025deg_V1101.1957.nc\n",
      "/Users/Siwen/Desktop/ferret/bin/APHRO_ZH_front_025deg_V1101.1958.nc\n",
      "/Users/Siwen/Desktop/ferret/bin/APHRO_ZH_front_025deg_V1101.1959.nc\n",
      "/Users/Siwen/Desktop/ferret/bin/APHRO_ZH_front_025deg_V1101.1960.nc\n",
      "/Users/Siwen/Desktop/ferret/bin/APHRO_ZH_front_025deg_V1101.1961.nc\n",
      "/Users/Siwen/Desktop/ferret/bin/APHRO_ZH_front_025deg_V1101.1962.nc\n",
      "/Users/Siwen/Desktop/ferret/bin/APHRO_ZH_front_025deg_V1101.1963.nc\n",
      "/Users/Siwen/Desktop/ferret/bin/APHRO_ZH_front_025deg_V1101.1964.nc\n",
      "/Users/Siwen/Desktop/ferret/bin/APHRO_ZH_front_025deg_V1101.1965.nc\n",
      "/Users/Siwen/Desktop/ferret/bin/APHRO_ZH_front_025deg_V1101.1966.nc\n",
      "/Users/Siwen/Desktop/ferret/bin/APHRO_ZH_front_025deg_V1101.1967.nc\n",
      "/Users/Siwen/Desktop/ferret/bin/APHRO_ZH_front_025deg_V1101.1968.nc\n",
      "/Users/Siwen/Desktop/ferret/bin/APHRO_ZH_front_025deg_V1101.1969.nc\n",
      "/Users/Siwen/Desktop/ferret/bin/APHRO_ZH_front_025deg_V1101.1970.nc\n",
      "/Users/Siwen/Desktop/ferret/bin/APHRO_ZH_front_025deg_V1101.1971.nc\n",
      "/Users/Siwen/Desktop/ferret/bin/APHRO_ZH_front_025deg_V1101.1972.nc\n",
      "/Users/Siwen/Desktop/ferret/bin/APHRO_ZH_front_025deg_V1101.1973.nc\n",
      "/Users/Siwen/Desktop/ferret/bin/APHRO_ZH_front_025deg_V1101.1974.nc\n",
      "/Users/Siwen/Desktop/ferret/bin/APHRO_ZH_front_025deg_V1101.1975.nc\n",
      "/Users/Siwen/Desktop/ferret/bin/APHRO_ZH_front_025deg_V1101.1976.nc\n",
      "/Users/Siwen/Desktop/ferret/bin/APHRO_ZH_front_025deg_V1101.1977.nc\n",
      "/Users/Siwen/Desktop/ferret/bin/APHRO_ZH_front_025deg_V1101.1978.nc\n",
      "/Users/Siwen/Desktop/ferret/bin/APHRO_ZH_front_025deg_V1101.1979.nc\n",
      "/Users/Siwen/Desktop/ferret/bin/APHRO_ZH_front_025deg_V1101.1980.nc\n",
      "/Users/Siwen/Desktop/ferret/bin/APHRO_ZH_front_025deg_V1101.1981.nc\n",
      "/Users/Siwen/Desktop/ferret/bin/APHRO_ZH_front_025deg_V1101.1982.nc\n",
      "/Users/Siwen/Desktop/ferret/bin/APHRO_ZH_front_025deg_V1101.1983.nc\n",
      "/Users/Siwen/Desktop/ferret/bin/APHRO_ZH_front_025deg_V1101.1984.nc\n",
      "/Users/Siwen/Desktop/ferret/bin/APHRO_ZH_front_025deg_V1101.1985.nc\n",
      "/Users/Siwen/Desktop/ferret/bin/APHRO_ZH_front_025deg_V1101.1986.nc\n",
      "/Users/Siwen/Desktop/ferret/bin/APHRO_ZH_front_025deg_V1101.1987.nc\n",
      "/Users/Siwen/Desktop/ferret/bin/APHRO_ZH_front_025deg_V1101.1988.nc\n",
      "/Users/Siwen/Desktop/ferret/bin/APHRO_ZH_front_025deg_V1101.1989.nc\n",
      "/Users/Siwen/Desktop/ferret/bin/APHRO_ZH_front_025deg_V1101.1990.nc\n",
      "/Users/Siwen/Desktop/ferret/bin/APHRO_ZH_front_025deg_V1101.1991.nc\n",
      "/Users/Siwen/Desktop/ferret/bin/APHRO_ZH_front_025deg_V1101.1992.nc\n",
      "/Users/Siwen/Desktop/ferret/bin/APHRO_ZH_front_025deg_V1101.1993.nc\n",
      "/Users/Siwen/Desktop/ferret/bin/APHRO_ZH_front_025deg_V1101.1994.nc\n",
      "/Users/Siwen/Desktop/ferret/bin/APHRO_ZH_front_025deg_V1101.1995.nc\n",
      "/Users/Siwen/Desktop/ferret/bin/APHRO_ZH_front_025deg_V1101.1996.nc\n",
      "/Users/Siwen/Desktop/ferret/bin/APHRO_ZH_front_025deg_V1101.1997.nc\n",
      "/Users/Siwen/Desktop/ferret/bin/APHRO_ZH_front_025deg_V1101.1998.nc\n",
      "/Users/Siwen/Desktop/ferret/bin/APHRO_ZH_front_025deg_V1101.1999.nc\n",
      "/Users/Siwen/Desktop/ferret/bin/APHRO_ZH_front_025deg_V1101.2000.nc\n",
      "/Users/Siwen/Desktop/ferret/bin/APHRO_ZH_front_025deg_V1101.2001.nc\n",
      "/Users/Siwen/Desktop/ferret/bin/APHRO_ZH_front_025deg_V1101.2002.nc\n",
      "/Users/Siwen/Desktop/ferret/bin/APHRO_ZH_front_025deg_V1101.2003.nc\n",
      "/Users/Siwen/Desktop/ferret/bin/APHRO_ZH_front_025deg_V1101.2004.nc\n",
      "/Users/Siwen/Desktop/ferret/bin/APHRO_ZH_front_025deg_V1101.2005.nc\n",
      "/Users/Siwen/Desktop/ferret/bin/APHRO_ZH_front_025deg_V1101.2006.nc\n",
      "/Users/Siwen/Desktop/ferret/bin/APHRO_ZH_front_025deg_V1101.2007.nc\n",
      "time: 5 s\n"
     ]
    }
   ],
   "source": [
    "## start by loading all precipitation data for each year.\n",
    "P = np.zeros((365,80,72,57))\n",
    "\n",
    "for yr in range(1951,2008):\n",
    "    \n",
    "    #Build filename\n",
    "    filename = ferretpath + '/' + rdapath + str(yr) + '.nc'\n",
    "    print(filename),\n",
    "    myf = nc.Dataset(filename, 'r')\n",
    "    \n",
    "    #Obtain fraction of different types of rainfall\n",
    "    P[:,:,:,yr-1951] = myf['P'][:365,:,:]\n",
    "    myf.close()\n",
    "    \n",
    "P_mean = np.nanmean(P, axis=(2,3))"
   ]
  },
  {
   "cell_type": "code",
   "execution_count": 5,
   "metadata": {
    "collapsed": false
   },
   "outputs": [
    {
     "name": "stdout",
     "output_type": "stream",
     "text": [
      "time: 6.11 ms\n"
     ]
    }
   ],
   "source": [
    "def smooth(P,dayrange,latrange):\n",
    "    Psmooth=np.zeros(P.shape)\n",
    "    \n",
    "    ll=int((dayrange-1)/2)\n",
    "    yy=int((latrange-1)/2)\n",
    "    \n",
    "    days = P.shape[0]\n",
    "    lats = P.shape[1]\n",
    "    \n",
    "    for d in range(days):\n",
    "        for j in range(lats):\n",
    "            \n",
    "            Psample = P.take(range(d-ll,d+ll+1), mode='wrap', axis=0)\n",
    "            Ps = Psample[:,max(0,j-yy):min(days,j+yy+1)]\n",
    "            Psmooth[d,j] = np.mean(np.mean(Ps))\n",
    "    \n",
    "    return Psmooth"
   ]
  },
  {
   "cell_type": "code",
   "execution_count": 6,
   "metadata": {
    "collapsed": false
   },
   "outputs": [
    {
     "name": "stdout",
     "output_type": "stream",
     "text": [
      "time: 753 ms\n"
     ]
    }
   ],
   "source": [
    "## SMOOTHING ##\n",
    "#smooth out the decadal precipitation means\n",
    "#but, no latitudinal smoothing since rainfall already effectively smoothed in latitude\n",
    "daysmth = 15\n",
    "latsmth = 0\n",
    "\n",
    "P_smth = smooth(P_mean,daysmth,latsmth)"
   ]
  },
  {
   "cell_type": "code",
   "execution_count": 7,
   "metadata": {
    "collapsed": false
   },
   "outputs": [
    {
     "name": "stdout",
     "output_type": "stream",
     "text": [
      "51\n",
      "07\n",
      "time: 3.34 ms\n"
     ]
    }
   ],
   "source": [
    "## CLIMATOLOGY PLOT ##\n",
    "\n",
    "## LOAD FROM NETCDF ##\n",
    "ferretdir = \"/Users/Siwen/Desktop/Ferret/bin/\"\n",
    "\n",
    "#bounding years for climatology\n",
    "yb=1951 \n",
    "ye=2007\n",
    "\n",
    "#load 57-year climatology\n",
    "yb_last2= str(yb-1900)\n",
    "print(yb_last2)\n",
    "ye_last2= str(\"{0:0=2d}\".format((ye-1900)%100))\n",
    "print(ye_last2)"
   ]
  },
  {
   "cell_type": "code",
   "execution_count": 8,
   "metadata": {
    "collapsed": false
   },
   "outputs": [
    {
     "ename": "IndexError",
     "evalue": "freq_smth_5107 not found in /",
     "output_type": "error",
     "traceback": [
      "\u001b[0;31m---------------------------------------------------------------------------\u001b[0m",
      "\u001b[0;31mIndexError\u001b[0m                                Traceback (most recent call last)",
      "\u001b[0;32m<ipython-input-8-3d5d1efcf288>\u001b[0m in \u001b[0;36m<module>\u001b[0;34m()\u001b[0m\n\u001b[1;32m      7\u001b[0m \u001b[0mfreq_climo\u001b[0m \u001b[0;34m=\u001b[0m \u001b[0mfreq_climo_netcdf\u001b[0m\u001b[0;34m[\u001b[0m\u001b[0;34m'lat_hov_smth_'\u001b[0m \u001b[0;34m+\u001b[0m \u001b[0myb_last2\u001b[0m \u001b[0;34m+\u001b[0m \u001b[0mye_last2\u001b[0m\u001b[0;34m]\u001b[0m\u001b[0;34m[\u001b[0m\u001b[0;34m:\u001b[0m\u001b[0;34m]\u001b[0m\u001b[0;34m\u001b[0m\u001b[0m\n\u001b[1;32m      8\u001b[0m \u001b[0;34m\u001b[0m\u001b[0m\n\u001b[0;32m----> 9\u001b[0;31m \u001b[0mfreq_climo_daily\u001b[0m \u001b[0;34m=\u001b[0m \u001b[0mfreq_climo_netcdf\u001b[0m\u001b[0;34m[\u001b[0m\u001b[0;34m'freq_smth_'\u001b[0m \u001b[0;34m+\u001b[0m \u001b[0myb_last2\u001b[0m \u001b[0;34m+\u001b[0m \u001b[0mye_last2\u001b[0m\u001b[0;34m]\u001b[0m\u001b[0;34m[\u001b[0m\u001b[0;34m:\u001b[0m\u001b[0;34m]\u001b[0m\u001b[0;34m\u001b[0m\u001b[0m\n\u001b[0m\u001b[1;32m     10\u001b[0m \u001b[0mfreq_climo_daily_ub\u001b[0m \u001b[0;34m=\u001b[0m \u001b[0mfreq_climo_netcdf\u001b[0m\u001b[0;34m[\u001b[0m\u001b[0;34m'freq_smth_ub_'\u001b[0m \u001b[0;34m+\u001b[0m \u001b[0myb_last2\u001b[0m \u001b[0;34m+\u001b[0m \u001b[0mye_last2\u001b[0m\u001b[0;34m]\u001b[0m\u001b[0;34m[\u001b[0m\u001b[0;34m:\u001b[0m\u001b[0;34m]\u001b[0m\u001b[0;34m\u001b[0m\u001b[0m\n\u001b[1;32m     11\u001b[0m \u001b[0mfreq_climo_daily_lb\u001b[0m \u001b[0;34m=\u001b[0m \u001b[0mfreq_climo_netcdf\u001b[0m\u001b[0;34m[\u001b[0m\u001b[0;34m'freq_smth_lb_'\u001b[0m \u001b[0;34m+\u001b[0m \u001b[0myb_last2\u001b[0m \u001b[0;34m+\u001b[0m \u001b[0mye_last2\u001b[0m\u001b[0;34m]\u001b[0m\u001b[0;34m[\u001b[0m\u001b[0;34m:\u001b[0m\u001b[0;34m]\u001b[0m\u001b[0;34m\u001b[0m\u001b[0m\n",
      "\u001b[0;32mnetCDF4/_netCDF4.pyx\u001b[0m in \u001b[0;36mnetCDF4._netCDF4.Dataset.__getitem__ (netCDF4/_netCDF4.c:14923)\u001b[0;34m()\u001b[0m\n",
      "\u001b[0;31mIndexError\u001b[0m: freq_smth_5107 not found in /"
     ]
    },
    {
     "name": "stdout",
     "output_type": "stream",
     "text": [
      "time: 43.9 ms\n"
     ]
    }
   ],
   "source": [
    "## LOAD FREQUENCY HOVMOLLER ##\n",
    "loadfile = \"RDA_freq_hov\"\n",
    "loadname = ferretdir + loadfile + '.nc'\n",
    "\n",
    "#import from netCDF file\n",
    "freq_climo_netcdf = nc.Dataset(loadname, \"r\")\n",
    "freq_climo = freq_climo_netcdf['lat_hov_smth_' + yb_last2 + ye_last2][:]\n",
    "\n",
    "freq_climo_daily = freq_climo_netcdf['freq_smth_' + yb_last2 + ye_last2][:]\n",
    "freq_climo_daily_ub = freq_climo_netcdf['freq_smth_ub_' + yb_last2 + ye_last2][:]\n",
    "freq_climo_daily_lb = freq_climo_netcdf['freq_smth_lb_' + yb_last2 + ye_last2][:]\n",
    "\n",
    "\n",
    "#close it\n",
    "freq_climo_netcdf.close()"
   ]
  },
  {
   "cell_type": "code",
   "execution_count": null,
   "metadata": {
    "collapsed": false
   },
   "outputs": [],
   "source": [
    "## LOAD INTENSITY HOVMOLLER CLIMATOLOGY ##\n",
    "loadfile = \"RDA_int_climo\"\n",
    "loadname = ferretdir + loadfile + '.nc'\n",
    "\n",
    "#import from netCDF file and load 57-year climatology\n",
    "int_climo_netcdf = nc.Dataset(loadname, \"r\")\n",
    "int_climo = int_climo_netcdf['int_mean_' + yb_last2 + ye_last2][:]\n",
    "\n",
    "#load daily mean for all latitudes\n",
    "int_climo_daily = int_climo_netcdf['int_climo_mean'][:]\n",
    "int_climo_daily_lb =  int_climo_netcdf['int_climo_lb'][:]\n",
    "int_climo_daily_ub =  int_climo_netcdf['int_climo_ub'][:]\n",
    "\n",
    "\n",
    "#close it\n",
    "int_climo_netcdf.close()\n"
   ]
  },
  {
   "cell_type": "code",
   "execution_count": null,
   "metadata": {
    "collapsed": false
   },
   "outputs": [],
   "source": [
    "## DEFINE TIME PERIODS OF INTEREST\n",
    "time_periods = [[80.5,120.5],[120.5,160.5],[160.5,200.5],[200.5,273.5],[273.5,320.5]]\n",
    "\n",
    "bmap1 = brewer2mpl.get_map('Set1', 'qualitative', 7)\n",
    "colors = bmap1.mpl_colors\n"
   ]
  },
  {
   "cell_type": "code",
   "execution_count": null,
   "metadata": {
    "collapsed": false
   },
   "outputs": [],
   "source": [
    "## CLIMATOLOGY PLOT ##\n",
    "\n",
    "fig, ax = plt.subplots(figsize=(11,8))\n",
    "ax.set_title(\"Climatology, 1951-2007\", fontsize=16, y = 1.08, x=.43)\n",
    "mypalette = 'RdYlBu_r'\n",
    "ax.set_axis_off()\n",
    "\n",
    "cbpad = .01 #default color bar padding.\n",
    "\n",
    "## Rainfall climatology\n",
    "ax1 = fig.add_subplot(4,1,1)\n",
    "plot1 = ax1.pcolormesh(P_smth.T, cmap = mypalette, vmin = 0, vmax = 10); \n",
    "ax1.set_title(\"a) Mean Total Rainfall (mm day$^{-1}$)\", fontsize=16, y=1.12, loc = 'left')\n",
    "plt.ylabel('Latitude ($^\\circ\\!$N)', fontsize=12, labelpad=0)\n",
    "plt.yticks(np.linspace(0,80,6),np.linspace(20,40,6).astype(int))\n",
    "\n",
    "cbar1 = plt.colorbar(plot1, pad=cbpad)\n",
    "\n",
    "add_double_calendar_axis()\n",
    "mark_time_periods(time_periods, numbers = 'yes')\n",
    "\n",
    "\n",
    "## Frequency climatology\n",
    "ax2 = fig.add_subplot(4,1,2)\n",
    "plot2 = ax2.pcolormesh(100*freq_climo[:,1:21].T, cmap = mypalette); \n",
    "plt.ylabel('Latitude ($^\\circ\\!$N)', fontsize=12, labelpad=0)\n",
    "plt.yticks(np.linspace(0,20,6),np.linspace(20,40,6).astype(int))\n",
    "\n",
    "cbar2 = plt.colorbar(plot2, pad=cbpad)\n",
    "cbar2.set_ticks(np.linspace(0, 8, 9))\n",
    "\n",
    "ax2.set_title(\"b) Probability of rainband centered at given latitude (%)\", fontsize=16, y=1.12, loc = 'left')\n",
    "\n",
    "add_double_calendar_axis()\n",
    "mark_time_periods(time_periods, numbers = 'yes')\n",
    "\n",
    "\n",
    "## Intensity climatology\n",
    "ax3 = fig.add_subplot(4,1,3)\n",
    "plot3 = ax3.pcolormesh(int_climo[:,1:21].T, cmap = mypalette); \n",
    "plt.ylabel('Latitude ($^\\circ\\!$N)', fontsize=12, labelpad=0)\n",
    "plt.yticks(np.linspace(0,20,6),np.linspace(20,40,6).astype(int))\n",
    "\n",
    "cbar3 = plt.colorbar(plot3, pad=cbpad)\n",
    "ax3.set_title(\"c) Mean rainband intensity (mm day$^{-1}$)\", fontsize=16, y=1.12, loc = 'left')\n",
    "\n",
    "add_double_calendar_axis()\n",
    "mark_time_periods(time_periods, numbers = 'yes')\n",
    "\n",
    "\n",
    "## Daily climo (panel d)\n",
    "ax4a = fig.add_subplot(4,1,4)\n",
    "plot4a = ax4a.plot(100*freq_climo_daily, color=colors[1], linewidth = 2, label = 'Frequency') \n",
    "plt.yticks(np.linspace(0,100,11),[0,\"\",20,\"\",40,\"\",60,\"\",80,\"\",100])\n",
    "ax4a.yaxis.tick_left()\n",
    "ax4a.yaxis.set_label_position(\"left\")\n",
    "plt.ylabel('Frequency (%)', fontsize=12, labelpad=0, color = colors[1])\n",
    "ax4a.tick_params(axis='y', colors=colors[1])\n",
    "\n",
    "## overlay second line with same axis\n",
    "ax4b = fig.add_subplot(4,1,4, sharex=ax4a, frameon=False)\n",
    "plot4b = ax4b.plot(int_climo_daily, color = colors[0], linewidth = 2, label = 'Intensity')\n",
    "\n",
    "ax4b.yaxis.tick_right()\n",
    "ax4b.yaxis.set_label_position(\"right\")\n",
    "plt.ylabel(\"Intensity (mm/day$^{-1}$)\", color = colors[0], labelpad=0)\n",
    "plt.yticks(np.linspace(14,30,9),[14,\"\",18,\"\",22,\"\",26,\"\",30])\n",
    "ax4b.tick_params(axis='y', colors=colors[0])\n",
    "\n",
    "## set subplot title\n",
    "ax4a.set_title(\"d) Mean rainband frequency and intensity (15-day mean)\", fontsize=16, y=1.12, loc = 'left')\n",
    "\n",
    "add_double_calendar_axis()\n",
    "\n",
    "## reset subpanel positioning\n",
    "plt.tight_layout(pad=0, w_pad=0, h_pad=0)\n",
    "\n",
    "#tweak width of subpanel d\n",
    "pos3 = ax3.get_position() # get the original position \n",
    "pos4_old = ax4a.get_position() # get the original position \n",
    "pos4_new = [pos4_old.x0, pos4_old.y0, pos3.width, pos4_old.height] \n",
    "ax4a.set_position(pos4_new) # set a new position\n",
    "ax4b.set_position(pos4_new)\n",
    "\n",
    "#rescale all axes in panel d\n",
    "axx = fig.get_axes()\n",
    "axx[-1].set_position(pos4_new)\n",
    "axx[-2].set_position(pos4_new)\n",
    "\n",
    "#add time periods to panel d\n",
    "mark_time_periods(time_periods, numbers = 'yes')\n",
    "plt.text(.01, 1.04, 'Day #', transform=ax4a.transAxes, size=12)\n",
    "\n",
    "for i, p in enumerate(time_periods):\n",
    "    plt.text((p[0]+7)/365, .95, i+1, transform=ax4a.transAxes, fontsize=14, fontweight = 'bold', verticalalignment='top')\n",
    "    \n",
    "lns = plot4a[0], plot4b[0]\n",
    "labs = [l.get_label() for l in lns]\n",
    "plt.legend(lns, labs, loc=0, fontsize=10)\n",
    "\n",
    "\n",
    "\n",
    "## SAVE COPY TO MANUSCRIPT AND ANALYSIS DIRECTORIES\n",
    "figure_name = \"PNAS_climo.pdf\"\n",
    "\n",
    "savepath = \"/Users/Siwen/Desktop/RDA/Figures/\" + figure_name\n",
    "\n",
    "if os.path.exists(savepath):\n",
    "    print(\"Overwriting existing version of file in RDA manuscript directory...\")\n",
    "    os.remove(savepath)\n",
    "\n",
    "plt.savefig(savepath,bbox_inches='tight')\n",
    "    \n",
    "copypath = \"/Users/Siwen/RDA/Figures/\" + figure_name\n",
    "    \n",
    "if os.path.exists(copypath):\n",
    "    print(\"Overwriting existing version of file in RDA Python directory...\")\n",
    "    os.remove(copypath)\n",
    "    \n",
    "copy(savepath,copypath)\n"
   ]
  }
 ],
 "metadata": {
  "kernelspec": {
   "display_name": "Python 3",
   "language": "python",
   "name": "python3"
  },
  "language_info": {
   "codemirror_mode": {
    "name": "ipython",
    "version": 3
   },
   "file_extension": ".py",
   "mimetype": "text/x-python",
   "name": "python",
   "nbconvert_exporter": "python",
   "pygments_lexer": "ipython3",
   "version": "3.6.0"
  }
 },
 "nbformat": 4,
 "nbformat_minor": 0
}
