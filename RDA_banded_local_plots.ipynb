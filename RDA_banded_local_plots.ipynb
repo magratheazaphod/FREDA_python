{
 "cells": [
  {
   "cell_type": "markdown",
   "metadata": {},
   "source": [
    "### Rewriting code from RDA_type_seasonal.ipynb using some of the tricks I've learned"
   ]
  },
  {
   "cell_type": "code",
   "execution_count": 1,
   "metadata": {
    "collapsed": true
   },
   "outputs": [],
   "source": [
    "import netCDF4 as nc\n",
    "import numpy as np\n",
    "import time\n",
    "import os"
   ]
  },
  {
   "cell_type": "code",
   "execution_count": 2,
   "metadata": {
    "collapsed": true
   },
   "outputs": [],
   "source": [
    "ferretpath = \"/Users/Siwen/Desktop/ferret/bin\"\n",
    "rdapath = \"APHRO_ZH_front_025deg_V1101.\""
   ]
  },
  {
   "cell_type": "code",
   "execution_count": 3,
   "metadata": {
    "collapsed": false
   },
   "outputs": [],
   "source": [
    "## year = 2007\n",
    "## ff = filename = ferretpath + '/' + rdapath + str(year) + '.nc'\n",
    "## tst = nc.Dataset(ff, 'r')\n",
    "## tst.variables"
   ]
  },
  {
   "cell_type": "code",
   "execution_count": 4,
   "metadata": {
    "collapsed": false
   },
   "outputs": [
    {
     "name": "stdout",
     "output_type": "stream",
     "text": [
      "/Users/Siwen/Desktop/ferret/bin/APHRO_ZH_front_025deg_V1101.1951.nc\n",
      "/Users/Siwen/Desktop/ferret/bin/APHRO_ZH_front_025deg_V1101.1952.nc\n",
      "/Users/Siwen/Desktop/ferret/bin/APHRO_ZH_front_025deg_V1101.1953.nc\n",
      "/Users/Siwen/Desktop/ferret/bin/APHRO_ZH_front_025deg_V1101.1954.nc\n",
      "/Users/Siwen/Desktop/ferret/bin/APHRO_ZH_front_025deg_V1101.1955.nc\n",
      "/Users/Siwen/Desktop/ferret/bin/APHRO_ZH_front_025deg_V1101.1956.nc\n",
      "/Users/Siwen/Desktop/ferret/bin/APHRO_ZH_front_025deg_V1101.1957.nc\n",
      "/Users/Siwen/Desktop/ferret/bin/APHRO_ZH_front_025deg_V1101.1958.nc\n",
      "/Users/Siwen/Desktop/ferret/bin/APHRO_ZH_front_025deg_V1101.1959.nc\n",
      "/Users/Siwen/Desktop/ferret/bin/APHRO_ZH_front_025deg_V1101.1960.nc\n",
      "/Users/Siwen/Desktop/ferret/bin/APHRO_ZH_front_025deg_V1101.1961.nc\n",
      "/Users/Siwen/Desktop/ferret/bin/APHRO_ZH_front_025deg_V1101.1962.nc\n",
      "/Users/Siwen/Desktop/ferret/bin/APHRO_ZH_front_025deg_V1101.1963.nc\n",
      "/Users/Siwen/Desktop/ferret/bin/APHRO_ZH_front_025deg_V1101.1964.nc\n",
      "/Users/Siwen/Desktop/ferret/bin/APHRO_ZH_front_025deg_V1101.1965.nc\n",
      "/Users/Siwen/Desktop/ferret/bin/APHRO_ZH_front_025deg_V1101.1966.nc\n",
      "/Users/Siwen/Desktop/ferret/bin/APHRO_ZH_front_025deg_V1101.1967.nc\n",
      "/Users/Siwen/Desktop/ferret/bin/APHRO_ZH_front_025deg_V1101.1968.nc\n",
      "/Users/Siwen/Desktop/ferret/bin/APHRO_ZH_front_025deg_V1101.1969.nc\n",
      "/Users/Siwen/Desktop/ferret/bin/APHRO_ZH_front_025deg_V1101.1970.nc\n",
      "/Users/Siwen/Desktop/ferret/bin/APHRO_ZH_front_025deg_V1101.1971.nc\n",
      "/Users/Siwen/Desktop/ferret/bin/APHRO_ZH_front_025deg_V1101.1972.nc\n",
      "/Users/Siwen/Desktop/ferret/bin/APHRO_ZH_front_025deg_V1101.1973.nc\n",
      "/Users/Siwen/Desktop/ferret/bin/APHRO_ZH_front_025deg_V1101.1974.nc\n",
      "/Users/Siwen/Desktop/ferret/bin/APHRO_ZH_front_025deg_V1101.1975.nc\n",
      "/Users/Siwen/Desktop/ferret/bin/APHRO_ZH_front_025deg_V1101.1976.nc\n",
      "/Users/Siwen/Desktop/ferret/bin/APHRO_ZH_front_025deg_V1101.1977.nc\n",
      "/Users/Siwen/Desktop/ferret/bin/APHRO_ZH_front_025deg_V1101.1978.nc\n",
      "/Users/Siwen/Desktop/ferret/bin/APHRO_ZH_front_025deg_V1101.1979.nc\n",
      "/Users/Siwen/Desktop/ferret/bin/APHRO_ZH_front_025deg_V1101.1980.nc\n",
      "/Users/Siwen/Desktop/ferret/bin/APHRO_ZH_front_025deg_V1101.1981.nc\n",
      "/Users/Siwen/Desktop/ferret/bin/APHRO_ZH_front_025deg_V1101.1982.nc\n",
      "/Users/Siwen/Desktop/ferret/bin/APHRO_ZH_front_025deg_V1101.1983.nc\n",
      "/Users/Siwen/Desktop/ferret/bin/APHRO_ZH_front_025deg_V1101.1984.nc\n",
      "/Users/Siwen/Desktop/ferret/bin/APHRO_ZH_front_025deg_V1101.1985.nc\n",
      "/Users/Siwen/Desktop/ferret/bin/APHRO_ZH_front_025deg_V1101.1986.nc\n",
      "/Users/Siwen/Desktop/ferret/bin/APHRO_ZH_front_025deg_V1101.1987.nc\n",
      "/Users/Siwen/Desktop/ferret/bin/APHRO_ZH_front_025deg_V1101.1988.nc\n",
      "/Users/Siwen/Desktop/ferret/bin/APHRO_ZH_front_025deg_V1101.1989.nc\n",
      "/Users/Siwen/Desktop/ferret/bin/APHRO_ZH_front_025deg_V1101.1990.nc\n",
      "/Users/Siwen/Desktop/ferret/bin/APHRO_ZH_front_025deg_V1101.1991.nc\n",
      "/Users/Siwen/Desktop/ferret/bin/APHRO_ZH_front_025deg_V1101.1992.nc\n",
      "/Users/Siwen/Desktop/ferret/bin/APHRO_ZH_front_025deg_V1101.1993.nc\n",
      "/Users/Siwen/Desktop/ferret/bin/APHRO_ZH_front_025deg_V1101.1994.nc\n",
      "/Users/Siwen/Desktop/ferret/bin/APHRO_ZH_front_025deg_V1101.1995.nc\n",
      "/Users/Siwen/Desktop/ferret/bin/APHRO_ZH_front_025deg_V1101.1996.nc\n",
      "/Users/Siwen/Desktop/ferret/bin/APHRO_ZH_front_025deg_V1101.1997.nc\n",
      "/Users/Siwen/Desktop/ferret/bin/APHRO_ZH_front_025deg_V1101.1998.nc\n",
      "/Users/Siwen/Desktop/ferret/bin/APHRO_ZH_front_025deg_V1101.1999.nc\n",
      "/Users/Siwen/Desktop/ferret/bin/APHRO_ZH_front_025deg_V1101.2000.nc\n",
      "/Users/Siwen/Desktop/ferret/bin/APHRO_ZH_front_025deg_V1101.2001.nc\n",
      "/Users/Siwen/Desktop/ferret/bin/APHRO_ZH_front_025deg_V1101.2002.nc\n",
      "/Users/Siwen/Desktop/ferret/bin/APHRO_ZH_front_025deg_V1101.2003.nc\n",
      "/Users/Siwen/Desktop/ferret/bin/APHRO_ZH_front_025deg_V1101.2004.nc\n",
      "/Users/Siwen/Desktop/ferret/bin/APHRO_ZH_front_025deg_V1101.2005.nc\n",
      "/Users/Siwen/Desktop/ferret/bin/APHRO_ZH_front_025deg_V1101.2006.nc\n",
      "/Users/Siwen/Desktop/ferret/bin/APHRO_ZH_front_025deg_V1101.2007.nc\n"
     ]
    }
   ],
   "source": [
    "## start by loading all precipitation data for each year.\n",
    "P = np.zeros((365,80,72,57))\n",
    "P_band = np.zeros((365,80,72,57))\n",
    "P_local = np.zeros((365,80,72,57))\n",
    "\n",
    "for yr in range(1951,2008):\n",
    "    \n",
    "    #Build filename\n",
    "    filename = ferretpath + '/' + rdapath + str(yr) + '.nc'\n",
    "    print(filename),\n",
    "    myf = nc.Dataset(filename, 'r')\n",
    "    \n",
    "    #Obtain fraction of different types of rainfall\n",
    "    P[:,:,:,yr-1951] = myf['P'][:365,:,:]\n",
    "    P_band[:,:,:,yr-1951] = myf['P_band1'][:365,:,:] + myf['P_band2'][:365,:,:]\n",
    "    P_local[:,:,:,yr-1951] = myf['P_leftover'][:365,:,:]\n",
    "    \n",
    "    myf.close()"
   ]
  },
  {
   "cell_type": "code",
   "execution_count": null,
   "metadata": {
    "collapsed": true
   },
   "outputs": [],
   "source": [
    "## PLOTTING - target is an 8-panel figure for each of the different potential metrics.\n",
    "\n",
    "## create one big figure behind subpanels\n",
    "fig, axes = plt.subplots(4,2,figsize=(12,12), facecolor='w')\n",
    "st = plt.suptitle(\"Alternative Rainfall Metrics $M_1-M_8$, 1980-2007 versus 1951-1979\", size = 20)\n",
    "#st.set_font_properties(font1)\n",
    "\n",
    "## lists of the characteristics for each subplot - what column is being plotted, title and labels.\n",
    "mets = ['M_1','M_2','M_3','M_4','M_5','M_6','M_7','M_8']\n",
    "titles = [\"$M_1$ - Latitude of Max Rainfall\",\"$M_2$ - Rainfall Centroid Lat\",\"$M_3$ - Intensity of Max Rainfall\",\\\n",
    "          \"$M_4$ - Mean All-China Rainfall\",\"$M_5$ - Mean North China Rainfall\",\"$M_6$ - Mean South China Rainfall\",\\\n",
    "          \"$M_7$ - North China Rainfall Frequency\",\"$M_8$ - South China Rainfall Frequency\"]\n",
    "xlabels = ['','','','','','','Day of Year','Day of Year']\n",
    "ylabels = [\"Latitude ($^{\\circ}$)\",\"Latitude ($^{\\circ}$)\",\"mm day$^{-1}$\",\"mm day$^{-1}$\",\"mm day$^{-1}$\",\\\n",
    "           \"mm day$^{-1}$\",\"Frequency\",\"Frequency\"]\n",
    "\n",
    "## cycle through each set of axes and make correct plot\n",
    "for ax, title, xlabel, ylabel, met in zip(axes.reshape(-1),titles,xlabels,ylabels,mets):\n",
    "    sns.tsplot(data = met_df, ax = ax, value = met, time = 'day', unit = 'year', condition = 'condition1', ci = 95, legend = False, color=colors1)\n",
    "    ax.set_title(title, fontsize=16)\n",
    "    ax.set_xlabel(xlabel, fontsize=13, labelpad=0.5)\n",
    "    ax.set_ylabel(ylabel, fontsize=13, labelpad=0.5)\n",
    "    \n",
    "## Custom edits to specific plots that don't look right\n",
    "axes[0,1].set_yticks(np.linspace(27,31,5))\n",
    "axes[3,1].set_ylim([0,1])\n",
    "\n",
    "## set legend\n",
    "lines = axes[0,0].get_lines()\n",
    "leg = fig.legend(lines, ('1951-1979', '1980-2007'), loc=\"center\", ncol=1, frameon = True, prop={'size': 13},\\\n",
    "                 bbox_to_anchor=[0.52, 0.48])\n",
    "leg.get_frame().set_edgecolor('k')\n",
    "leg.get_frame().set_facecolor('w')\n",
    "\n",
    "##reframe figure\n",
    "plt.tight_layout()\n",
    "st.set_y(0.99)\n",
    "fig.subplots_adjust(top=0.94)"
   ]
  }
 ],
 "metadata": {
  "kernelspec": {
   "display_name": "Python 3",
   "language": "python",
   "name": "python3"
  },
  "language_info": {
   "codemirror_mode": {
    "name": "ipython",
    "version": 3
   },
   "file_extension": ".py",
   "mimetype": "text/x-python",
   "name": "python",
   "nbconvert_exporter": "python",
   "pygments_lexer": "ipython3",
   "version": "3.5.2"
  }
 },
 "nbformat": 4,
 "nbformat_minor": 0
}
