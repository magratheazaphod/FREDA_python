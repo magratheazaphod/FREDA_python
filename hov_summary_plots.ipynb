{
 "cells": [
  {
   "cell_type": "markdown",
   "metadata": {},
   "source": [
    "## Summary Hovmoller Plots\n",
    "The following plots combine the key results from china_rain_diff_fig and RDA_hov_plots_final, taking plots a & b from each one."
   ]
  },
  {
   "cell_type": "code",
   "execution_count": 1,
   "metadata": {
    "collapsed": false
   },
   "outputs": [],
   "source": [
    "import matplotlib.pyplot as plt\n",
    "import numpy as np\n",
    "import time\n",
    "import os\n",
    "import netCDF4 as nc\n",
    "import matplotlib.pyplot as plt\n",
    "%matplotlib notebook\n",
    "%load_ext autotime\n",
    "from bootstrap import *\n",
    "import numpy.ma as ma\n",
    "from chr_matplotlib import remappedColorMap\n",
    "from shutil import copy\n",
    "\n",
    "from jd_matplotlib_tools import add_double_calendar_axis, mark_time_periods"
   ]
  },
  {
   "cell_type": "code",
   "execution_count": 2,
   "metadata": {
    "collapsed": false
   },
   "outputs": [
    {
     "name": "stdout",
     "output_type": "stream",
     "text": [
      "time: 5.76 ms\n"
     ]
    }
   ],
   "source": [
    "ferretpath = \"/Users/Siwen/Desktop/ferret/bin/\"\n",
    "ff = \"Pchina_type_notaiwan.nc\"\n",
    "filename = ferretpath + ff\n",
    "myf = nc.Dataset(filename, 'r')"
   ]
  },
  {
   "cell_type": "code",
   "execution_count": 3,
   "metadata": {
    "collapsed": false
   },
   "outputs": [
    {
     "name": "stdout",
     "output_type": "stream",
     "text": [
      "time: 54.8 ms\n"
     ]
    }
   ],
   "source": [
    "P_total =  myf.variables['Pchina_total'][:]\n",
    "P_band = myf.variables['Pchina_band'][:]\n",
    "P_local = myf.variables['Pchina_local'][:]"
   ]
  },
  {
   "cell_type": "code",
   "execution_count": 4,
   "metadata": {
    "collapsed": false
   },
   "outputs": [
    {
     "name": "stdout",
     "output_type": "stream",
     "text": [
      "time: 22.8 ms\n"
     ]
    }
   ],
   "source": [
    "#years of interest - start and end date, with index starting at 1 out of habit.\n",
    "p1_yr_b = [1,30]\n",
    "p1_yr_e = [29,43]\n",
    "p2_yr_b = [30,44]\n",
    "p2_yr_e = [57,57]\n",
    "\n",
    "P_total_diff = []\n",
    "P_band_diff = []\n",
    "P_local_diff = []\n",
    "\n",
    "#cycle through all time periods of interest and find changes in each type of rainfall b/w periods\n",
    "for p1_b, p1_e, p2_b, p2_e, i in zip(p1_yr_b, p1_yr_e, p2_yr_b, p2_yr_e, np.arange(len(p1_yr_b))): \n",
    "    \n",
    "    P_total_diff.append(np.mean(P_total[:,:,p2_b-1:p2_e], axis=2) - \\\n",
    "                         np.mean(P_total[:,:,p1_b-1:p1_e], axis=2))\n",
    "    P_band_diff.append(np.mean(P_band[:,:,p2_b-1:p2_e], axis=2) \\\n",
    "                       - np.mean(P_band[:,:,p1_b-1:p1_e], axis=2))\n",
    "    P_local_diff.append(np.mean(P_local[:,:,p2_b-1:p2_e], axis=2) \\\n",
    "                        - np.mean(P_local[:,:,p1_b-1:p1_e], axis=2))"
   ]
  },
  {
   "cell_type": "code",
   "execution_count": 5,
   "metadata": {
    "collapsed": false
   },
   "outputs": [
    {
     "name": "stdout",
     "output_type": "stream",
     "text": [
      "time: 8.05 ms\n"
     ]
    }
   ],
   "source": [
    "def smooth(P,dayrange,latrange):\n",
    "    Psmooth=np.zeros(P.shape)\n",
    "    \n",
    "    ll=int((dayrange-1)/2)\n",
    "    yy=int((latrange-1)/2)\n",
    "    \n",
    "    days = P.shape[0]\n",
    "    lats = P.shape[1]\n",
    "    \n",
    "    for d in range(days):\n",
    "        for j in range(lats):\n",
    "            \n",
    "            Psample = P.take(range(d-ll,d+ll+1), mode='wrap', axis=0)\n",
    "            Ps = Psample[:,max(0,j-yy):min(days,j+yy+1)]\n",
    "            Psmooth[d,j] = np.mean(np.mean(Ps))\n",
    "    \n",
    "    return Psmooth"
   ]
  },
  {
   "cell_type": "code",
   "execution_count": 6,
   "metadata": {
    "collapsed": false
   },
   "outputs": [
    {
     "name": "stdout",
     "output_type": "stream",
     "text": [
      "time: 4.08 s\n"
     ]
    }
   ],
   "source": [
    "## SMOOTHING ##\n",
    "#smooth out the decadal precipitation means\n",
    "#but, no latitudinal smoothing since rainfall already effectively smoothed in latitude\n",
    "daysmth = 15\n",
    "latsmth = 0\n",
    "\n",
    "#one line! thank you python!\n",
    "P_total_diff_smth = [ smooth(x,daysmth,latsmth) for x in P_total_diff ]\n",
    "P_band_diff_smth = [ smooth(x,daysmth,latsmth) for x in P_band_diff ]\n",
    "P_local_diff_smth = [ smooth(x,daysmth,latsmth) for x in P_local_diff ]"
   ]
  },
  {
   "cell_type": "code",
   "execution_count": 7,
   "metadata": {
    "collapsed": false
   },
   "outputs": [
    {
     "name": "stdout",
     "output_type": "stream",
     "text": [
      "Data/chinarain_diff_pval_notaiwan_5179_80107_total_2day_2000iter.nc successfully found\n",
      "Data/chinarain_diff_pval_notaiwan_5179_80107_band_2day_2000iter.nc successfully found\n",
      "Data/chinarain_diff_pval_notaiwan_5179_80107_local_2day_2000iter.nc successfully found\n",
      "Data/chinarain_diff_pval_notaiwan_8093_94107_total_2day_2000iter.nc successfully found\n",
      "Data/chinarain_diff_pval_notaiwan_8093_94107_band_2day_2000iter.nc successfully found\n",
      "Data/chinarain_diff_pval_notaiwan_8093_94107_local_2day_2000iter.nc successfully found\n",
      "time: 69.3 ms\n"
     ]
    }
   ],
   "source": [
    "## LOAD COMPUTED P-VALUES ##\n",
    "\n",
    "#which set of sim values are we trying to access?\n",
    "pval_root = 'Data/chinarain_diff_pval_notaiwan_'\n",
    "blklen = 2\n",
    "niter = 2000\n",
    "\n",
    "P_total_diff_pval = []\n",
    "P_band_diff_pval = []\n",
    "P_local_diff_pval = []\n",
    "\n",
    "#cycle through all time periods of interest and find changes in each type of rainfall b/w periods\n",
    "for p1_b, p1_e, p2_b, p2_e, i in zip(p1_yr_b, p1_yr_e, p2_yr_b, p2_yr_e, np.arange(len(p1_yr_b))): \n",
    "    \n",
    "    #LOAD P-VALUES FOR TOTAL RAINFALL\n",
    "    raintype = 'total'\n",
    "    yrs = str(p1_b+50) + str(p1_e+50) + '_' + str(p2_b+50) + str(p2_e+50) + '_'\n",
    "    pval_filename = pval_root + yrs + raintype + '_' + str(blklen) + 'day_' \\\n",
    "        + str(niter) + 'iter.nc'\n",
    "    \n",
    "    if os.path.isfile(pval_filename):\n",
    "        print(pval_filename + ' successfully found')\n",
    "        myf = nc.Dataset(pval_filename, 'r')\n",
    "        P_total_diff_pval.append(myf.variables['pval'][:])\n",
    "        myf.close()\n",
    "        \n",
    "    else:\n",
    "        print(pval_filename + ' does not exist')\n",
    "    \n",
    "    \n",
    "    ##LOAD P-VALUES FOR BANDED RAINFALL\n",
    "    raintype = 'band'\n",
    "    yrs = str(p1_b+50) + str(p1_e+50) + '_' + str(p2_b+50) + str(p2_e+50) + '_'\n",
    "    pval_filename = pval_root + yrs + raintype + '_' + str(blklen) + 'day_' \\\n",
    "        + str(niter) + 'iter.nc'\n",
    "    \n",
    "    if os.path.isfile(pval_filename):\n",
    "        print(pval_filename + ' successfully found')\n",
    "        myf = nc.Dataset(pval_filename, 'r')\n",
    "        P_band_diff_pval.append(myf.variables['pval'][:])\n",
    "        myf.close()\n",
    "        \n",
    "    else:\n",
    "        print(pval_filename + ' does not exist')\n",
    "            \n",
    "    ##LOAD P-VALUES FOR LOCAL RAINFALL\n",
    "    raintype = 'local'\n",
    "    yrs = str(p1_b+50) + str(p1_e+50) + '_' + str(p2_b+50) + str(p2_e+50) + '_'\n",
    "    pval_filename = pval_root + yrs + raintype + '_' + str(blklen) + 'day_' \\\n",
    "        + str(niter) + 'iter.nc'\n",
    "    \n",
    "    if os.path.isfile(pval_filename):\n",
    "        print(pval_filename + ' successfully found')\n",
    "        myf = nc.Dataset(pval_filename, 'r')\n",
    "        P_local_diff_pval.append(myf.variables['pval'][:])\n",
    "        myf.close()\n",
    "        \n",
    "    else:\n",
    "        print(pval_filename + ' does not exist')    \n",
    "        \n",
    "    #P_total_diff.append()\n",
    "    #P_band_diff.append(np.mean(P_band[:,:,p2_b-1:p2_e], axis=2) \\\n",
    "    #P_local_diff.append(np.mean(P_local[:,:,p2_b-1:p2_e], axis=2) \\"
   ]
  },
  {
   "cell_type": "code",
   "execution_count": 8,
   "metadata": {
    "collapsed": false
   },
   "outputs": [
    {
     "name": "stdout",
     "output_type": "stream",
     "text": [
      "time: 17.1 ms\n"
     ]
    }
   ],
   "source": [
    "## CREATE MASKED ARRAYS - only show values that are statistically significant\n",
    "#create two masked arrays - one showing 95% confidence, one showing 99% confidence\n",
    "\n",
    "##two separate for loops: first one creates masks, second one produces masked rainfall.\n",
    "#reason for doing things this way is that masks can then be accessed independently at a later point in time.\n",
    "\n",
    "#not super-pythonic method, but at least it makes it easy to understand.\n",
    "\n",
    "mk_total = [] #storage format will be a LIST of 2-element tuples - each set of tuples is the 95% and 99% mask respectively\n",
    "mk_band = []\n",
    "mk_local = []\n",
    "\n",
    "#set up 95th and 99th percentile masks for each type of rainfall\n",
    "for P_total_diff, P_band_diff, P_local_diff, P_total_pval, P_band_pval, P_local_pval in \\\n",
    "    zip(P_total_diff_smth, P_band_diff_smth, P_local_diff_smth, P_total_diff_pval, P_band_diff_pval, P_local_diff_pval):\n",
    "    \n",
    "    mk_total_95 = abs(P_total_pval-.5) < .475 #95th percentile mask for rainfall changes\n",
    "    mk_total_99 = abs(P_total_pval-.5) < .495 #99th percentile mask for rainfall changes\n",
    "    mk_total.append([mk_total_95, mk_total_99])\n",
    "    \n",
    "    mk_band_95 = abs(P_band_pval-.5) < .475 #95th percentile mask for rainfall changes\n",
    "    mk_band_99 = abs(P_band_pval-.5) < .495 #99th percentile mask for rainfall changes\n",
    "    mk_band.append([mk_band_95, mk_band_99])\n",
    "    \n",
    "    mk_local_95 = abs(P_local_pval-.5) < .475 #95th percentile mask for rainfall changes\n",
    "    mk_local_99 = abs(P_local_pval-.5) < .495 #99th percentile mask for rainfall changes\n",
    "    mk_local.append([mk_local_95, mk_local_99])\n",
    "    \n",
    "#create masked arrays\n",
    "P_total_diff_mask = []\n",
    "P_band_diff_mask = []\n",
    "P_local_diff_mask = []\n",
    "\n",
    "#create masked arrays with significant rainfall changes only based on 95th percentile masks\n",
    "for P_total_diff, P_band_diff, P_local_diff, mask_total, mask_band, mask_local in \\\n",
    "    zip(P_total_diff_smth, P_band_diff_smth, P_local_diff_smth, mk_total, mk_band, mk_local):\n",
    "    \n",
    "    P_total_diff_mask.append(ma.array(P_total_diff, mask = mask_total[0]))\n",
    "    P_band_diff_mask.append(ma.array(P_band_diff, mask = mask_band[0]))\n",
    "    P_local_diff_mask.append(ma.array(P_local_diff, mask = mask_local[0]))"
   ]
  },
  {
   "cell_type": "code",
   "execution_count": 9,
   "metadata": {
    "collapsed": false
   },
   "outputs": [
    {
     "name": "stdout",
     "output_type": "stream",
     "text": [
      "5179\n",
      "8007\n"
     ]
    },
    {
     "ename": "IndexError",
     "evalue": "int_1_pval_8007_5179 not found in /",
     "output_type": "error",
     "traceback": [
      "\u001b[0;31m---------------------------------------------------------------------------\u001b[0m",
      "\u001b[0;31mIndexError\u001b[0m                                Traceback (most recent call last)",
      "\u001b[0;32m<ipython-input-9-9b13ce382751>\u001b[0m in \u001b[0;36m<module>\u001b[0;34m()\u001b[0m\n\u001b[1;32m     40\u001b[0m     \u001b[0mfreq_pval\u001b[0m\u001b[0;34m.\u001b[0m\u001b[0mappend\u001b[0m\u001b[0;34m(\u001b[0m\u001b[0mfreq_diff_netcdf\u001b[0m\u001b[0;34m[\u001b[0m\u001b[0;34m'lat_pval_tau_'\u001b[0m \u001b[0;34m+\u001b[0m \u001b[0myears_p2\u001b[0m \u001b[0;34m+\u001b[0m \u001b[0;34m'_'\u001b[0m \u001b[0;34m+\u001b[0m \u001b[0myears_p1\u001b[0m\u001b[0;34m]\u001b[0m\u001b[0;34m[\u001b[0m\u001b[0;34m:\u001b[0m\u001b[0;34m]\u001b[0m\u001b[0;34m)\u001b[0m\u001b[0;34m\u001b[0m\u001b[0m\n\u001b[1;32m     41\u001b[0m     \u001b[0mint_diff\u001b[0m\u001b[0;34m.\u001b[0m\u001b[0mappend\u001b[0m\u001b[0;34m(\u001b[0m\u001b[0mint_diff_netcdf\u001b[0m\u001b[0;34m[\u001b[0m\u001b[0;34m'int_diff_'\u001b[0m \u001b[0;34m+\u001b[0m \u001b[0myears_p2\u001b[0m \u001b[0;34m+\u001b[0m \u001b[0;34m'_'\u001b[0m \u001b[0;34m+\u001b[0m \u001b[0myears_p1\u001b[0m\u001b[0;34m]\u001b[0m\u001b[0;34m[\u001b[0m\u001b[0;34m:\u001b[0m\u001b[0;34m]\u001b[0m\u001b[0;34m)\u001b[0m\u001b[0;34m\u001b[0m\u001b[0m\n\u001b[0;32m---> 42\u001b[0;31m     \u001b[0mint_pval\u001b[0m\u001b[0;34m.\u001b[0m\u001b[0mappend\u001b[0m\u001b[0;34m(\u001b[0m\u001b[0mint_pval_netcdf\u001b[0m\u001b[0;34m[\u001b[0m\u001b[0;34m'int_1_pval_'\u001b[0m \u001b[0;34m+\u001b[0m \u001b[0myears_p2\u001b[0m \u001b[0;34m+\u001b[0m \u001b[0;34m'_'\u001b[0m \u001b[0;34m+\u001b[0m \u001b[0myears_p1\u001b[0m\u001b[0;34m]\u001b[0m\u001b[0;34m[\u001b[0m\u001b[0;34m:\u001b[0m\u001b[0;34m]\u001b[0m\u001b[0;34m)\u001b[0m\u001b[0;34m\u001b[0m\u001b[0m\n\u001b[0m\u001b[1;32m     43\u001b[0m \u001b[0;34m\u001b[0m\u001b[0m\n\u001b[1;32m     44\u001b[0m \u001b[0;31m#close it\u001b[0m\u001b[0;34m\u001b[0m\u001b[0;34m\u001b[0m\u001b[0m\n",
      "\u001b[0;32mnetCDF4/_netCDF4.pyx\u001b[0m in \u001b[0;36mnetCDF4._netCDF4.Dataset.__getitem__ (netCDF4/_netCDF4.c:13508)\u001b[0;34m()\u001b[0m\n",
      "\u001b[0;31mIndexError\u001b[0m: int_1_pval_8007_5179 not found in /"
     ]
    },
    {
     "name": "stdout",
     "output_type": "stream",
     "text": [
      "time: 89.7 ms\n"
     ]
    }
   ],
   "source": [
    "## LOAD 1980-2007 v 1951-1979 changes FROM NETCF ##\n",
    "\n",
    "## NETCDF FILENAMES\n",
    "freq_diff_file = \"RDA_freq_diff_tau_seasonal\"\n",
    "freq_diff_name = ferretpath + freq_diff_file + '.nc'\n",
    "\n",
    "int_diff_file = \"RDA_int_diff\"\n",
    "int_diff_name = ferretpath + int_diff_file + '.nc'\n",
    "\n",
    "int_pval_file = \"RDA_int_diff_bootstrap_2000iter_perm\"\n",
    "int_pval_name = ferretpath + int_pval_file + '.nc'\n",
    "\n",
    "\n",
    "\n",
    "#import from netCDF file and load 57-year climatology\n",
    "freq_diff_netcdf = nc.Dataset(freq_diff_name, \"r\")\n",
    "int_diff_netcdf = nc.Dataset(int_diff_name, \"r\")\n",
    "int_pval_netcdf = nc.Dataset(int_pval_name, \"r\")\n",
    "\n",
    "#limits of different time periods that we're comparing\n",
    "p1_beg = [1951,1980]\n",
    "p1_end = [1979,1993]\n",
    "p2_beg = [1980,1994]\n",
    "p2_end = [2007,2007]\n",
    "\n",
    "#in this case, we're just going to load the smoothed plots of hovmoller frequency\n",
    "freq_diff = []\n",
    "freq_pval = []\n",
    "int_diff = []\n",
    "int_pval = []\n",
    "\n",
    "for p1_b, p1_e, p2_b, p2_e in zip(p1_beg, p1_end, p2_beg, p2_end):\n",
    "\n",
    "    years_p1= str(p1_b-1900) + str(\"{0:0=2d}\".format((p1_e-1900)%100))\n",
    "    print(years_p1)\n",
    "    years_p2= str(p2_b-1900) + str(\"{0:0=2d}\".format((p2_e-1900)%100))\n",
    "    print(years_p2)\n",
    "    \n",
    "    freq_diff.append(freq_diff_netcdf['lat_diff_tau_' + years_p2 + '_' + years_p1][:])\n",
    "    freq_pval.append(freq_diff_netcdf['lat_pval_tau_' + years_p2 + '_' + years_p1][:])\n",
    "    int_diff.append(int_diff_netcdf['int_diff_' + years_p2 + '_' + years_p1][:])\n",
    "    int_pval.append(int_pval_netcdf['int_1_pval_' + years_p2 + '_' + years_p1][:])\n",
    "    \n",
    "#close it\n",
    "freq_diff_netcdf.close()\n",
    "int_diff_netcdf.close()\n",
    "int_pval_netcdf.close()\n"
   ]
  },
  {
   "cell_type": "code",
   "execution_count": null,
   "metadata": {
    "collapsed": false
   },
   "outputs": [],
   "source": [
    "## USE P-VALS TO CREATE MASKS APPLIED TO ONLY SHOW SIGNIFICANT DIFFERENCES\n",
    "## 1980-2007 versus 1951-1979 - clearly cuts out a lot of random noise!\n",
    "\n",
    "## frequency masking by analytic p-value\n",
    "freq_diff_mask_95 = []\n",
    "freq_diff_mask_99 = []\n",
    "\n",
    "for fq, pval in zip(freq_diff, freq_pval):\n",
    "    freq_diff_mask_95.append(ma.array(fq, mask = ~(abs(pval-.5) > .475)))\n",
    "    freq_diff_mask_99.append(ma.array(fq, mask = ~(abs(pval-.5) > .495)))\n",
    "\n",
    "#intensity masking by bootstrapped p-value\n",
    "int_diff_mask_95 = []\n",
    "int_diff_mask_99 = []   \n",
    "    \n",
    "for ints, pval in zip(int_diff, int_pval):\n",
    "    int_diff_mask_95.append(ma.array(ints, mask = ~(abs(pval-.5) > .475)))\n",
    "    int_diff_mask_99.append(ma.array(ints, mask = ~(abs(pval-.5) > .495)))"
   ]
  },
  {
   "cell_type": "code",
   "execution_count": null,
   "metadata": {
    "collapsed": false
   },
   "outputs": [],
   "source": [
    "## DEFINE TIME PERIODS OF INTEREST\n",
    "time_periods = [[80.5,120.5],[120.5,160.5],[160.5,200.5],[200.5,273.5],[273.5,320.5]]"
   ]
  },
  {
   "cell_type": "code",
   "execution_count": null,
   "metadata": {
    "collapsed": false
   },
   "outputs": [],
   "source": [
    "## CREATE FIGURE OF 1951-1979 v 1980-2007 changes\n",
    "\n",
    "axlim = 2 #sets the maximum and minimum for colorbar.\n",
    "mypalette = 'bwr'\n",
    "\n",
    "## Set up axis and title for the entire figure\n",
    "fig, ax = plt.subplots(figsize=(11,8))\n",
    "ax.set_title(\"1980-2007 versus 1951-1979\", fontsize=18, y = 1.07, x=.43)\n",
    "ax.set_axis_off()\n",
    "\n",
    "## Subplot a) - changes in TOTAL rainfall\n",
    "ax1 = fig.add_subplot(4,1,1)\n",
    "plot1 = ax1.pcolormesh(P_total_diff_mask[0].T, cmap = mypalette, vmin = -axlim, vmax = axlim); \n",
    "plt.contour(mk_total[0][1].T,1,colors = 'gray')\n",
    "ax1.set_title(\"a) Change in Total Rainfall (mm day$^{-1}$)\", fontsize=14, y=1.12, loc = 'left')\n",
    "plt.ylabel('Latitude ($^\\circ$)', fontsize=12, labelpad=0)\n",
    "plt.yticks(np.linspace(0,80,6),np.linspace(20,40,6).astype(int))\n",
    "\n",
    "cbar1 = plt.colorbar(plot1, pad = 0.02)\n",
    "cbar1.set_ticks(np.linspace(-axlim,axlim,9))\n",
    "cbar1.set_ticklabels(['<-2',-1.5,-1,-.5,0,.5,1,1.5,'>2'])\n",
    "\n",
    "add_double_calendar_axis()\n",
    "mark_time_periods(time_periods, numbers = 'yes', box = 'no')\n",
    "\n",
    "\n",
    "## Subplot b) - changes in BANDED rainfall\n",
    "ax2 = fig.add_subplot(4,1,2)\n",
    "plot2 = ax2.pcolormesh(P_band_diff_mask[0].T, cmap = mypalette, vmin = -axlim, vmax = axlim); \n",
    "plt.contour(mk_band[0][1].T,1,colors = 'gray')\n",
    "ax2.set_title(\"b) Change in Banded Rainfall (mm day$^{-1}$)\", fontsize=14, y=1.12, loc = 'left')\n",
    "plt.ylabel('Latitude ($^\\circ$)', fontsize=12, labelpad=0)\n",
    "plt.yticks(np.linspace(0,80,6),np.linspace(20,40,6).astype(int))\n",
    "\n",
    "cbar2 = plt.colorbar(plot2, pad = 0.02)\n",
    "cbar2.set_ticks(np.linspace(-axlim,axlim,9))\n",
    "cbar2.set_ticklabels(['<-2',-1.5,-1,-.5,0,.5,1,1.5,'>2'])\n",
    "\n",
    "add_double_calendar_axis()\n",
    "mark_time_periods(time_periods, numbers = 'yes', box = 'no')\n",
    "\n",
    "\n",
    "## Subplot c) FREQUENCY CHANGES\n",
    "ax3 = fig.add_subplot(4,1,3)\n",
    "plot3 = ax3.pcolormesh(100*freq_diff_mask_95[0][:,1:21].T, cmap = mypalette, vmin = -3, vmax = 3); \n",
    "plt.contour(freq_diff_mask_99[0][:,1:21].mask.T,1,colors = 'gray')\n",
    "plt.ylabel('Latitude ($\\!^\\circ\\!$)', fontsize=12, labelpad=0)\n",
    "plt.yticks(np.linspace(0,20,6),np.linspace(20,40,6).astype(int))\n",
    "\n",
    "cbar3 = plt.colorbar(plot3, pad=0.02)\n",
    "cbar3.set_ticks(np.linspace(-3,3,7))\n",
    "\n",
    "ax3.set_title(\"c) Change in Band Frequency (%)\", fontsize=14, y=1.12, loc = 'left')\n",
    "add_double_calendar_axis()\n",
    "mark_time_periods(time_periods, numbers = 'yes', box = 'no')\n",
    "\n",
    "\n",
    "## Subplot d) INTENSITY CHANGES\n",
    "ax4 = fig.add_subplot(4,1,4)\n",
    "plot4 = ax4.pcolormesh(int_diff_mask_95[0][:,1:21].T, cmap = mypalette, vmin = -5, vmax = 5); \n",
    "plt.contour(int_diff_mask_99[0][:,1:21].mask.T,1,colors = 'gray')\n",
    "ax4.set_title(\"d) Change in Band Intensity (mm day$^{-1}$)\", fontsize=14, y=1.12, loc = 'left')\n",
    "plt.ylabel('Latitude ($\\!^\\circ\\!$)', fontsize=12, labelpad=0)\n",
    "plt.yticks(np.linspace(0,20,6),np.linspace(20,40,6).astype(int))\n",
    "\n",
    "cbar4 = plt.colorbar(plot4, pad=0.02)\n",
    "cbar4.set_ticks(np.linspace(-4.5,4.5,7))\n",
    "\n",
    "add_double_calendar_axis()\n",
    "mark_time_periods(time_periods, numbers = 'yes', box = 'no')\n",
    "\n",
    "\n",
    "## Final tweak to adjust plot fit.\n",
    "plt.tight_layout(pad=0, w_pad=0, h_pad=0)\n",
    "\n",
    "## SAVE FIGURE TO MANUSCRIPT AND ANALYSIS DIRECTORIES\n",
    "figure_name = \"hov_summary_8007_5179_test.pdf\"\n",
    "\n",
    "savepath = \"/Users/Siwen/Desktop/RDA/Figures/\" + figure_name\n",
    "\n",
    "if os.path.exists(savepath):\n",
    "    print(\"Overwriting existing version of file in RDA manuscript directory...\")\n",
    "    os.remove(savepath)\n",
    "    \n",
    "plt.savefig(savepath)\n",
    "    \n",
    "copypath = \"/Users/Siwen/RDA/Figures/\" + figure_name\n",
    "    \n",
    "if os.path.exists(copypath):\n",
    "    print(\"Overwriting existing version of file in RDA Python directory...\")\n",
    "    os.remove(copypath)\n",
    "    \n",
    "copy(savepath,copypath)\n",
    "\n",
    "plt.savefig(savepath, bbox_inches='tight')"
   ]
  },
  {
   "cell_type": "code",
   "execution_count": null,
   "metadata": {
    "collapsed": false
   },
   "outputs": [],
   "source": [
    "## CREATE FIGURE OF 1994-2007 versus 1980-1993 changes\n",
    "\n",
    "## CREATE FIGURE OF 1980-1993 v 1994-2007 changes\n",
    "\n",
    "axlim = 4 #sets the maximum and minimum for colorbar.\n",
    "\n",
    "fig, ax = plt.subplots(figsize=(12,8))\n",
    "ax.set_title(\"1994-2007 versus 1980-1993\", fontsize=18, y = 1.07, x=.43)\n",
    "mypalette = 'bwr'\n",
    "\n",
    "ax.set_axis_off()\n",
    "\n",
    "\n",
    "## Subplot a) - changes in TOTAL rainfall\n",
    "ax1 = fig.add_subplot(4,1,1)\n",
    "plot1 = ax1.pcolormesh(P_total_diff_mask[1].T, cmap = mypalette, vmin = -axlim, vmax = axlim); \n",
    "plt.contour(mk_total[1][1].T,1,colors = 'gray')\n",
    "ax1.set_title(\"a) Change in Total Rainfall (mm day$^{-1}$)\", fontsize=14, y=1.12, loc = 'left')\n",
    "plt.ylabel('Latitude ($^\\circ$)', fontsize=12, labelpad=0)\n",
    "plt.yticks(np.linspace(0,80,6),np.linspace(20,40,6).astype(int))\n",
    "\n",
    "cbar1 = plt.colorbar(plot1, pad = 0.02)\n",
    "cbar1.set_ticks(np.linspace(-axlim,axlim,9))\n",
    "cbar1.set_ticklabels(['<-2',-1.5,-1,-.5,0,.5,1,1.5,'>2'])\n",
    "\n",
    "add_double_calendar_axis()\n",
    "mark_time_periods(time_periods, numbers = 'yes', box = 'no')\n",
    "\n",
    "\n",
    "## Subplot b) - changes in BANDED rainfall\n",
    "ax2 = fig.add_subplot(4,1,2)\n",
    "plot2 = ax2.pcolormesh(P_band_diff_mask[1].T, cmap = mypalette, vmin = -axlim, vmax = axlim); \n",
    "plt.contour(mk_band[1][1].T,1,colors = 'gray')\n",
    "ax2.set_title(\"b) Change in Banded Rainfall (mm day$^{-1}$)\", fontsize=14, y=1.12, loc = 'left')\n",
    "plt.ylabel('Latitude ($^\\circ$)', fontsize=12, labelpad=0)\n",
    "plt.yticks(np.linspace(0,80,6),np.linspace(20,40,6).astype(int))\n",
    "\n",
    "cbar2 = plt.colorbar(plot2, pad = 0.02)\n",
    "cbar2.set_ticks(np.linspace(-axlim,axlim,9))\n",
    "cbar2.set_ticklabels(['<-2',-1.5,-1,-.5,0,.5,1,1.5,'>2'])\n",
    "\n",
    "add_double_calendar_axis()\n",
    "mark_time_periods(time_periods, numbers = 'yes', box = 'no')\n",
    "\n",
    "\n",
    "## c) Frequency changes\n",
    "ax3 = fig.add_subplot(4,1,3)\n",
    "plot3 = ax3.pcolormesh(100*freq_diff_mask_95[1][:,1:21].T, cmap = mypalette, vmin = -3, vmax = 3); \n",
    "plt.contour(freq_diff_mask_99[1][:,1:21].mask.T,1,colors = 'gray')\n",
    "ax3.set_title(\"c) Change in Band Frequency (%)\", fontsize=14, y=1.12, loc = 'left')\n",
    "plt.ylabel('Latitude ($^\\circ$)', fontsize=12, labelpad=0)\n",
    "plt.yticks(np.linspace(0,20,6),np.linspace(20,40,6).astype(int))\n",
    "\n",
    "cbar3 = plt.colorbar(plot3, pad=0.02)\n",
    "cbar3.set_ticks(np.linspace(-3,3,7))\n",
    "\n",
    "add_double_calendar_axis()\n",
    "mark_time_periods(time_periods, numbers = 'yes', box = 'no')\n",
    "\n",
    "\n",
    "\n",
    "## d) Intensity changes\n",
    "ax4 = fig.add_subplot(4,1,4)\n",
    "plot4 = ax4.pcolormesh(int_diff_mask_95[1][:,1:21].T, cmap = mypalette, vmin = -5, vmax = 5); \n",
    "plt.contour(int_diff_mask_99[1][:,1:21].mask.T,1,colors = 'gray')\n",
    "ax4.set_title(\"d) Change in Band Intensity (mm day$^{-1}$)\", fontsize=14, y=1.12, loc = 'left')\n",
    "plt.ylabel('Latitude ($^\\circ$)', fontsize=12, labelpad=0)\n",
    "plt.yticks(np.linspace(0,20,6),np.linspace(20,40,6).astype(int))\n",
    "\n",
    "cbar4 = plt.colorbar(plot4, pad=0.02)\n",
    "cbar4.set_ticks(np.linspace(-4.5,4.5,7))\n",
    "\n",
    "add_double_calendar_axis()\n",
    "mark_time_periods(time_periods, numbers = 'yes', box = 'no')\n",
    "\n",
    "\n",
    "\n",
    "## we have separate axis for whole figure and for each subplot\n",
    "plt.tight_layout(pad=0, w_pad=0, h_pad=0)\n",
    "\n",
    "\n",
    "## SAVE COPIES OF FIGURE TO MANUSCRIPT AND ANALYSIS DIRECTORIES\n",
    "figure_name = \"hov_summary_9407_8093_test.pdf\"\n",
    "\n",
    "savepath = \"/Users/Siwen/Desktop/RDA/Figures/\" + figure_name\n",
    "\n",
    "if os.path.exists(savepath):\n",
    "    print(\"Overwriting existing version of file in RDA manuscript directory...\")\n",
    "    os.remove(savepath)\n",
    "    \n",
    "plt.savefig(savepath)\n",
    "    \n",
    "copypath = \"/Users/Siwen/RDA/Figures/\" + figure_name\n",
    "    \n",
    "if os.path.exists(copypath):\n",
    "    print(\"Overwriting existing version of file in RDA Python directory...\")\n",
    "    os.remove(copypath)\n",
    "    \n",
    "copy(savepath,copypath)\n",
    "\n",
    "plt.savefig(savepath, bbox_inches='tight')"
   ]
  },
  {
   "cell_type": "code",
   "execution_count": null,
   "metadata": {
    "collapsed": true
   },
   "outputs": [],
   "source": []
  }
 ],
 "metadata": {
  "kernelspec": {
   "display_name": "Python 3",
   "language": "python",
   "name": "python3"
  },
  "language_info": {
   "codemirror_mode": {
    "name": "ipython",
    "version": 3
   },
   "file_extension": ".py",
   "mimetype": "text/x-python",
   "name": "python",
   "nbconvert_exporter": "python",
   "pygments_lexer": "ipython3",
   "version": "3.5.2"
  }
 },
 "nbformat": 4,
 "nbformat_minor": 0
}
