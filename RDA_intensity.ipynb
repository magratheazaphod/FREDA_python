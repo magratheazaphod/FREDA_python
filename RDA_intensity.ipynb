{
 "cells": [
  {
   "cell_type": "code",
   "execution_count": null,
   "metadata": {
    "collapsed": true
   },
   "outputs": [],
   "source": [
    "## New notebook to carry out some of the trickier analysis on binned intensity ##\n",
    "# GOAL: Would like to find a mean intensity at each box as well as a standard deviation\n",
    "# Will agglomerate all points within a given range (currently 15-days and 2 degrees) and spit out an answer.\n",
    "\n",
    "#the end vision is to have a 3-panel plot with decadal frequency change, intensity chance and f*i change\n",
    "#effectively, to give a causality to changes in banded rainfall already observed in the banded rainfall plot."
   ]
  },
  {
   "cell_type": "code",
   "execution_count": 8,
   "metadata": {
    "collapsed": true
   },
   "outputs": [],
   "source": [
    "import numpy as np\n",
    "import time\n",
    "import os\n",
    "import netCDF4 as nc\n",
    "import datetime\n",
    "import matplotlib.pyplot as plt\n",
    "%matplotlib notebook"
   ]
  },
  {
   "cell_type": "code",
   "execution_count": 10,
   "metadata": {
    "collapsed": false
   },
   "outputs": [
    {
     "name": "stdout",
     "output_type": "stream",
     "text": [
      "5107\n",
      "5179\n",
      "8007\n",
      "8093\n",
      "9407\n"
     ]
    }
   ],
   "source": [
    "## LOAD FROM NETCDF FILE ##\n",
    "savefile = \"RDA_int_hov\"\n",
    "ferretpath = \"/Users/Siwen/Desktop/Ferret/bin/\"\n",
    "\n",
    "#netCDF output file formatting formatting\n",
    "hovname = ferretpath + savefile + \".nc\"\n",
    "hovnc = nc.Dataset(hovname, \"r\")\n",
    "\n",
    "#populate lists with intensity occupancy plots for each different time period (periods given below)\n",
    "yr_beg = [1951,1951,1980,1980,1994]\n",
    "yr_end = [2007,1979,2007,1993,2007]\n",
    "\n",
    "#initialize intensity occupancy matrix storage\n",
    "ints_1_hov = []\n",
    "ints_2_hov = []\n",
    "ints_hov = []\n",
    "\n",
    "for yr_b, yr_e in zip(yr_beg, yr_end):\n",
    "\n",
    "    years = str(yr_b-1900) + str(\"{0:0=2d}\".format((yr_e-1900)%100))\n",
    "    print(years)\n",
    "    \n",
    "    ints_1_hov.append(hovnc['int_1_hov_' + years][:])\n",
    "    ints_2_hov.append(hovnc['int_2_hov_' + years][:])\n",
    "    ints_hov.append(hovnc['int_hov_' + years][:])\n",
    "    \n",
    "hovnc.close()"
   ]
  },
  {
   "cell_type": "code",
   "execution_count": 23,
   "metadata": {
    "collapsed": false
   },
   "outputs": [],
   "source": [
    "##collect function designed to aggregate all observations from 3D storage matrix - takes every ensemble (3rd dimension)\n",
    "#then selections range of days and latitude range (I've mostly been using 15 day and 2 degree-latitude smoothing)\n",
    "\n",
    "#RETURNS every non-NaN observation, as a single numpy array\n",
    "#inputs: P is the full 3D matrix, dd is the day of interest(0-364), yy is the latitude bin of interest (likely 0-21)\n",
    "def collect(P,dd,latbin,dayrange,latrange):\n",
    "        \n",
    "    ll=int((dayrange-1)/2)\n",
    "    yy=int((latrange-1)/2)\n",
    "    \n",
    "    days = P.shape[0]\n",
    "    lats = P.shape[1]\n",
    "    \n",
    "    Psample = P.take(range(dd-ll,dd+ll+1), mode='wrap', axis=0)\n",
    "    P_collect = Psample[:,max(0,latbin-yy):min(days,latbin+yy+1),:].flatten()\n",
    "    P_return = P_collect[~np.isnan(P_collect)]\n",
    "    print(len(P_collect))\n",
    "    print(len(P_return))\n",
    "    \n",
    "    return P_collect[~np.isnan(P_collect)]"
   ]
  },
  {
   "cell_type": "code",
   "execution_count": 26,
   "metadata": {
    "collapsed": false
   },
   "outputs": [
    {
     "name": "stdout",
     "output_type": "stream",
     "text": [
      "750\n",
      "24\n"
     ]
    },
    {
     "data": {
      "text/plain": [
       "array([ 31.55119524,  21.85476466,  16.81906197,  10.02029892,\n",
       "        21.99820625,  35.89621692,  13.9070744 ,  15.32347759,\n",
       "        26.63547343,  16.93527735,  25.78318451,  13.23580362,\n",
       "        12.40536113,  20.09460856,  16.64219766,   9.79823179,\n",
       "        13.57068573,   8.83910686,  18.16727386,  14.65620031,\n",
       "        20.85166167,  24.9581063 ,  11.63875063,  17.50096139])"
      ]
     },
     "execution_count": 26,
     "metadata": {},
     "output_type": "execute_result"
    }
   ],
   "source": [
    "collect(ints_hov[0], 100, 15, 15, 5)"
   ]
  },
  {
   "cell_type": "code",
   "execution_count": null,
   "metadata": {
    "collapsed": true
   },
   "outputs": [],
   "source": []
  }
 ],
 "metadata": {
  "kernelspec": {
   "display_name": "Python 3",
   "language": "python",
   "name": "python3"
  },
  "language_info": {
   "codemirror_mode": {
    "name": "ipython",
    "version": 3
   },
   "file_extension": ".py",
   "mimetype": "text/x-python",
   "name": "python",
   "nbconvert_exporter": "python",
   "pygments_lexer": "ipython3",
   "version": "3.5.2"
  }
 },
 "nbformat": 4,
 "nbformat_minor": 0
}
