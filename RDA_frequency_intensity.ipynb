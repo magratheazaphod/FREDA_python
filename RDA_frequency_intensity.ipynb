{
 "cells": [
  {
   "cell_type": "code",
   "execution_count": 2,
   "metadata": {
    "collapsed": false
   },
   "outputs": [],
   "source": [
    "#Updating previous MATLAB script to work in Python\n",
    "#Given meiyu_clean.nc and meiyu_2_clean.nc, finds mean rainband frequency and intensity for different time periods\n",
    "#and also their product f*q as a proxy for actual rainfall amounts.\n",
    "#Idea is to help show a causality of rainfall amounts (frequency change, or intensity?)\n",
    "\n",
    "#meiyu_clean.nc contains every rainband event categorized as primary, and meiyu_2_clean includes all secondary events.\n",
    "\n",
    "import numpy as np\n",
    "import time\n",
    "import os\n",
    "import netCDF4 as nc\n",
    "import datetime"
   ]
  },
  {
   "cell_type": "code",
   "execution_count": 3,
   "metadata": {
    "collapsed": false
   },
   "outputs": [],
   "source": [
    "#Access NetCDF files (currently hosted in Ferret directory)\n",
    "RDA_path_1 = \"/Users/Siwen/Desktop/ferret/bin/meiyu_clean.nc\"\n",
    "RDA_path_2 = \"/Users/Siwen/Desktop/ferret/bin/meiyu_2_clean.nc\"\n",
    "RDA_1 = nc.Dataset(RDA_path_1, 'r')\n",
    "RDA_2 = nc.Dataset(RDA_path_2, 'r')"
   ]
  },
  {
   "cell_type": "code",
   "execution_count": 4,
   "metadata": {
    "collapsed": true
   },
   "outputs": [],
   "source": [
    "#load data from NetCDF files to notebook\n",
    "lat_1_all =  RDA_1.variables['lat_115'][:]\n",
    "lat_2_all =  RDA_2.variables['lat_115'][:]\n",
    "intensity_1_all = RDA_1.variables['intensity'][:] \n",
    "intensity_2_all = RDA_2.variables['intensity'][:]"
   ]
  },
  {
   "cell_type": "code",
   "execution_count": 5,
   "metadata": {
    "collapsed": false
   },
   "outputs": [],
   "source": [
    "#Assign a calendar date to each time point\n",
    "startday = datetime.datetime(1951,1,1)\n",
    "date_list = np.array([datetime.timedelta(days=x) + startday for x in range(0, 20819)])"
   ]
  },
  {
   "cell_type": "code",
   "execution_count": 6,
   "metadata": {
    "collapsed": false
   },
   "outputs": [],
   "source": [
    "#Define empty variables reshaped with axis 0 as day of year and axis 1 as year.\n",
    "lat_1 = np.zeros([365,57])\n",
    "lat_2 = np.zeros([365,57])\n",
    "intensity_1 = np.zeros([365,57])\n",
    "intensity_2 = np.zeros([365,57])"
   ]
  },
  {
   "cell_type": "code",
   "execution_count": 82,
   "metadata": {
    "collapsed": false
   },
   "outputs": [
    {
     "data": {
      "text/plain": [
       "array([         nan,          nan,          nan,          nan,\n",
       "                nan,          nan,          nan,          nan,\n",
       "                nan,  27.00996308,  24.21148993,  24.83078497,\n",
       "        24.77758962,          nan,          nan,          nan,\n",
       "                nan,          nan,          nan,          nan])"
      ]
     },
     "execution_count": 82,
     "metadata": {},
     "output_type": "execute_result"
    }
   ],
   "source": [
    "lat_1_all[:20]"
   ]
  },
  {
   "cell_type": "code",
   "execution_count": 89,
   "metadata": {
    "collapsed": false
   },
   "outputs": [],
   "source": [
    "#interestinng unexpected behavior - list(mymap) turns mymap into actual array, but:\n",
    "#needs to then be converted into np.array, otherwise it chooses either the first or second\n",
    "#array element based on whether true or false (as opposed to including an element if\n",
    "#corresponding bool array element is true)!\n",
    "\n",
    "for i, date in enumerate(date_list[0:365]):\n",
    "    dd = date.day\n",
    "    mm = date.month\n",
    "    mymap = map(lambda date: (date.day == dd) & (date.month == mm), date_list)\n",
    "    extract = np.array(list(mymap))\n",
    "    \n",
    "    lat_1[i,:] = lat_1_all[extract]\n",
    "    lat_2[i,:] = lat_2_all[extract]\n",
    "    intensity_1[i,:] = intensity_1_all[extract]\n",
    "    intensity_2[i,:] = intensity_2_all[extract]"
   ]
  },
  {
   "cell_type": "code",
   "execution_count": 90,
   "metadata": {
    "collapsed": false
   },
   "outputs": [
    {
     "data": {
      "text/plain": [
       "array([         nan,          nan,  26.46931363,          nan,\n",
       "                nan,          nan,          nan,  26.664608  ,\n",
       "        29.40493232,  29.92150069,  25.50032813,  28.43809677,\n",
       "                nan,  26.62257173,          nan,  28.08974375,\n",
       "                nan,  24.85880001,          nan,  25.51526638,\n",
       "                nan,          nan,          nan,          nan,\n",
       "        26.35480823,          nan,  26.00256665,          nan,\n",
       "                nan,  26.83154677,  26.09067498,          nan,\n",
       "        27.58264235,          nan,          nan,  27.38576637,\n",
       "        28.37376306,  27.47706692,  28.8770144 ,          nan,\n",
       "        31.97353458,  22.736046  ,  26.6333082 ,          nan,\n",
       "                nan,          nan,          nan,          nan,\n",
       "                nan,          nan,          nan,          nan,\n",
       "        25.8300431 ,          nan,  29.22992606,  29.86165066,          nan])"
      ]
     },
     "execution_count": 90,
     "metadata": {},
     "output_type": "execute_result"
    }
   ],
   "source": [
    "lat_1[100,:]"
   ]
  },
  {
   "cell_type": "code",
   "execution_count": 9,
   "metadata": {
    "collapsed": false
   },
   "outputs": [
    {
     "data": {
      "text/plain": [
       "array([ 0.,  0.,  0.,  0.,  0.,  0.,  0.,  0.,  0.,  1.,  1.,  1.,  1.,\n",
       "        0.,  0.,  0.,  0.,  0.,  0.,  0.,  0.,  0.,  0.,  0.,  1.,  0.,\n",
       "        0.,  0.,  0.,  0.,  0.,  0.,  0.,  0.,  0.,  0.,  0.,  0.,  0.,\n",
       "        0.,  0.,  0.,  1.,  1.,  0.,  0.,  0.,  0.,  0.,  0.,  0.,  0.,\n",
       "        0.,  1.,  1.,  0.,  0.,  1.,  0.,  0.,  0.,  0.,  0.,  1.,  0.,\n",
       "        0.,  0.,  0.,  0.,  1.,  1.,  1.,  0.,  0.,  0.,  0.,  0.,  1.,\n",
       "        1.,  1.,  1.,  1.,  1.,  0.,  1.,  1.,  1.,  1.,  0.,  1.,  1.,\n",
       "        1.,  1.,  0.,  1.,  1.,  0.,  0.,  1.,  0.])"
      ]
     },
     "execution_count": 9,
     "metadata": {},
     "output_type": "execute_result"
    }
   ],
   "source": [
    "tst[:100]"
   ]
  },
  {
   "cell_type": "code",
   "execution_count": 7,
   "metadata": {
    "collapsed": false
   },
   "outputs": [
    {
     "data": {
      "text/plain": [
       "array([         nan,          nan,          nan,          nan,\n",
       "                nan,          nan,          nan,          nan,\n",
       "                nan,  27.00996308,  24.21148993,  24.83078497,\n",
       "        24.77758962,          nan,          nan,          nan,\n",
       "                nan,          nan,          nan,          nan,\n",
       "                nan,          nan,          nan,          nan,\n",
       "        24.56930006,          nan,          nan,          nan,\n",
       "                nan,          nan,          nan,          nan,\n",
       "                nan,          nan,          nan,          nan,\n",
       "                nan,          nan,          nan,          nan,\n",
       "                nan,          nan,  27.63225421,  26.36993152,\n",
       "                nan,          nan,          nan,          nan,\n",
       "                nan,          nan,          nan,          nan,\n",
       "                nan,  30.62293474,  28.7239144 ,          nan,\n",
       "                nan,  25.88566972,          nan,          nan,\n",
       "                nan,          nan,          nan,  26.67376309,\n",
       "                nan,          nan,          nan,          nan,\n",
       "                nan,  29.57976285,  28.23657569,  27.54563464,\n",
       "                nan,          nan,          nan,          nan,\n",
       "                nan,  25.31305558,  28.58740367,  25.54448522,\n",
       "        23.55042515,  24.43613982,  26.2035846 ,          nan,\n",
       "        26.82274242,  29.91995896,  25.82999165,  23.17291941,\n",
       "                nan,  26.93377904,  25.88606003,  27.06533831,\n",
       "        24.48205453,          nan,  25.47160812,  24.76920313,\n",
       "                nan,          nan,  25.94689958,          nan])"
      ]
     },
     "execution_count": 7,
     "metadata": {},
     "output_type": "execute_result"
    }
   ],
   "source": [
    "lat_1[:100]"
   ]
  },
  {
   "cell_type": "code",
   "execution_count": 61,
   "metadata": {
    "collapsed": false
   },
   "outputs": [
    {
     "data": {
      "text/plain": [
       "datetime.datetime(1951, 1, 1, 0, 0)"
      ]
     },
     "execution_count": 61,
     "metadata": {},
     "output_type": "execute_result"
    }
   ],
   "source": [
    "tst = np.array(date_list)\n",
    "type(tst)\n",
    "tst[0]"
   ]
  },
  {
   "cell_type": "code",
   "execution_count": null,
   "metadata": {
    "collapsed": true
   },
   "outputs": [],
   "source": []
  },
  {
   "cell_type": "code",
   "execution_count": 84,
   "metadata": {
    "collapsed": true
   },
   "outputs": [],
   "source": [
    "date_list = np.array([datetime.timedelta(days=x) + startday for x in range(0, 20819)])"
   ]
  },
  {
   "cell_type": "code",
   "execution_count": 85,
   "metadata": {
    "collapsed": false
   },
   "outputs": [],
   "source": [
    "mymap = map(lambda date: (date.day == 3) & (date.month == 1), date_list)\n",
    "test1 = list(mymap)\n",
    "test2 = np.array(test1)\n",
    "test3 = np.array(list(mymap))"
   ]
  },
  {
   "cell_type": "code",
   "execution_count": 87,
   "metadata": {
    "collapsed": false
   },
   "outputs": [
    {
     "name": "stdout",
     "output_type": "stream",
     "text": [
      "[False, False, True, False, False, False, False, False, False, False]\n",
      "[False False  True False False False False False False False]\n",
      "[]\n"
     ]
    }
   ],
   "source": [
    "print(test1[:10])\n",
    "print(test2[:10])\n",
    "print(test3[:10])"
   ]
  },
  {
   "cell_type": "code",
   "execution_count": 88,
   "metadata": {
    "collapsed": false
   },
   "outputs": [
    {
     "name": "stderr",
     "output_type": "stream",
     "text": [
      "//anaconda/lib/python3.5/site-packages/ipykernel/__main__.py:1: FutureWarning: in the future, boolean array-likes will be handled as a boolean array index\n",
      "  if __name__ == '__main__':\n"
     ]
    },
    {
     "name": "stdout",
     "output_type": "stream",
     "text": [
      "[datetime.datetime(1951, 1, 1, 0, 0) datetime.datetime(1951, 1, 1, 0, 0)\n",
      " datetime.datetime(1951, 1, 2, 0, 0) datetime.datetime(1951, 1, 1, 0, 0)\n",
      " datetime.datetime(1951, 1, 1, 0, 0) datetime.datetime(1951, 1, 1, 0, 0)\n",
      " datetime.datetime(1951, 1, 1, 0, 0) datetime.datetime(1951, 1, 1, 0, 0)\n",
      " datetime.datetime(1951, 1, 1, 0, 0) datetime.datetime(1951, 1, 1, 0, 0)]\n",
      "[datetime.datetime(1951, 1, 3, 0, 0) datetime.datetime(1952, 1, 3, 0, 0)\n",
      " datetime.datetime(1953, 1, 3, 0, 0) datetime.datetime(1954, 1, 3, 0, 0)\n",
      " datetime.datetime(1955, 1, 3, 0, 0) datetime.datetime(1956, 1, 3, 0, 0)\n",
      " datetime.datetime(1957, 1, 3, 0, 0) datetime.datetime(1958, 1, 3, 0, 0)\n",
      " datetime.datetime(1959, 1, 3, 0, 0) datetime.datetime(1960, 1, 3, 0, 0)]\n"
     ]
    },
    {
     "ename": "IndexError",
     "evalue": "arrays used as indices must be of integer (or boolean) type",
     "output_type": "error",
     "traceback": [
      "\u001b[0;31m---------------------------------------------------------------------------\u001b[0m",
      "\u001b[0;31mIndexError\u001b[0m                                Traceback (most recent call last)",
      "\u001b[0;32m<ipython-input-88-ebd3b58c81bc>\u001b[0m in \u001b[0;36m<module>\u001b[0;34m()\u001b[0m\n\u001b[1;32m      3\u001b[0m \u001b[0mprint\u001b[0m\u001b[0;34m(\u001b[0m\u001b[0mdate_list\u001b[0m\u001b[0;34m[\u001b[0m\u001b[0mtest2\u001b[0m\u001b[0;34m]\u001b[0m\u001b[0;34m[\u001b[0m\u001b[0;34m:\u001b[0m\u001b[0;36m10\u001b[0m\u001b[0;34m]\u001b[0m\u001b[0;34m)\u001b[0m\u001b[0;34m\u001b[0m\u001b[0m\n\u001b[1;32m      4\u001b[0m \u001b[0mtime\u001b[0m\u001b[0;34m.\u001b[0m\u001b[0msleep\u001b[0m\u001b[0;34m(\u001b[0m\u001b[0;36m3\u001b[0m\u001b[0;34m)\u001b[0m\u001b[0;34m\u001b[0m\u001b[0m\n\u001b[0;32m----> 5\u001b[0;31m \u001b[0mprint\u001b[0m\u001b[0;34m(\u001b[0m\u001b[0mdate_list\u001b[0m\u001b[0;34m[\u001b[0m\u001b[0mtest3\u001b[0m\u001b[0;34m]\u001b[0m\u001b[0;34m[\u001b[0m\u001b[0;34m:\u001b[0m\u001b[0;36m10\u001b[0m\u001b[0;34m]\u001b[0m\u001b[0;34m)\u001b[0m\u001b[0;34m\u001b[0m\u001b[0m\n\u001b[0m\u001b[1;32m      6\u001b[0m \u001b[0mtime\u001b[0m\u001b[0;34m.\u001b[0m\u001b[0msleep\u001b[0m\u001b[0;34m(\u001b[0m\u001b[0;36m3\u001b[0m\u001b[0;34m)\u001b[0m\u001b[0;34m\u001b[0m\u001b[0m\n",
      "\u001b[0;31mIndexError\u001b[0m: arrays used as indices must be of integer (or boolean) type"
     ]
    }
   ],
   "source": [
    "print(date_list[test1][:10])\n",
    "time.sleep(3)\n",
    "print(date_list[test2][:10])\n",
    "time.sleep(3)\n",
    "print(date_list[test3][:10])\n",
    "time.sleep(3)"
   ]
  },
  {
   "cell_type": "code",
   "execution_count": 65,
   "metadata": {
    "collapsed": false
   },
   "outputs": [
    {
     "ename": "IndexError",
     "evalue": "arrays used as indices must be of integer (or boolean) type",
     "output_type": "error",
     "traceback": [
      "\u001b[0;31m---------------------------------------------------------------------------\u001b[0m",
      "\u001b[0;31mIndexError\u001b[0m                                Traceback (most recent call last)",
      "\u001b[0;32m<ipython-input-65-839ac9fe52b0>\u001b[0m in \u001b[0;36m<module>\u001b[0;34m()\u001b[0m\n\u001b[0;32m----> 1\u001b[0;31m \u001b[0mdate_list\u001b[0m\u001b[0;34m[\u001b[0m\u001b[0mtest2\u001b[0m\u001b[0;34m]\u001b[0m\u001b[0;34m[\u001b[0m\u001b[0;34m:\u001b[0m\u001b[0;36m5\u001b[0m\u001b[0;34m]\u001b[0m\u001b[0;34m\u001b[0m\u001b[0m\n\u001b[0m",
      "\u001b[0;31mIndexError\u001b[0m: arrays used as indices must be of integer (or boolean) type"
     ]
    }
   ],
   "source": [
    "date_list[test2][:5]"
   ]
  },
  {
   "cell_type": "code",
   "execution_count": null,
   "metadata": {
    "collapsed": true
   },
   "outputs": [],
   "source": []
  }
 ],
 "metadata": {
  "kernelspec": {
   "display_name": "Python 3",
   "language": "python",
   "name": "python3"
  },
  "language_info": {
   "codemirror_mode": {
    "name": "ipython",
    "version": 3
   },
   "file_extension": ".py",
   "mimetype": "text/x-python",
   "name": "python",
   "nbconvert_exporter": "python",
   "pygments_lexer": "ipython3",
   "version": "3.5.2"
  }
 },
 "nbformat": 4,
 "nbformat_minor": 0
}
