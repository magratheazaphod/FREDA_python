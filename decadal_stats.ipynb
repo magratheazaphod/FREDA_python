{
 "cells": [
  {
   "cell_type": "code",
   "execution_count": 1,
   "metadata": {
    "collapsed": false
   },
   "outputs": [],
   "source": [
    "from bootstrap import bs_means_diff, bs_stdofmean\n",
    "from decadal_stats import collect_data, compare_periods\n",
    "from itertools import compress\n",
    "import numpy as np\n",
    "import time\n",
    "import os\n",
    "import netCDF4 as nc\n",
    "import datetime\n",
    "%matplotlib notebook"
   ]
  },
  {
   "cell_type": "code",
   "execution_count": 2,
   "metadata": {
    "collapsed": true
   },
   "outputs": [],
   "source": [
    "#Path to RDA results\n",
    "RDA_path_1 = \"/Users/Siwen/Desktop/ferret/bin/meiyu_clean.nc\"\n",
    "RDA_path_2 = \"/Users/Siwen/Desktop/ferret/bin/meiyu_2_clean.nc\"\n",
    "\n",
    "years = [[[1951,1979],[1980,2007]],[[1980,1993],[1994,2007]]]\n",
    "year_tags = ['8007_5179','9407_8093']\n",
    "periods = [[60,120],[121,160],[161,200],[201,273],[274,320],[1,365]]\n",
    "period_tags = ['spring','pre-meiyu','meiyu','post-meiyu','fall','all']\n",
    "latranges = [[0,99],[0,99],[0,99],[27,99],[0,99],[0,99]]\n",
    "tau = 2"
   ]
  },
  {
   "cell_type": "code",
   "execution_count": 14,
   "metadata": {
    "collapsed": true
   },
   "outputs": [],
   "source": [
    "##set up results file\n",
    "results = {}"
   ]
  },
  {
   "cell_type": "code",
   "execution_count": 17,
   "metadata": {
    "collapsed": false
   },
   "outputs": [
    {
     "name": "stdout",
     "output_type": "stream",
     "text": [
      "8007_5179\n",
      "spring\n"
     ]
    },
    {
     "name": "stderr",
     "output_type": "stream",
     "text": [
      "/Users/Siwen/RDA/decadal_stats.py:50: RuntimeWarning: invalid value encountered in greater\n",
      "  lat_1_pass = (lat_1 > latrange[0]) & (lat_1 < latrange[1])\n",
      "/Users/Siwen/RDA/decadal_stats.py:50: RuntimeWarning: invalid value encountered in less\n",
      "  lat_1_pass = (lat_1 > latrange[0]) & (lat_1 < latrange[1])\n",
      "/Users/Siwen/RDA/decadal_stats.py:52: RuntimeWarning: invalid value encountered in greater\n",
      "  lat_2_pass = (lat_2 > latrange[0]) & (lat_2 < latrange[1])\n",
      "/Users/Siwen/RDA/decadal_stats.py:52: RuntimeWarning: invalid value encountered in less\n",
      "  lat_2_pass = (lat_2 > latrange[0]) & (lat_2 < latrange[1])\n"
     ]
    },
    {
     "name": "stdout",
     "output_type": "stream",
     "text": [
      "pre-meiyu\n",
      "meiyu\n",
      "post-meiyu\n",
      "fall\n",
      "all\n",
      "9407_8093\n",
      "spring\n",
      "pre-meiyu\n",
      "meiyu\n",
      "post-meiyu\n",
      "fall\n",
      "all\n"
     ]
    }
   ],
   "source": [
    "for (yrs,yr_tag) in zip(years,year_tags):\n",
    "    print(yr_tag)\n",
    "    p_results={}\n",
    "    \n",
    "    for period,latrange,p_tag in zip(periods,latranges,period_tags):\n",
    "        print(p_tag)\n",
    "        p_results[p_tag] = compare_periods(yrs,period,latrange=latrange,tau=tau)\n",
    "        \n",
    "    results[yr_tag] = p_results"
   ]
  },
  {
   "cell_type": "code",
   "execution_count": null,
   "metadata": {
    "collapsed": true
   },
   "outputs": [],
   "source": [
    "## save results to NetCDF\n"
   ]
  }
 ],
 "metadata": {
  "kernelspec": {
   "display_name": "Python 3",
   "language": "python",
   "name": "python3"
  },
  "language_info": {
   "codemirror_mode": {
    "name": "ipython",
    "version": 3
   },
   "file_extension": ".py",
   "mimetype": "text/x-python",
   "name": "python",
   "nbconvert_exporter": "python",
   "pygments_lexer": "ipython3",
   "version": "3.6.0"
  }
 },
 "nbformat": 4,
 "nbformat_minor": 2
}
