{
 "cells": [
  {
   "cell_type": "markdown",
   "metadata": {},
   "source": [
    "A remake of the bar-and-whisker plot of statistical significance for the RDA paper based on RDA_bars_with_whiskers, but rewritten in much better style and to take advantage of more efficient loading of data."
   ]
  },
  {
   "cell_type": "code",
   "execution_count": 1,
   "metadata": {
    "collapsed": true
   },
   "outputs": [],
   "source": [
    "import pandas as pd"
   ]
  },
  {
   "cell_type": "code",
   "execution_count": 6,
   "metadata": {
    "collapsed": false
   },
   "outputs": [],
   "source": [
    "data_file = 'Data/decadal_stats.hdf'\n",
    "results_df = pd.read_hdf(data_file)"
   ]
  },
  {
   "cell_type": "code",
   "execution_count": null,
   "metadata": {
    "collapsed": true
   },
   "outputs": [],
   "source": [
    "#customized script that adds overbars to indicate time periods, and then on top of that a p-value for the significance of the change.\n",
    "def addpvals(fig,ax,rects,errs,pvals):\n",
    "    for rects,errs,pvals in zip(rects,errs,pvals):\n",
    "        \n",
    "        heights = [ rect.get_height() + err for rect,err in zip(rects,errs) ]            \n",
    "        height = max(heights[0],heights[1],heights[2])\n",
    "        yax = ax.get_ylim()\n",
    "        yhgt = yax[1]-yax[0]\n",
    "        \n",
    "        x1 = rect1.get_x() + .175\n",
    "        x2 = rect1.get_x() + .525\n",
    "        y = height + .01*yhgt\n",
    "        \n",
    "        xx1 = rect1.get_x() + .4375\n",
    "        xx2 = rect1.get_x() + .6125\n",
    "        yy = y + .13*yhgt\n",
    "\n",
    "        #'51-'79 v '80-'07\n",
    "        ax.annotate(\"a\", color='White', xy=(x1, y), xytext=(x1, y + .02*yhgt), \n",
    "            fontsize=15, ha='center', va='bottom',\n",
    "            arrowprops=dict(arrowstyle='-[, widthB=1.25, lengthB=.5', lw=1.0))\n",
    "\n",
    "        ax.annotate(\"b\", color='White', xy=(x2, y), xytext=(x2, y + .02*yhgt), \n",
    "            fontsize=15, ha='center', va='bottom',\n",
    "            arrowprops=dict(arrowstyle='-[, widthB=1.25, lengthB=.5', lw=1.0))\n",
    "\n",
    "        #add lines\n",
    "        plt.plot([x1, (x1+x2)/2], [y + .008*yhgt, y + .04*yhgt], 'k-', lw=1)\n",
    "        plt.plot([x2, (x1+x2)/2], [y + .008*yhgt, y + .04*yhgt], 'k-', lw=1)\n",
    "\n",
    "        #add p-value\n",
    "        if pval1 < .025:\n",
    "            if pval1 < .005:\n",
    "                plt.text((x1+x2)/2, y + .06*yhgt,'p<.001', horizontalalignment = 'center',fontsize = 14, \\\n",
    "                    weight='bold', style='italic')\n",
    "\n",
    "            else:\n",
    "                plt.text((x1+x2)/2, y + .06*yhgt,'p=' + str(round(pval1,3)), horizontalalignment = 'center', fontsize = 14,\\\n",
    "                    weight='bold')\n",
    "        elif pval1 > .975:            \n",
    "            if pval1 > .995:\n",
    "                plt.text((x1+x2)/2, y + .06*yhgt,'p>.999', horizontalalignment = 'center',fontsize = 14, \\\n",
    "                    weight='bold', style='italic')\n",
    "            else:\n",
    "                plt.text((x1+x2)/2, y + .06*yhgt,'p=' + str(round(pval1,3)), horizontalalignment = 'center', fontsize = 14,\\\n",
    "                    weight='bold')\n",
    "        else:\n",
    "            plt.text((x1+x2)/2, y + .06*yhgt,'p=' + str(round(pval1,3)), horizontalalignment = 'center', fontsize = 14)\n",
    "            \n",
    "        print(pval1)\n",
    "        print(pval2)\n",
    "\n",
    "\n",
    "        #'80-'93 v '94-'07\n",
    "        ax.annotate(\"a\", color='White', xy=(xx1, yy), xytext=(xx1, yy + .02*yhgt),\\\n",
    "            fontsize=15, ha='center', va='bottom',\n",
    "            arrowprops=dict(arrowstyle='-[, widthB=.6, lengthB=.5', lw=1.0))\n",
    "\n",
    "        ax.annotate(\"b\", color='White', xy=(xx2, yy), xytext=(xx2, yy + .02*yhgt), \n",
    "            fontsize=15, ha='center', va='bottom',\n",
    "            arrowprops=dict(arrowstyle='-[, widthB=.6, lengthB=.5', lw=1.0))\n",
    "\n",
    "        #add lines\n",
    "        plt.plot([xx1, (xx1+xx2)/2], [yy + .008*yhgt, yy + .03*yhgt], 'k-', lw=1)\n",
    "        plt.plot([xx2, (xx1+xx2)/2], [yy + .008*yhgt, yy + .03*yhgt], 'k-', lw=1)\n",
    "\n",
    "        #add p-value\n",
    "        if pval2 < .025:\n",
    "            if pval2 < .001:\n",
    "                plt.text((xx1+xx2)/2, yy + .06*yhgt,'p<.001', horizontalalignment = 'center',fontsize = 14,\\\n",
    "                         weight='bold', style='italic')\n",
    "            else:\n",
    "                plt.text((xx1+xx2)/2, yy + .06*yhgt,'p=' + str(round(pval2,3)), horizontalalignment = 'center', \\\n",
    "                         fontsize = 14, weight='bold')\n",
    "        elif pval2 > .975:            \n",
    "            if pval2 > .999:\n",
    "                plt.text((xx1+xx2)/2, yy + .06*yhgt,'p>.999', horizontalalignment = 'center',fontsize = 14, \\\n",
    "                         weight='bold', style='italic')\n",
    "            else:\n",
    "                plt.text((xx1+xx2)/2, yy + .06*yhgt,'p=' + str(round(pval2,3)), horizontalalignment = 'center', \\\n",
    "                         fontsize = 14, weight='bold')\n",
    "        else:\n",
    "            plt.text((xx1+xx2)/2, yy + .06*yhgt,'p=' + str(round(pval2,3)), horizontalalignment = 'center', fontsize = 14)"
   ]
  },
  {
   "cell_type": "code",
   "execution_count": null,
   "metadata": {
    "collapsed": true
   },
   "outputs": [],
   "source": [
    "N = 6               # number of data entries\n",
    "ind = np.arange(N)              # the x locations for the groups\n",
    "width1 = 0.35                   # bar width\n",
    "width2 = 0.175"
   ]
  },
  {
   "cell_type": "code",
   "execution_count": 9,
   "metadata": {
    "collapsed": false
   },
   "outputs": [
    {
     "data": {
      "text/html": [
       "<div>\n",
       "<table border=\"1\" class=\"dataframe\">\n",
       "  <thead>\n",
       "    <tr style=\"text-align: right;\">\n",
       "      <th></th>\n",
       "      <th>8007_5179</th>\n",
       "      <th>9407_8093</th>\n",
       "    </tr>\n",
       "  </thead>\n",
       "  <tbody>\n",
       "    <tr>\n",
       "      <th>all</th>\n",
       "      <td>{'latitude': {'mean_p1': 28.7349311689, 'mean_...</td>\n",
       "      <td>{'latitude': {'mean_p1': 28.5674871795, 'mean_...</td>\n",
       "    </tr>\n",
       "    <tr>\n",
       "      <th>fall</th>\n",
       "      <td>{'latitude': {'mean_p1': 29.0984691831, 'mean_...</td>\n",
       "      <td>{'latitude': {'mean_p1': 28.9691880759, 'mean_...</td>\n",
       "    </tr>\n",
       "    <tr>\n",
       "      <th>meiyu</th>\n",
       "      <td>{'latitude': {'mean_p1': 29.6035222569, 'mean_...</td>\n",
       "      <td>{'latitude': {'mean_p1': 29.9734809286, 'mean_...</td>\n",
       "    </tr>\n",
       "    <tr>\n",
       "      <th>post-meiyu</th>\n",
       "      <td>{'latitude': {'mean_p1': 33.6126242204, 'mean_...</td>\n",
       "      <td>{'latitude': {'mean_p1': 32.7938322765, 'mean_...</td>\n",
       "    </tr>\n",
       "    <tr>\n",
       "      <th>pre-meiyu</th>\n",
       "      <td>{'latitude': {'mean_p1': 27.4984639994, 'mean_...</td>\n",
       "      <td>{'latitude': {'mean_p1': 27.4923237045, 'mean_...</td>\n",
       "    </tr>\n",
       "    <tr>\n",
       "      <th>spring</th>\n",
       "      <td>{'latitude': {'mean_p1': 27.6091626641, 'mean_...</td>\n",
       "      <td>{'latitude': {'mean_p1': 27.178573858, 'mean_p...</td>\n",
       "    </tr>\n",
       "  </tbody>\n",
       "</table>\n",
       "</div>"
      ],
      "text/plain": [
       "                                                    8007_5179  \\\n",
       "all         {'latitude': {'mean_p1': 28.7349311689, 'mean_...   \n",
       "fall        {'latitude': {'mean_p1': 29.0984691831, 'mean_...   \n",
       "meiyu       {'latitude': {'mean_p1': 29.6035222569, 'mean_...   \n",
       "post-meiyu  {'latitude': {'mean_p1': 33.6126242204, 'mean_...   \n",
       "pre-meiyu   {'latitude': {'mean_p1': 27.4984639994, 'mean_...   \n",
       "spring      {'latitude': {'mean_p1': 27.6091626641, 'mean_...   \n",
       "\n",
       "                                                    9407_8093  \n",
       "all         {'latitude': {'mean_p1': 28.5674871795, 'mean_...  \n",
       "fall        {'latitude': {'mean_p1': 28.9691880759, 'mean_...  \n",
       "meiyu       {'latitude': {'mean_p1': 29.9734809286, 'mean_...  \n",
       "post-meiyu  {'latitude': {'mean_p1': 32.7938322765, 'mean_...  \n",
       "pre-meiyu   {'latitude': {'mean_p1': 27.4923237045, 'mean_...  \n",
       "spring      {'latitude': {'mean_p1': 27.178573858, 'mean_p...  "
      ]
     },
     "execution_count": 9,
     "metadata": {},
     "output_type": "execute_result"
    }
   ],
   "source": [
    "results_df"
   ]
  },
  {
   "cell_type": "code",
   "execution_count": 10,
   "metadata": {
    "collapsed": false
   },
   "outputs": [
    {
     "data": {
      "text/plain": [
       "all           {'latitude': {'mean_p1': 28.7349311689, 'mean_...\n",
       "fall          {'latitude': {'mean_p1': 29.0984691831, 'mean_...\n",
       "meiyu         {'latitude': {'mean_p1': 29.6035222569, 'mean_...\n",
       "post-meiyu    {'latitude': {'mean_p1': 33.6126242204, 'mean_...\n",
       "pre-meiyu     {'latitude': {'mean_p1': 27.4984639994, 'mean_...\n",
       "spring        {'latitude': {'mean_p1': 27.6091626641, 'mean_...\n",
       "Name: 8007_5179, dtype: object"
      ]
     },
     "execution_count": 10,
     "metadata": {},
     "output_type": "execute_result"
    }
   ],
   "source": [
    "results_df['8007_5179']"
   ]
  },
  {
   "cell_type": "code",
   "execution_count": null,
   "metadata": {
    "collapsed": true
   },
   "outputs": [],
   "source": [
    "fig = plt.figure(figsize = (12,18))\n",
    "ax1 = fig.add_subplot(311)\n",
    "\n",
    "rects1 = ax1.bar(ind, results_df['8007_5179',                  # data\n",
    "                width1,                          # bar width\n",
    "                color='MediumSlateBlue',        # bar colour\n",
    "                yerr=f1_5179_std,                  # data for error bars\n",
    "                error_kw={'ecolor':'Black',    # error-bars colour\n",
    "                          'linewidth':2})     \n",
    "\n",
    "rects2 = ax1.bar(ind + width1, f1_8093, \n",
    "                width2, \n",
    "                color='Tomato', \n",
    "                yerr=f1_8093_std, \n",
    "                error_kw={'ecolor':'Black',\n",
    "                          'linewidth':2})\n",
    "\n",
    "rects3 = ax1.bar(ind + width1 + width2, f1_9407, \n",
    "                width2, \n",
    "                color='Gold', \n",
    "                yerr=f1_9407_std, \n",
    "                error_kw={'ecolor':'Black',\n",
    "                          'linewidth':2})\n",
    "\n",
    "rects = [rects1,rects2,rects3]\n",
    "\n",
    "#OPTIONAL: Change axes limits if necessary\n",
    "ax1.set_ylim([0, .94])\n",
    "ax1.set_xlim([-.175,5.875])     \n",
    "\n",
    "addpvals(fig,ax1,rects,)\n",
    "         f1_5179_std,f1_8093_std,f1_9407_std,f1_5179_8007_diff,f1_8093_9407_diff)\n",
    "\n",
    "ax1.set_ylabel('Frequency', fontsize=14)\n",
    "ax1.set_title('a) Primary Rainband Frequency', fontsize=16)\n",
    "ax1.set_xticks(ind + width1)\n",
    "ax1.set_xticklabels(('Spring', 'Pre-Meiyu', 'Meiyu', 'Post-Meiyu', 'Fall','Full Year'), fontsize=14)\n",
    "\n",
    "ax1.legend((rects[0][0], rects[1][0], rects[2][0]), (\"'51-'79\", \"'80-'93\", \"'94-'07\"))\n",
    "\n",
    "fig.show()"
   ]
  }
 ],
 "metadata": {
  "kernelspec": {
   "display_name": "Python 3",
   "language": "python",
   "name": "python3"
  },
  "language_info": {
   "codemirror_mode": {
    "name": "ipython",
    "version": 3
   },
   "file_extension": ".py",
   "mimetype": "text/x-python",
   "name": "python",
   "nbconvert_exporter": "python",
   "pygments_lexer": "ipython3",
   "version": "3.6.0"
  }
 },
 "nbformat": 4,
 "nbformat_minor": 2
}
