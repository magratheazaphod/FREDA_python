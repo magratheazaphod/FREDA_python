{
 "cells": [
  {
   "cell_type": "code",
   "execution_count": 1,
   "metadata": {
    "collapsed": false
   },
   "outputs": [],
   "source": [
    "import matplotlib.pyplot as plt\n",
    "import numpy as np\n",
    "import numpy.random as rnd\n",
    "import time\n",
    "import scipy as sp\n",
    "from autocorr import autocorr\n",
    "from scipy.ndimage.interpolation import shift\n",
    "\n"
   ]
  },
  {
   "cell_type": "code",
   "execution_count": 14,
   "metadata": {
    "collapsed": true
   },
   "outputs": [],
   "source": [
    "s = rnd.normal(3, 1, 50)\n"
   ]
  },
  {
   "cell_type": "code",
   "execution_count": 8,
   "metadata": {
    "collapsed": false
   },
   "outputs": [],
   "source": [
    "t = np.arange(10)\n"
   ]
  },
  {
   "cell_type": "code",
   "execution_count": 15,
   "metadata": {
    "collapsed": false
   },
   "outputs": [
    {
     "name": "stdout",
     "output_type": "stream",
     "text": [
      "[ 4.10227699  1.74207796  2.74267399  3.27984925  3.13448447  2.0843356\n",
      "  2.65452644  3.71536901  3.71774911  2.1891604   3.31256949  2.23494549\n",
      "  4.69157227  2.80226137  0.55383703  2.4712976   2.7232947   3.37819357\n",
      "  2.22006268  3.01962895  3.30911537  2.62505176  4.23879995  1.14866657\n",
      "  2.08123738  3.57357381  2.87480972  3.54635352  3.29523434  3.24878654\n",
      "  3.6941488   3.03611492  1.04182887  3.54569895  2.36196648  1.52242061\n",
      "  4.30955577  2.88762516  2.52311197  1.98970986  0.77681311  1.09301452\n",
      "  2.78612968  4.34269084  1.63109452  1.55472803  2.57299769  1.93376117\n",
      "  2.40798798  2.45767829]\n"
     ]
    }
   ],
   "source": [
    "print(s)"
   ]
  },
  {
   "cell_type": "code",
   "execution_count": 10,
   "metadata": {
    "collapsed": false
   },
   "outputs": [
    {
     "name": "stdout",
     "output_type": "stream",
     "text": [
      "[ 0  0  2  6 12 20 30 42 56 72]\n"
     ]
    }
   ],
   "source": [
    "print(t*shift(t,1,cval=0))"
   ]
  },
  {
   "cell_type": "code",
   "execution_count": 16,
   "metadata": {
    "collapsed": false
   },
   "outputs": [
    {
     "name": "stdout",
     "output_type": "stream",
     "text": [
      "[  1.00000000e+00  -2.70573124e-02  -2.05927087e-01   5.30912635e-02\n",
      "  -6.10095040e-02   1.52236954e-01   2.15127031e-04   4.80849898e-03\n",
      "   7.18371172e-02   2.75143345e-01   5.00818696e-02]\n",
      "[  1.00000000e+00   7.32098153e-04   4.24059652e-02   2.81868226e-03\n",
      "   3.72215958e-03   2.31760903e-02   4.62796396e-08   2.31216625e-05\n",
      "   5.16057140e-03   7.57038605e-02   2.50819366e-03]\n"
     ]
    },
    {
     "data": {
      "text/plain": [
       "(array([  1.00000000e+00,  -2.70573124e-02,  -2.05927087e-01,\n",
       "          5.30912635e-02,  -6.10095040e-02,   1.52236954e-01,\n",
       "          2.15127031e-04,   4.80849898e-03,   7.18371172e-02,\n",
       "          2.75143345e-01,   5.00818696e-02]), 1.1562507888994829)"
      ]
     },
     "execution_count": 16,
     "metadata": {},
     "output_type": "execute_result"
    }
   ],
   "source": [
    "autocorr(s,10)"
   ]
  },
  {
   "cell_type": "code",
   "execution_count": null,
   "metadata": {
    "collapsed": true
   },
   "outputs": [],
   "source": []
  },
  {
   "cell_type": "code",
   "execution_count": null,
   "metadata": {
    "collapsed": true
   },
   "outputs": [],
   "source": []
  }
 ],
 "metadata": {
  "kernelspec": {
   "display_name": "Python 3",
   "language": "python",
   "name": "python3"
  },
  "language_info": {
   "codemirror_mode": {
    "name": "ipython",
    "version": 3
   },
   "file_extension": ".py",
   "mimetype": "text/x-python",
   "name": "python",
   "nbconvert_exporter": "python",
   "pygments_lexer": "ipython3",
   "version": "3.5.2"
  }
 },
 "nbformat": 4,
 "nbformat_minor": 0
}
