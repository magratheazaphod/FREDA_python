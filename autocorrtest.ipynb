{
 "cells": [
  {
   "cell_type": "code",
   "execution_count": 1,
   "metadata": {
    "collapsed": false
   },
   "outputs": [],
   "source": [
    "import matplotlib.pyplot as plt\n",
    "import numpy as np\n",
    "import numpy.random as rnd\n",
    "import time\n",
    "import scipy as sp\n",
    "from autocorr import autocorr\n",
    "from scipy.ndimage.interpolation import shift\n",
    "\n"
   ]
  },
  {
   "cell_type": "code",
   "execution_count": 75,
   "metadata": {
    "collapsed": false
   },
   "outputs": [],
   "source": [
    "t = np.arange(50)\n"
   ]
  },
  {
   "cell_type": "code",
   "execution_count": 19,
   "metadata": {
    "collapsed": false
   },
   "outputs": [
    {
     "name": "stdout",
     "output_type": "stream",
     "text": [
      "[ 3.38403483  3.88484052  3.06851254  1.14468141  2.73504613  5.08751169\n",
      "  4.45781813  2.45816646  2.12149287  3.44772338  3.10345636  4.44127889\n",
      "  3.73850483  3.03888338  2.86687572  4.78405618  3.59287468  2.55720806\n",
      "  3.54142836  3.3303918   2.81984773  1.10205206  2.29442015  4.84527474\n",
      "  2.57593623  3.21825156  2.20990735  4.73211815  1.19050582  3.91642872\n",
      "  3.30497176  1.23250971  3.50305847  1.64311278  4.276923    1.1115823\n",
      "  2.82648673  3.76848308  2.31549413  3.44179508  3.22052628  3.35423034\n",
      "  3.99671132  2.93455843  1.37275188  0.53360476  2.56731676  2.28166264\n",
      "  2.56162969  2.08702102]\n"
     ]
    }
   ],
   "source": [
    "print(s)"
   ]
  },
  {
   "cell_type": "code",
   "execution_count": 5,
   "metadata": {
    "collapsed": false
   },
   "outputs": [
    {
     "name": "stdout",
     "output_type": "stream",
     "text": [
      "[ 0  0  2  6 12 20 30 42 56 72]\n"
     ]
    }
   ],
   "source": [
    "print(t*shift(t,1,cval=0))"
   ]
  },
  {
   "cell_type": "code",
   "execution_count": 67,
   "metadata": {
    "collapsed": true
   },
   "outputs": [],
   "source": [
    "s = rnd.normal(3, 1, 50)\n"
   ]
  },
  {
   "cell_type": "code",
   "execution_count": 68,
   "metadata": {
    "collapsed": false
   },
   "outputs": [
    {
     "data": {
      "text/plain": [
       "(array([ 1.        , -0.09696258, -0.04966897, -0.22880612]),\n",
       " 0.24912467079930134)"
      ]
     },
     "execution_count": 68,
     "metadata": {},
     "output_type": "execute_result"
    }
   ],
   "source": [
    "autocorr(t,3)"
   ]
  },
  {
   "cell_type": "code",
   "execution_count": 69,
   "metadata": {
    "collapsed": false
   },
   "outputs": [
    {
     "data": {
      "text/plain": [
       "(array([ 1.        , -0.09696258, -0.04966897, -0.22880612,  0.01587898,\n",
       "        -0.05031074]), 0.18026115320535641)"
      ]
     },
     "execution_count": 69,
     "metadata": {},
     "output_type": "execute_result"
    }
   ],
   "source": [
    "autocorr(s,5)"
   ]
  },
  {
   "cell_type": "code",
   "execution_count": 70,
   "metadata": {
    "collapsed": false
   },
   "outputs": [
    {
     "data": {
      "text/plain": [
       "(array([ 1.        , -0.09696258, -0.04966897, -0.22880612,  0.01587898,\n",
       "        -0.05031074,  0.02755677, -0.10983597]), 0.015702751060553188)"
      ]
     },
     "execution_count": 70,
     "metadata": {},
     "output_type": "execute_result"
    }
   ],
   "source": [
    "autocorr(s,7)"
   ]
  },
  {
   "cell_type": "code",
   "execution_count": 71,
   "metadata": {
    "collapsed": false
   },
   "outputs": [
    {
     "data": {
      "text/plain": [
       "(array([ 1.        , -0.09696258, -0.04966897, -0.22880612,  0.01587898,\n",
       "        -0.05031074,  0.02755677, -0.10983597,  0.12037626,  0.17517545,\n",
       "        -0.03914282]), 0.5285205197126196)"
      ]
     },
     "execution_count": 71,
     "metadata": {},
     "output_type": "execute_result"
    }
   ],
   "source": [
    "autocorr(s,10)"
   ]
  },
  {
   "cell_type": "code",
   "execution_count": 72,
   "metadata": {
    "collapsed": false
   },
   "outputs": [
    {
     "data": {
      "text/plain": [
       "(array([ 1.        , -0.09696258, -0.04966897, -0.22880612,  0.01587898,\n",
       "        -0.05031074,  0.02755677, -0.10983597,  0.12037626,  0.17517545,\n",
       "        -0.03914282, -0.14815036, -0.30465444,  0.17171953,  0.05639841,\n",
       "         0.17827929]), 0.43570537081585514)"
      ]
     },
     "execution_count": 72,
     "metadata": {},
     "output_type": "execute_result"
    }
   ],
   "source": [
    "autocorr(s,15)"
   ]
  },
  {
   "cell_type": "code",
   "execution_count": 73,
   "metadata": {
    "collapsed": false
   },
   "outputs": [
    {
     "data": {
      "text/plain": [
       "(array([  1.00000000e+00,  -9.69625761e-02,  -4.96689665e-02,\n",
       "         -2.28806122e-01,   1.58789845e-02,  -5.03107433e-02,\n",
       "          2.75567655e-02,  -1.09835967e-01,   1.20376256e-01,\n",
       "          1.75175449e-01,  -3.91428216e-02,  -1.48150361e-01,\n",
       "         -3.04654439e-01,   1.71719530e-01,   5.63984092e-02,\n",
       "          1.78279287e-01,  -2.15634849e-01,   1.12040080e-01,\n",
       "         -6.89530692e-02,  -6.74635500e-04,  -3.19709233e-01]),\n",
       " -0.55015804151063374)"
      ]
     },
     "execution_count": 73,
     "metadata": {},
     "output_type": "execute_result"
    }
   ],
   "source": [
    "autocorr(s,20)"
   ]
  },
  {
   "cell_type": "code",
   "execution_count": 74,
   "metadata": {
    "collapsed": false
   },
   "outputs": [
    {
     "data": {
      "text/plain": [
       "(array([  1.00000000e+00,  -9.69625761e-02,  -4.96689665e-02,\n",
       "         -2.28806122e-01,   1.58789845e-02,  -5.03107433e-02,\n",
       "          2.75567655e-02,  -1.09835967e-01,   1.20376256e-01,\n",
       "          1.75175449e-01,  -3.91428216e-02,  -1.48150361e-01,\n",
       "         -3.04654439e-01,   1.71719530e-01,   5.63984092e-02,\n",
       "          1.78279287e-01,  -2.15634849e-01,   1.12040080e-01,\n",
       "         -6.89530692e-02,  -6.74635500e-04,  -3.19709233e-01,\n",
       "         -1.54765410e-01,   7.98776852e-03,   2.91175143e-01,\n",
       "          3.66867829e-02,  -8.69485677e-02]), -0.36188660764355829)"
      ]
     },
     "execution_count": 74,
     "metadata": {},
     "output_type": "execute_result"
    }
   ],
   "source": [
    "autocorr(s,25)"
   ]
  },
  {
   "cell_type": "code",
   "execution_count": 49,
   "metadata": {
    "collapsed": false
   },
   "outputs": [
    {
     "name": "stdout",
     "output_type": "stream",
     "text": [
      "(array([ 1.        ,  0.77777778,  0.51515152,  0.21212121, -0.13131313,\n",
      "       -0.51515152]), 2.7171717171717171)\n"
     ]
    }
   ],
   "source": [
    "tst = autocorr(t,5)\n",
    "print(tst)"
   ]
  },
  {
   "cell_type": "code",
   "execution_count": 12,
   "metadata": {
    "collapsed": false
   },
   "outputs": [
    {
     "data": {
      "text/plain": [
       "1.8585858585858577"
      ]
     },
     "execution_count": 12,
     "metadata": {},
     "output_type": "execute_result"
    }
   ],
   "source": [
    "np.sum(tst[0])"
   ]
  },
  {
   "cell_type": "code",
   "execution_count": 15,
   "metadata": {
    "collapsed": true
   },
   "outputs": [],
   "source": [
    "randBinList = lambda n: [rnd.randint(2) for b in range(1,n+1)]\n"
   ]
  },
  {
   "cell_type": "code",
   "execution_count": 16,
   "metadata": {
    "collapsed": false
   },
   "outputs": [],
   "source": [
    "qq = randBinList(100)"
   ]
  }
 ],
 "metadata": {
  "kernelspec": {
   "display_name": "Python 3",
   "language": "python",
   "name": "python3"
  },
  "language_info": {
   "codemirror_mode": {
    "name": "ipython",
    "version": 3
   },
   "file_extension": ".py",
   "mimetype": "text/x-python",
   "name": "python",
   "nbconvert_exporter": "python",
   "pygments_lexer": "ipython3",
   "version": "3.5.2"
  }
 },
 "nbformat": 4,
 "nbformat_minor": 0
}
