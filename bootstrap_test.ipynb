{
 "cells": [
  {
   "cell_type": "code",
   "execution_count": 41,
   "metadata": {
    "collapsed": true
   },
   "outputs": [],
   "source": [
    "#notebook used to test bootstrapping functions in bootstrap.py, specifically bs and bs_blocks"
   ]
  },
  {
   "cell_type": "code",
   "execution_count": 3,
   "metadata": {
    "collapsed": false
   },
   "outputs": [],
   "source": [
    "import numpy as np\n",
    "from bootstrap import bs_resample\n",
    "from bootstrap import bs_mean\n",
    "from bootstrap import bs_resample_block\n",
    "import time"
   ]
  },
  {
   "cell_type": "code",
   "execution_count": 3,
   "metadata": {
    "collapsed": false
   },
   "outputs": [
    {
     "ename": "NameError",
     "evalue": "name 'np' is not defined",
     "output_type": "error",
     "traceback": [
      "\u001b[0;31m---------------------------------------------------------------------------\u001b[0m",
      "\u001b[0;31mNameError\u001b[0m                                 Traceback (most recent call last)",
      "\u001b[0;32m<ipython-input-3-288bc3d9ac62>\u001b[0m in \u001b[0;36m<module>\u001b[0;34m()\u001b[0m\n\u001b[0;32m----> 1\u001b[0;31m \u001b[0mB\u001b[0m \u001b[0;34m=\u001b[0m \u001b[0mnp\u001b[0m\u001b[0;34m.\u001b[0m\u001b[0marange\u001b[0m\u001b[0;34m(\u001b[0m\u001b[0;36m10\u001b[0m\u001b[0;34m)\u001b[0m\u001b[0;34m\u001b[0m\u001b[0m\n\u001b[0m\u001b[1;32m      2\u001b[0m \u001b[0mprint\u001b[0m\u001b[0;34m(\u001b[0m\u001b[0mB\u001b[0m\u001b[0;34m)\u001b[0m\u001b[0;34m\u001b[0m\u001b[0m\n\u001b[1;32m      3\u001b[0m \u001b[0mqq\u001b[0m \u001b[0;34m=\u001b[0m \u001b[0mnp\u001b[0m\u001b[0;34m.\u001b[0m\u001b[0mstd\u001b[0m\u001b[0;34m(\u001b[0m\u001b[0mB\u001b[0m\u001b[0;34m)\u001b[0m\u001b[0;34m\u001b[0m\u001b[0m\n\u001b[1;32m      4\u001b[0m \u001b[0mprint\u001b[0m\u001b[0;34m(\u001b[0m\u001b[0mqq\u001b[0m\u001b[0;34m)\u001b[0m\u001b[0;34m\u001b[0m\u001b[0m\n",
      "\u001b[0;31mNameError\u001b[0m: name 'np' is not defined"
     ]
    }
   ],
   "source": [
    "B = np.arange(10)\n",
    "print(B)\n",
    "qq = np.std(B)\n",
    "print(qq)"
   ]
  },
  {
   "cell_type": "code",
   "execution_count": 4,
   "metadata": {
    "collapsed": false
   },
   "outputs": [
    {
     "data": {
      "text/plain": [
       "array([ 20.25,  12.25,   6.25,   2.25,   0.25,   0.25,   2.25,   6.25,\n",
       "        12.25,  20.25])"
      ]
     },
     "execution_count": 4,
     "metadata": {},
     "output_type": "execute_result"
    }
   ],
   "source": [
    "np.empty((10,))"
   ]
  },
  {
   "cell_type": "code",
   "execution_count": 4,
   "metadata": {
    "collapsed": false
   },
   "outputs": [
    {
     "name": "stdout",
     "output_type": "stream",
     "text": [
      "[0 1 2 3 4 5 6 7 8 9]\n",
      "4.5\n",
      "4.4596\n",
      "0.289042972584\n"
     ]
    }
   ],
   "source": [
    "nn = len(B)\n",
    "print(B)\n",
    "niter = 100\n",
    "means = np.zeros([100,])\n",
    "\n",
    "for i in np.arange(niter):\n",
    "    means[i] = np.mean(bs_resample(B, 100))\n",
    "\n",
    "print(np.mean(B))\n",
    "print(np.mean(means))\n",
    "print(np.std(means))"
   ]
  },
  {
   "cell_type": "code",
   "execution_count": 5,
   "metadata": {
    "collapsed": false
   },
   "outputs": [
    {
     "name": "stdout",
     "output_type": "stream",
     "text": [
      "(4.5, array([ 4.3,  4.8,  3.3,  5.4,  4.9,  4.2,  5.5,  5.4,  4.1,  4.9,  2.1,\n",
      "        6.2,  5.7,  4.1,  5.1,  3.2,  3.6,  3.3,  4.7,  6.1,  4.4,  2.3,\n",
      "        5.9,  4.7,  4.5,  3.5,  4.2,  5.1,  3.9,  5.8,  3.5,  4.9,  5.1,\n",
      "        3.1,  5.5,  3.3,  5.6,  4.7,  3.3,  4.5,  3.1,  4.9,  4.3,  5.6,\n",
      "        4.7,  5.3,  5.2,  5.3,  4. ,  3.9,  4.2,  5.2,  5.3,  4.1,  4.3,\n",
      "        4.3,  4.6,  4.9,  4.4,  5.3,  4.8,  5.5,  5.8,  5.3,  3.3,  7.1,\n",
      "        4.9,  4. ,  4.2,  3.9,  5.8,  3.7,  2.5,  2.6,  2.9,  4.4,  4. ,\n",
      "        3.8,  4.7,  4. ,  5.8,  2.4,  2.5,  5.4,  5.3,  4.3,  6.6,  3.8,\n",
      "        5.7,  4.9,  4.7,  6.5,  3.1,  4.6,  4. ,  4.3,  5.7,  6.1,  3. ,\n",
      "        4.4]), 1.0274916058051278)\n"
     ]
    }
   ],
   "source": [
    "qq = bs_mean(B, 100)\n",
    "print(qq)"
   ]
  },
  {
   "cell_type": "code",
   "execution_count": 6,
   "metadata": {
    "collapsed": false
   },
   "outputs": [
    {
     "ename": "AttributeError",
     "evalue": "module 'numpy' has no attribute 'ceiling'",
     "output_type": "error",
     "traceback": [
      "\u001b[0;31m---------------------------------------------------------------------------\u001b[0m",
      "\u001b[0;31mAttributeError\u001b[0m                            Traceback (most recent call last)",
      "\u001b[0;32m<ipython-input-6-fb1531123545>\u001b[0m in \u001b[0;36m<module>\u001b[0;34m()\u001b[0m\n\u001b[0;32m----> 1\u001b[0;31m \u001b[0mnp\u001b[0m\u001b[0;34m.\u001b[0m\u001b[0mceiling\u001b[0m\u001b[0;34m(\u001b[0m\u001b[0;36m9.99\u001b[0m\u001b[0;34m)\u001b[0m\u001b[0;34m\u001b[0m\u001b[0m\n\u001b[0m",
      "\u001b[0;31mAttributeError\u001b[0m: module 'numpy' has no attribute 'ceiling'"
     ]
    }
   ],
   "source": [
    "np.ceiling(9.99)"
   ]
  },
  {
   "cell_type": "code",
   "execution_count": 4,
   "metadata": {
    "collapsed": false
   },
   "outputs": [
    {
     "name": "stdout",
     "output_type": "stream",
     "text": [
      "[[[  0   1   2   3   4   5   6   7   8   9]\n",
      "  [ 10  11  12  13  14  15  16  17  18  19]\n",
      "  [ 20  21  22  23  24  25  26  27  28  29]\n",
      "  [ 30  31  32  33  34  35  36  37  38  39]\n",
      "  [ 40  41  42  43  44  45  46  47  48  49]\n",
      "  [ 50  51  52  53  54  55  56  57  58  59]\n",
      "  [ 60  61  62  63  64  65  66  67  68  69]\n",
      "  [ 70  71  72  73  74  75  76  77  78  79]\n",
      "  [ 80  81  82  83  84  85  86  87  88  89]\n",
      "  [ 90  91  92  93  94  95  96  97  98  99]]\n",
      "\n",
      " [[100 101 102 103 104 105 106 107 108 109]\n",
      "  [110 111 112 113 114 115 116 117 118 119]\n",
      "  [120 121 122 123 124 125 126 127 128 129]\n",
      "  [130 131 132 133 134 135 136 137 138 139]\n",
      "  [140 141 142 143 144 145 146 147 148 149]\n",
      "  [150 151 152 153 154 155 156 157 158 159]\n",
      "  [160 161 162 163 164 165 166 167 168 169]\n",
      "  [170 171 172 173 174 175 176 177 178 179]\n",
      "  [180 181 182 183 184 185 186 187 188 189]\n",
      "  [190 191 192 193 194 195 196 197 198 199]]\n",
      "\n",
      " [[200 201 202 203 204 205 206 207 208 209]\n",
      "  [210 211 212 213 214 215 216 217 218 219]\n",
      "  [220 221 222 223 224 225 226 227 228 229]\n",
      "  [230 231 232 233 234 235 236 237 238 239]\n",
      "  [240 241 242 243 244 245 246 247 248 249]\n",
      "  [250 251 252 253 254 255 256 257 258 259]\n",
      "  [260 261 262 263 264 265 266 267 268 269]\n",
      "  [270 271 272 273 274 275 276 277 278 279]\n",
      "  [280 281 282 283 284 285 286 287 288 289]\n",
      "  [290 291 292 293 294 295 296 297 298 299]]\n",
      "\n",
      " [[300 301 302 303 304 305 306 307 308 309]\n",
      "  [310 311 312 313 314 315 316 317 318 319]\n",
      "  [320 321 322 323 324 325 326 327 328 329]\n",
      "  [330 331 332 333 334 335 336 337 338 339]\n",
      "  [340 341 342 343 344 345 346 347 348 349]\n",
      "  [350 351 352 353 354 355 356 357 358 359]\n",
      "  [360 361 362 363 364 365 366 367 368 369]\n",
      "  [370 371 372 373 374 375 376 377 378 379]\n",
      "  [380 381 382 383 384 385 386 387 388 389]\n",
      "  [390 391 392 393 394 395 396 397 398 399]]\n",
      "\n",
      " [[400 401 402 403 404 405 406 407 408 409]\n",
      "  [410 411 412 413 414 415 416 417 418 419]\n",
      "  [420 421 422 423 424 425 426 427 428 429]\n",
      "  [430 431 432 433 434 435 436 437 438 439]\n",
      "  [440 441 442 443 444 445 446 447 448 449]\n",
      "  [450 451 452 453 454 455 456 457 458 459]\n",
      "  [460 461 462 463 464 465 466 467 468 469]\n",
      "  [470 471 472 473 474 475 476 477 478 479]\n",
      "  [480 481 482 483 484 485 486 487 488 489]\n",
      "  [490 491 492 493 494 495 496 497 498 499]]\n",
      "\n",
      " [[500 501 502 503 504 505 506 507 508 509]\n",
      "  [510 511 512 513 514 515 516 517 518 519]\n",
      "  [520 521 522 523 524 525 526 527 528 529]\n",
      "  [530 531 532 533 534 535 536 537 538 539]\n",
      "  [540 541 542 543 544 545 546 547 548 549]\n",
      "  [550 551 552 553 554 555 556 557 558 559]\n",
      "  [560 561 562 563 564 565 566 567 568 569]\n",
      "  [570 571 572 573 574 575 576 577 578 579]\n",
      "  [580 581 582 583 584 585 586 587 588 589]\n",
      "  [590 591 592 593 594 595 596 597 598 599]]\n",
      "\n",
      " [[600 601 602 603 604 605 606 607 608 609]\n",
      "  [610 611 612 613 614 615 616 617 618 619]\n",
      "  [620 621 622 623 624 625 626 627 628 629]\n",
      "  [630 631 632 633 634 635 636 637 638 639]\n",
      "  [640 641 642 643 644 645 646 647 648 649]\n",
      "  [650 651 652 653 654 655 656 657 658 659]\n",
      "  [660 661 662 663 664 665 666 667 668 669]\n",
      "  [670 671 672 673 674 675 676 677 678 679]\n",
      "  [680 681 682 683 684 685 686 687 688 689]\n",
      "  [690 691 692 693 694 695 696 697 698 699]]\n",
      "\n",
      " [[700 701 702 703 704 705 706 707 708 709]\n",
      "  [710 711 712 713 714 715 716 717 718 719]\n",
      "  [720 721 722 723 724 725 726 727 728 729]\n",
      "  [730 731 732 733 734 735 736 737 738 739]\n",
      "  [740 741 742 743 744 745 746 747 748 749]\n",
      "  [750 751 752 753 754 755 756 757 758 759]\n",
      "  [760 761 762 763 764 765 766 767 768 769]\n",
      "  [770 771 772 773 774 775 776 777 778 779]\n",
      "  [780 781 782 783 784 785 786 787 788 789]\n",
      "  [790 791 792 793 794 795 796 797 798 799]]\n",
      "\n",
      " [[800 801 802 803 804 805 806 807 808 809]\n",
      "  [810 811 812 813 814 815 816 817 818 819]\n",
      "  [820 821 822 823 824 825 826 827 828 829]\n",
      "  [830 831 832 833 834 835 836 837 838 839]\n",
      "  [840 841 842 843 844 845 846 847 848 849]\n",
      "  [850 851 852 853 854 855 856 857 858 859]\n",
      "  [860 861 862 863 864 865 866 867 868 869]\n",
      "  [870 871 872 873 874 875 876 877 878 879]\n",
      "  [880 881 882 883 884 885 886 887 888 889]\n",
      "  [890 891 892 893 894 895 896 897 898 899]]\n",
      "\n",
      " [[900 901 902 903 904 905 906 907 908 909]\n",
      "  [910 911 912 913 914 915 916 917 918 919]\n",
      "  [920 921 922 923 924 925 926 927 928 929]\n",
      "  [930 931 932 933 934 935 936 937 938 939]\n",
      "  [940 941 942 943 944 945 946 947 948 949]\n",
      "  [950 951 952 953 954 955 956 957 958 959]\n",
      "  [960 961 962 963 964 965 966 967 968 969]\n",
      "  [970 971 972 973 974 975 976 977 978 979]\n",
      "  [980 981 982 983 984 985 986 987 988 989]\n",
      "  [990 991 992 993 994 995 996 997 998 999]]]\n"
     ]
    }
   ],
   "source": [
    "A = np.arange(0,1000).reshape(10,10,10)\n",
    "print(A)"
   ]
  },
  {
   "cell_type": "code",
   "execution_count": null,
   "metadata": {
    "collapsed": true
   },
   "outputs": [],
   "source": []
  },
  {
   "cell_type": "code",
   "execution_count": 5,
   "metadata": {
    "collapsed": false
   },
   "outputs": [],
   "source": [
    "B = A + 13"
   ]
  },
  {
   "cell_type": "code",
   "execution_count": 6,
   "metadata": {
    "collapsed": false
   },
   "outputs": [
    {
     "ename": "NameError",
     "evalue": "name 'numpy' is not defined",
     "output_type": "error",
     "traceback": [
      "\u001b[0;31m---------------------------------------------------------------------------\u001b[0m",
      "\u001b[0;31mNameError\u001b[0m                                 Traceback (most recent call last)",
      "\u001b[0;32m<ipython-input-6-c0440f6256c0>\u001b[0m in \u001b[0;36m<module>\u001b[0;34m()\u001b[0m\n\u001b[0;32m----> 1\u001b[0;31m \u001b[0mnumpy\u001b[0m\u001b[0;34m.\u001b[0m\u001b[0mapply_along_axis\u001b[0m\u001b[0;34m(\u001b[0m\u001b[0mmean\u001b[0m\u001b[0;34m)\u001b[0m\u001b[0;34m\u001b[0m\u001b[0m\n\u001b[0m",
      "\u001b[0;31mNameError\u001b[0m: name 'numpy' is not defined"
     ]
    }
   ],
   "source": [
    "numpy.apply_along_axis(mean)"
   ]
  },
  {
   "cell_type": "markdown",
   "metadata": {},
   "source": [
    "# "
   ]
  },
  {
   "cell_type": "markdown",
   "metadata": {
    "collapsed": false
   },
   "source": []
  },
  {
   "cell_type": "code",
   "execution_count": 7,
   "metadata": {
    "collapsed": false
   },
   "outputs": [
    {
     "data": {
      "text/plain": [
       "2.6666666666666665"
      ]
     },
     "execution_count": 7,
     "metadata": {},
     "output_type": "execute_result"
    }
   ],
   "source": [
    "np.average([0, 1, 2, 3, 4,6])"
   ]
  },
  {
   "cell_type": "code",
   "execution_count": 8,
   "metadata": {
    "collapsed": false
   },
   "outputs": [
    {
     "data": {
      "text/plain": [
       "0.0"
      ]
     },
     "execution_count": 8,
     "metadata": {},
     "output_type": "execute_result"
    }
   ],
   "source": [
    "np.floor(.1)"
   ]
  },
  {
   "cell_type": "code",
   "execution_count": 5,
   "metadata": {
    "collapsed": false
   },
   "outputs": [
    {
     "ename": "NameError",
     "evalue": "name 'floor' is not defined",
     "output_type": "error",
     "traceback": [
      "\u001b[0;31m---------------------------------------------------------------------------\u001b[0m",
      "\u001b[0;31mNameError\u001b[0m                                 Traceback (most recent call last)",
      "\u001b[0;32m<ipython-input-5-7d2abe56e34e>\u001b[0m in \u001b[0;36m<module>\u001b[0;34m()\u001b[0m\n\u001b[0;32m----> 1\u001b[0;31m \u001b[0mfloor\u001b[0m\u001b[0;34m(\u001b[0m\u001b[0;36m.9\u001b[0m\u001b[0;34m)\u001b[0m\u001b[0;34m\u001b[0m\u001b[0m\n\u001b[0m",
      "\u001b[0;31mNameError\u001b[0m: name 'floor' is not defined"
     ]
    }
   ],
   "source": [
    "floor(.9)"
   ]
  },
  {
   "cell_type": "code",
   "execution_count": 6,
   "metadata": {
    "collapsed": false
   },
   "outputs": [
    {
     "ename": "NameError",
     "evalue": "name 'B' is not defined",
     "output_type": "error",
     "traceback": [
      "\u001b[0;31m---------------------------------------------------------------------------\u001b[0m",
      "\u001b[0;31mNameError\u001b[0m                                 Traceback (most recent call last)",
      "\u001b[0;32m<ipython-input-6-35517a482b98>\u001b[0m in \u001b[0;36m<module>\u001b[0;34m()\u001b[0m\n\u001b[0;32m----> 1\u001b[0;31m \u001b[0mprint\u001b[0m\u001b[0;34m(\u001b[0m\u001b[0mB\u001b[0m\u001b[0;34m)\u001b[0m\u001b[0;34m\u001b[0m\u001b[0m\n\u001b[0m",
      "\u001b[0;31mNameError\u001b[0m: name 'B' is not defined"
     ]
    }
   ],
   "source": [
    "print(B)"
   ]
  },
  {
   "cell_type": "code",
   "execution_count": 1,
   "metadata": {
    "collapsed": false
   },
   "outputs": [],
   "source": [
    "import numpy as np\n",
    "from bootstrap import bs_resample\n",
    "from bootstrap import bs_stdofmean\n",
    "from bootstrap import bs_resample_block\n",
    "from bootstrap import bs_stdofmean_block\n",
    "from bootstrap import bs_means_diff\n",
    "\n",
    "import time"
   ]
  },
  {
   "cell_type": "code",
   "execution_count": 2,
   "metadata": {
    "collapsed": false
   },
   "outputs": [
    {
     "name": "stdout",
     "output_type": "stream",
     "text": [
      "[ 10  11  12  13  14  15  16  17  18  19  20  21  22  23  24  25  26  27\n",
      "  28  29  30  31  32  33  34  35  36  37  38  39  40  41  42  43  44  45\n",
      "  46  47  48  49  50  51  52  53  54  55  56  57  58  59  60  61  62  63\n",
      "  64  65  66  67  68  69  70  71  72  73  74  75  76  77  78  79  80  81\n",
      "  82  83  84  85  86  87  88  89  90  91  92  93  94  95  96  97  98  99\n",
      " 100 101 102 103 104 105 106 107 108 109]\n"
     ]
    },
    {
     "data": {
      "text/plain": [
       "array([ 15.,  16.,  17.,  18.,  19.,  20.,  20.,  21.,  22.,  23.,  24.,\n",
       "        25.,  44.,  45.,  46.,  47.,  48.,  49.,  13.,  14.,  15.,  16.,\n",
       "        17.,  18.,  47.,  48.,  49.])"
      ]
     },
     "execution_count": 2,
     "metadata": {},
     "output_type": "execute_result"
    }
   ],
   "source": [
    "B=np.arange(100)+10\n",
    "print(B)\n",
    "bs_resample_block(B,27,6)"
   ]
  },
  {
   "cell_type": "code",
   "execution_count": 3,
   "metadata": {
    "collapsed": false
   },
   "outputs": [
    {
     "name": "stdout",
     "output_type": "stream",
     "text": [
      "[ 3  4  5  6  7  8  9 10 11 12]\n"
     ]
    }
   ],
   "source": [
    "C=np.arange(10)\n",
    "D=np.arange(10)+3\n",
    "print(D)"
   ]
  },
  {
   "cell_type": "code",
   "execution_count": 4,
   "metadata": {
    "collapsed": false
   },
   "outputs": [
    {
     "data": {
      "text/plain": [
       "array([ 0,  1,  2,  3,  4,  5,  6,  7,  8,  9,  3,  4,  5,  6,  7,  8,  9,\n",
       "       10, 11, 12])"
      ]
     },
     "execution_count": 4,
     "metadata": {},
     "output_type": "execute_result"
    }
   ],
   "source": [
    "bs_means_diff(C,D,100)"
   ]
  },
  {
   "cell_type": "code",
   "execution_count": null,
   "metadata": {
    "collapsed": true
   },
   "outputs": [],
   "source": []
  }
 ],
 "metadata": {
  "kernelspec": {
   "display_name": "Python 3",
   "language": "python",
   "name": "python3"
  },
  "language_info": {
   "codemirror_mode": {
    "name": "ipython",
    "version": 3
   },
   "file_extension": ".py",
   "mimetype": "text/x-python",
   "name": "python",
   "nbconvert_exporter": "python",
   "pygments_lexer": "ipython3",
   "version": "3.5.2"
  }
 },
 "nbformat": 4,
 "nbformat_minor": 0
}
