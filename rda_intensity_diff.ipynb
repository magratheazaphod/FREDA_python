{
 "cells": [
  {
   "cell_type": "code",
   "execution_count": null,
   "metadata": {
    "collapsed": true
   },
   "outputs": [],
   "source": [
    "#corresponding script to rda_freq_diff, except for rainband intensity based on the mean and standard deviation\n",
    "#those were calculated in RDA_intensity.ipynb.\n",
    "\n",
    "#2 methods used:\n",
    "#1) Analytic estimate pretending intensity is Gaussian (first guess);\n",
    "#2) Bootstrapping method using actual values of intensity (probably more suitable for the problem)"
   ]
  },
  {
   "cell_type": "code",
   "execution_count": 1,
   "metadata": {
    "collapsed": true
   },
   "outputs": [],
   "source": [
    "import numpy as np\n",
    "import time\n",
    "import os\n",
    "import netCDF4 as nc\n",
    "import datetime\n",
    "import matplotlib.pyplot as plt\n",
    "#import masked arrays - important because intensity shows up as a NaN at some points\n",
    "%matplotlib notebook\n",
    "import numpy.ma as ma\n",
    "import scipy.stats as st"
   ]
  },
  {
   "cell_type": "code",
   "execution_count": 5,
   "metadata": {
    "collapsed": false
   },
   "outputs": [
    {
     "name": "stdout",
     "output_type": "stream",
     "text": [
      "5179\n",
      "8007\n",
      "8093\n",
      "9407\n"
     ]
    }
   ],
   "source": [
    "## LOAD FROM NETCDF FILE ##\n",
    "loadfile = \"RDA_int_climo\"\n",
    "ferretpath = \"/Users/Siwen/Desktop/Ferret/bin/\"\n",
    "\n",
    "#netCDF output file formatting formatting\n",
    "hovname = ferretpath + loadfile + \".nc\"\n",
    "hovnc = nc.Dataset(hovname, \"r\")\n",
    "\n",
    "#populate lists with intensity occupancy plots for each different time period (periods given below)\n",
    "p1_beg = [1951,1980]\n",
    "p1_end = [1979,1993]\n",
    "p2_beg = [1980,1994]\n",
    "p2_end = [2007,2007]\n",
    "\n",
    "#in this case, we're just going to load the smoothed plots of hovmoller frequency\n",
    "ints_1_mean_p1 = []\n",
    "ints_mean_p1 = []\n",
    "ints_1_std_p1 = []\n",
    "ints_std_p1 = []\n",
    "\n",
    "ints_1_mean_p2 = []\n",
    "ints_mean_p2 = []\n",
    "ints_1_std_p2 = []\n",
    "ints_std_p2 = []\n",
    "\n",
    "\n",
    "for p1_b, p1_e, p2_b, p2_e in zip(p1_beg, p1_end, p2_beg, p2_end):\n",
    "\n",
    "    years_p1= str(p1_b-1900) + str(\"{0:0=2d}\".format((p1_e-1900)%100))\n",
    "    print(years_p1)\n",
    "    years_p2= str(p2_b-1900) + str(\"{0:0=2d}\".format((p2_e-1900)%100))\n",
    "    print(years_p2)\n",
    "    \n",
    "    ints_1_mean_p1.append(hovnc['int_1_mean_' + years_p1][:])\n",
    "    ints_mean_p1.append(hovnc['int_mean_' + years_p1][:])\n",
    "    ints_1_std_p1.append(hovnc['int_1_std_' + years_p1][:])\n",
    "    ints_std_p1.append(hovnc['int_std_' + years_p1][:])\n",
    "    \n",
    "    ints_1_mean_p2.append(hovnc['int_1_mean_' + years_p2][:])\n",
    "    ints_mean_p2.append(hovnc['int_mean_' + years_p2][:])\n",
    "    ints_1_std_p2.append(hovnc['int_1_std_' + years_p2][:])\n",
    "    ints_std_p2.append(hovnc['int_std_' + years_p2][:])\n",
    "    \n",
    "hovnc.close()"
   ]
  },
  {
   "cell_type": "code",
   "execution_count": null,
   "metadata": {
    "collapsed": true
   },
   "outputs": [],
   "source": [
    "plt.pcolormesh(ints_1_mean_p1)"
   ]
  }
 ],
 "metadata": {
  "kernelspec": {
   "display_name": "Python 3",
   "language": "python",
   "name": "python3"
  },
  "language_info": {
   "codemirror_mode": {
    "name": "ipython",
    "version": 3
   },
   "file_extension": ".py",
   "mimetype": "text/x-python",
   "name": "python",
   "nbconvert_exporter": "python",
   "pygments_lexer": "ipython3",
   "version": "3.5.2"
  }
 },
 "nbformat": 4,
 "nbformat_minor": 0
}
