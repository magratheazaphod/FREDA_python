{
 "cells": [
  {
   "cell_type": "code",
   "execution_count": 1,
   "metadata": {
    "collapsed": true
   },
   "outputs": [],
   "source": [
    "#Redoing Figure 8 from the RDA paper (showcasing decadal changes in rainfall)\n",
    "\n",
    "#Creates zonal mean of rainfall for each day and year from 1951-2007\n",
    "#sorted by type - total, banded and local.\n",
    "\n",
    "import numpy as np\n",
    "import time\n",
    "import os\n",
    "import netCDF4 as nc"
   ]
  },
  {
   "cell_type": "code",
   "execution_count": 2,
   "metadata": {
    "collapsed": true
   },
   "outputs": [],
   "source": [
    "ferretpath = \"/Users/Siwen/Desktop/ferret/bin\""
   ]
  },
  {
   "cell_type": "code",
   "execution_count": 3,
   "metadata": {
    "collapsed": true
   },
   "outputs": [],
   "source": [
    "rdapath = \"APHRO_ZH_front_025deg_V1101.\""
   ]
  },
  {
   "cell_type": "code",
   "execution_count": 4,
   "metadata": {
    "collapsed": true
   },
   "outputs": [],
   "source": [
    "years = np.arange(57) + 1951"
   ]
  },
  {
   "cell_type": "code",
   "execution_count": 5,
   "metadata": {
    "collapsed": false
   },
   "outputs": [],
   "source": [
    "Pchina_total = np.zeros((365,80,57))\n",
    "Pchina_band = np.zeros((365,80,57))\n",
    "Pchina_local = np.zeros((365,80,57))\n",
    "\n",
    "xmin=21\n",
    "xmax=72\n",
    "ymin=1\n",
    "ymax=80"
   ]
  },
  {
   "cell_type": "code",
   "execution_count": 7,
   "metadata": {
    "collapsed": false
   },
   "outputs": [
    {
     "name": "stdout",
     "output_type": "stream",
     "text": [
      "/Users/Siwen/Desktop/ferret/bin/APHRO_ZH_front_025deg_V1101.1951.nc\n",
      "/Users/Siwen/Desktop/ferret/bin/APHRO_ZH_front_025deg_V1101.1952.nc\n",
      "/Users/Siwen/Desktop/ferret/bin/APHRO_ZH_front_025deg_V1101.1953.nc\n",
      "/Users/Siwen/Desktop/ferret/bin/APHRO_ZH_front_025deg_V1101.1954.nc\n",
      "/Users/Siwen/Desktop/ferret/bin/APHRO_ZH_front_025deg_V1101.1955.nc\n",
      "/Users/Siwen/Desktop/ferret/bin/APHRO_ZH_front_025deg_V1101.1956.nc\n",
      "/Users/Siwen/Desktop/ferret/bin/APHRO_ZH_front_025deg_V1101.1957.nc\n",
      "/Users/Siwen/Desktop/ferret/bin/APHRO_ZH_front_025deg_V1101.1958.nc\n",
      "/Users/Siwen/Desktop/ferret/bin/APHRO_ZH_front_025deg_V1101.1959.nc\n",
      "/Users/Siwen/Desktop/ferret/bin/APHRO_ZH_front_025deg_V1101.1960.nc\n",
      "/Users/Siwen/Desktop/ferret/bin/APHRO_ZH_front_025deg_V1101.1961.nc\n",
      "/Users/Siwen/Desktop/ferret/bin/APHRO_ZH_front_025deg_V1101.1962.nc\n",
      "/Users/Siwen/Desktop/ferret/bin/APHRO_ZH_front_025deg_V1101.1963.nc\n",
      "/Users/Siwen/Desktop/ferret/bin/APHRO_ZH_front_025deg_V1101.1964.nc\n",
      "/Users/Siwen/Desktop/ferret/bin/APHRO_ZH_front_025deg_V1101.1965.nc\n",
      "/Users/Siwen/Desktop/ferret/bin/APHRO_ZH_front_025deg_V1101.1966.nc\n",
      "/Users/Siwen/Desktop/ferret/bin/APHRO_ZH_front_025deg_V1101.1967.nc\n",
      "/Users/Siwen/Desktop/ferret/bin/APHRO_ZH_front_025deg_V1101.1968.nc\n",
      "/Users/Siwen/Desktop/ferret/bin/APHRO_ZH_front_025deg_V1101.1969.nc\n",
      "/Users/Siwen/Desktop/ferret/bin/APHRO_ZH_front_025deg_V1101.1970.nc\n",
      "/Users/Siwen/Desktop/ferret/bin/APHRO_ZH_front_025deg_V1101.1971.nc\n",
      "/Users/Siwen/Desktop/ferret/bin/APHRO_ZH_front_025deg_V1101.1972.nc\n",
      "/Users/Siwen/Desktop/ferret/bin/APHRO_ZH_front_025deg_V1101.1973.nc\n",
      "/Users/Siwen/Desktop/ferret/bin/APHRO_ZH_front_025deg_V1101.1974.nc\n",
      "/Users/Siwen/Desktop/ferret/bin/APHRO_ZH_front_025deg_V1101.1975.nc\n",
      "/Users/Siwen/Desktop/ferret/bin/APHRO_ZH_front_025deg_V1101.1976.nc\n",
      "/Users/Siwen/Desktop/ferret/bin/APHRO_ZH_front_025deg_V1101.1977.nc\n",
      "/Users/Siwen/Desktop/ferret/bin/APHRO_ZH_front_025deg_V1101.1978.nc\n",
      "/Users/Siwen/Desktop/ferret/bin/APHRO_ZH_front_025deg_V1101.1979.nc\n",
      "/Users/Siwen/Desktop/ferret/bin/APHRO_ZH_front_025deg_V1101.1980.nc\n",
      "/Users/Siwen/Desktop/ferret/bin/APHRO_ZH_front_025deg_V1101.1981.nc\n",
      "/Users/Siwen/Desktop/ferret/bin/APHRO_ZH_front_025deg_V1101.1982.nc\n",
      "/Users/Siwen/Desktop/ferret/bin/APHRO_ZH_front_025deg_V1101.1983.nc\n",
      "/Users/Siwen/Desktop/ferret/bin/APHRO_ZH_front_025deg_V1101.1984.nc\n",
      "/Users/Siwen/Desktop/ferret/bin/APHRO_ZH_front_025deg_V1101.1985.nc\n",
      "/Users/Siwen/Desktop/ferret/bin/APHRO_ZH_front_025deg_V1101.1986.nc\n",
      "/Users/Siwen/Desktop/ferret/bin/APHRO_ZH_front_025deg_V1101.1987.nc\n",
      "/Users/Siwen/Desktop/ferret/bin/APHRO_ZH_front_025deg_V1101.1988.nc\n",
      "/Users/Siwen/Desktop/ferret/bin/APHRO_ZH_front_025deg_V1101.1989.nc\n",
      "/Users/Siwen/Desktop/ferret/bin/APHRO_ZH_front_025deg_V1101.1990.nc\n",
      "/Users/Siwen/Desktop/ferret/bin/APHRO_ZH_front_025deg_V1101.1991.nc\n",
      "/Users/Siwen/Desktop/ferret/bin/APHRO_ZH_front_025deg_V1101.1992.nc\n",
      "/Users/Siwen/Desktop/ferret/bin/APHRO_ZH_front_025deg_V1101.1993.nc\n",
      "/Users/Siwen/Desktop/ferret/bin/APHRO_ZH_front_025deg_V1101.1994.nc\n",
      "/Users/Siwen/Desktop/ferret/bin/APHRO_ZH_front_025deg_V1101.1995.nc\n",
      "/Users/Siwen/Desktop/ferret/bin/APHRO_ZH_front_025deg_V1101.1996.nc\n",
      "/Users/Siwen/Desktop/ferret/bin/APHRO_ZH_front_025deg_V1101.1997.nc\n",
      "/Users/Siwen/Desktop/ferret/bin/APHRO_ZH_front_025deg_V1101.1998.nc\n",
      "/Users/Siwen/Desktop/ferret/bin/APHRO_ZH_front_025deg_V1101.1999.nc\n",
      "/Users/Siwen/Desktop/ferret/bin/APHRO_ZH_front_025deg_V1101.2000.nc\n",
      "/Users/Siwen/Desktop/ferret/bin/APHRO_ZH_front_025deg_V1101.2001.nc\n",
      "/Users/Siwen/Desktop/ferret/bin/APHRO_ZH_front_025deg_V1101.2002.nc\n",
      "/Users/Siwen/Desktop/ferret/bin/APHRO_ZH_front_025deg_V1101.2003.nc\n",
      "/Users/Siwen/Desktop/ferret/bin/APHRO_ZH_front_025deg_V1101.2004.nc\n",
      "/Users/Siwen/Desktop/ferret/bin/APHRO_ZH_front_025deg_V1101.2005.nc\n",
      "/Users/Siwen/Desktop/ferret/bin/APHRO_ZH_front_025deg_V1101.2006.nc\n",
      "/Users/Siwen/Desktop/ferret/bin/APHRO_ZH_front_025deg_V1101.2007.nc\n"
     ]
    }
   ],
   "source": [
    "for i in years:\n",
    "    \n",
    "    #Build filename\n",
    "    filename = ferretpath + '/' + rdapath + str(i) + '.nc'\n",
    "    print(filename)\n",
    "    myf = nc.Dataset(filename, 'r')\n",
    "    \n",
    "    #Obtain fraction of different types of rainfall\n",
    "    P_total =  myf.variables['P'][:]\n",
    "    P_band1 = myf.variables['P_band1'][:]\n",
    "    P_band2 = myf.variables['P_band2'][:]\n",
    "    P_band = P_band1 + P_band2\n",
    "    P_local = myf.variables['P_leftover'][:]\n",
    "    \n",
    "    #Find seasonal amounts of each type of rainfall\n",
    "    yr=i-1951\n",
    "    \n",
    "    #leaving out day 366 in leap years for convenience\n",
    "    Pchina_total[:,:,yr]=np.nanmean(P_total[0:365,ymin-1:ymax,xmin-1:xmax], axis=2)\n",
    "    Pchina_band[:,:,yr]=np.nanmean(P_band[0:365,ymin-1:ymax,xmin-1:xmax], axis=2)\n",
    "    Pchina_local[:,:,yr]=np.nanmean(P_local[0:365,ymin-1:ymax,xmin-1:xmax], axis=2)\n",
    "            \n",
    "    myf.close()"
   ]
  },
  {
   "cell_type": "code",
   "execution_count": 9,
   "metadata": {
    "collapsed": false
   },
   "outputs": [],
   "source": [
    "outfilename = \"Pchina_type.nc\"\n",
    "\n",
    "if os.path.exists(outfilename):\n",
    "    os.remove(outfilename)\n",
    "    \n",
    "if os.path.exists(\"/Users/Siwen/Desktop/ferret/bin/\" + outfilename):\n",
    "    os.remove(\"/Users/Siwen/Desktop/ferret/bin/\" + outfilename)\n",
    "\n",
    "#Save as netCDF file\n",
    "outfile = nc.Dataset(outfilename, \"w\", format=\"NETCDF4\")"
   ]
  },
  {
   "cell_type": "code",
   "execution_count": 10,
   "metadata": {
    "collapsed": false
   },
   "outputs": [],
   "source": [
    "#create dimensions\n",
    "days_dim = outfile.createDimension('days', None)\n",
    "lat_dim = outfile.createDimension('lat', 80)\n",
    "yr_dim = outfile.createDimension('years', 57)\n",
    "\n",
    "dim_tuple = (\"days\",\"lat\",\"years\")\n",
    "\n",
    "#create variables inside netCDF file\n",
    "Pchina_total_out = outfile.createVariable(\"Pchina_total\", 'f8', dim_tuple)\n",
    "Pchina_band_out = outfile.createVariable(\"Pchina_band\", 'f8', dim_tuple)\n",
    "Pchina_local_out = outfile.createVariable(\"Pchina_local\",'f8', dim_tuple)\n"
   ]
  },
  {
   "cell_type": "code",
   "execution_count": 11,
   "metadata": {
    "collapsed": false
   },
   "outputs": [],
   "source": [
    "outfile.variables\n",
    "\n",
    "Pchina_total_out[:] = Pchina_total\n",
    "Pchina_band_out[:] = Pchina_band\n",
    "Pchina_local_out[:] = Pchina_local\n",
    "\n",
    "outfile.close()\n",
    "os.rename(\"./\" + outfilename, \"/Users/Siwen/Desktop/ferret/bin/\" + outfilename)"
   ]
  }
 ],
 "metadata": {
  "kernelspec": {
   "display_name": "Python 3",
   "language": "python",
   "name": "python3"
  },
  "language_info": {
   "codemirror_mode": {
    "name": "ipython",
    "version": 3
   },
   "file_extension": ".py",
   "mimetype": "text/x-python",
   "name": "python",
   "nbconvert_exporter": "python",
   "pygments_lexer": "ipython3",
   "version": "3.5.2"
  }
 },
 "nbformat": 4,
 "nbformat_minor": 0
}
