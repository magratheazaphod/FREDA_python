{
 "cells": [
  {
   "cell_type": "code",
   "execution_count": null,
   "metadata": {
    "collapsed": true
   },
   "outputs": [],
   "source": [
    "## Redoing the alternative metrics plot from the RDA paper in more useful (and hopefully cooler)\n",
    "## format, trying to use seaborn to auto-bootstrap."
   ]
  },
  {
   "cell_type": "code",
   "execution_count": 7,
   "metadata": {
    "collapsed": false
   },
   "outputs": [
    {
     "name": "stdout",
     "output_type": "stream",
     "text": [
      "The autotime extension is already loaded. To reload it, use:\n",
      "  %reload_ext autotime\n",
      "time: 3.79 ms\n"
     ]
    }
   ],
   "source": [
    "import seaborn as sns\n",
    "import matplotlib.pyplot as plt\n",
    "import numpy as np\n",
    "import datetime\n",
    "import os\n",
    "import netCDF4 as nc\n",
    "%matplotlib notebook\n",
    "%load_ext autotime\n",
    "#from chr_matplotlib import remappedColorMap"
   ]
  },
  {
   "cell_type": "code",
   "execution_count": 2,
   "metadata": {
    "collapsed": false
   },
   "outputs": [
    {
     "name": "stdout",
     "output_type": "stream",
     "text": [
      "time: 6.31 ms\n"
     ]
    }
   ],
   "source": [
    "ferret_path = \"/Users/Siwen/Desktop/ferret/bin/\"\n",
    "file = \"RDA_metrics.nc\"\n",
    "metrics_path = ferret_path + file\n",
    "met_nc = nc.Dataset(metrics_path, 'r')"
   ]
  },
  {
   "cell_type": "code",
   "execution_count": 3,
   "metadata": {
    "collapsed": false
   },
   "outputs": [
    {
     "name": "stdout",
     "output_type": "stream",
     "text": [
      "time: 1.44 s\n"
     ]
    }
   ],
   "source": [
    "## Initialize Metrics\n",
    "M_1 = {'description': 'Latitude of Max Rainfall','data': met_nc['latofmax'][:]}\n",
    "M_2 = {'description': 'Latitude of Rainfall Centroid','data': met_nc['latcentroid'][:]}\n",
    "M_3 = {'description': 'Intensity of Max Rainfall','data': met_nc['intofmax'][:]}\n",
    "M_4 = {'description': 'Mean All-China Rainfall','data': met_nc['chinamean'][:]}\n",
    "M_5 = {'description': 'Mean North China Rainfall','data': met_nc['northchina_mean'][:]}\n",
    "M_6 = {'description': 'Mean South China Rainfall','data': met_nc['southchina_mean'][:]}\n",
    "M_7 = {'description': 'North China Rainfall Frequency','data': met_nc['northchina_freq'][:]}\n",
    "M_8 = {'description': 'South China Rainfall Frequency','data': met_nc['southchina_freq'][:]}\n",
    "\n",
    "met_nc.close()\n",
    "\n",
    "metrics = [M_1, M_2, M_3, M_4, M_5, M_6, M_7, M_8]"
   ]
  },
  {
   "cell_type": "code",
   "execution_count": 8,
   "metadata": {
    "collapsed": false
   },
   "outputs": [
    {
     "name": "stdout",
     "output_type": "stream",
     "text": [
      "time: 45.3 ms\n"
     ]
    }
   ],
   "source": [
    "## Associate calendar date with each data point\n",
    "startday = datetime.datetime(1951,1,1)\n",
    "date_list = np.array([datetime.timedelta(days=x) + startday for x in range(0, 20819)])"
   ]
  },
  {
   "cell_type": "code",
   "execution_count": 10,
   "metadata": {
    "collapsed": false
   },
   "outputs": [
    {
     "data": {
      "text/plain": [
       "datetime.datetime(2007, 12, 31, 0, 0)"
      ]
     },
     "execution_count": 10,
     "metadata": {},
     "output_type": "execute_result"
    },
    {
     "name": "stdout",
     "output_type": "stream",
     "text": [
      "time: 1.56 ms\n"
     ]
    }
   ],
   "source": [
    "date_list[20818]"
   ]
  },
  {
   "cell_type": "code",
   "execution_count": null,
   "metadata": {
    "collapsed": true
   },
   "outputs": [],
   "source": []
  }
 ],
 "metadata": {
  "kernelspec": {
   "display_name": "Python 3",
   "language": "python",
   "name": "python3"
  },
  "language_info": {
   "codemirror_mode": {
    "name": "ipython",
    "version": 3
   },
   "file_extension": ".py",
   "mimetype": "text/x-python",
   "name": "python",
   "nbconvert_exporter": "python",
   "pygments_lexer": "ipython3",
   "version": "3.5.2"
  }
 },
 "nbformat": 4,
 "nbformat_minor": 0
}
