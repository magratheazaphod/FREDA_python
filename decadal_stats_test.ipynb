{
 "cells": [
  {
   "cell_type": "code",
   "execution_count": 1,
   "metadata": {
    "collapsed": false
   },
   "outputs": [],
   "source": [
    "from bootstrap import bs_means_diff, bs_stdofmean\n",
    "from decadal_stats import collect_data, compare_periods\n",
    "from itertools import compress\n",
    "import numpy as np\n",
    "import time\n",
    "import os\n",
    "import netCDF4 as nc\n",
    "import datetime\n",
    "import matplotlib.pyplot as plt\n",
    "%matplotlib notebook"
   ]
  },
  {
   "cell_type": "code",
   "execution_count": 2,
   "metadata": {
    "collapsed": true
   },
   "outputs": [],
   "source": [
    "#Path to RDA results\n",
    "RDA_path_1 = \"/Users/Siwen/Desktop/ferret/bin/meiyu_clean.nc\"\n",
    "RDA_path_2 = \"/Users/Siwen/Desktop/ferret/bin/meiyu_2_clean.nc\"\n",
    "\n",
    "period = [201,273]\n",
    "years = [1951,1979]"
   ]
  },
  {
   "cell_type": "code",
   "execution_count": 3,
   "metadata": {
    "collapsed": false
   },
   "outputs": [
    {
     "name": "stderr",
     "output_type": "stream",
     "text": [
      "/Users/Siwen/RDA/decadal_stats.py:50: RuntimeWarning: invalid value encountered in greater\n",
      "  lat_1_pass = (lat_1_out > latrange[0]) & (lat_1_out < latrange[1])\n",
      "/Users/Siwen/RDA/decadal_stats.py:50: RuntimeWarning: invalid value encountered in less\n",
      "  lat_1_pass = (lat_1_out > latrange[0]) & (lat_1_out < latrange[1])\n",
      "/Users/Siwen/RDA/decadal_stats.py:51: RuntimeWarning: invalid value encountered in greater\n",
      "  lat_2_pass = (lat_2_out > latrange[0]) & (lat_2_out < latrange[1])\n",
      "/Users/Siwen/RDA/decadal_stats.py:51: RuntimeWarning: invalid value encountered in less\n",
      "  lat_2_pass = (lat_2_out > latrange[0]) & (lat_2_out < latrange[1])\n"
     ]
    },
    {
     "data": {
      "text/plain": [
       "{'frequency': {},\n",
       " 'intensity': {'diff_p1p2': 0.61353578255149444,\n",
       "  'mean_p1': 23.491198109399697,\n",
       "  'mean_p2': 24.104733891951192,\n",
       "  'pval': 0.88471152884711524,\n",
       "  'std_p1': 0.34500613764100591,\n",
       "  'std_p2': 0.38182347545921302},\n",
       " 'latitude': {'diff_p1p2': -0.69520139788962609,\n",
       "  'mean_p1': 33.61262422043778,\n",
       "  'mean_p2': 32.917422822548154,\n",
       "  'pval': 0.00019998000199980003,\n",
       "  'std_p1': 0.13005036050812349,\n",
       "  'std_p2': 0.13029135527087402}}"
      ]
     },
     "execution_count": 3,
     "metadata": {},
     "output_type": "execute_result"
    }
   ],
   "source": [
    "compare_periods([[1951,1979],[1980,2007]],[201,273], primary_only = True, \\\n",
    "                latrange=[27,99])"
   ]
  },
  {
   "cell_type": "code",
   "execution_count": null,
   "metadata": {
    "collapsed": true
   },
   "outputs": [],
   "source": []
  }
 ],
 "metadata": {
  "kernelspec": {
   "display_name": "Python 3",
   "language": "python",
   "name": "python3"
  },
  "language_info": {
   "codemirror_mode": {
    "name": "ipython",
    "version": 3
   },
   "file_extension": ".py",
   "mimetype": "text/x-python",
   "name": "python",
   "nbconvert_exporter": "python",
   "pygments_lexer": "ipython3",
   "version": "3.6.0"
  }
 },
 "nbformat": 4,
 "nbformat_minor": 2
}
