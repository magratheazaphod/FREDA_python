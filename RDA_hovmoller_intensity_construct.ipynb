{
 "cells": [
  {
   "cell_type": "code",
   "execution_count": 1,
   "metadata": {
    "collapsed": true
   },
   "outputs": [],
   "source": [
    "## transferring code previously contained in the nebulously named RDA_hov_periods to its own notebook explaining\n",
    "## how Hovmoller occupancy plots of intensity were constructed."
   ]
  },
  {
   "cell_type": "code",
   "execution_count": 1,
   "metadata": {
    "collapsed": true
   },
   "outputs": [],
   "source": [
    "import numpy as np\n",
    "import time\n",
    "import os\n",
    "import netCDF4 as nc\n",
    "import datetime\n",
    "import matplotlib.pyplot as plt\n",
    "%matplotlib notebook"
   ]
  },
  {
   "cell_type": "code",
   "execution_count": 2,
   "metadata": {
    "collapsed": true
   },
   "outputs": [],
   "source": [
    "#Access NetCDF files (currently hosted in Ferret directory)\n",
    "RDA_path_1 = \"/Users/Siwen/Desktop/ferret/bin/meiyu_clean.nc\"\n",
    "RDA_path_2 = \"/Users/Siwen/Desktop/ferret/bin/meiyu_2_clean.nc\"\n",
    "RDA_1 = nc.Dataset(RDA_path_1, 'r')\n",
    "RDA_2 = nc.Dataset(RDA_path_2, 'r')"
   ]
  },
  {
   "cell_type": "code",
   "execution_count": 3,
   "metadata": {
    "collapsed": true
   },
   "outputs": [],
   "source": [
    "#load data from NetCDF files to notebook\n",
    "lat_1_all =  RDA_1.variables['lat_115'][:]\n",
    "lat_2_all =  RDA_2.variables['lat_115'][:]\n",
    "intensity_1_all = RDA_1.variables['intensity'][:] \n",
    "intensity_2_all = RDA_2.variables['intensity'][:]\n",
    "\n",
    "RDA_1.close()\n",
    "RDA_2.close()"
   ]
  },
  {
   "cell_type": "code",
   "execution_count": 4,
   "metadata": {
    "collapsed": true
   },
   "outputs": [],
   "source": [
    "#Assign a calendar date to each time point\n",
    "startday = datetime.datetime(1951,1,1)\n",
    "date_list = np.array([datetime.timedelta(days=x) + startday for x in range(0, 20819)])"
   ]
  },
  {
   "cell_type": "code",
   "execution_count": 5,
   "metadata": {
    "collapsed": true
   },
   "outputs": [],
   "source": [
    "#Define empty variables reshaped with axis 0 as day of year and axis 1 as year.\n",
    "\n",
    "#time periods of interest - period1 (p1) and period2 (p2)\n",
    "#adjustment: mymap (below) now also restricts by years of interest.\n",
    "yr_beg = [1951,1951,1980,1980,1994]\n",
    "yr_end = [2007,1979,2007,1993,2007]\n",
    "\n",
    "#variable storage for period 1 and period 2 - initialized as e\n",
    "lats_1 = []\n",
    "lats_2 = []\n",
    "intensity_1 = []\n",
    "intensity_2 = []\n",
    "\n",
    "\n",
    "## TIME PERIOD 1 - arrange data by day of year and then year\n",
    "for yr_b, yr_e in zip(yr_beg, yr_end):\n",
    "\n",
    "    lat_1 = np.zeros([365, yr_e-yr_b+1])\n",
    "    lat_2 = np.zeros([365, yr_e-yr_b+1])\n",
    "    int_1 = np.zeros([365, yr_e-yr_b+1])\n",
    "    int_2 = np.zeros([365, yr_e-yr_b+1])\n",
    "        \n",
    "    for i, date in enumerate(date_list[0:365]): #go through each day of the year\n",
    "    \n",
    "        dd = date.day\n",
    "        mm = date.month\n",
    "        mymap = map(lambda date: (date.day == dd) & (date.month == mm) & (date.year >= yr_b) & (date.year <= yr_e), date_list)\n",
    "        extract = np.array(list(mymap))\n",
    "    \n",
    "        lat_1[i,:] = lat_1_all[extract]\n",
    "        lat_2[i,:] = lat_2_all[extract]\n",
    "        int_1[i,:] = intensity_1_all[extract]\n",
    "        int_2[i,:] = intensity_2_all[extract]\n",
    "             \n",
    "    lats_1.append(lat_1)\n",
    "    lats_2.append(lat_2)\n",
    "    intensity_1.append(int_1)\n",
    "    intensity_2.append(int_2)"
   ]
  },
  {
   "cell_type": "code",
   "execution_count": 6,
   "metadata": {
    "collapsed": true
   },
   "outputs": [],
   "source": [
    "#quick function that bins everything in a 2D array and puts floor and ceiling on array values.\n",
    "def findbins(lat):\n",
    "    index = np.ndarray.round(lat-19.5)\n",
    "    index[index < 0] = 0\n",
    "    index[index > 21] = 21\n",
    "    return index"
   ]
  },
  {
   "cell_type": "code",
   "execution_count": 8,
   "metadata": {
    "collapsed": false
   },
   "outputs": [
    {
     "name": "stderr",
     "output_type": "stream",
     "text": [
      "//anaconda/lib/python3.5/site-packages/ipykernel/__main__.py:4: RuntimeWarning: invalid value encountered in less\n",
      "//anaconda/lib/python3.5/site-packages/ipykernel/__main__.py:5: RuntimeWarning: invalid value encountered in greater\n"
     ]
    }
   ],
   "source": [
    "## find bins corresponding to latitude of each event\n",
    "lats_1_indices = [ findbins(x) for x in lats_1 ]\n",
    "lats_2_indices = [ findbins(x) for x in lats_2 ]"
   ]
  },
  {
   "cell_type": "code",
   "execution_count": 9,
   "metadata": {
    "collapsed": false
   },
   "outputs": [
    {
     "name": "stderr",
     "output_type": "stream",
     "text": [
      "//anaconda/lib/python3.5/site-packages/ipykernel/__main__.py:34: DeprecationWarning: using a non-integer number instead of an integer will result in an error in the future\n",
      "//anaconda/lib/python3.5/site-packages/ipykernel/__main__.py:35: DeprecationWarning: using a non-integer number instead of an integer will result in an error in the future\n"
     ]
    }
   ],
   "source": [
    "## INTENSITY HOVMOLLER PLOT ##\n",
    "#First step - convert to useful format. 3-D numpy array where the first dimension corresponds to day of the year, \n",
    "#the second latitude bin and the third to different instancea on the same day in same bin.\n",
    "#Code automatically expands the array in 3rd dimension when necessary.\n",
    "\n",
    "## same years of interest as above:\n",
    "#yr_beg = [1951,1951,1980,1980,1994]\n",
    "#yr_end = [2007,1979,2007,1993,2007]\n",
    "\n",
    "#initialize Hovmoller storage for intensity\n",
    "ints_1_hov = []\n",
    "\n",
    "#strategy below - for each day, fill in new np array of occupancy. expand the ensemble dimension as needed.\n",
    "#then, in main loop, expand the occupancy array in the ensemble direction if necessary based on contents of subloop.\n",
    "\n",
    "##PRIMARY EVENTS\n",
    "for myints, mylats in zip(intensity_1, lats_1_indices):\n",
    "    \n",
    "    #initialize hovmoller storage for this loop\n",
    "    my_int_hov = np.empty([365,22,10]) #from experience with this data set, at most 10 events at same latitude\n",
    "    my_int_hov[:] = np.NAN\n",
    "    \n",
    "    for dd, col in enumerate(mylats):\n",
    "\n",
    "        #print(dd)\n",
    "\n",
    "        #for this particular day, will store binned intensities for each latitude.\n",
    "        int_daily = np.empty([22,10])\n",
    "        int_daily[:] = np.NAN\n",
    "\n",
    "        for j, index in enumerate(col):\n",
    "            if not np.isnan(index):\n",
    "\n",
    "                next_empty = np.where(np.isnan(int_daily[index,:]))[0][0]                \n",
    "                int_daily[index,next_empty] = myints[dd,j] #append next intensity value to existing values at given bin\n",
    "\n",
    "        #following assignment is implicitly from 0 up until the first reclen columns\n",
    "        my_int_hov[dd,:,:] = int_daily\n",
    "    \n",
    "    ints_1_hov.append(my_int_hov)"
   ]
  },
  {
   "cell_type": "code",
   "execution_count": 13,
   "metadata": {
    "collapsed": false
   },
   "outputs": [
    {
     "name": "stderr",
     "output_type": "stream",
     "text": [
      "//anaconda/lib/python3.5/site-packages/ipykernel/__main__.py:22: DeprecationWarning: using a non-integer number instead of an integer will result in an error in the future\n",
      "//anaconda/lib/python3.5/site-packages/ipykernel/__main__.py:23: DeprecationWarning: using a non-integer number instead of an integer will result in an error in the future\n"
     ]
    }
   ],
   "source": [
    "## initialize storage\n",
    "ints_2_hov = []\n",
    "\n",
    "##SECONDARY EVENTS\n",
    "for myints, mylats in zip(intensity_2, lats_2_indices):\n",
    "    \n",
    "    #initialize hovmoller storage for this loop\n",
    "    my_int_hov = np.empty([365,22,10]) #from experience with this data set, at most 10 events at same latitude\n",
    "    my_int_hov[:] = np.NAN\n",
    "    \n",
    "    for dd, col in enumerate(mylats):\n",
    "\n",
    "        #print(dd)\n",
    "\n",
    "        #for this particular day, will store binned intensities for each latitude.\n",
    "        int_daily = np.empty([22,10])\n",
    "        int_daily[:] = np.NAN\n",
    "        \n",
    "        for j, index in enumerate(col):\n",
    "            if not np.isnan(index):\n",
    "\n",
    "                next_empty = np.where(np.isnan(int_daily[index,:]))[0][0]                \n",
    "                int_daily[index,next_empty] = myints[dd,j] #append next intensity value to existing values at given bin\n",
    "\n",
    "        #following assignment is implicitly from 0 up until the first reclen columns\n",
    "        my_int_hov[dd,:,:] = int_daily\n",
    "        \n",
    "    ints_2_hov.append(my_int_hov)"
   ]
  },
  {
   "cell_type": "code",
   "execution_count": 14,
   "metadata": {
    "collapsed": false
   },
   "outputs": [],
   "source": [
    "## JOINT INTENSITY HOVMOLLER - combining both primary and secondary (not sure if will end up using or not)\n",
    "ints_hov = []\n",
    "\n",
    "for int1,int2 in zip(ints_1_hov, ints_2_hov):\n",
    "    \n",
    "    my_int_hov = np.empty([365,22,10])\n",
    "\n",
    "    for dd, (hov_1, hov_2) in enumerate(zip(int1,int2)):\n",
    "\n",
    "        #print(dd)\n",
    "\n",
    "        hov_daily = np.empty([22,10])\n",
    "        hov_daily[:] = np.NAN\n",
    "\n",
    "        for j, (rec1, rec2) in enumerate(zip(hov_1,hov_2)):\n",
    "            \n",
    "            ## fuse primary and secondary events, lat bin by lat bin\n",
    "            r1 = rec1[~np.isnan(rec1)]\n",
    "            r2 = rec2[~np.isnan(rec2)]\n",
    "            rec = np.append(r1,r2)\n",
    "            hov_daily[j,:len(rec)] = rec\n",
    "\n",
    "        my_int_hov[dd,:,:] = hov_daily\n",
    "    \n",
    "    ints_hov.append(my_int_hov)"
   ]
  },
  {
   "cell_type": "code",
   "execution_count": 15,
   "metadata": {
    "collapsed": false
   },
   "outputs": [
    {
     "name": "stdout",
     "output_type": "stream",
     "text": [
      "5107\n",
      "5179\n",
      "8007\n",
      "8093\n",
      "9407\n"
     ]
    }
   ],
   "source": [
    "## outputs the intensity of each event for each day, binned by latitude - useful for future bootstrapping efforts\n",
    "\n",
    "#SAVE INTENSITY HOVMOLLER AS NETCDF FILE\n",
    "savefile = \"RDA_int_hov\"\n",
    "ferretpath = \"/Users/Siwen/Desktop/Ferret/bin/\"\n",
    "\n",
    "#netCDF output file formatting formatting\n",
    "hovname = ferretpath + savefile + \".nc\"\n",
    "\n",
    "#check if file exists and if so destroy it!\n",
    "if os.path.isfile(hovname):\n",
    "    os.remove(hovname)\n",
    "\n",
    "#create NetCDF file\n",
    "inthovout = nc.Dataset(hovname, \"w\")\n",
    "\n",
    "#create dimensions in NetCDF file\n",
    "days_dim = inthovout.createDimension('time', None)\n",
    "lat_dim = inthovout.createDimension('lat', 22)\n",
    "rec_dim = inthovout.createDimension('records', 10)\n",
    "dim_tuple = (\"time\",\"lat\",\"records\")\n",
    "\n",
    "#use same years as chosen above:\n",
    "#yr_beg = [1951,1951,1980,1980,1994]\n",
    "#yr_end = [2007,1979,2007,1993,2007]\n",
    "\n",
    "for i, (yr_b, yr_e) in enumerate(zip(yr_beg, yr_end)):\n",
    "    \n",
    "    #convoluted line of code below guarantees that 2007 will become '07' and not '7'\n",
    "    years = str(yr_b-1900) + str(\"{0:0=2d}\".format((yr_e-1900)%100))\n",
    "    print(years)\n",
    "\n",
    "    #create variables inside netCDF file\n",
    "    int_1_out = inthovout.createVariable(\"int_1_hov_\" + years, 'f8', dim_tuple)\n",
    "    int_2_out = inthovout.createVariable(\"int_2_hov_\" + years, 'f8', dim_tuple)\n",
    "    int_out = inthovout.createVariable(\"int_hov_\" + years, 'f8', dim_tuple)\n",
    "\n",
    "    int_1_out[:] = ints_1_hov[i]\n",
    "    int_2_out[:] = ints_2_hov[i]\n",
    "    int_out[:] = ints_hov[i]\n",
    "\n",
    "inthovout.close()"
   ]
  }
 ],
 "metadata": {
  "kernelspec": {
   "display_name": "Python 3",
   "language": "python",
   "name": "python3"
  },
  "language_info": {
   "codemirror_mode": {
    "name": "ipython",
    "version": 3
   },
   "file_extension": ".py",
   "mimetype": "text/x-python",
   "name": "python",
   "nbconvert_exporter": "python",
   "pygments_lexer": "ipython3",
   "version": "3.5.2"
  }
 },
 "nbformat": 4,
 "nbformat_minor": 0
}
