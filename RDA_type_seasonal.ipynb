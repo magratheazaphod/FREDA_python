{
 "cells": [
  {
   "cell_type": "code",
   "execution_count": 1,
   "metadata": {
    "collapsed": true
   },
   "outputs": [],
   "source": [
    "#Using Python to analyze my data for the first time. Trying to create a 12-panel figure"
   ]
  },
  {
   "cell_type": "code",
   "execution_count": 2,
   "metadata": {
    "collapsed": true
   },
   "outputs": [],
   "source": [
    "#equivalent to figure of seasonal type changes, that can serve as baseline."
   ]
  },
  {
   "cell_type": "code",
   "execution_count": 3,
   "metadata": {
    "collapsed": true
   },
   "outputs": [],
   "source": [
    "import numpy as np\n",
    "import time\n",
    "import os"
   ]
  },
  {
   "cell_type": "code",
   "execution_count": 4,
   "metadata": {
    "collapsed": true
   },
   "outputs": [],
   "source": [
    "import netCDF4 as nc"
   ]
  },
  {
   "cell_type": "code",
   "execution_count": 5,
   "metadata": {
    "collapsed": true
   },
   "outputs": [],
   "source": [
    "ferretpath = \"/Users/Siwen/Desktop/ferret/bin\""
   ]
  },
  {
   "cell_type": "code",
   "execution_count": 6,
   "metadata": {
    "collapsed": false
   },
   "outputs": [],
   "source": [
    "rdapath = \"APHRO_ZH_front_025deg_V1101.\""
   ]
  },
  {
   "cell_type": "code",
   "execution_count": 7,
   "metadata": {
    "collapsed": false
   },
   "outputs": [],
   "source": [
    "qqq = ferretpath + '/' + rdapath + str(2001) + '.nc'"
   ]
  },
  {
   "cell_type": "code",
   "execution_count": 8,
   "metadata": {
    "collapsed": false
   },
   "outputs": [],
   "source": [
    "infile = nc.Dataset(qqq, \"r\")"
   ]
  },
  {
   "cell_type": "code",
   "execution_count": 9,
   "metadata": {
    "collapsed": false
   },
   "outputs": [
    {
     "data": {
      "text/plain": [
       "OrderedDict([('lon',\n",
       "              <class 'netCDF4._netCDF4.Dimension'>: name = 'lon', size = 72),\n",
       "             ('lat',\n",
       "              <class 'netCDF4._netCDF4.Dimension'>: name = 'lat', size = 80),\n",
       "             ('time',\n",
       "              <class 'netCDF4._netCDF4.Dimension'> (unlimited): name = 'time', size = 365)])"
      ]
     },
     "execution_count": 9,
     "metadata": {},
     "output_type": "execute_result"
    }
   ],
   "source": [
    "infile.dimensions"
   ]
  },
  {
   "cell_type": "code",
   "execution_count": 10,
   "metadata": {
    "collapsed": false
   },
   "outputs": [],
   "source": [
    "years = np.arange(57) + 1951"
   ]
  },
  {
   "cell_type": "code",
   "execution_count": 11,
   "metadata": {
    "collapsed": false
   },
   "outputs": [],
   "source": [
    "seasons = (('Spring',1,60,120), ('Pre-Meiyu',2,121,160),('Meiyu',3,161,200),('Post-Meiyu',4,201,273), \\\n",
    "            ('Fall',5,274,320),('Whole',6,1,365))"
   ]
  },
  {
   "cell_type": "code",
   "execution_count": 12,
   "metadata": {
    "collapsed": false
   },
   "outputs": [],
   "source": [
    "P_type_season_yr = np.zeros((57,80,72,6,3))"
   ]
  },
  {
   "cell_type": "code",
   "execution_count": 13,
   "metadata": {
    "collapsed": false
   },
   "outputs": [
    {
     "name": "stdout",
     "output_type": "stream",
     "text": [
      "/Users/Siwen/Desktop/ferret/bin/APHRO_ZH_front_025deg_V1101.1951.nc\n",
      "/Users/Siwen/Desktop/ferret/bin/APHRO_ZH_front_025deg_V1101.1952.nc\n",
      "/Users/Siwen/Desktop/ferret/bin/APHRO_ZH_front_025deg_V1101.1953.nc\n",
      "/Users/Siwen/Desktop/ferret/bin/APHRO_ZH_front_025deg_V1101.1954.nc\n",
      "/Users/Siwen/Desktop/ferret/bin/APHRO_ZH_front_025deg_V1101.1955.nc\n",
      "/Users/Siwen/Desktop/ferret/bin/APHRO_ZH_front_025deg_V1101.1956.nc\n",
      "/Users/Siwen/Desktop/ferret/bin/APHRO_ZH_front_025deg_V1101.1957.nc\n",
      "/Users/Siwen/Desktop/ferret/bin/APHRO_ZH_front_025deg_V1101.1958.nc\n",
      "/Users/Siwen/Desktop/ferret/bin/APHRO_ZH_front_025deg_V1101.1959.nc\n",
      "/Users/Siwen/Desktop/ferret/bin/APHRO_ZH_front_025deg_V1101.1960.nc\n",
      "/Users/Siwen/Desktop/ferret/bin/APHRO_ZH_front_025deg_V1101.1961.nc\n",
      "/Users/Siwen/Desktop/ferret/bin/APHRO_ZH_front_025deg_V1101.1962.nc\n",
      "/Users/Siwen/Desktop/ferret/bin/APHRO_ZH_front_025deg_V1101.1963.nc\n",
      "/Users/Siwen/Desktop/ferret/bin/APHRO_ZH_front_025deg_V1101.1964.nc\n",
      "/Users/Siwen/Desktop/ferret/bin/APHRO_ZH_front_025deg_V1101.1965.nc\n",
      "/Users/Siwen/Desktop/ferret/bin/APHRO_ZH_front_025deg_V1101.1966.nc\n",
      "/Users/Siwen/Desktop/ferret/bin/APHRO_ZH_front_025deg_V1101.1967.nc\n",
      "/Users/Siwen/Desktop/ferret/bin/APHRO_ZH_front_025deg_V1101.1968.nc\n",
      "/Users/Siwen/Desktop/ferret/bin/APHRO_ZH_front_025deg_V1101.1969.nc\n",
      "/Users/Siwen/Desktop/ferret/bin/APHRO_ZH_front_025deg_V1101.1970.nc\n",
      "/Users/Siwen/Desktop/ferret/bin/APHRO_ZH_front_025deg_V1101.1971.nc\n",
      "/Users/Siwen/Desktop/ferret/bin/APHRO_ZH_front_025deg_V1101.1972.nc\n",
      "/Users/Siwen/Desktop/ferret/bin/APHRO_ZH_front_025deg_V1101.1973.nc\n",
      "/Users/Siwen/Desktop/ferret/bin/APHRO_ZH_front_025deg_V1101.1974.nc\n",
      "/Users/Siwen/Desktop/ferret/bin/APHRO_ZH_front_025deg_V1101.1975.nc\n",
      "/Users/Siwen/Desktop/ferret/bin/APHRO_ZH_front_025deg_V1101.1976.nc\n",
      "/Users/Siwen/Desktop/ferret/bin/APHRO_ZH_front_025deg_V1101.1977.nc\n",
      "/Users/Siwen/Desktop/ferret/bin/APHRO_ZH_front_025deg_V1101.1978.nc\n",
      "/Users/Siwen/Desktop/ferret/bin/APHRO_ZH_front_025deg_V1101.1979.nc\n",
      "/Users/Siwen/Desktop/ferret/bin/APHRO_ZH_front_025deg_V1101.1980.nc\n",
      "/Users/Siwen/Desktop/ferret/bin/APHRO_ZH_front_025deg_V1101.1981.nc\n",
      "/Users/Siwen/Desktop/ferret/bin/APHRO_ZH_front_025deg_V1101.1982.nc\n",
      "/Users/Siwen/Desktop/ferret/bin/APHRO_ZH_front_025deg_V1101.1983.nc\n",
      "/Users/Siwen/Desktop/ferret/bin/APHRO_ZH_front_025deg_V1101.1984.nc\n",
      "/Users/Siwen/Desktop/ferret/bin/APHRO_ZH_front_025deg_V1101.1985.nc\n",
      "/Users/Siwen/Desktop/ferret/bin/APHRO_ZH_front_025deg_V1101.1986.nc\n",
      "/Users/Siwen/Desktop/ferret/bin/APHRO_ZH_front_025deg_V1101.1987.nc\n",
      "/Users/Siwen/Desktop/ferret/bin/APHRO_ZH_front_025deg_V1101.1988.nc\n",
      "/Users/Siwen/Desktop/ferret/bin/APHRO_ZH_front_025deg_V1101.1989.nc\n",
      "/Users/Siwen/Desktop/ferret/bin/APHRO_ZH_front_025deg_V1101.1990.nc\n",
      "/Users/Siwen/Desktop/ferret/bin/APHRO_ZH_front_025deg_V1101.1991.nc\n",
      "/Users/Siwen/Desktop/ferret/bin/APHRO_ZH_front_025deg_V1101.1992.nc\n",
      "/Users/Siwen/Desktop/ferret/bin/APHRO_ZH_front_025deg_V1101.1993.nc\n",
      "/Users/Siwen/Desktop/ferret/bin/APHRO_ZH_front_025deg_V1101.1994.nc\n",
      "/Users/Siwen/Desktop/ferret/bin/APHRO_ZH_front_025deg_V1101.1995.nc\n",
      "/Users/Siwen/Desktop/ferret/bin/APHRO_ZH_front_025deg_V1101.1996.nc\n",
      "/Users/Siwen/Desktop/ferret/bin/APHRO_ZH_front_025deg_V1101.1997.nc\n",
      "/Users/Siwen/Desktop/ferret/bin/APHRO_ZH_front_025deg_V1101.1998.nc\n",
      "/Users/Siwen/Desktop/ferret/bin/APHRO_ZH_front_025deg_V1101.1999.nc\n",
      "/Users/Siwen/Desktop/ferret/bin/APHRO_ZH_front_025deg_V1101.2000.nc\n",
      "/Users/Siwen/Desktop/ferret/bin/APHRO_ZH_front_025deg_V1101.2001.nc\n",
      "/Users/Siwen/Desktop/ferret/bin/APHRO_ZH_front_025deg_V1101.2002.nc\n",
      "/Users/Siwen/Desktop/ferret/bin/APHRO_ZH_front_025deg_V1101.2003.nc\n",
      "/Users/Siwen/Desktop/ferret/bin/APHRO_ZH_front_025deg_V1101.2004.nc\n",
      "/Users/Siwen/Desktop/ferret/bin/APHRO_ZH_front_025deg_V1101.2005.nc\n",
      "/Users/Siwen/Desktop/ferret/bin/APHRO_ZH_front_025deg_V1101.2006.nc\n",
      "/Users/Siwen/Desktop/ferret/bin/APHRO_ZH_front_025deg_V1101.2007.nc\n"
     ]
    }
   ],
   "source": [
    "for i in years:\n",
    "    \n",
    "    #Build filename\n",
    "    filename = ferretpath + '/' + rdapath + str(i) + '.nc'\n",
    "    print(filename)\n",
    "    myf = nc.Dataset(filename, 'r')\n",
    "    \n",
    "    #Obtain fraction of different types of rainfall\n",
    "    P_all =  myf.variables['P'][:]\n",
    "    P_band1 = myf.variables['P_band1'][:]\n",
    "    P_band2 = myf.variables['P_band2'][:]\n",
    "    P_band = P_band1 + P_band2\n",
    "    P_local = myf.variables['P_leftover'][:]\n",
    "    \n",
    "    #Find seasonal amounts of each type of rainfall\n",
    "    for iter in seasons:\n",
    "    \n",
    "        P_all_season = P_all[iter[2]-1:iter[3],:,:]\n",
    "        P_band_season = P_band[iter[2]-1:iter[3],:,:]\n",
    "        P_local_season = P_local[iter[2]-1:iter[3],:,:]\n",
    "\n",
    "        P_type_season_yr[i-1951,:,:,iter[1]-1,0] = np.mean(P_all_season,0)\n",
    "        P_type_season_yr[i-1951,:,:,iter[1]-1,1] = np.mean(P_band_season,0)\n",
    "        P_type_season_yr[i-1951,:,:,iter[1]-1,2] = np.mean(P_local_season,0)\n",
    "        \n",
    "    myf.close()"
   ]
  },
  {
   "cell_type": "code",
   "execution_count": 14,
   "metadata": {
    "collapsed": false
   },
   "outputs": [],
   "source": [
    "#find 57-year mean of yearly values\n",
    "P_type_season_mean = np.mean(P_type_season_yr,0)\n",
    "#np.transpose(P_type_season_mean,(1,2,0,3))"
   ]
  },
  {
   "cell_type": "code",
   "execution_count": 15,
   "metadata": {
    "collapsed": false
   },
   "outputs": [],
   "source": [
    "saveas = \"RDA_type_season.nc\"\n",
    "fullpath = \"/Users/Siwen/Desktop/ferret/bin/\" + saveas\n",
    "    \n",
    "if os.path.exists(fullpath):\n",
    "    os.remove(fullpath)\n",
    "\n",
    "#Save as netCDF file\n",
    "outfile = nc.Dataset(outfilename, \"w\", format=\"NETCDF4\")\n",
    "infile = nc.Dataset(qqq, \"r\")"
   ]
  },
  {
   "cell_type": "code",
   "execution_count": 16,
   "metadata": {
    "collapsed": false
   },
   "outputs": [
    {
     "name": "stdout",
     "output_type": "stream",
     "text": [
      "lon 72\n",
      "False\n",
      "lat 80\n",
      "False\n",
      "time 365\n",
      "True\n"
     ]
    }
   ],
   "source": [
    "for dname, the_dim in infile.dimensions.items():\n",
    "    print(dname, len(the_dim))\n",
    "    print(the_dim.isunlimited())\n",
    "    \n",
    "    #record dimension is unlimited\n",
    "    outfile.createDimension(dname, len(the_dim) if not \\\n",
    "                            the_dim.isunlimited() else None)\n",
    "    \n",
    "#add dimensions for seasons\n",
    "seasons_dim = outfile.createDimension('seasons', 6)\n",
    "\n",
    "dim_tuple = (\"time\",\"lat\",\"lon\",\"seasons\")\n",
    "\n",
    "#create variables inside netCDF file\n",
    "P_all_out = outfile.createVariable(\"P_all_mean\", 'f8', dim_tuple)\n",
    "P_band_out = outfile.createVariable(\"P_band_mean\", 'f8', dim_tuple)\n",
    "P_local_out = outfile.createVariable(\"P_local_mean\",'f8', dim_tuple)\n",
    "\n"
   ]
  },
  {
   "cell_type": "code",
   "execution_count": 17,
   "metadata": {
    "collapsed": false
   },
   "outputs": [],
   "source": [
    "outfile.variables\n",
    "\n",
    "#Rearrange axes to match intended netCDF output\n",
    "P_all_out[:] = np.expand_dims(P_type_season_mean[:,:,:,0], axis=0)\n",
    "P_band_out[:] = np.expand_dims(P_type_season_mean[:,:,:,1], axis=0)\n",
    "P_local_out[:] = np.expand_dims(P_type_season_mean[:,:,:,2], axis=0)\n",
    "\n",
    "outfile.close()\n",
    "\n",
    "#move file to Ferret directory\n",
    "os.rename(\"./\" + outfilename, \"/Users/Siwen/Desktop/ferret/bin/\" + outfilename)"
   ]
  },
  {
   "cell_type": "code",
   "execution_count": 18,
   "metadata": {
    "collapsed": false
   },
   "outputs": [
    {
     "name": "stdout",
     "output_type": "stream",
     "text": [
      "lon 72\n",
      "False\n",
      "lat 80\n",
      "False\n",
      "time 365\n",
      "True\n"
     ]
    }
   ],
   "source": [
    "outfilename_yrly = \"RDA_type_season_yrly.nc\"\n",
    "\n",
    "if os.path.exists(outfilename_yrly):\n",
    "    os.remove(outfilename_yrly)\n",
    "    \n",
    "if os.path.exists(\"/Users/Siwen/Desktop/ferret/bin/\" + outfilename_yrly):\n",
    "    os.remove(\"/Users/Siwen/Desktop/ferret/bin/\" + outfilename_yrly)\n",
    "    \n",
    "outfile_yrly = nc.Dataset(outfilename_yrly, \"w\", format=\"NETCDF4\")\n",
    "\n",
    "for dname, the_dim in infile.dimensions.items():\n",
    "    print(dname, len(the_dim))\n",
    "    print(the_dim.isunlimited())\n",
    "    \n",
    "    #record dimension is unlimited\n",
    "    outfile_yrly.createDimension(dname, len(the_dim) if not \\\n",
    "                            the_dim.isunlimited() else None)\n",
    "    \n",
    "seasons_dim = outfile_yrly.createDimension('seasons', 6)\n",
    "\n",
    "dim_tuple = (\"time\",\"lat\",\"lon\",\"seasons\")\n",
    "\n",
    "#create variables inside netCDF file\n",
    "P_all_out_yrly = outfile_yrly.createVariable(\"P_all_mean_yrly\", 'f8', dim_tuple)\n",
    "P_band_out_yrly = outfile_yrly.createVariable(\"P_band_mean_yrly\", 'f8', dim_tuple)\n",
    "P_local_out_yrly = outfile_yrly.createVariable(\"P_local_mean_yrly\",'f8', dim_tuple)\n",
    "\n",
    "\n",
    "#Rearrange axes to match intended netCDF output\n",
    "P_all_out_yrly[:] = P_type_season_yr[:,:,:,:,0]\n",
    "P_band_out_yrly[:] = P_type_season_yr[:,:,:,:,1]\n",
    "P_local_out_yrly[:] = P_type_season_yr[:,:,:,:,2]\n",
    "\n",
    "outfile_yrly.dimensions\n",
    "outfile_yrly.variables\n",
    "time.sleep(15)\n",
    "                                     \n",
    "outfile_yrly.close()\n",
    "infile.close()\n",
    "\n",
    "os.rename(outfilename_yrly, \"/Users/Siwen/Desktop/ferret/bin/\" + outfilename_yrly)"
   ]
  },
  {
   "cell_type": "code",
   "execution_count": null,
   "metadata": {
    "collapsed": true
   },
   "outputs": [],
   "source": []
  }
 ],
 "metadata": {
  "kernelspec": {
   "display_name": "Python 3",
   "language": "python",
   "name": "python3"
  },
  "language_info": {
   "codemirror_mode": {
    "name": "ipython",
    "version": 3
   },
   "file_extension": ".py",
   "mimetype": "text/x-python",
   "name": "python",
   "nbconvert_exporter": "python",
   "pygments_lexer": "ipython3",
   "version": "3.5.2"
  }
 },
 "nbformat": 4,
 "nbformat_minor": 0
}
