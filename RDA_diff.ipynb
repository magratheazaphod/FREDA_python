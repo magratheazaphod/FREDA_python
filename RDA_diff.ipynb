{
 "cells": [
  {
   "cell_type": "code",
   "execution_count": 49,
   "metadata": {
    "collapsed": true
   },
   "outputs": [],
   "source": [
    "#Redoing Figure 8 from the RDA paper (showcasing decadal changes in rainfall)\n",
    "\n",
    "#uses the Pchina_type.nc data set created by RDA_precip_china_type.ipynb\n",
    "#tests for significance of decadal changes in zonally averaged rainfall."
   ]
  },
  {
   "cell_type": "code",
   "execution_count": 50,
   "metadata": {
    "collapsed": true
   },
   "outputs": [],
   "source": [
    "import numpy as np\n",
    "import time\n",
    "import os\n",
    "import netCDF4 as nc"
   ]
  },
  {
   "cell_type": "code",
   "execution_count": 51,
   "metadata": {
    "collapsed": true
   },
   "outputs": [],
   "source": [
    "ferretpath = \"/Users/Siwen/Desktop/ferret/bin/\"\n",
    "ff = \"Pchina_type.nc\"\n",
    "filename = ferretpath + ff\n",
    "myf = nc.Dataset(filename, 'r')"
   ]
  },
  {
   "cell_type": "code",
   "execution_count": 52,
   "metadata": {
    "collapsed": false
   },
   "outputs": [],
   "source": [
    "P_total =  myf.variables['Pchina_total'][:]\n",
    "P_band = myf.variables['Pchina_band'][:]\n",
    "P_local = myf.variables['Pchina_local'][:]"
   ]
  },
  {
   "cell_type": "code",
   "execution_count": 53,
   "metadata": {
    "collapsed": false
   },
   "outputs": [
    {
     "data": {
      "text/plain": [
       "(365, 80)"
      ]
     },
     "execution_count": 53,
     "metadata": {},
     "output_type": "execute_result"
    }
   ],
   "source": [
    "P_total.shape\n",
    "\n",
    "P_total_5179 = np.mean(P_total[:,:,1:29], axis=2)\n",
    "P_total_8007 = np.mean(P_total[:,:,1:29], axis=2)\n",
    "P_total_8093 = np.mean(P_total[:,:,1:29], axis=2)\n",
    "P_total_9407 = np.mean(P_total[:,:,1:29], axis=2)\n",
    "\n",
    "P_total_5179.shape"
   ]
  },
  {
   "cell_type": "code",
   "execution_count": 54,
   "metadata": {
    "collapsed": false
   },
   "outputs": [
    {
     "name": "stdout",
     "output_type": "stream",
     "text": [
      "[200 201 202 203 204 205 206 207 208 209 210 211 212 213 214 215 216 217\n",
      " 218 219 220 221 222 223 224 225 226 227 228 229 230 231 232 233 234 235\n",
      " 236 237 238 239 240 241 242 243 244 245 246 247 248 249 250 251 252 253\n",
      " 254 255 256 257 258 259 260 261 262 263 264 265 266 267 268 269 270 271\n",
      " 272 273 274 275 276 277 278 279 280 281 282 283 284 285 286 287 288 289\n",
      " 290 291 292 293 294 295 296 297 298 299 300 301 302 303 304 305 306 307\n",
      " 308 309 310 311 312 313 314 315 316 317 318 319 320 321 322 323 324 325\n",
      " 326 327 328 329 330 331 332 333 334 335 336 337 338 339 340 341 342 343\n",
      " 344 345 346 347 348 349 350 351 352 353 354 355 356 357 358 359 360 361\n",
      " 362 363 364 365 366 367 368 369 370 371 372 373 374 375 376 377 378 379\n",
      " 380 381 382 383 384 385 386 387 388 389 390 391 392 393 394 395 396 397\n",
      " 398 399 400 401 402 403 404 405 406 407 408 409 410 411 412 413 414 415\n",
      " 416 417 418 419 420 421 422 423 424 425 426 427 428 429 430 431 432 433\n",
      " 434 435 436 437 438 439 440 441 442 443 444 445 446 447 448 449 450 451\n",
      " 452 453 454 455 456 457 458 459 460 461 462 463 464 465 466 467 468 469\n",
      " 470 471 472 473 474 475 476 477 478 479 480 481 482 483 484 485 486 487\n",
      " 488 489 490 491 492 493 494 495 496 497 498 499 500 501 502 503 504 505\n",
      " 506 507 508 509 510 511 512 513 514 515 516 517 518 519 520 521 522 523\n",
      " 524 525 526 527 528 529 530 531 532 533 534 535 536 537 538 539 540 541\n",
      " 542 543 544 545 546 547 548 549 550 551 552 553 554 555 556 557 558 559\n",
      " 560 561 562 563 564 565 566 567 568 569 570 571 572 573 574 575 576 577\n",
      " 578 579 580 581 582 583 584 585 586 587 588 589 590 591 592 593 594 595\n",
      " 596 597 598 599 600 601 602 603 604 605 606 607 608 609 610 611 612 613\n",
      " 614 615 616 617 618 619 620 621 622 623 624 625 626 627 628 629 630 631\n",
      " 632 633 634 635 636 637 638 639 640 641 642 643 644 645 646 647 648 649\n",
      " 650 651 652 653 654 655 656 657 658 659 660 661 662 663 664 665 666 667\n",
      " 668 669 670 671 672 673 674 675 676 677 678 679 680 681 682 683 684 685\n",
      " 686 687 688 689 690 691 692 693 694 695 696 697 698 699]\n"
     ]
    }
   ],
   "source": [
    "qq = np.arange(200,700)\n",
    "print(qq)"
   ]
  },
  {
   "cell_type": "code",
   "execution_count": 192,
   "metadata": {
    "collapsed": false
   },
   "outputs": [],
   "source": [
    "def smooth(P,dayrange,latrange):\n",
    "    Psmooth=np.zeros(P.shape)\n",
    "    \n",
    "    ll=int((dayrange-1)/2)\n",
    "    yy=int((latrange-1)/2)\n",
    "    \n",
    "    days = P.shape[0]\n",
    "    lats = P.shape[1]\n",
    "    \n",
    "    for d in range(days):\n",
    "        for j in range(lats):\n",
    "            \n",
    "            Psample = P.take(range(d-ll,d+ll+1), mode='wrap', axis=0)\n",
    "            Ps = Psample[:,max(0,j-yy):min(days,j+yy+1)]\n",
    "            Psmooth[d,j] = np.mean(np.mean(Ps))\n",
    "    \n",
    "    return Psmooth"
   ]
  },
  {
   "cell_type": "code",
   "execution_count": 193,
   "metadata": {
    "collapsed": false
   },
   "outputs": [],
   "source": [
    "qq = np.arange(100)"
   ]
  },
  {
   "cell_type": "code",
   "execution_count": 194,
   "metadata": {
    "collapsed": false
   },
   "outputs": [],
   "source": [
    "qq2 = np.reshape(qq,(10,10))"
   ]
  },
  {
   "cell_type": "code",
   "execution_count": 197,
   "metadata": {
    "collapsed": false
   },
   "outputs": [
    {
     "data": {
      "text/plain": [
       "array([[ 46.44444444,  46.94444444,  47.44444444,  47.94444444,\n",
       "         48.44444444,  49.44444444,  49.94444444,  50.44444444,\n",
       "         50.94444444,  51.44444444],\n",
       "       [ 45.33333333,  45.83333333,  46.33333333,  46.83333333,\n",
       "         47.33333333,  48.33333333,  48.83333333,  49.33333333,\n",
       "         49.83333333,  50.33333333],\n",
       "       [ 44.22222222,  44.72222222,  45.22222222,  45.72222222,\n",
       "         46.22222222,  47.22222222,  47.72222222,  48.22222222,\n",
       "         48.72222222,  49.22222222],\n",
       "       [ 43.11111111,  43.61111111,  44.11111111,  44.61111111,\n",
       "         45.11111111,  46.11111111,  46.61111111,  47.11111111,\n",
       "         47.61111111,  48.11111111],\n",
       "       [ 42.        ,  42.5       ,  43.        ,  43.5       ,\n",
       "         44.        ,  45.        ,  45.5       ,  46.        ,\n",
       "         46.5       ,  47.        ],\n",
       "       [ 52.        ,  52.5       ,  53.        ,  53.5       ,\n",
       "         54.        ,  55.        ,  55.5       ,  56.        ,\n",
       "         56.5       ,  57.        ],\n",
       "       [ 50.88888889,  51.38888889,  51.88888889,  52.38888889,\n",
       "         52.88888889,  53.88888889,  54.38888889,  54.88888889,\n",
       "         55.38888889,  55.88888889],\n",
       "       [ 49.77777778,  50.27777778,  50.77777778,  51.27777778,\n",
       "         51.77777778,  52.77777778,  53.27777778,  53.77777778,\n",
       "         54.27777778,  54.77777778],\n",
       "       [ 48.66666667,  49.16666667,  49.66666667,  50.16666667,\n",
       "         50.66666667,  51.66666667,  52.16666667,  52.66666667,\n",
       "         53.16666667,  53.66666667],\n",
       "       [ 47.55555556,  48.05555556,  48.55555556,  49.05555556,\n",
       "         49.55555556,  50.55555556,  51.05555556,  51.55555556,\n",
       "         52.05555556,  52.55555556]])"
      ]
     },
     "execution_count": 197,
     "metadata": {},
     "output_type": "execute_result"
    }
   ],
   "source": [
    "smooth(qq2,9,9)"
   ]
  },
  {
   "cell_type": "raw",
   "metadata": {},
   "source": [
    "print(203/6)"
   ]
  },
  {
   "cell_type": "code",
   "execution_count": 184,
   "metadata": {
    "collapsed": false
   },
   "outputs": [
    {
     "name": "stdout",
     "output_type": "stream",
     "text": [
      "33.833333333333336\n"
     ]
    }
   ],
   "source": [
    "print(203/6)"
   ]
  },
  {
   "cell_type": "code",
   "execution_count": null,
   "metadata": {
    "collapsed": true
   },
   "outputs": [],
   "source": []
  }
 ],
 "metadata": {
  "kernelspec": {
   "display_name": "Python 3",
   "language": "python",
   "name": "python3"
  },
  "language_info": {
   "codemirror_mode": {
    "name": "ipython",
    "version": 3
   },
   "file_extension": ".py",
   "mimetype": "text/x-python",
   "name": "python",
   "nbconvert_exporter": "python",
   "pygments_lexer": "ipython3",
   "version": "3.5.2"
  }
 },
 "nbformat": 4,
 "nbformat_minor": 0
}
