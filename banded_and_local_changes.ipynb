{
 "cells": [
  {
   "cell_type": "markdown",
   "metadata": {},
   "source": [
    "Final version of Figure 3 of paper for PNAS submission, joining 1951-1979 v 1980-2007 and 1980-1993 v 1994-2007 change subplots into a single master figure."
   ]
  },
  {
   "cell_type": "code",
   "execution_count": 1,
   "metadata": {
    "collapsed": true
   },
   "outputs": [],
   "source": [
    "from itertools import chain\n",
    "import matplotlib.gridspec as gridspec\n",
    "import matplotlib.pyplot as plt\n",
    "import netCDF4 as nc\n",
    "import numpy as np\n",
    "import time\n",
    "import os\n",
    "from shutil import copy"
   ]
  },
  {
   "cell_type": "code",
   "execution_count": 2,
   "metadata": {
    "collapsed": true
   },
   "outputs": [],
   "source": [
    "ferretpath = \"/Users/Siwen/Desktop/ferret/bin\"\n",
    "rdapath = \"APHRO_ZH_front_025deg_V1101.\""
   ]
  },
  {
   "cell_type": "code",
   "execution_count": 3,
   "metadata": {},
   "outputs": [
    {
     "name": "stdout",
     "output_type": "stream",
     "text": [
      "/Users/Siwen/Desktop/ferret/bin/APHRO_ZH_front_025deg_V1101.1951.nc\n",
      "/Users/Siwen/Desktop/ferret/bin/APHRO_ZH_front_025deg_V1101.1952.nc\n",
      "/Users/Siwen/Desktop/ferret/bin/APHRO_ZH_front_025deg_V1101.1953.nc\n",
      "/Users/Siwen/Desktop/ferret/bin/APHRO_ZH_front_025deg_V1101.1954.nc\n",
      "/Users/Siwen/Desktop/ferret/bin/APHRO_ZH_front_025deg_V1101.1955.nc\n",
      "/Users/Siwen/Desktop/ferret/bin/APHRO_ZH_front_025deg_V1101.1956.nc\n",
      "/Users/Siwen/Desktop/ferret/bin/APHRO_ZH_front_025deg_V1101.1957.nc\n",
      "/Users/Siwen/Desktop/ferret/bin/APHRO_ZH_front_025deg_V1101.1958.nc\n",
      "/Users/Siwen/Desktop/ferret/bin/APHRO_ZH_front_025deg_V1101.1959.nc\n",
      "/Users/Siwen/Desktop/ferret/bin/APHRO_ZH_front_025deg_V1101.1960.nc\n",
      "/Users/Siwen/Desktop/ferret/bin/APHRO_ZH_front_025deg_V1101.1961.nc\n",
      "/Users/Siwen/Desktop/ferret/bin/APHRO_ZH_front_025deg_V1101.1962.nc\n",
      "/Users/Siwen/Desktop/ferret/bin/APHRO_ZH_front_025deg_V1101.1963.nc\n",
      "/Users/Siwen/Desktop/ferret/bin/APHRO_ZH_front_025deg_V1101.1964.nc\n",
      "/Users/Siwen/Desktop/ferret/bin/APHRO_ZH_front_025deg_V1101.1965.nc\n",
      "/Users/Siwen/Desktop/ferret/bin/APHRO_ZH_front_025deg_V1101.1966.nc\n",
      "/Users/Siwen/Desktop/ferret/bin/APHRO_ZH_front_025deg_V1101.1967.nc\n",
      "/Users/Siwen/Desktop/ferret/bin/APHRO_ZH_front_025deg_V1101.1968.nc\n",
      "/Users/Siwen/Desktop/ferret/bin/APHRO_ZH_front_025deg_V1101.1969.nc\n",
      "/Users/Siwen/Desktop/ferret/bin/APHRO_ZH_front_025deg_V1101.1970.nc\n",
      "/Users/Siwen/Desktop/ferret/bin/APHRO_ZH_front_025deg_V1101.1971.nc\n",
      "/Users/Siwen/Desktop/ferret/bin/APHRO_ZH_front_025deg_V1101.1972.nc\n",
      "/Users/Siwen/Desktop/ferret/bin/APHRO_ZH_front_025deg_V1101.1973.nc\n",
      "/Users/Siwen/Desktop/ferret/bin/APHRO_ZH_front_025deg_V1101.1974.nc\n",
      "/Users/Siwen/Desktop/ferret/bin/APHRO_ZH_front_025deg_V1101.1975.nc\n",
      "/Users/Siwen/Desktop/ferret/bin/APHRO_ZH_front_025deg_V1101.1976.nc\n",
      "/Users/Siwen/Desktop/ferret/bin/APHRO_ZH_front_025deg_V1101.1977.nc\n",
      "/Users/Siwen/Desktop/ferret/bin/APHRO_ZH_front_025deg_V1101.1978.nc\n",
      "/Users/Siwen/Desktop/ferret/bin/APHRO_ZH_front_025deg_V1101.1979.nc\n",
      "/Users/Siwen/Desktop/ferret/bin/APHRO_ZH_front_025deg_V1101.1980.nc\n",
      "/Users/Siwen/Desktop/ferret/bin/APHRO_ZH_front_025deg_V1101.1981.nc\n",
      "/Users/Siwen/Desktop/ferret/bin/APHRO_ZH_front_025deg_V1101.1982.nc\n",
      "/Users/Siwen/Desktop/ferret/bin/APHRO_ZH_front_025deg_V1101.1983.nc\n",
      "/Users/Siwen/Desktop/ferret/bin/APHRO_ZH_front_025deg_V1101.1984.nc\n",
      "/Users/Siwen/Desktop/ferret/bin/APHRO_ZH_front_025deg_V1101.1985.nc\n",
      "/Users/Siwen/Desktop/ferret/bin/APHRO_ZH_front_025deg_V1101.1986.nc\n",
      "/Users/Siwen/Desktop/ferret/bin/APHRO_ZH_front_025deg_V1101.1987.nc\n",
      "/Users/Siwen/Desktop/ferret/bin/APHRO_ZH_front_025deg_V1101.1988.nc\n",
      "/Users/Siwen/Desktop/ferret/bin/APHRO_ZH_front_025deg_V1101.1989.nc\n",
      "/Users/Siwen/Desktop/ferret/bin/APHRO_ZH_front_025deg_V1101.1990.nc\n",
      "/Users/Siwen/Desktop/ferret/bin/APHRO_ZH_front_025deg_V1101.1991.nc\n",
      "/Users/Siwen/Desktop/ferret/bin/APHRO_ZH_front_025deg_V1101.1992.nc\n",
      "/Users/Siwen/Desktop/ferret/bin/APHRO_ZH_front_025deg_V1101.1993.nc\n",
      "/Users/Siwen/Desktop/ferret/bin/APHRO_ZH_front_025deg_V1101.1994.nc\n",
      "/Users/Siwen/Desktop/ferret/bin/APHRO_ZH_front_025deg_V1101.1995.nc\n",
      "/Users/Siwen/Desktop/ferret/bin/APHRO_ZH_front_025deg_V1101.1996.nc\n",
      "/Users/Siwen/Desktop/ferret/bin/APHRO_ZH_front_025deg_V1101.1997.nc\n",
      "/Users/Siwen/Desktop/ferret/bin/APHRO_ZH_front_025deg_V1101.1998.nc\n",
      "/Users/Siwen/Desktop/ferret/bin/APHRO_ZH_front_025deg_V1101.1999.nc\n",
      "/Users/Siwen/Desktop/ferret/bin/APHRO_ZH_front_025deg_V1101.2000.nc\n",
      "/Users/Siwen/Desktop/ferret/bin/APHRO_ZH_front_025deg_V1101.2001.nc\n",
      "/Users/Siwen/Desktop/ferret/bin/APHRO_ZH_front_025deg_V1101.2002.nc\n",
      "/Users/Siwen/Desktop/ferret/bin/APHRO_ZH_front_025deg_V1101.2003.nc\n",
      "/Users/Siwen/Desktop/ferret/bin/APHRO_ZH_front_025deg_V1101.2004.nc\n",
      "/Users/Siwen/Desktop/ferret/bin/APHRO_ZH_front_025deg_V1101.2005.nc\n",
      "/Users/Siwen/Desktop/ferret/bin/APHRO_ZH_front_025deg_V1101.2006.nc\n",
      "/Users/Siwen/Desktop/ferret/bin/APHRO_ZH_front_025deg_V1101.2007.nc\n"
     ]
    }
   ],
   "source": [
    "## start by loading all precipitation data for each year.\n",
    "P = np.zeros((365,80,72,57))\n",
    "P_band = np.zeros((365,80,72,57))\n",
    "P_local = np.zeros((365,80,72,57))\n",
    "\n",
    "for yr in range(1951,2008):\n",
    "    \n",
    "    #Build filename\n",
    "    filename = ferretpath + '/' + rdapath + str(yr) + '.nc'\n",
    "    print(filename),\n",
    "    myf = nc.Dataset(filename, 'r')\n",
    "    \n",
    "    #Obtain fraction of different types of rainfall\n",
    "    P[:,:,:,yr-1951] = myf['P'][:365,:,:]\n",
    "    P_band[:,:,:,yr-1951] = myf['P_band1'][:365,:,:] + myf['P_band2'][:365,:,:]\n",
    "    P_local[:,:,:,yr-1951] = myf['P_leftover'][:365,:,:]\n",
    "    \n",
    "    myf.close()"
   ]
  },
  {
   "cell_type": "code",
   "execution_count": 4,
   "metadata": {
    "collapsed": true
   },
   "outputs": [],
   "source": [
    "## streamline the code below\n",
    "def decadal_change(precip,season,y1,y2):\n",
    "    p1 = np.sum(np.mean(precip[season[0]-1:season[1],:,:,y1[0]-1951:y1[1]-1950], axis = 3), axis = 0)\n",
    "    p2 = np.sum(np.mean(precip[season[0]-1:season[1],:,:,y2[0]-1951:y2[1]-1950], axis = 3), axis = 0)\n",
    "    return p2-p1"
   ]
  },
  {
   "cell_type": "code",
   "execution_count": 7,
   "metadata": {
    "collapsed": true
   },
   "outputs": [],
   "source": [
    "## PLOTTING\n",
    "## Using gridspec, we create two separate 12-panel grids for comparisons of different time periods.\n",
    "## left: 1980-2007 v 1951-1979\n",
    "## right: 1994-2007 v 1980-1993\n",
    "fig = plt.figure(figsize=(16,12), facecolor='w')\n",
    "#st = plt.suptitle(\"Changes in Rainfall by Type\", size = 32, y=1, x=.515)\n",
    "\n",
    "## create grids for left-hand and right-hand sides\n",
    "grid_left = gridspec.GridSpec(4, 3)\n",
    "grid_left.update(left=0.05, right=0.48)\n",
    "grid_right = gridspec.GridSpec(4, 3)\n",
    "grid_right.update(left=0.55, right=0.98)\n",
    "grids = {'a':grid_left, 'b':grid_right}\n",
    "\n",
    "## Define title for each half of the figure\n",
    "panel_titles = {'a':'1980-2007 minus 1951-1979','b':'1994-2007 minus 1980-1993'}\n",
    "\n",
    "## indices used later to refer to grid cells in same order as other lists\n",
    "xgrid = [0,0,0,1,1,1,2,2,2,3,3,3]\n",
    "ygrid = [0,1,2]*4\n",
    "grid_ix = [ [x,y] for x,y in zip(xgrid,ygrid) ]\n",
    "\n",
    "## create storage dict for axes objects for each side; a is left, b is right\n",
    "axes = {'a':[], 'b':[]}\n",
    "\n",
    "## Some variables overlap in order between the two figures; here, we set them up in proper sequence.\n",
    "P_tuple = [P, P_band, P_local]*4\n",
    "seasons = list(chain.from_iterable([[[1,365]]*3,[[121,160]]*3,[[161,200]]*3,[[201,273]]*3]))\n",
    "\n",
    "\n",
    "## Some variables are not identical between the left and right-hand sides; left side is a and right side is b below\n",
    "\n",
    "## Create year tuples - defines start and end year for inter-period comparisons.\n",
    "years = {'a':[[1951,1979],[1980,2007]],'b':[[1980,1993],[1994,2007]]}\n",
    "#year_selection = qq = 4*(3*['a']+3*['b'])\n",
    "\n",
    "## lists of the characteristics for each subplot - what column is being plotted, title and labels.\n",
    "titles = [\"Total\",\"Banded\",\"Local\"] + ['']*9\n",
    "\n",
    "## Create x-axis labels (which include line break as \\n)\n",
    "season_names = ['Full\\nYear','Pre-\\nMeiyu','Meiyu','Post-\\nMeiyu']\n",
    "temp_labels = [ [s]+2*[''] for s in season_names ] \n",
    "ylabels = {'a':[x for y in temp_labels for x in y], 'b':['']*12}\n",
    "\n",
    "\n",
    "## change x-axis and y-axis tick marks to be correct\n",
    "xtickpos = np.linspace(0,72,10)\n",
    "ytickpos = np.linspace(0,80,11)\n",
    "xticklabels = [\"\",\"107$\\!^\\circ$\",\"\",\"111$\\!^\\circ$\",\"\",\"115$\\!^\\circ$\",\"\",\"119$\\!^\\circ$\",\"\",\"123$\\!^\\circ\\!$E\"]\n",
    "yticklabels = [\"20$\\!^\\circ\\!$N\",\"\",\"24$\\!^\\circ$\",\"\",\"28$\\!^\\circ$\",\"\",\"32$\\!^\\circ$\",\"\",\"36$\\!^\\circ$\",\"\",\"40$\\!^\\circ\\!$N\"]\n",
    "\n",
    "\n",
    "## Time to actually go and make plots!\n",
    "## We run through entire loop twice, once for left-hand side, the second time for right-hand side.\n",
    "## In each loop, we cycle through each of 12 subplots, one o\n",
    "\n",
    "for half in ['a','b']:\n",
    "    for ix, precip, season, title, ylabel in zip(grid_ix,P_tuple,seasons,titles,ylabels[half]):\n",
    "        ax = plt.subplot(grids[half][ix[0],ix[1]])\n",
    "        axes[half].append(ax)\n",
    "        dc = decadal_change(precip,season,years[half][0],years[half][1])\n",
    "        im = plt.imshow(dc, origin = 'lower', vmax=100, vmin=-100, cmap = 'bwr')\n",
    "        ax.set_title(title, fontsize=24, y = 1.05)\n",
    "        ax.set_ylabel(ylabel, fontsize=24, labelpad=10, rotation='horizontal',\\\n",
    "                      horizontalalignment='right',verticalalignment='center')\n",
    "        ax.set_xticks(xtickpos)\n",
    "        ax.set_xticklabels(xticklabels)\n",
    "        ## shifting y-axis to right side makes far-left of figure look left crowded\n",
    "        ax.yaxis.tick_right()\n",
    "        ax.set_yticks(ytickpos)\n",
    "        ax.set_yticklabels(yticklabels)\n",
    "        ax.tick_params(axis='y', which='major', pad=2)\n",
    "        \n",
    "    ## add title to this half - place right above middle panel in top row\n",
    "    pos = axes[half][1].get_position() # get the original position \n",
    "    xx = (pos.x0+pos.x1)/2\n",
    "    yy = pos.y1+.05\n",
    "    plt.figtext(xx,yy,panel_titles[half],horizontalalignment='center',size=26,fontweight='bold')\n",
    "\n",
    "## Add colorbar to bottom of plot\n",
    "fig.subplots_adjust(bottom=0.1)\n",
    "fig.subplots_adjust(left=0.2)\n",
    "cbar_ax = fig.add_axes([0.3, 0.05, 0.4, 0.02])\n",
    "cb = fig.colorbar(im, cax=cbar_ax, ticks=[-100, -50, 0, 50, 100], orientation='horizontal')\n",
    "cb.ax.set_xticklabels(['<-100 mm', -50, 0, 50, '>100 mm'],size=16)  # horizontal colorbar\n",
    "cb.ax.tick_params(length=0)"
   ]
  },
  {
   "cell_type": "markdown",
   "metadata": {},
   "source": [
    "Given the relative positioning of the grid above, I found it easier to use Illustrator to adjust figure to the correct size. Protocol is to delete bounding box, trim to artwork, then extend bounding box to max width of 1390 pixels."
   ]
  },
  {
   "cell_type": "code",
   "execution_count": 8,
   "metadata": {},
   "outputs": [
    {
     "name": "stdout",
     "output_type": "stream",
     "text": [
      "Overwriting existing version of file in RDA manuscript directory...\n",
      "Overwriting existing version of file in RDA Python directory...\n"
     ]
    }
   ],
   "source": [
    "## SAVE FIGURE TO MANUSCRIPT AND ANALYSIS DIRECTORIES\n",
    "figure_name = \"changes_by_type.pdf\"\n",
    "\n",
    "savepath = \"/Users/Siwen/Desktop/RDA/Figures/\" + figure_name\n",
    "\n",
    "if os.path.exists(savepath):\n",
    "    print(\"Overwriting existing version of file in RDA manuscript directory...\")\n",
    "    os.remove(savepath)\n",
    "    \n",
    "plt.savefig(savepath, bbox_inches='tight')\n",
    "    \n",
    "copypath = \"/Users/Siwen/RDA/Figures/\" + figure_name\n",
    "    \n",
    "if os.path.exists(copypath):\n",
    "    print(\"Overwriting existing version of file in RDA Python directory...\")\n",
    "    os.remove(copypath)\n",
    "    \n",
    "copy(savepath,copypath)\n",
    "\n",
    "plt.savefig(savepath)"
   ]
  },
  {
   "cell_type": "code",
   "execution_count": null,
   "metadata": {
    "collapsed": true
   },
   "outputs": [],
   "source": []
  }
 ],
 "metadata": {
  "kernelspec": {
   "display_name": "Python 3",
   "language": "python",
   "name": "python3"
  },
  "language_info": {
   "codemirror_mode": {
    "name": "ipython",
    "version": 3
   },
   "file_extension": ".py",
   "mimetype": "text/x-python",
   "name": "python",
   "nbconvert_exporter": "python",
   "pygments_lexer": "ipython3",
   "version": "3.6.0"
  }
 },
 "nbformat": 4,
 "nbformat_minor": 1
}
