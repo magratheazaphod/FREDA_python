{
 "cells": [
  {
   "cell_type": "code",
   "execution_count": null,
   "metadata": {
    "collapsed": true
   },
   "outputs": [],
   "source": [
    "## Although we have the classification scheme of banded and local rainfall, we can further decompose banded rainfall\n",
    "#into changes due to frequency and to intensity, and then see the net change in rainfall induced by each of those.\n",
    "\n",
    "#therefore, we create a new variable - f*i, effective rainfall, and we can calculate changes and compare to the banded rainfall\n",
    "#classification scheme\n",
    "\n",
    "#can also approximate changes as f*delta i + i*delta f\n",
    "\n",
    "#not 100% sure yet how to calculate significance, but will probably have to involve bootstrapping."
   ]
  }
 ],
 "metadata": {
  "kernelspec": {
   "display_name": "Python 3",
   "language": "python",
   "name": "python3"
  },
  "language_info": {
   "codemirror_mode": {
    "name": "ipython",
    "version": 3
   },
   "file_extension": ".py",
   "mimetype": "text/x-python",
   "name": "python",
   "nbconvert_exporter": "python",
   "pygments_lexer": "ipython3",
   "version": "3.5.2"
  }
 },
 "nbformat": 4,
 "nbformat_minor": 0
}
