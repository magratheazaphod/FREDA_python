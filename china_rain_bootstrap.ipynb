{
 "cells": [
  {
   "cell_type": "code",
   "execution_count": 1,
   "metadata": {
    "collapsed": true
   },
   "outputs": [],
   "source": [
    "#still working on the bootstrapping of changes in longitude-averaged China rainfall\n",
    "#bootstrapping is time-consuming: 1,000 iterations per day per lat ~ 10 hours. Testing at what number of iterations we\n",
    "#start to see convergence"
   ]
  },
  {
   "cell_type": "code",
   "execution_count": 20,
   "metadata": {
    "collapsed": false
   },
   "outputs": [
    {
     "name": "stdout",
     "output_type": "stream",
     "text": [
      "The autotime extension is already loaded. To reload it, use:\n",
      "  %reload_ext autotime\n",
      "time: 74.5 ms\n"
     ]
    }
   ],
   "source": [
    "import matplotlib.pyplot as plt\n",
    "import numpy as np\n",
    "import time\n",
    "import os\n",
    "import netCDF4 as nc\n",
    "import matplotlib.pyplot as plt\n",
    "%matplotlib notebook\n",
    "%load_ext autotime\n",
    "%load_ext autoreload\n",
    "from bootstrap import *"
   ]
  },
  {
   "cell_type": "code",
   "execution_count": 22,
   "metadata": {
    "collapsed": false
   },
   "outputs": [
    {
     "name": "stdout",
     "output_type": "stream",
     "text": [
      "time: 3.4 ms\n"
     ]
    }
   ],
   "source": [
    "#Pchina_type, previously written, contains longitudinal averages of different TYPES of china rainfall - total, banded and local\n",
    "\n",
    "ferretpath = \"/Users/Siwen/Desktop/ferret/bin/\"\n",
    "ff = \"Pchina_type.nc\"\n",
    "filename = ferretpath + ff\n",
    "myf = nc.Dataset(filename, 'r')"
   ]
  },
  {
   "cell_type": "code",
   "execution_count": 23,
   "metadata": {
    "collapsed": false
   },
   "outputs": [
    {
     "name": "stdout",
     "output_type": "stream",
     "text": [
      "time: 47.9 ms\n"
     ]
    }
   ],
   "source": [
    "P_total =  myf.variables['Pchina_total'][:]\n",
    "P_band = myf.variables['Pchina_band'][:]\n",
    "P_local = myf.variables['Pchina_local'][:]"
   ]
  },
  {
   "cell_type": "code",
   "execution_count": null,
   "metadata": {
    "collapsed": false
   },
   "outputs": [
    {
     "name": "stdout",
     "output_type": "stream",
     "text": [
      "100\n",
      "0\n",
      "0.15249109268188477\n",
      "0.1574869155883789\n",
      "0.14703822135925293\n",
      "0.15920710563659668\n",
      "0.15522408485412598\n",
      "0.16158103942871094\n",
      "0.1538999080657959\n",
      "0.16594505310058594\n",
      "0.1499490737915039\n",
      "0.17547392845153809\n",
      "0.1519908905029297\n",
      "0.16425204277038574\n",
      "0.15482187271118164\n",
      "0.16463708877563477\n",
      "0.15172910690307617\n",
      "0.16254591941833496\n",
      "0.147050142288208\n",
      "0.15273809432983398\n",
      "0.14789080619812012\n",
      "0.15473699569702148\n",
      "0.1514291763305664\n",
      "0.1558220386505127\n",
      "0.14361786842346191\n",
      "0.15568089485168457\n",
      "0.15098810195922852\n",
      "0.17415690422058105\n",
      "0.15370488166809082\n",
      "0.16618800163269043\n",
      "0.14732098579406738\n",
      "0.15499591827392578\n",
      "0.1465139389038086\n",
      "0.15224909782409668\n",
      "0.14838886260986328\n",
      "0.15643000602722168\n",
      "0.1474001407623291\n",
      "0.15917491912841797\n",
      "0.14756107330322266\n",
      "0.15390610694885254\n",
      "0.14849114418029785\n",
      "0.152724027633667\n",
      "0.14768719673156738\n",
      "0.15281295776367188\n",
      "0.15295004844665527\n",
      "0.15224504470825195\n",
      "0.14795398712158203\n",
      "0.15221214294433594\n",
      "0.14816498756408691\n",
      "0.15508317947387695\n",
      "0.14712810516357422\n",
      "0.15492892265319824\n",
      "0.14991998672485352\n",
      "0.1576371192932129\n",
      "0.1450040340423584\n",
      "0.15683317184448242\n",
      "0.14844703674316406\n",
      "0.15821504592895508\n",
      "0.14956402778625488\n",
      "0.15903496742248535\n",
      "0.1488330364227295\n",
      "0.15845513343811035\n",
      "0.14818692207336426\n",
      "0.15929007530212402\n",
      "0.15230321884155273\n",
      "0.16440105438232422\n",
      "0.14992594718933105\n",
      "0.1561598777770996\n",
      "0.1495368480682373\n",
      "0.1672677993774414\n",
      "0.14906096458435059\n",
      "0.15316390991210938\n",
      "0.15427494049072266\n",
      "0.15540099143981934\n",
      "0.14818406105041504\n",
      "0.15178608894348145\n",
      "0.14592790603637695\n",
      "0.15221905708312988\n",
      "0.14836382865905762\n",
      "0.15279006958007812\n",
      "0.1513969898223877\n",
      "0.15500092506408691\n",
      "0.14751315116882324\n",
      "0.15184807777404785\n",
      "0.14773988723754883\n",
      "0.14923310279846191\n",
      "0.1498730182647705\n",
      "0.15269708633422852\n",
      "0.15056204795837402\n",
      "0.1573328971862793\n",
      "0.14811491966247559\n",
      "0.15679407119750977\n",
      "0.14862394332885742\n",
      "0.15698599815368652\n",
      "0.15128087997436523\n",
      "0.16420507431030273\n",
      "0.1577160358428955\n",
      "0.16077399253845215\n",
      "0.15410208702087402\n",
      "0.16265106201171875\n",
      "0.14761686325073242\n",
      "0.15134620666503906\n",
      "200\n",
      "1\n",
      "0.3022470474243164\n",
      "0.2999451160430908\n",
      "0.30528998374938965\n",
      "0.3012089729309082\n",
      "0.29598307609558105\n",
      "0.3115549087524414\n",
      "0.30231285095214844\n",
      "0.3082759380340576\n",
      "0.3026599884033203\n",
      "0.3039968013763428\n",
      "0.3021540641784668\n",
      "0.30391979217529297\n",
      "0.32441091537475586\n",
      "0.3311882019042969\n",
      "0.30460286140441895\n",
      "0.30456089973449707\n"
     ]
    }
   ],
   "source": [
    "#to test, we run at one particular latitude for the entire year, then test the change in p-values\n",
    "results = np.zeros((7,100)) #just running this code for days 100-200 in the interest of time\n",
    "itertest = 100 * 2**np.arange(7)\n",
    "testinput = np.expand_dims(P_total[:,30,:],1) #necessary to prevent input from collapsing to 2-D\n",
    "\n",
    "for niter, i in zip(itertest,np.arange(7)):\n",
    "    \n",
    "    print(niter)\n",
    "    print(i)\n",
    "    results[i,:] = np.squeeze(bs_diff_rain(testinput[100:200,:,:],[1,29],[30,57],15,niter,2))"
   ]
  },
  {
   "cell_type": "code",
   "execution_count": 68,
   "metadata": {
    "collapsed": false
   },
   "outputs": [
    {
     "data": {
      "text/plain": [
       "array([[ 0.02970297,  0.13861386],\n",
       "       [ 0.08955224,  0.1641791 ],\n",
       "       [ 0.05985037,  0.14962594],\n",
       "       [ 0.0474407 ,  0.14606742],\n",
       "       [ 0.04122423,  0.13054341],\n",
       "       [ 0.04217432,  0.15370197],\n",
       "       [ 0.03780659,  0.1452898 ]])"
      ]
     },
     "execution_count": 68,
     "metadata": {},
     "output_type": "execute_result"
    },
    {
     "name": "stdout",
     "output_type": "stream",
     "text": [
      "time: 2.36 ms\n"
     ]
    }
   ],
   "source": [
    "results"
   ]
  },
  {
   "cell_type": "code",
   "execution_count": 55,
   "metadata": {
    "collapsed": false
   },
   "outputs": [
    {
     "data": {
      "text/plain": [
       "array([[ 0.00990099,  0.00990099],\n",
       "       [ 0.00497512,  0.00497512],\n",
       "       [ 0.00249377,  0.00249377],\n",
       "       [ 0.00124844,  0.00124844],\n",
       "       [ 0.00062461,  0.00062461],\n",
       "       [ 0.0003124 ,  0.0003124 ],\n",
       "       [ 0.00015623,  0.00015623]])"
      ]
     },
     "execution_count": 55,
     "metadata": {},
     "output_type": "execute_result"
    },
    {
     "name": "stdout",
     "output_type": "stream",
     "text": [
      "time: 2.51 ms\n"
     ]
    }
   ],
   "source": [
    "results"
   ]
  },
  {
   "cell_type": "code",
   "execution_count": null,
   "metadata": {
    "collapsed": true
   },
   "outputs": [],
   "source": []
  }
 ],
 "metadata": {
  "kernelspec": {
   "display_name": "Python 3",
   "language": "python",
   "name": "python3"
  },
  "language_info": {
   "codemirror_mode": {
    "name": "ipython",
    "version": 3
   },
   "file_extension": ".py",
   "mimetype": "text/x-python",
   "name": "python",
   "nbconvert_exporter": "python",
   "pygments_lexer": "ipython3",
   "version": "3.5.2"
  }
 },
 "nbformat": 4,
 "nbformat_minor": 0
}
