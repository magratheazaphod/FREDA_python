{
 "cells": [
  {
   "cell_type": "markdown",
   "metadata": {},
   "source": [
    "after using seaborn_sandbox to help figure out how to use tsplot, this notebook makes a replacement figure to the alternative metrics figure, showing the value of different metrics during different time periods with bootstrapped confidence intervals overlain."
   ]
  },
  {
   "cell_type": "code",
   "execution_count": 1,
   "metadata": {},
   "outputs": [],
   "source": [
    "import brewer2mpl\n",
    "import pandas as pd\n",
    "## use different backend for saving ?\n",
    "import matplotlib.pyplot as plt\n",
    "import seaborn as sns\n",
    "import numpy as np\n",
    "import bottleneck as bn\n",
    "import datetime\n",
    "import os\n",
    "import netCDF4 as nc\n",
    "import time\n",
    "from shutil import copy\n",
    "\n",
    "from jd_matplotlib_tools import add_double_calendar_axis, mark_time_periods\n",
    "\n",
    "%load_ext autotime"
   ]
  },
  {
   "cell_type": "code",
   "execution_count": 2,
   "metadata": {},
   "outputs": [
    {
     "name": "stdout",
     "output_type": "stream",
     "text": [
      "time: 5.45 ms\n"
     ]
    }
   ],
   "source": [
    "## Load from NetCDF file\n",
    "ferret_path = \"/Users/Siwen/Desktop/ferret/bin/\"\n",
    "file = \"RDA_metrics.nc\"\n",
    "metrics_path = ferret_path + file\n",
    "met_nc = nc.Dataset(metrics_path, 'r')"
   ]
  },
  {
   "cell_type": "code",
   "execution_count": 3,
   "metadata": {},
   "outputs": [
    {
     "name": "stdout",
     "output_type": "stream",
     "text": [
      "time: 1.28 s\n"
     ]
    }
   ],
   "source": [
    "## Load metrics as dictionary before converting to dataframe\n",
    "metrics = {'M_1': met_nc['latofmax'][:], 'M_2': met_nc['latcentroid'][:], 'M_3': met_nc['intofmax'][:], 'M_4': met_nc['chinamean'][:],\\\n",
    "'M_5': met_nc['northchina_mean'][:], 'M_6': met_nc['southchina_mean'][:], 'M_7': met_nc['northchina_freq'][:], 'M_8': met_nc['southchina_freq'][:]}\n",
    "\n",
    "met_nc.close()"
   ]
  },
  {
   "cell_type": "code",
   "execution_count": 4,
   "metadata": {},
   "outputs": [
    {
     "name": "stdout",
     "output_type": "stream",
     "text": [
      "time: 43.2 ms\n"
     ]
    }
   ],
   "source": [
    "## tsplot requires that indices are sequential numbers - instead, we make date a column in dataframe.\n",
    "rng = pd.date_range('1/1/1951', periods=20819, freq='D')\n",
    "met_df = pd.DataFrame(data=metrics)\n",
    "\n",
    "## all of the smoothing done in one line! 15-day running mean.\n",
    "met_df = met_df.rolling(window=15, win_type='boxcar', center=True, min_periods = 8).mean()\n",
    "\n",
    "## associate dates with each time point\n",
    "met_df['date'] = rng\n",
    "met_df['day'] = rng.dayofyear\n",
    "met_df['year'] = rng.year"
   ]
  },
  {
   "cell_type": "code",
   "execution_count": 5,
   "metadata": {},
   "outputs": [
    {
     "name": "stdout",
     "output_type": "stream",
     "text": [
      "   index        M_1        M_2        M_3       M_4       M_5       M_6  \\\n",
      "0      0  26.718750  28.811930  11.579876  0.563012  0.288611  0.759197   \n",
      "1      1  27.291667  28.994031  11.915553  0.690021  0.262858  1.176272   \n",
      "2      2  27.375000  28.863982  15.333467  0.947783  0.236572  1.778698   \n",
      "3      3  27.170455  28.485194  17.072133  1.067446  0.215659  1.688124   \n",
      "4      4  27.000000  28.223340  18.839914  1.150786  0.202854  1.636360   \n",
      "\n",
      "        M_7       M_8       date  day  year  \n",
      "0  0.375000  0.500000 1951-01-01  1.0  1951  \n",
      "1  0.333333  0.555556 1951-01-02  2.0  1951  \n",
      "2  0.300000  0.600000 1951-01-03  3.0  1951  \n",
      "3  0.272727  0.636364 1951-01-04  4.0  1951  \n",
      "4  0.250000  0.666667 1951-01-05  5.0  1951  \n",
      "       index        M_1        M_2        M_3       M_4       M_5       M_6  \\\n",
      "20800  20814  25.520833  27.853337  16.856096  1.456525  0.127180  1.978715   \n",
      "20801  20815  25.602273  27.912865  17.331249  1.538898  0.138569  2.062310   \n",
      "20802  20816  25.400000  27.982048  16.251157  1.446119  0.152426  1.813985   \n",
      "20803  20817  25.513889  28.213878  13.655426  1.285581  0.168570  1.795943   \n",
      "20804  20818  25.468750  28.464939   9.610800  0.802725  0.182707  1.348862   \n",
      "\n",
      "            M_7       M_8       date    day  year  \n",
      "20800  0.083333  0.750000 2007-12-27  361.0  2007  \n",
      "20801  0.090909  0.727273 2007-12-28  362.0  2007  \n",
      "20802  0.100000  0.700000 2007-12-29  363.0  2007  \n",
      "20803  0.111111  0.666667 2007-12-30  364.0  2007  \n",
      "20804  0.125000  0.625000 2007-12-31  365.0  2007  \n",
      "time: 65.9 ms\n"
     ]
    },
    {
     "name": "stderr",
     "output_type": "stream",
     "text": [
      "/Users/Siwen/anaconda/lib/python3.6/site-packages/ipykernel/__main__.py:2: SettingWithCopyWarning: \n",
      "A value is trying to be set on a copy of a slice from a DataFrame\n",
      "\n",
      "See the caveats in the documentation: http://pandas.pydata.org/pandas-docs/stable/indexing.html#indexing-view-versus-copy\n",
      "  from ipykernel import kernelapp as app\n"
     ]
    }
   ],
   "source": [
    "#skip last day of leap years.\n",
    "met_df['day'][met_df['day'] == 366] = np.NaN  \n",
    "met_df.dropna(inplace = True)\n",
    "met_df.reset_index(inplace = True)\n",
    "\n",
    "print(met_df.head())\n",
    "print(met_df.tail())"
   ]
  },
  {
   "cell_type": "code",
   "execution_count": 6,
   "metadata": {},
   "outputs": [
    {
     "name": "stdout",
     "output_type": "stream",
     "text": [
      "       index        M_1        M_2        M_3       M_4       M_5       M_6  \\\n",
      "20800  20814  25.520833  27.853337  16.856096  1.456525  0.127180  1.978715   \n",
      "20801  20815  25.602273  27.912865  17.331249  1.538898  0.138569  2.062310   \n",
      "20802  20816  25.400000  27.982048  16.251157  1.446119  0.152426  1.813985   \n",
      "20803  20817  25.513889  28.213878  13.655426  1.285581  0.168570  1.795943   \n",
      "20804  20818  25.468750  28.464939   9.610800  0.802725  0.182707  1.348862   \n",
      "\n",
      "            M_7       M_8       date    day  year condition1  \n",
      "20800  0.083333  0.750000 2007-12-27  361.0  2007  1980-2007  \n",
      "20801  0.090909  0.727273 2007-12-28  362.0  2007  1980-2007  \n",
      "20802  0.100000  0.700000 2007-12-29  363.0  2007  1980-2007  \n",
      "20803  0.111111  0.666667 2007-12-30  364.0  2007  1980-2007  \n",
      "20804  0.125000  0.625000 2007-12-31  365.0  2007  1980-2007  \n",
      "time: 90.3 ms\n"
     ]
    },
    {
     "name": "stderr",
     "output_type": "stream",
     "text": [
      "/Users/Siwen/anaconda/lib/python3.6/site-packages/ipykernel/__main__.py:4: SettingWithCopyWarning: \n",
      "A value is trying to be set on a copy of a slice from a DataFrame\n",
      "\n",
      "See the caveats in the documentation: http://pandas.pydata.org/pandas-docs/stable/indexing.html#indexing-view-versus-copy\n",
      "/Users/Siwen/anaconda/lib/python3.6/site-packages/ipykernel/__main__.py:10: SettingWithCopyWarning: \n",
      "A value is trying to be set on a copy of a slice from a DataFrame\n",
      "\n",
      "See the caveats in the documentation: http://pandas.pydata.org/pandas-docs/stable/indexing.html#indexing-view-versus-copy\n"
     ]
    }
   ],
   "source": [
    "## set groups for later condition-based plots:\n",
    "# condition 1 - either 1951-1979 or 1980-2007\n",
    "met_df['condition1'] = met_df['year'] > 1979\n",
    "met_df['condition1'][met_df['condition1'] == False] = '1951-1979'\n",
    "met_df['condition1'][met_df['condition1'] == True] = '1980-2007'\n",
    "print(met_df.tail())\n",
    "\n",
    "# condition 2 - either 1980-1993 or 1994-2007\n",
    "met_df['condition2'] = met_df['year'] > 1993\n",
    "met_df['condition2'][met_df['year'] < 1980] = np.NaN\n",
    "met_df['condition2'][met_df['condition2'] == False] = '1980-1993'\n",
    "met_df['condition2'][met_df['condition2'] == True] = '1994-2007'"
   ]
  },
  {
   "cell_type": "code",
   "execution_count": 7,
   "metadata": {},
   "outputs": [
    {
     "name": "stdout",
     "output_type": "stream",
     "text": [
      "time: 1.63 ms\n"
     ]
    }
   ],
   "source": [
    "bmap1 = brewer2mpl.get_map('Set1', 'qualitative', 7)\n",
    "colors1 = bmap1.mpl_colors\n",
    "\n",
    "bmap2 = brewer2mpl.get_map('Set2', 'qualitative', 7)\n",
    "colors2 = bmap2.mpl_colors"
   ]
  },
  {
   "cell_type": "code",
   "execution_count": 8,
   "metadata": {
    "scrolled": true
   },
   "outputs": [
    {
     "ename": "NameError",
     "evalue": "name 'legend_location' is not defined",
     "output_type": "error",
     "traceback": [
      "\u001b[0;31m---------------------------------------------------------------------------\u001b[0m",
      "\u001b[0;31mNameError\u001b[0m                                 Traceback (most recent call last)",
      "\u001b[0;32m<ipython-input-8-440ac321c621>\u001b[0m in \u001b[0;36m<module>\u001b[0;34m()\u001b[0m\n\u001b[1;32m     13\u001b[0m \u001b[0;34m\u001b[0m\u001b[0m\n\u001b[1;32m     14\u001b[0m \u001b[0;31m## cycle through each set of axes and make correct plot\u001b[0m\u001b[0;34m\u001b[0m\u001b[0;34m\u001b[0m\u001b[0m\n\u001b[0;32m---> 15\u001b[0;31m \u001b[0;32mfor\u001b[0m \u001b[0max\u001b[0m\u001b[0;34m,\u001b[0m \u001b[0mtitle\u001b[0m\u001b[0;34m,\u001b[0m \u001b[0mxlabel\u001b[0m\u001b[0;34m,\u001b[0m \u001b[0mylabel\u001b[0m\u001b[0;34m,\u001b[0m \u001b[0mmet\u001b[0m\u001b[0;34m,\u001b[0m \u001b[0mleg_loc\u001b[0m \u001b[0;32min\u001b[0m \u001b[0mzip\u001b[0m\u001b[0;34m(\u001b[0m\u001b[0maxes\u001b[0m\u001b[0;34m.\u001b[0m\u001b[0mreshape\u001b[0m\u001b[0;34m(\u001b[0m\u001b[0;34m-\u001b[0m\u001b[0;36m1\u001b[0m\u001b[0;34m)\u001b[0m\u001b[0;34m,\u001b[0m\u001b[0mtitles\u001b[0m\u001b[0;34m,\u001b[0m\u001b[0mxlabels\u001b[0m\u001b[0;34m,\u001b[0m\u001b[0mylabels\u001b[0m\u001b[0;34m,\u001b[0m\u001b[0mmets\u001b[0m\u001b[0;34m,\u001b[0m\u001b[0mlegend_location\u001b[0m\u001b[0;34m)\u001b[0m\u001b[0;34m:\u001b[0m\u001b[0;34m\u001b[0m\u001b[0m\n\u001b[0m\u001b[1;32m     16\u001b[0m     \u001b[0msns\u001b[0m\u001b[0;34m.\u001b[0m\u001b[0mtsplot\u001b[0m\u001b[0;34m(\u001b[0m\u001b[0mdata\u001b[0m \u001b[0;34m=\u001b[0m \u001b[0mmet_df\u001b[0m\u001b[0;34m,\u001b[0m \u001b[0max\u001b[0m \u001b[0;34m=\u001b[0m \u001b[0max\u001b[0m\u001b[0;34m,\u001b[0m \u001b[0mvalue\u001b[0m \u001b[0;34m=\u001b[0m \u001b[0mmet\u001b[0m\u001b[0;34m,\u001b[0m \u001b[0mtime\u001b[0m \u001b[0;34m=\u001b[0m \u001b[0;34m'day'\u001b[0m\u001b[0;34m,\u001b[0m \u001b[0munit\u001b[0m \u001b[0;34m=\u001b[0m \u001b[0;34m'year'\u001b[0m\u001b[0;34m,\u001b[0m \u001b[0mcondition\u001b[0m \u001b[0;34m=\u001b[0m \u001b[0;34m'condition1'\u001b[0m\u001b[0;34m,\u001b[0m \u001b[0mci\u001b[0m \u001b[0;34m=\u001b[0m \u001b[0;36m95\u001b[0m\u001b[0;34m,\u001b[0m \u001b[0mlegend\u001b[0m \u001b[0;34m=\u001b[0m \u001b[0;32mFalse\u001b[0m\u001b[0;34m,\u001b[0m \u001b[0mcolor\u001b[0m\u001b[0;34m=\u001b[0m\u001b[0mcolors1\u001b[0m\u001b[0;34m)\u001b[0m\u001b[0;34m\u001b[0m\u001b[0m\n\u001b[1;32m     17\u001b[0m     \u001b[0max\u001b[0m\u001b[0;34m.\u001b[0m\u001b[0mset_title\u001b[0m\u001b[0;34m(\u001b[0m\u001b[0mtitle\u001b[0m\u001b[0;34m,\u001b[0m \u001b[0mfontsize\u001b[0m\u001b[0;34m=\u001b[0m\u001b[0;36m16\u001b[0m\u001b[0;34m)\u001b[0m\u001b[0;34m\u001b[0m\u001b[0m\n",
      "\u001b[0;31mNameError\u001b[0m: name 'legend_location' is not defined"
     ]
    },
    {
     "name": "stdout",
     "output_type": "stream",
     "text": [
      "time: 524 ms\n"
     ]
    }
   ],
   "source": [
    "## PLOTTING - target is an 8-panel figure for each of the different potential metrics.\n",
    "\n",
    "## create one big figure behind subpanels\n",
    "fig, axes = plt.subplots(4,2,figsize=(12,13), facecolor='w')\n",
    "st = plt.suptitle(\"Alternative Rainfall Metrics $M_1-M_8$, 1980-2007 versus 1951-1979\", size = 20)\n",
    "#st.set_font_properties(font1)\n",
    "\n",
    "## lists of the characteristics for each subplot - what column is being plotted, title and labels.\n",
    "mets = ['M_1','M_2','M_3','M_4','M_5','M_6','M_7','M_8']\n",
    "titles = [\"$M_1$ - Latitude of Max Rainfall\",\"$M_2$ - Rainfall Centroid Lat\",\"$M_3$ - Maximum Daily Accumulation\",\\\n",
    "          \"$M_4$ - Mean All-China Rainfall\",\"$M_5$ - Mean North China Rainfall\",\"$M_6$ - Mean South China Rainfall\",\\\n",
    "          \"$M_7$ - North China Rainfall Frequency\",\"$M_8$ - South China Rainfall Frequency\"]\n",
    "xlabels = ['','','','','','','Day of Year','Day of Year']\n",
    "ylabels = [\"Latitude ($^{\\circ}$N)\",\"Latitude ($^{\\circ}$N)\",\"mm day$^{-1}$\",\"mm day$^{-1}$\",\"mm day$^{-1}$\",\\\n",
    "           \"mm day$^{-1}$\",\"Frequency\",\"Frequency\"]\n",
    "\n",
    "## cycle through each set of axes and make correct plot\n",
    "for ax, title, xlabel, ylabel, met in zip(axes.reshape(-1),titles,xlabels,ylabels,mets):\n",
    "    sns.tsplot(data = met_df, ax = ax, value = met, time = 'day', unit = 'year', condition = 'condition1', ci = 95, legend = False, color=colors1)\n",
    "    ax.set_title(title, fontsize=16)\n",
    "    ax.set_xlabel(xlabel, fontsize=16, labelpad=0.5)\n",
    "    ax.set_ylabel(ylabel, fontsize=13, labelpad=0.5)    \n",
    "    leg = ax.legend(ax.get_lines(), ('1951-1979', '1980-2007'), loc=\"upper right\", ncol=1, frameon = True, prop={'size': 11})\n",
    "    leg.get_frame().set_edgecolor('k')\n",
    "    leg.get_frame().set_facecolor('w')\n",
    "\n",
    "    \n",
    "## Custom edits to specific plots that don't look right\n",
    "axes[0,1].set_yticks(np.linspace(27,31,5))\n",
    "axes[3,1].set_ylim([0,1])\n",
    "\n",
    "##reframe figure\n",
    "plt.tight_layout()\n",
    "st.set_y(0.99)\n",
    "fig.subplots_adjust(top=0.94, bottom = .08)"
   ]
  },
  {
   "cell_type": "code",
   "execution_count": null,
   "metadata": {},
   "outputs": [],
   "source": [
    "## SAVE COPIES OF FIGURE TO MANUSCRIPT AND ANALYSIS DIRECTORIES\n",
    "figure_name = \"alternative_metrics_8007_5179.pdf\"\n",
    "\n",
    "savepath = \"/Users/Siwen/Desktop/RDA/Figures/\" + figure_name\n",
    "\n",
    "if os.path.exists(savepath):\n",
    "    print(\"Overwriting existing version of file in RDA manuscript directory...\")\n",
    "    os.remove(savepath)\n",
    "    \n",
    "plt.savefig(savepath)\n",
    "    \n",
    "copypath = \"/Users/Siwen/RDA/Figures/\" + figure_name\n",
    "    \n",
    "if os.path.exists(copypath):\n",
    "    print(\"Overwriting existing version of file in RDA Python directory...\")\n",
    "    os.remove(copypath)\n",
    "    \n",
    "copy(savepath,copypath)\n",
    "\n",
    "plt.savefig(savepath)"
   ]
  },
  {
   "cell_type": "code",
   "execution_count": null,
   "metadata": {},
   "outputs": [],
   "source": [
    "## PLOTTING - target is an 8-panel figure for each of the different potential metrics.\n",
    "\n",
    "## create one big figure behind subpanels\n",
    "fig, axes = plt.subplots(4,2,figsize=(12,12), facecolor='w')\n",
    "#hfont = {'fontname':'Myriad Pro'}\n",
    "st = plt.suptitle(\"Alternative Rainfall Metrics $M_1-M_8$, 1994-2007 versus 1980-1993\", fontsize=20)\n",
    "\n",
    "## lists of the characteristics for each subplot - what column is being plotted, title and labels.\n",
    "mets = ['M_1','M_2','M_3','M_4','M_5','M_6','M_7','M_8']\n",
    "titles = [\"$M_1$ - Latitude of Max Rainfall\",\"$M_2$ - Rainfall Centroid Lat\",\"$M_3$ - Maximum Daily Accumulation\",\\\n",
    "          \"$M_4$ - Mean All-China Rainfall\",\"$M_5$ - Mean North China Rainfall\",\"$M_6$ - Mean South China Rainfall\",\\\n",
    "          \"$M_7$ - North China Rainfall Frequency\",\"$M_8$ - South China Rainfall Frequency\"]\n",
    "xlabels = ['','','','','','','Day of Year','Day of Year']\n",
    "ylabels = [\"Latitude ($^{\\circ}$N)\",\"Latitude ($^{\\circ}$N)\",\"mm day$^{-1}$\",\"mm day$^{-1}$\",\"mm day$^{-1}$\",\\\n",
    "           \"mm day$^{-1}$\",\"Frequency\",\"Frequency\"]\n",
    "\n",
    "## cycle through each set of axes and make correct plot\n",
    "for ax, title, xlabel, ylabel, met in zip(axes.reshape(-1),titles,xlabels,ylabels,mets):\n",
    "    sns.tsplot(data = met_df, ax = ax, value = met, time = 'day', unit = 'year', condition = 'condition2', ci = 95, legend = False, color=colors2)\n",
    "    ax.set_title(title, fontsize=16)\n",
    "    ax.set_xlabel(xlabel, fontsize=16, labelpad=0.5)\n",
    "    ax.set_ylabel(ylabel, fontsize=13, labelpad=0.5)\n",
    "    leg = ax.legend(ax.get_lines(), ('1980-1993', '1994-2007'), loc=\"upper right\", ncol=1, frameon = True, prop={'size': 11})\n",
    "    leg.get_frame().set_edgecolor('k')\n",
    "    leg.get_frame().set_facecolor('w')\n",
    "    \n",
    "## Custom edits to specific plots that don't look right\n",
    "axes[0,1].set_yticks(np.linspace(27,31,5))\n",
    "axes[3,1].set_ylim([0,1])\n",
    "\n",
    "##reframe figure\n",
    "plt.tight_layout()\n",
    "st.set_y(0.99)\n",
    "fig.subplots_adjust(top=0.94, bottom = .08)"
   ]
  },
  {
   "cell_type": "code",
   "execution_count": null,
   "metadata": {},
   "outputs": [],
   "source": [
    "## SAVE COPIES OF FIGURE TO MANUSCRIPT AND ANALYSIS DIRECTORIES\n",
    "figure_name = \"alternative_metrics_9407_8093.pdf\"\n",
    "\n",
    "savepath = \"/Users/Siwen/Desktop/RDA/Figures/\" + figure_name\n",
    "\n",
    "if os.path.exists(savepath):\n",
    "    print(\"Overwriting existing version of file in RDA manuscript directory...\")\n",
    "    os.remove(savepath)\n",
    "    \n",
    "plt.savefig(savepath)\n",
    "    \n",
    "copypath = \"/Users/Siwen/RDA/Figures/\" + figure_name\n",
    "    \n",
    "if os.path.exists(copypath):\n",
    "    print(\"Overwriting existing version of file in RDA Python directory...\")\n",
    "    os.remove(copypath)\n",
    "    \n",
    "copy(savepath,copypath)\n",
    "\n",
    "plt.savefig(savepath, bbox_inches='tight')"
   ]
  },
  {
   "cell_type": "code",
   "execution_count": null,
   "metadata": {
    "collapsed": true
   },
   "outputs": [],
   "source": []
  }
 ],
 "metadata": {
  "kernelspec": {
   "display_name": "Python 3",
   "language": "python",
   "name": "python3"
  },
  "language_info": {
   "codemirror_mode": {
    "name": "ipython",
    "version": 3
   },
   "file_extension": ".py",
   "mimetype": "text/x-python",
   "name": "python",
   "nbconvert_exporter": "python",
   "pygments_lexer": "ipython3",
   "version": "3.6.0"
  }
 },
 "nbformat": 4,
 "nbformat_minor": 1
}
