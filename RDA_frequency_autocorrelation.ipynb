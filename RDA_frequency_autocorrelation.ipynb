{
 "cells": [
  {
   "cell_type": "code",
   "execution_count": 1,
   "metadata": {
    "collapsed": true
   },
   "outputs": [],
   "source": [
    "#quick script to find the autocorrelation in time of front frequency for each 1 degree latitude bin\n",
    "#without accounting for autocorrelation, changes in frequency will be found to be more significant\n",
    "#than they actually are\n",
    "\n",
    "#a bunch of this code is copied over from RDA_hov_periods.nc and slightly adapted."
   ]
  },
  {
   "cell_type": "code",
   "execution_count": 1,
   "metadata": {
    "collapsed": true
   },
   "outputs": [],
   "source": [
    "import numpy as np\n",
    "import time\n",
    "import os\n",
    "import netCDF4 as nc\n",
    "import datetime\n",
    "import matplotlib.pyplot as plt\n",
    "from autocorr import autocorr\n",
    "%matplotlib notebook"
   ]
  },
  {
   "cell_type": "code",
   "execution_count": 2,
   "metadata": {
    "collapsed": true
   },
   "outputs": [],
   "source": [
    "#Access NetCDF files (currently hosted in Ferret directory)\n",
    "RDA_path_1 = \"/Users/Siwen/Desktop/ferret/bin/meiyu_clean.nc\"\n",
    "RDA_path_2 = \"/Users/Siwen/Desktop/ferret/bin/meiyu_2_clean.nc\"\n",
    "RDA_1 = nc.Dataset(RDA_path_1, 'r')\n",
    "RDA_2 = nc.Dataset(RDA_path_2, 'r')"
   ]
  },
  {
   "cell_type": "code",
   "execution_count": 3,
   "metadata": {
    "collapsed": true
   },
   "outputs": [],
   "source": [
    "#load data from NetCDF files to notebook\n",
    "lat_1_all =  RDA_1.variables['lat_115'][:]\n",
    "lat_2_all =  RDA_2.variables['lat_115'][:]\n",
    "intensity_1_all = RDA_1.variables['intensity'][:] \n",
    "intensity_2_all = RDA_2.variables['intensity'][:]\n",
    "\n",
    "RDA_1.close()\n",
    "RDA_2.close()"
   ]
  },
  {
   "cell_type": "code",
   "execution_count": 4,
   "metadata": {
    "collapsed": true
   },
   "outputs": [],
   "source": [
    "#Assign a calendar date to each time point\n",
    "startday = datetime.datetime(1951,1,1)\n",
    "date_list = np.array([datetime.timedelta(days=x) + startday for x in range(0, 20819)])"
   ]
  },
  {
   "cell_type": "code",
   "execution_count": 5,
   "metadata": {
    "collapsed": false
   },
   "outputs": [],
   "source": [
    "#quick function that bins everything in a 2D array and puts floor and ceiling on array values.\n",
    "def findbins(lat):\n",
    "    index = np.ndarray.round(lat-19.5)\n",
    "    index[index < 0] = 0\n",
    "    index[index > 21] = 21\n",
    "    return index"
   ]
  },
  {
   "cell_type": "code",
   "execution_count": 6,
   "metadata": {
    "collapsed": false
   },
   "outputs": [
    {
     "name": "stderr",
     "output_type": "stream",
     "text": [
      "//anaconda/lib/python3.5/site-packages/ipykernel/__main__.py:4: RuntimeWarning: invalid value encountered in less\n",
      "//anaconda/lib/python3.5/site-packages/ipykernel/__main__.py:5: RuntimeWarning: invalid value encountered in greater\n"
     ]
    }
   ],
   "source": [
    "#bin latitudes\n",
    "lat_1_indices = findbins(lat_1_all)\n",
    "lat_2_indices = findbins(lat_2_all)"
   ]
  },
  {
   "cell_type": "code",
   "execution_count": 7,
   "metadata": {
    "collapsed": false
   },
   "outputs": [
    {
     "name": "stderr",
     "output_type": "stream",
     "text": [
      "//anaconda/lib/python3.5/site-packages/ipykernel/__main__.py:7: DeprecationWarning: using a non-integer number instead of an integer will result in an error in the future\n",
      "//anaconda/lib/python3.5/site-packages/ipykernel/__main__.py:11: DeprecationWarning: using a non-integer number instead of an integer will result in an error in the future\n"
     ]
    }
   ],
   "source": [
    "#create a time series of whether a rainband exists for each latitude bin\n",
    "occupancy_1 = np.zeros([20819,22])\n",
    "occupancy_2 = np.zeros([20819,22])\n",
    "\n",
    "for i, index in enumerate(lat_1_indices):\n",
    "    if ~np.isnan(index):\n",
    "        occupancy_1[i,index] = 1\n",
    "        \n",
    "for i, index in enumerate(lat_2_indices):\n",
    "    if ~np.isnan(index):\n",
    "        occupancy_2[i,index] = 1\n",
    "\n",
    "#also create combined occupancy matrix of both primary and secondary fronts\n",
    "occupancy = occupancy_1 + occupancy_2"
   ]
  },
  {
   "cell_type": "code",
   "execution_count": 8,
   "metadata": {
    "collapsed": true
   },
   "outputs": [],
   "source": [
    "def smooth(P,dayrange,latrange):\n",
    "    Psmooth=np.zeros(P.shape)\n",
    "    \n",
    "    ll=int((dayrange-1)/2)\n",
    "    yy=int((latrange-1)/2)\n",
    "    \n",
    "    days = P.shape[0]\n",
    "    lats = P.shape[1]\n",
    "    \n",
    "    for d in range(days):\n",
    "        for j in range(lats):\n",
    "            \n",
    "            Psample = P.take(range(d-ll,d+ll+1), mode='wrap', axis=0)\n",
    "            Ps = Psample[:,max(0,j-yy):min(days,j+yy+1)]\n",
    "            Psmooth[d,j] = np.mean(np.mean(Ps))\n",
    "    \n",
    "    return Psmooth"
   ]
  },
  {
   "cell_type": "code",
   "execution_count": 43,
   "metadata": {
    "collapsed": false
   },
   "outputs": [],
   "source": [
    "#switching it to binary - hence the *5. Wanted to keep same def of smooth function as elsewhere\n",
    "#NOTE: in some cases, values can reach 2 (if both fronts are within small latitude range on a given day)\n",
    "#should be a minimal effect - we test both keeping the 2 and reducing to 1.\n",
    "occupancy_1_smth = smooth(occupancy_1,1,5)*5\n",
    "occupancy_2_smth = smooth(occupancy_2,1,5)*5\n",
    "occupancy_smth = smooth(occupancy,1,5)*5\n"
   ]
  },
  {
   "cell_type": "code",
   "execution_count": 44,
   "metadata": {
    "collapsed": false
   },
   "outputs": [],
   "source": [
    "#as constructed, occupancy_smth can have values of 2 if fronts are close enough - this fixes that.\n",
    "occupancy_smth_bin = np.copy(occupancy_smth) #without using copy, still points to same array.\n",
    "occupancy_smth_bin[occupancy_smth_bin>1] = 1"
   ]
  },
  {
   "cell_type": "code",
   "execution_count": 45,
   "metadata": {
    "collapsed": false
   },
   "outputs": [
    {
     "name": "stdout",
     "output_type": "stream",
     "text": [
      "[ 0.00048033  0.00086459  0.00384264  0.02877179  0.02656227  0.03227821\n",
      "  0.03443969  0.03818627  0.04303761  0.03669725  0.03247034  0.02987656\n",
      "  0.01902109  0.01998175  0.01565877  0.01508238  0.01196023  0.00979874\n",
      "  0.00667659  0.00614823  0.00403478  0.00134493]\n",
      "[ 0.00864595  0.04244921  0.06052164  0.09231952  0.12589462  0.16023824\n",
      "  0.17450406  0.18463903  0.18483116  0.18026802  0.16110284  0.13804698\n",
      "  0.1170085   0.09962054  0.08170421  0.07248187  0.05917671  0.04966617\n",
      "  0.03861857  0.02800327  0.02275566  0.01921322]\n"
     ]
    }
   ],
   "source": [
    "#quick comparison of how much the smoothing in latitude changes mean front occupancy\n",
    "print(np.mean(occupancy, axis=0))\n",
    "print(np.mean(occupancy_smth, axis=0))"
   ]
  },
  {
   "cell_type": "code",
   "execution_count": 46,
   "metadata": {
    "collapsed": false
   },
   "outputs": [
    {
     "name": "stdout",
     "output_type": "stream",
     "text": [
      "(array([ 1.        ,  0.07855679,  0.03201813,  0.00409276,  0.01340204,\n",
      "        0.00409265,  0.0040926 , -0.00521813,  0.00409249,  0.00409244,\n",
      "       -0.00521963]), 1.2680042668501552)\n",
      "(array([ 1.        ,  0.07855679,  0.03201813,  0.00409276,  0.01340204,\n",
      "        0.00409265,  0.0040926 , -0.00521813,  0.00409249,  0.00409244,\n",
      "       -0.00521963]), 1.268004266850155)\n",
      "(array([ 1.        ,  0.18447634,  0.08198325,  0.04684087,  0.03951928,\n",
      "        0.03512599,  0.03512599,  0.02633814,  0.024873  ,  0.03659077,\n",
      "        0.02194231]), 2.0656318846028086)\n",
      "(array([ 1.        ,  0.18447634,  0.08198325,  0.04684087,  0.03951928,\n",
      "        0.03512599,  0.03512599,  0.02633814,  0.024873  ,  0.03659077,\n",
      "        0.02194231]), 2.0656318846028086)\n",
      "(array([ 1.        ,  0.19915678,  0.08595211,  0.04117345,  0.0530015 ,\n",
      "        0.04877604,  0.04286014,  0.03778873,  0.03778745,  0.03017988,\n",
      "        0.02172639]), 2.1968049501985747)\n",
      "(array([ 1.        ,  0.19915678,  0.08595211,  0.04117345,  0.0530015 ,\n",
      "        0.04877604,  0.04286014,  0.03778873,  0.03778745,  0.03017988,\n",
      "        0.02172639]), 2.1968049501985747)\n",
      "(array([ 1.        ,  0.23419805,  0.0989139 ,  0.04674416,  0.0461682 ,\n",
      "        0.051899  ,  0.04386936,  0.0496006 ,  0.05303868,  0.0495956 ,\n",
      "        0.03582945]), 2.4197139816897613)\n",
      "(array([ 1.        ,  0.23419805,  0.0989139 ,  0.04674416,  0.0461682 ,\n",
      "        0.051899  ,  0.04386936,  0.0496006 ,  0.05303868,  0.0495956 ,\n",
      "        0.03582945]), 2.4197139816897613)\n",
      "(array([ 1.        ,  0.25361615,  0.11131368,  0.05325126,  0.05281033,\n",
      "        0.06372069,  0.06328022,  0.0558536 ,  0.06458242,  0.05415341,\n",
      "        0.04678026]), 2.6387240575996254)\n",
      "(array([ 1.        ,  0.25361615,  0.11131368,  0.05325126,  0.05281033,\n",
      "        0.06372069,  0.06328022,  0.0558536 ,  0.06458242,  0.05415341,\n",
      "        0.04678026]), 2.6387240575996254)\n",
      "(array([ 1.        ,  0.2853734 ,  0.12294617,  0.07046243,  0.06974259,\n",
      "        0.07866288,  0.07794337,  0.06651143,  0.06721965,  0.06048579,\n",
      "        0.06017962]), 2.9190546734714138)\n",
      "(array([ 1.        ,  0.2853734 ,  0.12294617,  0.07046243,  0.06974259,\n",
      "        0.07866288,  0.07794337,  0.06651143,  0.06721965,  0.06048579,\n",
      "        0.06017962]), 2.9190546734714138)\n",
      "(array([ 1.        ,  0.29577559,  0.13304456,  0.08401783,  0.08601274,\n",
      "        0.08867489,  0.09167083,  0.07932359,  0.07798297,  0.06769361,\n",
      "        0.0611311 ]), 3.1306554226221666)\n",
      "(array([ 1.        ,  0.29577559,  0.13304456,  0.08401783,  0.08601274,\n",
      "        0.08867489,  0.09167083,  0.07932359,  0.07798297,  0.06769361,\n",
      "        0.0611311 ]), 3.1306554226221666)\n",
      "(array([ 1.        ,  0.31319615,  0.14227903,  0.09284575,  0.09794195,\n",
      "        0.09538435,  0.0877234 ,  0.07113084,  0.05995926,  0.06288108,\n",
      "        0.04895478]), 3.144593183026418)\n",
      "(array([ 1.        ,  0.31293865,  0.14187802,  0.09272239,  0.09782287,\n",
      "        0.09526312,  0.08759573,  0.07130847,  0.06012752,  0.06273253,\n",
      "        0.0487945 ]), 3.1423676136562997)\n",
      "(array([ 1.        ,  0.31175768,  0.14437741,  0.10332096,  0.08867547,\n",
      "        0.08039391,  0.07879549,  0.07783351,  0.05299796,  0.05909671,\n",
      "        0.04965604]), 3.0938102797748726)\n",
      "(array([ 1.        ,  0.31257711,  0.14381845,  0.1032967 ,  0.08829529,\n",
      "        0.08031194,  0.07902858,  0.0780642 ,  0.05348526,  0.05928022,\n",
      "        0.04981572]), 3.0959469553108989)\n",
      "(array([ 1.        ,  0.31710725,  0.14288337,  0.09453461,  0.08414528,\n",
      "        0.07115898,  0.07991364,  0.07146926,  0.04971786,  0.05263072,\n",
      "        0.04618975]), 3.0195014328915319)\n",
      "(array([ 1.        ,  0.31762515,  0.14295254,  0.09480455,  0.08406316,\n",
      "        0.07104342,  0.07982063,  0.07200522,  0.05019784,  0.05246745,\n",
      "        0.04633526]), 3.0226304572707687)\n",
      "(array([ 1.        ,  0.31601171,  0.1349013 ,  0.08740198,  0.064002  ,\n",
      "        0.04804399,  0.06186273,  0.06256554,  0.0356145 ,  0.03277058,\n",
      "        0.03565664]), 2.7576619692289333)\n",
      "(array([ 1.        ,  0.31625117,  0.13480634,  0.0874818 ,  0.0647043 ,\n",
      "        0.04832969,  0.06220111,  0.06255076,  0.0362088 ,  0.03264227,\n",
      "        0.0358952 ]), 2.7621428984441829)\n",
      "(array([ 1.        ,  0.29995719,  0.13390283,  0.0742457 ,  0.06456719,\n",
      "        0.05609711,  0.05568899,  0.05407135,  0.03632647,  0.03390136,\n",
      "        0.04236283]), 2.7022420695933813)\n",
      "(array([ 1.        ,  0.30003237,  0.13361258,  0.07382416,  0.06412434,\n",
      "        0.05603961,  0.05603462,  0.0540094 ,  0.03662954,  0.0341991 ,\n",
      "        0.04227512]), 2.7015616996276739)\n",
      "(array([ 1.        ,  0.32187525,  0.14583132,  0.07707973,  0.05895905,\n",
      "        0.06081387,  0.06034582,  0.05012047,  0.0422174 ,  0.02734343,\n",
      "        0.04871451]), 2.7866017507233112)\n",
      "(array([ 1.        ,  0.32239814,  0.14612776,  0.07728773,  0.05914375,\n",
      "        0.06100097,  0.06053233,  0.05029383,  0.04191536,  0.02748752,\n",
      "        0.0484208 ]), 2.7892163518303876)\n",
      "(array([ 1.        ,  0.31402449,  0.15979324,  0.0928475 ,  0.07945638,\n",
      "        0.0826687 ,  0.07891772,  0.06820244,  0.05534328,  0.05159045,\n",
      "        0.06712479]), 3.0999379871132406)\n",
      "(array([ 1.        ,  0.31402449,  0.15979324,  0.0928475 ,  0.07945638,\n",
      "        0.0826687 ,  0.07891772,  0.06820244,  0.05534328,  0.05159045,\n",
      "        0.06712479]), 3.0999379871132406)\n",
      "(array([ 1.        ,  0.3169216 ,  0.16711225,  0.11909436,  0.10244751,\n",
      "        0.10436921,  0.10629109,  0.10180904,  0.08259639,  0.06722473,\n",
      "        0.07555023]), 3.486832835462657)\n",
      "(array([ 1.        ,  0.3169216 ,  0.16711225,  0.11909436,  0.10244751,\n",
      "        0.10436921,  0.10629109,  0.10180904,  0.08259639,  0.06722473,\n",
      "        0.07555023]), 3.486832835462657)\n",
      "(array([ 1.        ,  0.32697446,  0.18336271,  0.12262845,  0.10762369,\n",
      "        0.10119326,  0.10476779,  0.10476907,  0.09047531,  0.07046189,\n",
      "        0.06474296]), 3.5539991846208183)\n",
      "(array([ 1.        ,  0.32697446,  0.18336271,  0.12262845,  0.10762369,\n",
      "        0.10119326,  0.10476779,  0.10476907,  0.09047531,  0.07046189,\n",
      "        0.06474296]), 3.5539991846208183)\n",
      "(array([ 1.        ,  0.30032717,  0.16660063,  0.11051926,  0.10102956,\n",
      "        0.09585369,  0.09844425,  0.0837744 ,  0.07082929,  0.06651409,\n",
      "        0.06651426]), 3.3208131606529347)\n",
      "(array([ 1.        ,  0.30032717,  0.16660063,  0.11051926,  0.10102956,\n",
      "        0.09585369,  0.09844425,  0.0837744 ,  0.07082929,  0.06651409,\n",
      "        0.06651426]), 3.3208131606529347)\n",
      "(array([ 1.        ,  0.27340043,  0.14924445,  0.11260802,  0.08309307,\n",
      "        0.08614826,  0.07902421,  0.06782746,  0.06171989,  0.05357553,\n",
      "        0.0678297 ]), 3.0689420238536562)\n",
      "(array([ 1.        ,  0.27340043,  0.14924445,  0.11260802,  0.08309307,\n",
      "        0.08614826,  0.07902421,  0.06782746,  0.06171989,  0.05357553,\n",
      "        0.0678297 ]), 3.0689420238536562)\n",
      "(array([ 1.        ,  0.22117503,  0.10732335,  0.06980261,  0.07239201,\n",
      "        0.08662816,  0.05815983,  0.05039562,  0.04133642,  0.04133648,\n",
      "        0.07887313]), 2.6548452908063465)\n",
      "(array([ 1.        ,  0.22117503,  0.10732335,  0.06980261,  0.07239201,\n",
      "        0.08662816,  0.05815983,  0.05039562,  0.04133642,  0.04133648,\n",
      "        0.07887313]), 2.6548452908063465)\n",
      "(array([ 1.        ,  0.16884115,  0.08766467,  0.06295838,  0.05942998,\n",
      "        0.0717872 ,  0.04531139,  0.05237329,  0.05237442,  0.03825198,\n",
      "        0.07532858]), 2.4286421000263756)\n",
      "(array([ 1.        ,  0.16884115,  0.08766467,  0.06295838,  0.05942998,\n",
      "        0.0717872 ,  0.04531139,  0.05237329,  0.05237442,  0.03825198,\n",
      "        0.07532858]), 2.4286421000263756)\n",
      "(array([ 1.        ,  0.1158349 ,  0.07283631,  0.04596058,  0.04327394,\n",
      "        0.04596322,  0.03789987,  0.0432775 ,  0.04059021,  0.04059127,\n",
      "        0.05941349]), 2.0912826128680071)\n",
      "(array([ 1.        ,  0.1158349 ,  0.07283631,  0.04596058,  0.04327394,\n",
      "        0.04596322,  0.03789987,  0.0432775 ,  0.04059021,  0.04059127,\n",
      "        0.05941349]), 2.0912826128680067)\n",
      "(array([ 1.        ,  0.05156844,  0.05157036,  0.05578814,  0.04314205,\n",
      "        0.04314357,  0.03049565,  0.04314659,  0.05158186,  0.04314962,\n",
      "        0.05580299]), 1.9387785355222418)\n",
      "(array([ 1.        ,  0.05156844,  0.05157036,  0.05578814,  0.04314205,\n",
      "        0.04314357,  0.03049565,  0.04314659,  0.05158186,  0.04314962,\n",
      "        0.05580299]), 1.9387785355222418)\n"
     ]
    },
    {
     "ename": "KeyboardInterrupt",
     "evalue": "",
     "output_type": "error",
     "traceback": [
      "\u001b[0;31m---------------------------------------------------------------------------\u001b[0m",
      "\u001b[0;31mKeyboardInterrupt\u001b[0m                         Traceback (most recent call last)",
      "\u001b[0;32m<ipython-input-46-05ee23a0a996>\u001b[0m in \u001b[0;36m<module>\u001b[0;34m()\u001b[0m\n\u001b[1;32m      2\u001b[0m     \u001b[0mprint\u001b[0m\u001b[0;34m(\u001b[0m\u001b[0mautocorr\u001b[0m\u001b[0;34m(\u001b[0m\u001b[0mrow1\u001b[0m\u001b[0;34m)\u001b[0m\u001b[0;34m)\u001b[0m\u001b[0;34m\u001b[0m\u001b[0m\n\u001b[1;32m      3\u001b[0m     \u001b[0mprint\u001b[0m\u001b[0;34m(\u001b[0m\u001b[0mautocorr\u001b[0m\u001b[0;34m(\u001b[0m\u001b[0mrow2\u001b[0m\u001b[0;34m)\u001b[0m\u001b[0;34m)\u001b[0m\u001b[0;34m\u001b[0m\u001b[0m\n\u001b[0;32m----> 4\u001b[0;31m     \u001b[0mtime\u001b[0m\u001b[0;34m.\u001b[0m\u001b[0msleep\u001b[0m\u001b[0;34m(\u001b[0m\u001b[0;36m2\u001b[0m\u001b[0;34m)\u001b[0m\u001b[0;34m\u001b[0m\u001b[0m\n\u001b[0m\u001b[1;32m      5\u001b[0m \u001b[0;34m\u001b[0m\u001b[0m\n",
      "\u001b[0;31mKeyboardInterrupt\u001b[0m: "
     ]
    }
   ],
   "source": [
    "for row1, row2 in zip(occupancy_smth.T, occupancy_smth_bin.T):\n",
    "    print(autocorr(row1))\n",
    "    print(autocorr(row2))\n",
    "    time.sleep(2)\n",
    "    "
   ]
  },
  {
   "cell_type": "code",
   "execution_count": 9,
   "metadata": {
    "collapsed": false
   },
   "outputs": [],
   "source": [
    "#Define empty variables reshaped with axis 0 as day of year and axis 1 as year.\n",
    "lat_1 = np.zeros([365, 57])\n",
    "lat_2 = np.zeros([365, 57])\n",
    "int_1 = np.zeros([365, 57])\n",
    "int_2 = np.zeros([365, 57])\n",
    "        \n",
    "for i, date in enumerate(date_list[0:365]): #go through each day of the year\n",
    "\n",
    "    mymap = map(lambda date: (date.day == dd) & (date.month == mm), date_list)\n",
    "    extract = np.array(list(mymap))\n",
    "\n",
    "    lat_1[i,:] = lat_1_all[extract]\n",
    "    lat_2[i,:] = lat_2_all[extract]\n",
    "    int_1[i,:] = intensity_1_all[extract]\n",
    "    int_2[i,:] = intensity_2_all[extract]"
   ]
  }
 ],
 "metadata": {
  "kernelspec": {
   "display_name": "Python 3",
   "language": "python",
   "name": "python3"
  },
  "language_info": {
   "codemirror_mode": {
    "name": "ipython",
    "version": 3
   },
   "file_extension": ".py",
   "mimetype": "text/x-python",
   "name": "python",
   "nbconvert_exporter": "python",
   "pygments_lexer": "ipython3",
   "version": "3.5.2"
  }
 },
 "nbformat": 4,
 "nbformat_minor": 0
}
