{
 "cells": [
  {
   "cell_type": "code",
   "execution_count": 1,
   "metadata": {
    "collapsed": true
   },
   "outputs": [],
   "source": [
    "#quick script to find the autocorrelation in time of front frequency for each 1 degree latitude bin\n",
    "#without accounting for autocorrelation, changes in frequency will be found to be more significant\n",
    "#than they actually are\n",
    "\n",
    "#a bunch of this code is copied over from RDA_hov_periods.nc and slightly adapted."
   ]
  },
  {
   "cell_type": "code",
   "execution_count": 2,
   "metadata": {
    "collapsed": true
   },
   "outputs": [],
   "source": [
    "import numpy as np\n",
    "import time\n",
    "import os\n",
    "import netCDF4 as nc\n",
    "import datetime\n",
    "import matplotlib.pyplot as plt\n",
    "from autocorr import autocorr\n",
    "%matplotlib notebook"
   ]
  },
  {
   "cell_type": "code",
   "execution_count": 3,
   "metadata": {
    "collapsed": true
   },
   "outputs": [],
   "source": [
    "#Access NetCDF files (currently hosted in Ferret directory)\n",
    "RDA_path_1 = \"/Users/Siwen/Desktop/ferret/bin/meiyu_clean.nc\"\n",
    "RDA_path_2 = \"/Users/Siwen/Desktop/ferret/bin/meiyu_2_clean.nc\"\n",
    "RDA_1 = nc.Dataset(RDA_path_1, 'r')\n",
    "RDA_2 = nc.Dataset(RDA_path_2, 'r')"
   ]
  },
  {
   "cell_type": "code",
   "execution_count": 4,
   "metadata": {
    "collapsed": true
   },
   "outputs": [],
   "source": [
    "#load data from NetCDF files to notebook\n",
    "lat_1_all =  RDA_1.variables['lat_115'][:]\n",
    "lat_2_all =  RDA_2.variables['lat_115'][:]\n",
    "intensity_1_all = RDA_1.variables['intensity'][:] \n",
    "intensity_2_all = RDA_2.variables['intensity'][:]\n",
    "\n",
    "RDA_1.close()\n",
    "RDA_2.close()"
   ]
  },
  {
   "cell_type": "code",
   "execution_count": 5,
   "metadata": {
    "collapsed": true
   },
   "outputs": [],
   "source": [
    "#Assign a calendar date to each time point\n",
    "startday = datetime.datetime(1951,1,1)\n",
    "date_list = np.array([datetime.timedelta(days=x) + startday for x in range(0, 20819)])"
   ]
  },
  {
   "cell_type": "code",
   "execution_count": 6,
   "metadata": {
    "collapsed": false
   },
   "outputs": [],
   "source": [
    "#quick function that bins everything in a 2D array and puts floor and ceiling on array values.\n",
    "def findbins(lat):\n",
    "    index = np.ndarray.round(lat-19.5)\n",
    "    index[index < 0] = 0\n",
    "    index[index > 21] = 21\n",
    "    return index"
   ]
  },
  {
   "cell_type": "code",
   "execution_count": 7,
   "metadata": {
    "collapsed": false
   },
   "outputs": [
    {
     "name": "stderr",
     "output_type": "stream",
     "text": [
      "//anaconda/lib/python3.5/site-packages/ipykernel/__main__.py:4: RuntimeWarning: invalid value encountered in less\n",
      "//anaconda/lib/python3.5/site-packages/ipykernel/__main__.py:5: RuntimeWarning: invalid value encountered in greater\n"
     ]
    }
   ],
   "source": [
    "#bin latitudes\n",
    "lat_1_indices = findbins(lat_1_all)\n",
    "lat_2_indices = findbins(lat_2_all)"
   ]
  },
  {
   "cell_type": "code",
   "execution_count": 8,
   "metadata": {
    "collapsed": false
   },
   "outputs": [
    {
     "name": "stderr",
     "output_type": "stream",
     "text": [
      "//anaconda/lib/python3.5/site-packages/ipykernel/__main__.py:7: DeprecationWarning: using a non-integer number instead of an integer will result in an error in the future\n",
      "//anaconda/lib/python3.5/site-packages/ipykernel/__main__.py:11: DeprecationWarning: using a non-integer number instead of an integer will result in an error in the future\n"
     ]
    }
   ],
   "source": [
    "#create a time series of whether a rainband exists for each latitude bin\n",
    "occupancy_1 = np.zeros([20819,22])\n",
    "occupancy_2 = np.zeros([20819,22])\n",
    "\n",
    "for i, index in enumerate(lat_1_indices):\n",
    "    if ~np.isnan(index):\n",
    "        occupancy_1[i,index] = 1\n",
    "        \n",
    "for i, index in enumerate(lat_2_indices):\n",
    "    if ~np.isnan(index):\n",
    "        occupancy_2[i,index] = 1\n",
    "\n",
    "#also create combined occupancy matrix of both primary and secondary fronts\n",
    "occupancy = occupancy_1 + occupancy_2"
   ]
  },
  {
   "cell_type": "code",
   "execution_count": 9,
   "metadata": {
    "collapsed": true
   },
   "outputs": [],
   "source": [
    "def smooth(P,dayrange,latrange):\n",
    "    Psmooth=np.zeros(P.shape)\n",
    "    \n",
    "    ll=int((dayrange-1)/2)\n",
    "    yy=int((latrange-1)/2)\n",
    "    \n",
    "    days = P.shape[0]\n",
    "    lats = P.shape[1]\n",
    "    \n",
    "    for d in range(days):\n",
    "        for j in range(lats):\n",
    "            \n",
    "            Psample = P.take(range(d-ll,d+ll+1), mode='wrap', axis=0)\n",
    "            Ps = Psample[:,max(0,j-yy):min(days,j+yy+1)]\n",
    "            Psmooth[d,j] = np.mean(np.mean(Ps))\n",
    "    \n",
    "    return Psmooth"
   ]
  },
  {
   "cell_type": "code",
   "execution_count": 10,
   "metadata": {
    "collapsed": false
   },
   "outputs": [],
   "source": [
    "#switching it to binary - hence the *5. Wanted to keep same def of smooth function as elsewhere\n",
    "#NOTE: in some cases, values can reach 2 (if both fronts are within small latitude range on a given day)\n",
    "#should be a minimal effect - we test both keeping the 2 and reducing to 1.\n",
    "occupancy_1_smth = smooth(occupancy_1,1,5)*5\n",
    "occupancy_2_smth = smooth(occupancy_2,1,5)*5\n",
    "occupancy_smth = smooth(occupancy,1,5)*5\n"
   ]
  },
  {
   "cell_type": "code",
   "execution_count": 11,
   "metadata": {
    "collapsed": false
   },
   "outputs": [],
   "source": [
    "#as constructed, occupancy_smth can have values of 2 if fronts are close enough - this fixes that.\n",
    "occupancy_smth_binary = np.copy(occupancy_smth) #without using copy, still points to same array.\n",
    "occupancy_smth_binary[occupancy_smth_binary>1] = 1"
   ]
  },
  {
   "cell_type": "code",
   "execution_count": 12,
   "metadata": {
    "collapsed": false
   },
   "outputs": [
    {
     "name": "stdout",
     "output_type": "stream",
     "text": [
      "[ 0.00048033  0.00086459  0.00384264  0.02877179  0.02656227  0.03227821\n",
      "  0.03443969  0.03818627  0.04303761  0.03669725  0.03247034  0.02987656\n",
      "  0.01902109  0.01998175  0.01565877  0.01508238  0.01196023  0.00979874\n",
      "  0.00667659  0.00614823  0.00403478  0.00134493]\n",
      "[ 0.00864595  0.04244921  0.06052164  0.09231952  0.12589462  0.16023824\n",
      "  0.17450406  0.18463903  0.18483116  0.18026802  0.16110284  0.13804698\n",
      "  0.1170085   0.09962054  0.08170421  0.07248187  0.05917671  0.04966617\n",
      "  0.03861857  0.02800327  0.02275566  0.01921322]\n"
     ]
    }
   ],
   "source": [
    "#quick comparison of how much the smoothing in latitude changes mean front occupancy\n",
    "print(np.mean(occupancy, axis=0))\n",
    "print(np.mean(occupancy_smth, axis=0))"
   ]
  },
  {
   "cell_type": "code",
   "execution_count": 13,
   "metadata": {
    "collapsed": false
   },
   "outputs": [
    {
     "ename": "NameError",
     "evalue": "name 'occupancy_smth_bin' is not defined",
     "output_type": "error",
     "traceback": [
      "\u001b[0;31m---------------------------------------------------------------------------\u001b[0m",
      "\u001b[0;31mNameError\u001b[0m                                 Traceback (most recent call last)",
      "\u001b[0;32m<ipython-input-13-5e4bfc6e6b49>\u001b[0m in \u001b[0;36m<module>\u001b[0;34m()\u001b[0m\n\u001b[1;32m      7\u001b[0m \u001b[0mac_smth\u001b[0m \u001b[0;34m=\u001b[0m \u001b[0mnp\u001b[0m\u001b[0;34m.\u001b[0m\u001b[0marray\u001b[0m\u001b[0;34m(\u001b[0m\u001b[0;34m[\u001b[0m \u001b[0mautocorr\u001b[0m\u001b[0;34m(\u001b[0m\u001b[0mx\u001b[0m\u001b[0;34m)\u001b[0m\u001b[0;34m[\u001b[0m\u001b[0;36m1\u001b[0m\u001b[0;34m]\u001b[0m \u001b[0;32mfor\u001b[0m \u001b[0mx\u001b[0m \u001b[0;32min\u001b[0m \u001b[0moccupancy_smth\u001b[0m\u001b[0;34m.\u001b[0m\u001b[0mT\u001b[0m \u001b[0;34m]\u001b[0m\u001b[0;34m)\u001b[0m\u001b[0;34m\u001b[0m\u001b[0m\n\u001b[1;32m      8\u001b[0m \u001b[0;34m\u001b[0m\u001b[0m\n\u001b[0;32m----> 9\u001b[0;31m \u001b[0mac_smth_bin\u001b[0m \u001b[0;34m=\u001b[0m \u001b[0mnp\u001b[0m\u001b[0;34m.\u001b[0m\u001b[0marray\u001b[0m\u001b[0;34m(\u001b[0m\u001b[0;34m[\u001b[0m \u001b[0mautocorr\u001b[0m\u001b[0;34m(\u001b[0m\u001b[0mx\u001b[0m\u001b[0;34m)\u001b[0m\u001b[0;34m[\u001b[0m\u001b[0;36m1\u001b[0m\u001b[0;34m]\u001b[0m \u001b[0;32mfor\u001b[0m \u001b[0mx\u001b[0m \u001b[0;32min\u001b[0m \u001b[0moccupancy_smth_bin\u001b[0m\u001b[0;34m.\u001b[0m\u001b[0mT\u001b[0m \u001b[0;34m]\u001b[0m\u001b[0;34m)\u001b[0m\u001b[0;34m\u001b[0m\u001b[0m\n\u001b[0m",
      "\u001b[0;31mNameError\u001b[0m: name 'occupancy_smth_bin' is not defined"
     ]
    }
   ],
   "source": [
    "ac_1 = np.array([ autocorr(x)[1] for x in occupancy_1.T ])\n",
    "ac_2 = np.array([ autocorr(x)[1] for x in occupancy_2.T ])\n",
    "ac = np.array([ autocorr(x)[1] for x in occupancy.T ])\n",
    "\n",
    "ac_smth_1 = np.array([ autocorr(x)[1] for x in occupancy_1_smth.T ])\n",
    "ac_smth_2 = np.array([ autocorr(x)[1] for x in occupancy_2_smth.T ])\n",
    "ac_smth = np.array([ autocorr(x)[1] for x in occupancy_smth.T ])\n",
    "\n",
    "ac_smth_bin = np.array([ autocorr(x)[1] for x in occupancy_smth_bin.T ])"
   ]
  },
  {
   "cell_type": "code",
   "execution_count": null,
   "metadata": {
    "collapsed": false
   },
   "outputs": [],
   "source": [
    "print(ac_smth_bin)"
   ]
  },
  {
   "cell_type": "code",
   "execution_count": 43,
   "metadata": {
    "collapsed": false
   },
   "outputs": [
    {
     "name": "stdout",
     "output_type": "stream",
     "text": [
      "1 365\n",
      "[ 1.26786473  2.06815904  2.19667512  2.41851382  2.63731245  2.91657888\n",
      "  3.12864151  3.14235874  3.09085791  3.01693047  2.75478669  2.69934251\n",
      "  2.78417335  3.09818152  3.48510832  3.55233922  3.31952351  3.067708\n",
      "  2.65380782  2.42789364  2.0907967   1.93847172]\n",
      "[ 0.09261163  0.20154014  0.23843724  0.28949626  0.33177188  0.36688221\n",
      "  0.37964302  0.38810541  0.38826149  0.3845114   0.36772569  0.34504673\n",
      "  0.32152421  0.29958298  0.27399749  0.25936451  0.23602952  0.21732359\n",
      "  0.19274635  0.16503597  0.14917256  0.13731898]\n",
      "[ 0.11972933  0.22624855  0.23835706  0.28939891  0.33166031  0.36675883\n",
      "  0.37951535  0.38809868  0.38850201  0.3847568   0.36812432  0.34520909\n",
      "  0.32156549  0.29948223  0.27390535  0.25927729  0.23595015  0.21725051\n",
      "  0.19268153  0.16498047  0.16711194  0.17791187]\n",
      "[ 0.23945865  0.45249709  0.47671412  0.57879781  0.66332063  0.73351766\n",
      "  0.7590307   0.77619736  0.77700403  0.7695136   0.73624864  0.69041818\n",
      "  0.64313098  0.59896447  0.5478107   0.51855457  0.4719003   0.43450101\n",
      "  0.38536306  0.32996094  0.33422389  0.35582375]\n"
     ]
    },
    {
     "ename": "KeyboardInterrupt",
     "evalue": "",
     "output_type": "error",
     "traceback": [
      "\u001b[0;31m---------------------------------------------------------------------------\u001b[0m",
      "\u001b[0;31mKeyboardInterrupt\u001b[0m                         Traceback (most recent call last)",
      "\u001b[0;32m<ipython-input-43-d5036a7475e7>\u001b[0m in \u001b[0;36m<module>\u001b[0;34m()\u001b[0m\n\u001b[1;32m     58\u001b[0m     \u001b[0mprint\u001b[0m\u001b[0;34m(\u001b[0m\u001b[0mnp\u001b[0m\u001b[0;34m.\u001b[0m\u001b[0mstd\u001b[0m\u001b[0;34m(\u001b[0m\u001b[0moc_test\u001b[0m\u001b[0;34m,\u001b[0m\u001b[0;36m0\u001b[0m\u001b[0;34m)\u001b[0m\u001b[0;34m)\u001b[0m\u001b[0;34m\u001b[0m\u001b[0m\n\u001b[1;32m     59\u001b[0m \u001b[0;34m\u001b[0m\u001b[0m\n\u001b[0;32m---> 60\u001b[0;31m     \u001b[0mtime\u001b[0m\u001b[0;34m.\u001b[0m\u001b[0msleep\u001b[0m\u001b[0;34m(\u001b[0m\u001b[0;36m10\u001b[0m\u001b[0;34m)\u001b[0m\u001b[0;34m\u001b[0m\u001b[0m\n\u001b[0m\u001b[1;32m     61\u001b[0m \u001b[0;34m\u001b[0m\u001b[0m\n\u001b[1;32m     62\u001b[0m     \u001b[0;31m#tau_1.append()\u001b[0m\u001b[0;34m\u001b[0m\u001b[0;34m\u001b[0m\u001b[0m\n",
      "\u001b[0;31mKeyboardInterrupt\u001b[0m: "
     ]
    }
   ],
   "source": [
    "## FIND AUTOCORRELATION FOR ARBITRARY TIME PERIODS ##\n",
    "#much like the RDA_freq_diff script, now taking the next step and letting autocorrelation be calculated over arbitrary\n",
    "#time periods.\n",
    "\n",
    "#it's reasonable for autocorrelation to change a lot across the year, so worth checking.\n",
    "day_beg = [1,61,121,161,201,274,121,304,321]\n",
    "day_end = [365,120,160,200,273,320,303,120,60]\n",
    "\n",
    "#stores autocorrelation time scales for each latitude box.\n",
    "tau_1 = [] #primary front only\n",
    "tau_2 = [] #secondary front only\n",
    "tau = [] #both primary and secondary\n",
    "\n",
    "for db, de in zip(day_beg, day_end):\n",
    "    \n",
    "    #date_list defined above as list of dates between January 1, 1951 and Dec 31, 2007\n",
    "    #mysterious .timetuple().tm_yday function below returns day of year given date.\n",
    "    if db <= de:\n",
    "        mymap = map(lambda date: (date.timetuple().tm_yday >= db) & (date.timetuple().tm_yday <= de), date_list)\n",
    "    else: #if de is earlier in the year than db, then we have to wrap around the new year.\n",
    "        mymap = map(lambda date: not((date.timetuple().tm_yday > de) & (date.timetuple().tm_yday < db)), date_list)\n",
    "        \n",
    "    extract = np.array(list(mymap))\n",
    "    \n",
    "    ## primary fronts\n",
    "    oc_1 = np.copy(occupancy_1_smth)\n",
    "    oc_1_mean = np.mean(occupancy_1_smth[extract],0) #this is the mean during time period of interest\n",
    "    oc_1[~extract] = oc_1_mean #change all values outside of time period of interest to mean\n",
    "    #therefore, won't contribute to autocorrelation\n",
    "    \n",
    "    ## secondary fronts\n",
    "    oc_2 = np.copy(occupancy_2_smth)\n",
    "    oc_2_mean = np.mean(occupancy_2_smth[extract],0) #this is the mean during time period of interest\n",
    "    oc_2[~extract] = oc_2_mean #change all values outside of time period of interest to mean\n",
    "    #therefore, won't contribute to autocorrelation\n",
    "    \n",
    "    ## all fronts\n",
    "    oc = np.copy(occupancy_smth)\n",
    "    oc_mean = np.mean(occupancy_smth[extract],0) #this is the mean during time period of interest\n",
    "    oc[~extract] = oc_mean #change all values outside of time period of interest to mean\n",
    "    #therefore, won't contribute to autocorrelation\n",
    "    \n",
    "    tau_1.append(np.array([ autocorr(x)[1] for x in oc_1.T ]))\n",
    "    tau_2.append(np.array([ autocorr(x)[1] for x in oc_2.T ]))\n",
    "    tau.append(np.array([ autocorr(x)[1] for x in oc.T ]))\n",
    "    \n",
    "    print(db,de)\n",
    "    #print(tau_1[-1])\n",
    "    #print(tau_2[-1])\n",
    "    print(tau[-1])\n",
    "    \n",
    "    #small debugging module to verify that the actual standard deviation of our hacked time series is the same as\n",
    "    #the theoretical expectation for a Bernoulli time-series (p*(1-p))**.5\n",
    "    print((oc_mean*(1-oc_mean))**.5)\n",
    "    print(np.std(oc,0))    \n",
    "\n",
    "    oc_test = (365/(de-db+1))**.5*(np.copy(oc)-oc_mean)\n",
    "    print(np.std(oc_test,0))\n",
    "    \n",
    "    time.sleep(10)\n",
    "    \n",
    "    #tau_1.append()\n",
    "    #tau_2.append()"
   ]
  },
  {
   "cell_type": "code",
   "execution_count": 31,
   "metadata": {
    "collapsed": false
   },
   "outputs": [
    {
     "data": {
      "text/plain": [
       "3.0207614933986426"
      ]
     },
     "execution_count": 31,
     "metadata": {},
     "output_type": "execute_result"
    }
   ],
   "source": [
    "365**.5/40**.5"
   ]
  },
  {
   "cell_type": "code",
   "execution_count": 68,
   "metadata": {
    "collapsed": false
   },
   "outputs": [
    {
     "data": {
      "text/plain": [
       "253"
      ]
     },
     "execution_count": 68,
     "metadata": {},
     "output_type": "execute_result"
    }
   ],
   "source": [
    "date_list[5000].timetuple().tm_yday"
   ]
  },
  {
   "cell_type": "code",
   "execution_count": null,
   "metadata": {
    "collapsed": true
   },
   "outputs": [],
   "source": []
  }
 ],
 "metadata": {
  "kernelspec": {
   "display_name": "Python 3",
   "language": "python",
   "name": "python3"
  },
  "language_info": {
   "codemirror_mode": {
    "name": "ipython",
    "version": 3
   },
   "file_extension": ".py",
   "mimetype": "text/x-python",
   "name": "python",
   "nbconvert_exporter": "python",
   "pygments_lexer": "ipython3",
   "version": "3.5.2"
  }
 },
 "nbformat": 4,
 "nbformat_minor": 0
}
