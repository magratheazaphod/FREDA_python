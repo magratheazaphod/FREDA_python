{
 "cells": [
  {
   "cell_type": "code",
   "execution_count": 1,
   "metadata": {
    "collapsed": true
   },
   "outputs": [],
   "source": [
    "#quick script to find the autocorrelation in time of front frequency for each 1 degree latitude bin\n",
    "#without accounting for autocorrelation, changes in frequency will be found to be more significant\n",
    "#than they actually are\n",
    "\n",
    "#a bunch of this code is copied over from RDA_hov_periods.nc and slightly adapted."
   ]
  },
  {
   "cell_type": "code",
   "execution_count": 2,
   "metadata": {
    "collapsed": true
   },
   "outputs": [],
   "source": [
    "import numpy as np\n",
    "import time\n",
    "import os\n",
    "import netCDF4 as nc\n",
    "import datetime\n",
    "import matplotlib.pyplot as plt\n",
    "from autocorr import autocorr\n",
    "%matplotlib notebook"
   ]
  },
  {
   "cell_type": "code",
   "execution_count": 3,
   "metadata": {
    "collapsed": true
   },
   "outputs": [],
   "source": [
    "#Access NetCDF files (currently hosted in Ferret directory)\n",
    "RDA_path_1 = \"/Users/Siwen/Desktop/ferret/bin/meiyu_clean.nc\"\n",
    "RDA_path_2 = \"/Users/Siwen/Desktop/ferret/bin/meiyu_2_clean.nc\"\n",
    "RDA_1 = nc.Dataset(RDA_path_1, 'r')\n",
    "RDA_2 = nc.Dataset(RDA_path_2, 'r')"
   ]
  },
  {
   "cell_type": "code",
   "execution_count": 4,
   "metadata": {
    "collapsed": true
   },
   "outputs": [],
   "source": [
    "#load data from NetCDF files to notebook\n",
    "lat_1_all =  RDA_1.variables['lat_115'][:]\n",
    "lat_2_all =  RDA_2.variables['lat_115'][:]\n",
    "intensity_1_all = RDA_1.variables['intensity'][:] \n",
    "intensity_2_all = RDA_2.variables['intensity'][:]\n",
    "\n",
    "RDA_1.close()\n",
    "RDA_2.close()"
   ]
  },
  {
   "cell_type": "code",
   "execution_count": 5,
   "metadata": {
    "collapsed": true
   },
   "outputs": [],
   "source": [
    "#Assign a calendar date to each time point\n",
    "startday = datetime.datetime(1951,1,1)\n",
    "date_list = np.array([datetime.timedelta(days=x) + startday for x in range(0, 20819)])"
   ]
  },
  {
   "cell_type": "code",
   "execution_count": 6,
   "metadata": {
    "collapsed": false
   },
   "outputs": [],
   "source": [
    "#quick function that bins everything in a 2D array and puts floor and ceiling on array values.\n",
    "def findbins(lat):\n",
    "    index = np.ndarray.round(lat-19.5)\n",
    "    index[index < 0] = 0\n",
    "    index[index > 21] = 21\n",
    "    return index"
   ]
  },
  {
   "cell_type": "code",
   "execution_count": 7,
   "metadata": {
    "collapsed": false
   },
   "outputs": [
    {
     "name": "stderr",
     "output_type": "stream",
     "text": [
      "//anaconda/lib/python3.5/site-packages/ipykernel/__main__.py:4: RuntimeWarning: invalid value encountered in less\n",
      "//anaconda/lib/python3.5/site-packages/ipykernel/__main__.py:5: RuntimeWarning: invalid value encountered in greater\n"
     ]
    }
   ],
   "source": [
    "#bin latitudes\n",
    "lat_1_indices = findbins(lat_1_all)\n",
    "lat_2_indices = findbins(lat_2_all)"
   ]
  },
  {
   "cell_type": "code",
   "execution_count": 8,
   "metadata": {
    "collapsed": false
   },
   "outputs": [
    {
     "name": "stderr",
     "output_type": "stream",
     "text": [
      "//anaconda/lib/python3.5/site-packages/ipykernel/__main__.py:7: DeprecationWarning: using a non-integer number instead of an integer will result in an error in the future\n",
      "//anaconda/lib/python3.5/site-packages/ipykernel/__main__.py:11: DeprecationWarning: using a non-integer number instead of an integer will result in an error in the future\n"
     ]
    }
   ],
   "source": [
    "#create a time series of whether a rainband exists for each latitude bin\n",
    "occupancy_1 = np.zeros([20819,22])\n",
    "occupancy_2 = np.zeros([20819,22])\n",
    "\n",
    "for i, index in enumerate(lat_1_indices):\n",
    "    if ~np.isnan(index):\n",
    "        occupancy_1[i,index] = 1\n",
    "        \n",
    "for i, index in enumerate(lat_2_indices):\n",
    "    if ~np.isnan(index):\n",
    "        occupancy_2[i,index] = 1\n",
    "\n",
    "#also create combined occupancy matrix of both primary and secondary fronts\n",
    "occupancy = occupancy_1 + occupancy_2"
   ]
  },
  {
   "cell_type": "code",
   "execution_count": 9,
   "metadata": {
    "collapsed": true
   },
   "outputs": [],
   "source": [
    "def smooth(P,dayrange,latrange):\n",
    "    Psmooth=np.zeros(P.shape)\n",
    "    \n",
    "    ll=int((dayrange-1)/2)\n",
    "    yy=int((latrange-1)/2)\n",
    "    \n",
    "    days = P.shape[0]\n",
    "    lats = P.shape[1]\n",
    "    \n",
    "    for d in range(days):\n",
    "        for j in range(lats):\n",
    "            \n",
    "            Psample = P.take(range(d-ll,d+ll+1), mode='wrap', axis=0)\n",
    "            Ps = Psample[:,max(0,j-yy):min(days,j+yy+1)]\n",
    "            Psmooth[d,j] = np.mean(np.mean(Ps))\n",
    "    \n",
    "    return Psmooth"
   ]
  },
  {
   "cell_type": "code",
   "execution_count": 10,
   "metadata": {
    "collapsed": false
   },
   "outputs": [],
   "source": [
    "#switching it to binary - hence the *5. Wanted to keep same def of smooth function as elsewhere\n",
    "#NOTE: in some cases, values can reach 2 (if both fronts are within small latitude range on a given day)\n",
    "#should be a minimal effect - we test both keeping the 2 and reducing to 1.\n",
    "occupancy_1_smth = smooth(occupancy_1,1,5)*5\n",
    "occupancy_2_smth = smooth(occupancy_2,1,5)*5\n",
    "occupancy_smth = smooth(occupancy,1,5)*5\n"
   ]
  },
  {
   "cell_type": "code",
   "execution_count": 11,
   "metadata": {
    "collapsed": false
   },
   "outputs": [],
   "source": [
    "#as constructed, occupancy_smth can have values of 2 if fronts are close enough - this fixes that.\n",
    "occupancy_smth_binary = np.copy(occupancy_smth) #without using copy, still points to same array.\n",
    "occupancy_smth_binary[occupancy_smth_binary>1] = 1"
   ]
  },
  {
   "cell_type": "code",
   "execution_count": 12,
   "metadata": {
    "collapsed": false
   },
   "outputs": [
    {
     "name": "stdout",
     "output_type": "stream",
     "text": [
      "[ 0.00048033  0.00086459  0.00384264  0.02877179  0.02656227  0.03227821\n",
      "  0.03443969  0.03818627  0.04303761  0.03669725  0.03247034  0.02987656\n",
      "  0.01902109  0.01998175  0.01565877  0.01508238  0.01196023  0.00979874\n",
      "  0.00667659  0.00614823  0.00403478  0.00134493]\n",
      "[ 0.00864595  0.04244921  0.06052164  0.09231952  0.12589462  0.16023824\n",
      "  0.17450406  0.18463903  0.18483116  0.18026802  0.16110284  0.13804698\n",
      "  0.1170085   0.09962054  0.08170421  0.07248187  0.05917671  0.04966617\n",
      "  0.03861857  0.02800327  0.02275566  0.01921322]\n"
     ]
    }
   ],
   "source": [
    "#quick comparison of how much the smoothing in latitude changes mean front occupancy\n",
    "print(np.mean(occupancy, axis=0))\n",
    "print(np.mean(occupancy_smth, axis=0))"
   ]
  },
  {
   "cell_type": "code",
   "execution_count": 13,
   "metadata": {
    "collapsed": false
   },
   "outputs": [
    {
     "ename": "NameError",
     "evalue": "name 'occupancy_smth_bin' is not defined",
     "output_type": "error",
     "traceback": [
      "\u001b[0;31m---------------------------------------------------------------------------\u001b[0m",
      "\u001b[0;31mNameError\u001b[0m                                 Traceback (most recent call last)",
      "\u001b[0;32m<ipython-input-13-5e4bfc6e6b49>\u001b[0m in \u001b[0;36m<module>\u001b[0;34m()\u001b[0m\n\u001b[1;32m      7\u001b[0m \u001b[0mac_smth\u001b[0m \u001b[0;34m=\u001b[0m \u001b[0mnp\u001b[0m\u001b[0;34m.\u001b[0m\u001b[0marray\u001b[0m\u001b[0;34m(\u001b[0m\u001b[0;34m[\u001b[0m \u001b[0mautocorr\u001b[0m\u001b[0;34m(\u001b[0m\u001b[0mx\u001b[0m\u001b[0;34m)\u001b[0m\u001b[0;34m[\u001b[0m\u001b[0;36m1\u001b[0m\u001b[0;34m]\u001b[0m \u001b[0;32mfor\u001b[0m \u001b[0mx\u001b[0m \u001b[0;32min\u001b[0m \u001b[0moccupancy_smth\u001b[0m\u001b[0;34m.\u001b[0m\u001b[0mT\u001b[0m \u001b[0;34m]\u001b[0m\u001b[0;34m)\u001b[0m\u001b[0;34m\u001b[0m\u001b[0m\n\u001b[1;32m      8\u001b[0m \u001b[0;34m\u001b[0m\u001b[0m\n\u001b[0;32m----> 9\u001b[0;31m \u001b[0mac_smth_bin\u001b[0m \u001b[0;34m=\u001b[0m \u001b[0mnp\u001b[0m\u001b[0;34m.\u001b[0m\u001b[0marray\u001b[0m\u001b[0;34m(\u001b[0m\u001b[0;34m[\u001b[0m \u001b[0mautocorr\u001b[0m\u001b[0;34m(\u001b[0m\u001b[0mx\u001b[0m\u001b[0;34m)\u001b[0m\u001b[0;34m[\u001b[0m\u001b[0;36m1\u001b[0m\u001b[0;34m]\u001b[0m \u001b[0;32mfor\u001b[0m \u001b[0mx\u001b[0m \u001b[0;32min\u001b[0m \u001b[0moccupancy_smth_bin\u001b[0m\u001b[0;34m.\u001b[0m\u001b[0mT\u001b[0m \u001b[0;34m]\u001b[0m\u001b[0;34m)\u001b[0m\u001b[0;34m\u001b[0m\u001b[0m\n\u001b[0m",
      "\u001b[0;31mNameError\u001b[0m: name 'occupancy_smth_bin' is not defined"
     ]
    }
   ],
   "source": [
    "ac_1 = np.array([ autocorr(x)[1] for x in occupancy_1.T ])\n",
    "ac_2 = np.array([ autocorr(x)[1] for x in occupancy_2.T ])\n",
    "ac = np.array([ autocorr(x)[1] for x in occupancy.T ])\n",
    "\n",
    "ac_smth_1 = np.array([ autocorr(x)[1] for x in occupancy_1_smth.T ])\n",
    "ac_smth_2 = np.array([ autocorr(x)[1] for x in occupancy_2_smth.T ])\n",
    "ac_smth = np.array([ autocorr(x)[1] for x in occupancy_smth.T ])\n",
    "\n",
    "ac_smth_bin = np.array([ autocorr(x)[1] for x in occupancy_smth_bin.T ])"
   ]
  },
  {
   "cell_type": "code",
   "execution_count": null,
   "metadata": {
    "collapsed": false
   },
   "outputs": [],
   "source": [
    "print(ac_smth_bin)"
   ]
  },
  {
   "cell_type": "code",
   "execution_count": 22,
   "metadata": {
    "collapsed": false
   },
   "outputs": [
    {
     "name": "stdout",
     "output_type": "stream",
     "text": [
      "1 365\n",
      "[ 1.23863743  1.83195368  2.00617857  2.31454492  2.60842887  2.94896813\n",
      "  3.16738742  3.17483849  3.10884788  3.02127714  2.76232777  2.72173784\n",
      "  2.7981953   3.04965482  3.3822395   3.42610165  3.20638706  3.05043119\n",
      "  2.45100478  2.10334333  1.87109775  1.65179508]\n",
      "[ 1.23479918  1.53752293  1.62496678  1.64855515  1.62323189  1.55434761\n",
      "  1.16990725  1.07268825  1.01849921  1.17932918  1.27000542  1.42641524\n",
      "  1.46986078  1.51219146  1.52991614  1.52594612  1.47225712  1.43363352\n",
      "  1.57804975  1.59935997  1.49005743  1.51844159]\n",
      "[ 1.26786473  2.06815904  2.19667512  2.41851382  2.63731245  2.91657888\n",
      "  3.12864151  3.14235874  3.09085791  3.01693047  2.75478669  2.69934251\n",
      "  2.78417335  3.09818152  3.48510832  3.55233922  3.31952351  3.067708\n",
      "  2.65380782  2.42789364  2.0907967   1.93847172]\n"
     ]
    },
    {
     "name": "stderr",
     "output_type": "stream",
     "text": [
      "/Users/Siwen/RDA/autocorr.py:21: RuntimeWarning: invalid value encountered in true_divide\n",
      "  yy_norm = (yy - mn) / stdv\n"
     ]
    },
    {
     "name": "stdout",
     "output_type": "stream",
     "text": [
      "61 120\n",
      "[ 0.93190695  1.20765554  1.61502509  1.98849486  1.89301647  1.95484764\n",
      "  1.75459228  1.72674992  1.84248906  1.96080999  1.90852329  1.90111025\n",
      "  1.86724798  1.58585673  1.70911711  1.62778598  1.31087674  1.30385213\n",
      "  1.36175221  1.24503954  0.98722104  0.99361239]\n",
      "[        nan         nan         nan  0.99361239  0.99361239  0.99361239\n",
      "  0.98550989  0.98550989  0.97911243  0.97271122  0.96400118  0.9610705\n",
      "  0.9610705   1.20534087  1.12374338  0.93715996  0.92782578  0.91495564\n",
      "  0.93017485  0.95000157  0.96282854  0.98316815]\n",
      "[ 0.93190695  1.20765554  1.61502509  1.97290452  1.87763004  1.93885051\n",
      "  1.73141673  1.71222539  1.83860544  1.95678937  1.90398223  1.85987348\n",
      "  1.84289566  1.55381197  1.66999157  1.5074714   1.15597072  1.07008494\n",
      "  1.08501374  1.0341087   0.95000157  0.97677   ]\n",
      "121 160\n",
      "[ 1.1175325   1.12204437  1.23698711  1.23049316  1.49342381  1.54644015\n",
      "  1.72427152  1.82678976  1.41019296  1.60420902  1.54368471  1.6509421\n",
      "  1.86815591  1.82664728  1.62124265  1.62173277  1.47630812  1.37026287\n",
      "  1.15708123  1.31806418  1.15848902  1.29267805]\n",
      "[        nan  0.94276807  1.04290427  0.98576983  0.96980064  0.96980064\n",
      "  0.92142092  0.9457622   0.96616012  0.9404822   1.05160002  0.9856042\n",
      "  0.94908249  0.89431711  0.91768843  0.98665651  1.07856975  1.19903683\n",
      "  1.33810242  1.2316077   1.36671245  1.21158299]\n",
      "[ 1.1175325   1.15846921  1.2845494   1.31815761  1.56142744  1.61892266\n",
      "  1.7742786   1.82963536  1.3933944   1.61416402  1.52165292  1.59694147\n",
      "  1.81332534  1.6085412   1.36110305  1.33357804  1.14662994  1.15135891\n",
      "  1.14879411  1.14182157  1.27146641  1.17023637]\n",
      "161 200\n",
      "[ 0.91576235  1.2891074   1.54640248  1.79932368  2.1787245   2.80063047\n",
      "  3.02481021  3.24266211  3.25131252  3.08403209  2.71004148  2.55873629\n",
      "  2.66420397  2.87467188  3.14896391  3.09790578  3.07773282  3.14951529\n",
      "  2.41017988  1.71359989  1.71571617  1.52298932]\n",
      "[ 1.6189888   1.57566988  1.64196737  1.68217974  1.65650889  1.56018453\n",
      "  1.33748721  1.03232536  0.91649822  0.93536436  1.24564026  1.13871922\n",
      "  1.09779228  0.85225565  0.88153194  0.79688404  0.96119112  1.03035595\n",
      "  1.27668284  1.36376473  1.22458063  1.16494187]\n",
      "[ 1.08979805  1.3084742   1.42795773  1.51423239  1.80624523  2.25555689\n",
      "  2.80670439  3.1026927   3.22276015  3.08813804  2.66170662  2.48571098\n",
      "  2.63995025  2.8925691   3.12244753  2.92989564  2.8554656   2.62409303\n",
      "  2.19509008  1.83795318  1.52364984  1.37011803]\n",
      "201 273\n",
      "[ 1.44643449  1.6566507   1.65089244  1.69105635  1.75204074  1.81862284\n",
      "  1.71981633  1.71320603  1.95949727  2.3578055   2.38604942  2.1211819\n",
      "  2.1043236   2.10572892  2.2973844   2.29302214  2.19326282  1.94407806\n",
      "  1.55575263  1.54334176  1.49915573  1.34172485]\n",
      "[ 0.97049129  1.25832964  1.29155774  1.24751369  1.19973313  1.13451597\n",
      "  0.93484931  0.99699398  1.02976649  1.36249504  1.37469357  1.26870068\n",
      "  1.25325676  1.39359568  1.36886947  1.3689682   1.34363889  1.23149552\n",
      "  1.31257228  1.44094275  1.34122545  1.48921381]\n",
      "[ 1.41455676  1.78289896  1.81158746  1.83063489  1.84718891  1.85113519\n",
      "  1.75079816  1.74320927  1.91170958  2.28364823  2.28560598  2.0207719\n",
      "  1.9709001   2.01801737  2.22604411  2.23898853  2.12298377  1.86656824\n",
      "  1.59036905  1.7579992   1.66926665  1.75005726]\n",
      "274 320\n",
      "[ 1.17545579  1.60243175  1.45872193  1.32898019  1.46231878  1.70449936\n",
      "  2.14988027  2.03584479  2.02809976  1.96120433  1.67403405  1.84530198\n",
      "  1.97435088  1.89262686  1.92304626  2.03598697  1.69619478  1.69663683\n",
      "  1.44040503  1.37482581  1.28989574  1.49163338]\n",
      "[ 0.98242369  0.97079655  0.96541764  0.97379066  0.97215611  0.98140944\n",
      "  0.99302034  0.9983789   0.9983789   0.99165553  0.98391914  2.68367939\n",
      "  2.29190749  2.00867869  1.93233934  1.54480851  1.12501587  0.94475791\n",
      "  0.97229325  0.97168205  0.98004646  0.98330482]\n",
      "[ 1.2696393   1.5608861   1.43832242  1.31893855  1.44495032  1.67643644\n",
      "  2.12005921  2.0448747   2.04140934  1.94820598  1.68306439  1.85655765\n",
      "  1.96641987  1.93473357  2.02219429  2.10715746  1.67711595  1.64839005\n",
      "  1.47377921  1.37167232  1.28704678  1.39090205]\n",
      "121 303\n",
      "[ 1.24974643  1.6565528   1.69800728  1.94686132  2.34035945  2.72431415\n",
      "  3.22707182  3.26436204  3.08561734  3.09256438  2.6848746   2.63440293\n",
      "  2.70936728  2.90614722  3.08689855  3.00895896  2.79425775  2.63253906\n",
      "  2.08368917  1.83377051  1.70427022  1.56163476]\n",
      "[ 1.21874533  1.40730763  1.45959657  1.46002933  1.42473641  1.36290899\n",
      "  1.09815416  1.02506483  0.9956183   1.18122823  1.27816091  1.41619362\n",
      "  1.42008423  1.40365688  1.3935401   1.37279153  1.30649306  1.25175927\n",
      "  1.40802306  1.45943846  1.37659749  1.42868104]\n",
      "[ 1.25910986  1.7751358   1.77983667  1.94169548  2.24122216  2.55674112\n",
      "  3.13345049  3.19160043  3.04169372  3.07155436  2.64541842  2.55389684\n",
      "  2.59433897  2.80532258  3.00901351  2.93672505  2.70481988  2.43793793\n",
      "  2.09884922  2.01092165  1.80647995  1.75284482]\n",
      "304 120\n",
      "[ 0.97307575  1.2938915   1.83931977  2.32675402  2.55342605  2.91888299\n",
      "  2.94685505  2.94868172  2.97732976  2.76485878  2.56582448  2.37820605\n",
      "  2.11267996  1.76568393  1.71576679  1.57874023  1.40686484  1.34863697\n",
      "  1.28233289  1.22167591  1.27394399  0.99398391]\n",
      "[        nan  0.99801486  0.99801486  0.99602934  0.99602934  0.99602934\n",
      "  0.99558459  0.99558459  0.99359845  0.98962503  0.98699936  0.98404772\n",
      "  0.98404772  1.16215142  1.11855679  0.97012078  0.96729566  0.96331179\n",
      "  0.97005871  0.97865965  0.98661379  0.99481409]\n",
      "[ 0.97307575  1.30752568  1.83982645  2.31805864  2.54438857  2.91290018\n",
      "  2.94216576  2.9485238   2.98332207  2.76886462  2.57404321  2.36503662\n",
      "  2.10530157  1.75479571  1.70420055  1.52759612  1.31999537  1.19659115\n",
      "  1.13164305  1.09312178  1.10815138  0.98879426]\n"
     ]
    }
   ],
   "source": [
    "## FIND AUTOCORRELATION FOR ARBITRARY TIME PERIODS ##\n",
    "#much like the RDA_freq_diff script, now taking the next step and letting autocorrelation be calculated over arbitrary\n",
    "#time periods.\n",
    "\n",
    "#it's reasonable for autocorrelation to change a lot across the year, so worth checking.\n",
    "day_beg = [1,61,121,161,201,274,121,304]\n",
    "day_end = [365,120,160,200,273,320,303,120]\n",
    "\n",
    "#stores autocorrelation time scales for each latitude box.\n",
    "tau_1 = [] #primary front only\n",
    "tau_2 = [] #secondary front only\n",
    "tau = [] #both primary and secondary\n",
    "\n",
    "for db, de in zip(day_beg, day_end):\n",
    "    \n",
    "    #date_list defined above as list of dates between January 1, 1951 and Dec 31, 2007\n",
    "    #mysterious .timetuple().tm_yday function below returns day of year given date.\n",
    "    if db <= de:\n",
    "        mymap = map(lambda date: (date.timetuple().tm_yday >= db) & (date.timetuple().tm_yday <= de), date_list)\n",
    "    else: #if de is earlier in the year than db, then we have to wrap around the new year.\n",
    "        mymap = map(lambda date: not((date.timetuple().tm_yday > de) & (date.timetuple().tm_yday < db)), date_list)\n",
    "        \n",
    "    extract = np.array(list(mymap))\n",
    "    \n",
    "    ## primary fronts\n",
    "    oc_1 = np.copy(occupancy_1_smth)\n",
    "    oc_1_mean = np.mean(occupancy_1_smth[extract],0) #this is the mean during time period of interest\n",
    "    oc_1[~extract] = oc_1_mean #change all values outside of time period of interest to mean\n",
    "    #therefore, won't contribute to autocorrelation\n",
    "    \n",
    "    ## secondary fronts\n",
    "    oc_2 = np.copy(occupancy_2_smth)\n",
    "    oc_2_mean = np.mean(occupancy_2_smth[extract],0) #this is the mean during time period of interest\n",
    "    oc_2[~extract] = oc_2_mean #change all values outside of time period of interest to mean\n",
    "    #therefore, won't contribute to autocorrelation\n",
    "    \n",
    "    ## all fronts\n",
    "    oc = np.copy(occupancy_smth)\n",
    "    oc_mean = np.mean(occupancy_smth[extract],0) #this is the mean during time period of interest\n",
    "    oc[~extract] = oc_mean #change all values outside of time period of interest to mean\n",
    "    #therefore, won't contribute to autocorrelation\n",
    "    \n",
    "    tau_1.append(np.array([ autocorr(x)[1] for x in oc_1.T ]))\n",
    "    tau_2.append(np.array([ autocorr(x)[1] for x in oc_2.T ]))\n",
    "    tau.append(np.array([ autocorr(x)[1] for x in oc.T ]))\n",
    "    \n",
    "    print(db,de)\n",
    "    #print(tau_1[-1])\n",
    "    #print(tau_2[-1])\n",
    "    print(tau[-1])\n",
    "    \n",
    "    #tau_1.append()\n",
    "    #tau_2.append()"
   ]
  },
  {
   "cell_type": "code",
   "execution_count": 68,
   "metadata": {
    "collapsed": false
   },
   "outputs": [
    {
     "data": {
      "text/plain": [
       "253"
      ]
     },
     "execution_count": 68,
     "metadata": {},
     "output_type": "execute_result"
    }
   ],
   "source": [
    "date_list[5000].timetuple().tm_yday"
   ]
  },
  {
   "cell_type": "code",
   "execution_count": null,
   "metadata": {
    "collapsed": true
   },
   "outputs": [],
   "source": []
  }
 ],
 "metadata": {
  "kernelspec": {
   "display_name": "Python 3",
   "language": "python",
   "name": "python3"
  },
  "language_info": {
   "codemirror_mode": {
    "name": "ipython",
    "version": 3
   },
   "file_extension": ".py",
   "mimetype": "text/x-python",
   "name": "python",
   "nbconvert_exporter": "python",
   "pygments_lexer": "ipython3",
   "version": "3.5.2"
  }
 },
 "nbformat": 4,
 "nbformat_minor": 0
}
