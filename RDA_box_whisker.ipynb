{
 "cells": [
  {
   "cell_type": "code",
   "execution_count": 8,
   "metadata": {
    "collapsed": false
   },
   "outputs": [],
   "source": [
    "import numpy as np\n",
    "import time\n",
    "import netCDF4 as nc4"
   ]
  },
  {
   "cell_type": "code",
   "execution_count": 10,
   "metadata": {
    "collapsed": true
   },
   "outputs": [],
   "source": [
    "#plotting library\n",
    "import plotly.plotly as py\n",
    "import plotly.graph_objs as go\n",
    "plotly.tools.set_credentials_file(username='Magratheazaphod', api_key='gt2n4s756y')"
   ]
  },
  {
   "cell_type": "code",
   "execution_count": 15,
   "metadata": {
    "collapsed": false
   },
   "outputs": [
    {
     "data": {
      "text/html": [
       "<iframe id=\"igraph\" scrolling=\"no\" style=\"border:none;\" seamless=\"seamless\" src=\"https://plot.ly/~Magratheazaphod/2.embed\" height=\"525px\" width=\"100%\"></iframe>"
      ],
      "text/plain": [
       "<plotly.tools.PlotlyDisplay object>"
      ]
     },
     "execution_count": 15,
     "metadata": {},
     "output_type": "execute_result"
    }
   ],
   "source": [
    "import plotly.plotly as py\n",
    "import plotly.graph_objs as go\n",
    "\n",
    "ferdir = \"/Users/Siwen/Desktop/Ferret/bin\"\n",
    "\n",
    "#import data to be plotted\n",
    "f_5179_8007 = mybs_5179_8007.nc\n",
    "f_7993_9407 = mybs_7993_9407.nc\n",
    "\n",
    "trace1 = go.Bar(\n",
    "    x=['Trial 1', 'Trial 2', 'Trial 3'],\n",
    "    y=[3, 6, 4],\n",
    "    name='Control',\n",
    "    error_y=dict(\n",
    "        type='data',\n",
    "        array=[1, 0.5, 1.5],\n",
    "        visible=True\n",
    "    )\n",
    ")\n",
    "trace2 = go.Bar(\n",
    "    x=['Trial 1', 'Trial 2', 'Trial 3'],\n",
    "    y=[4, 7, 3],\n",
    "    name='Experimental',\n",
    "    error_y=dict(\n",
    "        type='data',\n",
    "        array=[0.5, 1, 2],\n",
    "        visible=True\n",
    "    )\n",
    ")\n",
    "data = [trace1, trace2]\n",
    "layout = go.Layout(\n",
    "    barmode='group'\n",
    ")\n",
    "fig = go.Figure(data=data, layout=layout)\n",
    "py.iplot(fig, filename='error-bar-bar')\n",
    "\n",
    "#py.image.save_as(fig, filename='testr_plt.png')\n"
   ]
  },
  {
   "cell_type": "code",
   "execution_count": null,
   "metadata": {
    "collapsed": true
   },
   "outputs": [],
   "source": []
  }
 ],
 "metadata": {
  "kernelspec": {
   "display_name": "Python 3",
   "language": "python",
   "name": "python3"
  },
  "language_info": {
   "codemirror_mode": {
    "name": "ipython",
    "version": 3
   },
   "file_extension": ".py",
   "mimetype": "text/x-python",
   "name": "python",
   "nbconvert_exporter": "python",
   "pygments_lexer": "ipython3",
   "version": "3.5.2"
  }
 },
 "nbformat": 4,
 "nbformat_minor": 0
}
