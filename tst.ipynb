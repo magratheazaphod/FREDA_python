{
 "cells": [
  {
   "cell_type": "code",
   "execution_count": 1,
   "metadata": {
    "collapsed": true
   },
   "outputs": [],
   "source": [
    "from decadal_stats import collect_data"
   ]
  },
  {
   "cell_type": "code",
   "execution_count": 2,
   "metadata": {
    "collapsed": false
   },
   "outputs": [
    {
     "data": {
      "text/plain": [
       "[array([ 28.82209659,  29.75720736,  27.67574181,  31.40685213,\n",
       "         25.12879964,  24.55137525,  27.21288713,  24.08732992,\n",
       "         26.26504251,  36.26419439,  22.87906306,  30.20074631,\n",
       "         30.37401985,  28.22128966,  28.24600119,  25.92663933,\n",
       "         25.24226683,  24.70526882,  32.2638267 ]),\n",
       " array([ 12.65920864,  18.73594929,  16.6198177 ,  21.04861813,\n",
       "         31.57616516,  33.92386494,  26.83138114,  12.74176862,\n",
       "         24.89612898,   8.35879039,  24.6422515 ,  14.56655946,\n",
       "         19.29091215,  10.13163313,  13.61999525,  20.5084591 ,\n",
       "         20.11551487,  12.96779755,   9.01343167])]"
      ]
     },
     "execution_count": 2,
     "metadata": {},
     "output_type": "execute_result"
    }
   ],
   "source": [
    "collect_data([1961,1964],[300,320])"
   ]
  },
  {
   "cell_type": "code",
   "execution_count": 3,
   "metadata": {
    "collapsed": true
   },
   "outputs": [],
   "source": [
    "results = {'latitude':{},'intensity':{},'frequency':{}}"
   ]
  },
  {
   "cell_type": "code",
   "execution_count": 5,
   "metadata": {
    "collapsed": false
   },
   "outputs": [
    {
     "data": {
      "text/plain": [
       "{}"
      ]
     },
     "execution_count": 5,
     "metadata": {},
     "output_type": "execute_result"
    }
   ],
   "source": [
    "results['latitude']"
   ]
  },
  {
   "cell_type": "code",
   "execution_count": null,
   "metadata": {
    "collapsed": true
   },
   "outputs": [],
   "source": []
  }
 ],
 "metadata": {
  "kernelspec": {
   "display_name": "Python 3",
   "language": "python",
   "name": "python3"
  },
  "language_info": {
   "codemirror_mode": {
    "name": "ipython",
    "version": 3
   },
   "file_extension": ".py",
   "mimetype": "text/x-python",
   "name": "python",
   "nbconvert_exporter": "python",
   "pygments_lexer": "ipython3",
   "version": "3.6.0"
  }
 },
 "nbformat": 4,
 "nbformat_minor": 2
}
